{
 "cells": [
  {
   "cell_type": "markdown",
   "metadata": {},
   "source": [
    "# Workflow for a multi-regional energy system\n",
    "\n",
    "In this application of the FINE framework, a multi-regional energy system is modeled and optimized.\n",
    "\n",
    "All classes which are available to the user are utilized and examples of the selection of different parameters within these classes are given.\n",
    "\n",
    "The workflow is structures as follows:\n",
    "1. Required packages are imported and the input data path is set\n",
    "2. An energy system model instance is created\n",
    "3. Commodity sources are added to the energy system model\n",
    "4. Commodity conversion components are added to the energy system model\n",
    "5. Commodity storages are added to the energy system model\n",
    "6. Commodity transmission components are added to the energy system model\n",
    "7. Commodity sinks are added to the energy system model\n",
    "8. The energy system model is optimized\n",
    "\n"
   ]
  },
  {
   "cell_type": "markdown",
   "metadata": {},
   "source": [
    "# 1. Import required packages and set input data path\n",
    "\n",
    "The FINE framework is imported which provides the required classes and functions for modeling the energy system. The pandas packages is used for import location and time series specific data. The os package is used for setting the input data path. Matplotlib is used for plotting."
   ]
  },
  {
   "cell_type": "code",
   "execution_count": 1,
   "metadata": {
    "collapsed": true
   },
   "outputs": [],
   "source": [
    "import FINE as fn\n",
    "import pandas as pd\n",
    "import os\n",
    "import matplotlib.pyplot as plt\n",
    "\n",
    "%load_ext autoreload\n",
    "%autoreload 2"
   ]
  },
  {
   "cell_type": "code",
   "execution_count": 2,
   "metadata": {
    "collapsed": true
   },
   "outputs": [],
   "source": [
    "cwd = os.getcwd()\n",
    "inputDataPath = os.path.join(cwd,\"InputData\")"
   ]
  },
  {
   "cell_type": "markdown",
   "metadata": {},
   "source": [
    "# 2. Create an energy system model instance \n",
    "\n",
    "The structure of the energy system model is given by the considered locations, commodities, the number of time steps as well as the hours per time step.\n",
    "\n",
    "The commodities are specified by a unit (i.e. 'GW_electric', 'GW_H2lowerHeatingValue', 'Mio. t CO2/h') which can be given as an energy or mass unit per hour. Furthermore, the cost unit and length unit are specified."
   ]
  },
  {
   "cell_type": "code",
   "execution_count": 3,
   "metadata": {},
   "outputs": [
    {
     "data": {
      "text/plain": [
       "13.725000000000012"
      ]
     },
     "execution_count": 3,
     "metadata": {},
     "output_type": "execute_result"
    }
   ],
   "source": [
    "CO2modeling=True\n",
    "biogasModeling=True\n",
    "H2modeling=True\n",
    "transmissionModeling=True\n",
    "storageModeling=True\n",
    "RESmodeling=True\n",
    "RORmodeling=True\n",
    "PHSmodeling=True\n",
    "maxCapCCGTCH4modeling=False\n",
    "\n",
    "locations = {'cluster_0','cluster_7'}\n",
    "commodities = {'electricity','methane'}\n",
    "commodityUnitDict = {'electricity': 'GW_el', 'methane': 'GW_CH4_LHV'}\n",
    "if biogasModeling:\n",
    "    commodities.add('biogas')\n",
    "    commodityUnitDict.update({'biogas': 'GW_biogas_LHV'})\n",
    "if CO2modeling:\n",
    "    commodities.add('CO2')\n",
    "    commodityUnitDict.update({'CO2': 'Mio. t CO2/h'})\n",
    "if H2modeling:\n",
    "    commodities.add('hydrogen')\n",
    "    commodityUnitDict.update({'hydrogen': 'GW_H2_LHV'})\n",
    "numberOfTimeSteps=8760\n",
    "hoursPerTimeStep=1\n",
    "\n",
    "CO2_reductionTarget = 0.95\n",
    "CO2reduction = 366*(1-CO2_reductionTarget)*6/8\n",
    "CO2reduction"
   ]
  },
  {
   "cell_type": "code",
   "execution_count": 4,
   "metadata": {},
   "outputs": [
    {
     "data": {
      "text/plain": [
       "({'CO2', 'biogas', 'electricity', 'hydrogen', 'methane'},\n",
       " {'CO2': 'Mio. t CO2/h',\n",
       "  'biogas': 'GW_biogas_LHV',\n",
       "  'electricity': 'GW_el',\n",
       "  'hydrogen': 'GW_H2_LHV',\n",
       "  'methane': 'GW_CH4_LHV'})"
      ]
     },
     "execution_count": 4,
     "metadata": {},
     "output_type": "execute_result"
    }
   ],
   "source": [
    "commodities, commodityUnitDict"
   ]
  },
  {
   "cell_type": "code",
   "execution_count": 5,
   "metadata": {
    "collapsed": true
   },
   "outputs": [],
   "source": [
    "esM = fn.EnergySystemModel(locations=locations, commodities=commodities, numberOfTimeSteps=8760,\n",
    "                           hoursPerTimeStep=1, commoditiyUnitsDict=commodityUnitDict,\n",
    "                           costUnit='1e9 Euro', lengthUnit='km')"
   ]
  },
  {
   "cell_type": "code",
   "execution_count": 6,
   "metadata": {
    "collapsed": true
   },
   "outputs": [],
   "source": [
    "CO2_reductionTarget = 0.6*6/8"
   ]
  },
  {
   "cell_type": "markdown",
   "metadata": {},
   "source": [
    "# 3. Add commodity sources to the energy system model"
   ]
  },
  {
   "cell_type": "markdown",
   "metadata": {},
   "source": [
    "## 3.1. Electricity sources"
   ]
  },
  {
   "cell_type": "markdown",
   "metadata": {},
   "source": [
    "### Wind onshore"
   ]
  },
  {
   "cell_type": "code",
   "execution_count": 7,
   "metadata": {},
   "outputs": [
    {
     "name": "stdout",
     "output_type": "stream",
     "text": [
      "The locationalEligibility of a component was set based on the given fixed/maximum capacity of the component.\n"
     ]
    }
   ],
   "source": [
    "if RESmodeling:\n",
    "    capacityMax=pd.read_excel(os.path.join(inputDataPath,'SpatialData','Wind','maxCapacityOnshore_GW_el.xlsx'),\n",
    "                              index_col=0, squeeze=True)\n",
    "    operationRateMax=pd.read_excel(os.path.join(inputDataPath,'SpatialData','Wind','maxOperationRateOnshore_el.xlsx'))\n",
    "\n",
    "    esM.add(fn.Source(esM=esM, name='Wind (onshore)', commodity='electricity', hasCapacityVariable=True,\n",
    "                      operationRateMax=operationRateMax, capacityMax=capacityMax,\n",
    "                      investPerCapacity=1.1, opexPerCapacity=1.1*0.02, interestRate=0.08,\n",
    "                      economicLifetime=20))"
   ]
  },
  {
   "cell_type": "markdown",
   "metadata": {},
   "source": [
    "### Wind offshore"
   ]
  },
  {
   "cell_type": "code",
   "execution_count": 8,
   "metadata": {},
   "outputs": [
    {
     "name": "stdout",
     "output_type": "stream",
     "text": [
      "The locationalEligibility of a component was set based on the given fixed/maximum capacity of the component.\n"
     ]
    }
   ],
   "source": [
    "if RESmodeling:\n",
    "    capacityMax=pd.read_excel(os.path.join(inputDataPath,'SpatialData','Wind','maxCapacityOffshore_GW_el.xlsx'),\n",
    "                              index_col=0, squeeze=True)\n",
    "    operationRateMax=pd.read_excel(os.path.join(inputDataPath,'SpatialData','Wind','maxOperationRateOffshore_el.xlsx'))\n",
    "\n",
    "    esM.add(fn.Source(esM=esM, name='Wind (offshore)', commodity='electricity', hasCapacityVariable=True,\n",
    "                      operationRateMax=operationRateMax, capacityMax=capacityMax,\n",
    "                      investPerCapacity=2.3, opexPerCapacity=2.3*0.02, interestRate=0.08,\n",
    "                      economicLifetime=20))"
   ]
  },
  {
   "cell_type": "markdown",
   "metadata": {},
   "source": [
    "### PV"
   ]
  },
  {
   "cell_type": "code",
   "execution_count": 9,
   "metadata": {},
   "outputs": [
    {
     "name": "stdout",
     "output_type": "stream",
     "text": [
      "The locationalEligibility of a component was set based on the given fixed/maximum capacity of the component.\n"
     ]
    }
   ],
   "source": [
    "if RESmodeling:\n",
    "    capacityMax=pd.read_excel(os.path.join(inputDataPath,'SpatialData','PV','maxCapacityPV_GW_el.xlsx'),\n",
    "                              index_col=0, squeeze=True)\n",
    "    operationRateMax=pd.read_excel(os.path.join(inputDataPath,'SpatialData','PV','maxOperationRatePV_el.xlsx'))\n",
    "\n",
    "    esM.add(fn.Source(esM=esM, name='PV', commodity='electricity', hasCapacityVariable=True,\n",
    "                      operationRateMax=operationRateMax, capacityMax=capacityMax,\n",
    "                      investPerCapacity=0.65, opexPerCapacity=0.65*0.02, interestRate=0.08,\n",
    "                      economicLifetime=25))"
   ]
  },
  {
   "cell_type": "markdown",
   "metadata": {},
   "source": [
    "### Exisisting run-of-river hydroelectricity plants"
   ]
  },
  {
   "cell_type": "code",
   "execution_count": 10,
   "metadata": {},
   "outputs": [
    {
     "name": "stdout",
     "output_type": "stream",
     "text": [
      "The locationalEligibility of a component was set based on the given fixed/maximum capacity of the component.\n"
     ]
    }
   ],
   "source": [
    "if RESmodeling and RORmodeling:\n",
    "    capacityFix=pd.read_excel(os.path.join(inputDataPath,'SpatialData','HydroPower','fixCapacityROR_GW_el.xlsx'),\n",
    "                              index_col=0, squeeze=True)\n",
    "    operationRateFix=pd.read_excel(os.path.join(inputDataPath,'SpatialData','HydroPower',\n",
    "                                                'fixOperationRateROR_GW_el.xlsx'))\n",
    "\n",
    "    esM.add(fn.Source(esM=esM, name='Existing run-of-river plants', commodity='electricity',\n",
    "                      hasCapacityVariable=True,\n",
    "                      operationRateFix=operationRateFix, capacityFix=capacityFix,\n",
    "                      investPerCapacity=0, opexPerCapacity=0.208))"
   ]
  },
  {
   "cell_type": "markdown",
   "metadata": {},
   "source": [
    "## 3.2. Methane (natural gas and biogas)"
   ]
  },
  {
   "cell_type": "markdown",
   "metadata": {},
   "source": [
    "### Natural gas"
   ]
  },
  {
   "cell_type": "code",
   "execution_count": 11,
   "metadata": {},
   "outputs": [
    {
     "name": "stdout",
     "output_type": "stream",
     "text": [
      "The locationalEligibility of a component is set to 1 (eligible) for all locations.\n"
     ]
    }
   ],
   "source": [
    "esM.add(fn.Source(esM=esM, name='Natural gas purchase', commodity='methane',\n",
    "                  hasCapacityVariable=False, commodityCost=0.0331*1e-3))"
   ]
  },
  {
   "cell_type": "markdown",
   "metadata": {},
   "source": [
    "### Biogas"
   ]
  },
  {
   "cell_type": "code",
   "execution_count": 12,
   "metadata": {},
   "outputs": [],
   "source": [
    "if biogasModeling:\n",
    "    operationRateMax=pd.read_excel(os.path.join(inputDataPath,'SpatialData','Biogas',\n",
    "                                                'biogasPotential_GWh_biogas.xlsx'))\n",
    "\n",
    "    esM.add(fn.Source(esM=esM, name='Biogas purchase', commodity='biogas', operationRateMax=operationRateMax,\n",
    "                      hasCapacityVariable=False, commodityCost=0.05409*1e-3))"
   ]
  },
  {
   "cell_type": "markdown",
   "metadata": {},
   "source": [
    "## 3.3 CO2"
   ]
  },
  {
   "cell_type": "markdown",
   "metadata": {},
   "source": [
    "### CO2\n",
    "\n",
    "The CO2 source is required for the case in which it can be mixed with conventional natural gas."
   ]
  },
  {
   "cell_type": "code",
   "execution_count": 13,
   "metadata": {},
   "outputs": [
    {
     "name": "stdout",
     "output_type": "stream",
     "text": [
      "The locationalEligibility of a component is set to 1 (eligible) for all locations.\n"
     ]
    }
   ],
   "source": [
    "if CO2modeling and biogasModeling:\n",
    "    esM.add(fn.Source(esM=esM, name='CO2 from enviroment', commodity='CO2',\n",
    "                      hasCapacityVariable=False, commodityLimitID='CO2 limit',\n",
    "                      yearlyLimit=CO2reduction))"
   ]
  },
  {
   "cell_type": "markdown",
   "metadata": {},
   "source": [
    "# 4. Add conversion components to the energy system model"
   ]
  },
  {
   "cell_type": "markdown",
   "metadata": {},
   "source": [
    "### Biogas to methane"
   ]
  },
  {
   "cell_type": "code",
   "execution_count": 14,
   "metadata": {},
   "outputs": [
    {
     "name": "stdout",
     "output_type": "stream",
     "text": [
      "The locationalEligibility of a component is set to 1 (eligible) for all locations.\n"
     ]
    }
   ],
   "source": [
    "if CO2modeling and biogasModeling:\n",
    "    esM.add(fn.Conversion(esM=esM, name='Biogas to methane',\n",
    "                          commodityConversionFactors={'biogas':-1, 'methane':1, 'CO2':-201*1e-6*0.625},\n",
    "                          hasCapacityVariable=False))"
   ]
  },
  {
   "cell_type": "markdown",
   "metadata": {},
   "source": [
    "### Existing combined cycle gas turbine plants"
   ]
  },
  {
   "cell_type": "code",
   "execution_count": 15,
   "metadata": {},
   "outputs": [
    {
     "name": "stdout",
     "output_type": "stream",
     "text": [
      "The locationalEligibility of a component is set to 1 (eligible) for all locations.\n"
     ]
    }
   ],
   "source": [
    "if maxCapCCGTCH4modeling:\n",
    "    capacityMax=pd.read_excel(os.path.join(inputDataPath,'SpatialData','NaturalGasPlants',\n",
    "                                           'existingCombinedCycleGasTurbinePlantsCapacity_GW_el.xlsx'),\n",
    "                              index_col=0, squeeze=True)\n",
    "else:\n",
    "    capacityMax=None\n",
    "\n",
    "if CO2modeling:\n",
    "    esM.add(fn.Conversion(esM=esM, name='Existing CCGT plants (methane)',\n",
    "                          commodityConversionFactors={'electricity':1, 'methane':-1/0.625, 'CO2':201*1e-6/0.625},\n",
    "                          hasCapacityVariable=True, capacityMax=capacityMax,\n",
    "                          investPerCapacity=0, opexPerCapacity=0.021, interestRate=0.08,\n",
    "                          economicLifetime=33))\n",
    "else:\n",
    "    esM.add(fn.Conversion(esM=esM, name='Existing CCGT plants (methane)',\n",
    "                          commodityConversionFactors={'electricity':1, 'methane':-1/0.625},\n",
    "                          hasCapacityVariable=True, capacityMax=capacityMax,\n",
    "                          investPerCapacity=0, opexPerCapacity=0.021, interestRate=0.08,\n",
    "                          economicLifetime=33))"
   ]
  },
  {
   "cell_type": "markdown",
   "metadata": {},
   "source": [
    "### New combined cycle gas turbine plants for biogas"
   ]
  },
  {
   "cell_type": "code",
   "execution_count": 16,
   "metadata": {},
   "outputs": [
    {
     "name": "stdout",
     "output_type": "stream",
     "text": [
      "The locationalEligibility of a component is set to 1 (eligible) for all locations.\n"
     ]
    }
   ],
   "source": [
    "if biogasModeling:\n",
    "    esM.add(fn.Conversion(esM=esM, name='New CCGT plants (biogas)',\n",
    "                          commodityConversionFactors={'electricity':1, 'biogas':-1/0.635},\n",
    "                          hasCapacityVariable=True, \n",
    "                          investPerCapacity=0.7, opexPerCapacity=0.021, interestRate=0.08,\n",
    "                          economicLifetime=33))"
   ]
  },
  {
   "cell_type": "markdown",
   "metadata": {},
   "source": [
    "### New combined cycly gas turbines for hydrogen"
   ]
  },
  {
   "cell_type": "code",
   "execution_count": 17,
   "metadata": {},
   "outputs": [
    {
     "name": "stdout",
     "output_type": "stream",
     "text": [
      "The locationalEligibility of a component is set to 1 (eligible) for all locations.\n"
     ]
    }
   ],
   "source": [
    "if H2modeling:\n",
    "    esM.add(fn.Conversion(esM=esM, name='New CCGT plants (hydrogen)',\n",
    "                          commodityConversionFactors={'electricity':1, 'hydrogen':-1/0.6},\n",
    "                          hasCapacityVariable=True, \n",
    "                          investPerCapacity=0.927, opexPerCapacity=0.021, interestRate=0.08,\n",
    "                          economicLifetime=33))"
   ]
  },
  {
   "cell_type": "markdown",
   "metadata": {},
   "source": [
    "### Electrolyzers"
   ]
  },
  {
   "cell_type": "code",
   "execution_count": 18,
   "metadata": {},
   "outputs": [
    {
     "name": "stdout",
     "output_type": "stream",
     "text": [
      "The locationalEligibility of a component is set to 1 (eligible) for all locations.\n"
     ]
    }
   ],
   "source": [
    "if H2modeling:\n",
    "    esM.add(fn.Conversion(esM=esM, name='Electrolyzers',\n",
    "                          commodityConversionFactors={'electricity':-1, 'hydrogen':0.7},\n",
    "                          hasCapacityVariable=True, \n",
    "                          investPerCapacity=0.5, opexPerCapacity=0.5*0.025, interestRate=0.08,\n",
    "                          economicLifetime=10))"
   ]
  },
  {
   "cell_type": "markdown",
   "metadata": {},
   "source": [
    "# 5. Add commodity storages to the energy system model"
   ]
  },
  {
   "cell_type": "markdown",
   "metadata": {},
   "source": [
    "## 5.1. Electricity storage"
   ]
  },
  {
   "cell_type": "markdown",
   "metadata": {},
   "source": [
    "### Lithium ion batteries\n",
    "\n",
    "The self discharge of a lithium ion battery is here described as 3% per month. The self discharge per hours is obtained using the equation (1-$\\text{selfDischarge}_\\text{hour})^{30*24\\text{h}} = 1-\\text{selfDischarge}_\\text{month}$."
   ]
  },
  {
   "cell_type": "code",
   "execution_count": 19,
   "metadata": {},
   "outputs": [
    {
     "name": "stdout",
     "output_type": "stream",
     "text": [
      "The locationalEligibility of a component is set to 1 (eligible) for all locations.\n"
     ]
    }
   ],
   "source": [
    "if storageModeling:\n",
    "    esM.add(fn.Storage(esM=esM, name='Li-ion batteries', commodity='electricity',\n",
    "                       hasCapacityVariable=True, chargeEfficiency=0.95,\n",
    "                       dischargeEfficiency=0.95, selfDischarge=1-(1-0.03)**(1/(30*24)), cyclicLifetime=10000, \n",
    "                       chargeRate=1, dischargeRate=1, doPreciseTsaModeling=True,\n",
    "                       investPerCapacity=0.151, opexPerCapacity=0.002, interestRate=0.08,\n",
    "                       economicLifetime=22))"
   ]
  },
  {
   "cell_type": "markdown",
   "metadata": {},
   "source": [
    "## 5.2. Hydrogen storage"
   ]
  },
  {
   "cell_type": "markdown",
   "metadata": {},
   "source": [
    "### Hydrogen filled salt caverns\n",
    "The maximum capacity is here obtained by: dividing the given capacity (which is given for methane) by the lower heating value of methane and then multiplying it with the lower heating value of hydrogen."
   ]
  },
  {
   "cell_type": "code",
   "execution_count": 20,
   "metadata": {},
   "outputs": [
    {
     "name": "stdout",
     "output_type": "stream",
     "text": [
      "The locationalEligibility of a component was set based on the given fixed/maximum capacity of the component.\n"
     ]
    }
   ],
   "source": [
    "if H2modeling and storageModeling:\n",
    "    capacityMax=pd.read_excel(os.path.join(inputDataPath,'SpatialData','GeologicalStorage',\n",
    "                                           'existingSaltCavernsCapacity_GWh_methane.xlsx'),\n",
    "                              index_col=0, squeeze=True)*3/10\n",
    "\n",
    "    esM.add(fn.Storage(esM=esM, name='Salt caverns (hydrogen)', commodity='hydrogen',\n",
    "                       hasCapacityVariable=True, capacityVariableDomain='continuous',\n",
    "                       capacityPerPlantUnit=133,\n",
    "                       chargeRate=1/470.37, dischargeRate=1/470.37, sharedPotentialID='Existing salt caverns',\n",
    "                       stateOfChargeMin=0.33, stateOfChargeMax=1, capacityMax=capacityMax,\n",
    "                       investPerCapacity=0.00011, opexPerCapacity=0.00057, interestRate=0.08,\n",
    "                       economicLifetime=30))"
   ]
  },
  {
   "cell_type": "markdown",
   "metadata": {},
   "source": [
    "## 5.3. Methane storage"
   ]
  },
  {
   "cell_type": "markdown",
   "metadata": {},
   "source": [
    "### Methane filled salt caverns"
   ]
  },
  {
   "cell_type": "code",
   "execution_count": 21,
   "metadata": {},
   "outputs": [
    {
     "name": "stdout",
     "output_type": "stream",
     "text": [
      "The locationalEligibility of a component was set based on the given fixed/maximum capacity of the component.\n"
     ]
    }
   ],
   "source": [
    "if storageModeling and biogasModeling:\n",
    "    capacityMax=pd.read_excel(os.path.join(inputDataPath,'SpatialData','GeologicalStorage',\n",
    "                                           'existingSaltCavernsCapacity_GWh_methane.xlsx'),\n",
    "                              index_col=0, squeeze=True)\n",
    "\n",
    "    esM.add(fn.Storage(esM=esM, name='Salt caverns (methane)', commodity='methane',\n",
    "                       hasCapacityVariable=True, capacityVariableDomain='continuous',\n",
    "                       capacityPerPlantUnit=443,\n",
    "                       chargeRate=1/470.37, dischargeRate=1/470.37, sharedPotentialID='Existing salt caverns',\n",
    "                       stateOfChargeMin=0.33, stateOfChargeMax=1, capacityMax=capacityMax,\n",
    "                       investPerCapacity=0.00004, opexPerCapacity=0.00001, interestRate=0.08,\n",
    "                       economicLifetime=30))"
   ]
  },
  {
   "cell_type": "markdown",
   "metadata": {},
   "source": [
    "## 5.4 Pumped hydro storage"
   ]
  },
  {
   "cell_type": "markdown",
   "metadata": {},
   "source": [
    "### Pumped hydro storage"
   ]
  },
  {
   "cell_type": "code",
   "execution_count": 22,
   "metadata": {},
   "outputs": [
    {
     "name": "stdout",
     "output_type": "stream",
     "text": [
      "The locationalEligibility of a component was set based on the given fixed/maximum capacity of the component.\n"
     ]
    }
   ],
   "source": [
    "if storageModeling and PHSmodeling:\n",
    "    capacityFix=pd.read_excel(os.path.join(inputDataPath,'SpatialData','HydroPower',\n",
    "                                           'fixCapacityPHS_storage_GWh_energyPHS.xlsx'),\n",
    "                              index_col=0, squeeze=True)\n",
    "\n",
    "    esM.add(fn.Storage(esM=esM, name='Pumped hydro storage', commodity='electricity',\n",
    "                       chargeEfficiency=0.88, dischargeEfficiency=0.88,\n",
    "                       hasCapacityVariable=True, selfDischarge=1-(1-0.00375)**(1/(30*24)),\n",
    "                       chargeRate=0.16, dischargeRate=0.12, capacityFix=capacityFix,\n",
    "                       investPerCapacity=0, opexPerCapacity=0.000153))"
   ]
  },
  {
   "cell_type": "markdown",
   "metadata": {},
   "source": [
    "# 6. Add commodity transmission components to the energy system model"
   ]
  },
  {
   "cell_type": "markdown",
   "metadata": {},
   "source": [
    "## 6.1. Electricity transmission"
   ]
  },
  {
   "cell_type": "markdown",
   "metadata": {},
   "source": [
    "### AC cables"
   ]
  },
  {
   "cell_type": "code",
   "execution_count": 23,
   "metadata": {},
   "outputs": [
    {
     "name": "stdout",
     "output_type": "stream",
     "text": [
      "The distances of a component are set to a normalized values of 1.\n",
      "The locationalEligibility of a component was set based on the given fixed/maximum capacity of the component.\n"
     ]
    }
   ],
   "source": [
    "if transmissionModeling:\n",
    "    capacityFix=pd.read_excel(os.path.join(inputDataPath,'SpatialData','ElectricGrid',\n",
    "                                           'ACcableExistingCapacity_GW_el.xlsx'),\n",
    "                              index_col=0, header=0)\n",
    "\n",
    "    esM.add(fn.Transmission(esM=esM, name='AC cables', commodity='electricity',\n",
    "                            hasCapacityVariable=True, capacityFix=capacityFix))"
   ]
  },
  {
   "cell_type": "markdown",
   "metadata": {},
   "source": [
    "### DC cables"
   ]
  },
  {
   "cell_type": "code",
   "execution_count": 24,
   "metadata": {},
   "outputs": [
    {
     "name": "stdout",
     "output_type": "stream",
     "text": [
      "The locationalEligibility of a component was set based on the given fixed/maximum capacity of the component.\n"
     ]
    }
   ],
   "source": [
    "if transmissionModeling:\n",
    "    capacityFix=pd.read_excel(os.path.join(inputDataPath,'SpatialData','ElectricGrid',\n",
    "                                           'DCcableExistingCapacity_GW_el.xlsx'),\n",
    "                              index_col=0, header=0)\n",
    "    distances=pd.read_excel(os.path.join(inputDataPath,'SpatialData','ElectricGrid',\n",
    "                                           'DCcableLength_km.xlsx'),\n",
    "                              index_col=0, header=0)\n",
    "    efficiency=pd.read_excel(os.path.join(inputDataPath,'SpatialData','ElectricGrid',\n",
    "                                           'DCcableLosses.xlsx'),\n",
    "                              index_col=0, header=0)\n",
    "\n",
    "    esM.add(fn.Transmission(esM=esM, name='DC cables', commodity='electricity', losses=efficiency, distances=distances,\n",
    "                            hasCapacityVariable=True, capacityFix=capacityFix))"
   ]
  },
  {
   "cell_type": "markdown",
   "metadata": {},
   "source": [
    "## 6.2 Methane transmission"
   ]
  },
  {
   "cell_type": "markdown",
   "metadata": {},
   "source": [
    "### Methane pipeline"
   ]
  },
  {
   "cell_type": "code",
   "execution_count": 25,
   "metadata": {
    "collapsed": true
   },
   "outputs": [],
   "source": [
    "if transmissionModeling:\n",
    "    eligibility=pd.read_excel(os.path.join(inputDataPath,'SpatialData','Pipelines',\n",
    "                                           'pipelineIncidence.xlsx'), index_col=0, header=0)\n",
    "    distances=pd.read_excel(os.path.join(inputDataPath,'SpatialData','Pipelines', 'pipelineIncidence.xlsx'),\n",
    "                              index_col=0, header=0)\n",
    "\n",
    "    esM.add(fn.Transmission(esM=esM, name='Pipelines (methane)', commodity='methane', distances=distances,\n",
    "                            hasCapacityVariable=True, #hasDesignDecisionVariables=True, bigM=300,\n",
    "                            locationalEligibility=eligibility,\n",
    "                            investPerCapacity=0.000037, #capexForDesignDecision=0.000314,\n",
    "                            interestRate=0.08, economicLifetime=40))"
   ]
  },
  {
   "cell_type": "markdown",
   "metadata": {},
   "source": [
    "## 6.3 Hydrogen transmission"
   ]
  },
  {
   "cell_type": "markdown",
   "metadata": {},
   "source": [
    "### Hydrogen pipelines"
   ]
  },
  {
   "cell_type": "code",
   "execution_count": 26,
   "metadata": {
    "collapsed": true
   },
   "outputs": [],
   "source": [
    "if H2modeling and transmissionModeling:\n",
    "    eligibility=pd.read_excel(os.path.join(inputDataPath,'SpatialData','Pipelines', 'pipelineIncidence.xlsx'),\n",
    "                              index_col=0, header=0)\n",
    "    distances=pd.read_excel(os.path.join(inputDataPath,'SpatialData','Pipelines', 'pipelineIncidence.xlsx'),\n",
    "                              index_col=0, header=0)\n",
    "\n",
    "    esM.add(fn.Transmission(esM=esM, name='Pipeline (hydrogen)', commodity='hydrogen', distances=distances,\n",
    "                            hasCapacityVariable=True, #hasDesignDecisionVariables=True, bigM=300,\n",
    "                            locationalEligibility=eligibility,\n",
    "                            investPerCapacity=0.000177, #capexForDesignDecision=0.00033,\n",
    "                            interestRate=0.08, economicLifetime=40))"
   ]
  },
  {
   "cell_type": "markdown",
   "metadata": {},
   "source": [
    "# 7. Add commodity sinks to the energy system model"
   ]
  },
  {
   "cell_type": "markdown",
   "metadata": {},
   "source": [
    "## 7.1. Electricity sinks"
   ]
  },
  {
   "cell_type": "markdown",
   "metadata": {},
   "source": [
    "### Electricity demand"
   ]
  },
  {
   "cell_type": "code",
   "execution_count": 27,
   "metadata": {},
   "outputs": [],
   "source": [
    "operationRateFix=pd.read_excel(os.path.join(inputDataPath,'SpatialData','Demands',\n",
    "                                            'electricityDemand_GWh_el.xlsx'))\n",
    "\n",
    "esM.add(fn.Sink(esM=esM, name='Electricity demand', commodity='electricity',\n",
    "                hasCapacityVariable=False, operationRateFix=operationRateFix))"
   ]
  },
  {
   "cell_type": "markdown",
   "metadata": {},
   "source": [
    "## 7.2. Hydrogen sinks"
   ]
  },
  {
   "cell_type": "markdown",
   "metadata": {},
   "source": [
    "### Fuel cell electric vehicle (FCEV) demand"
   ]
  },
  {
   "cell_type": "code",
   "execution_count": 28,
   "metadata": {},
   "outputs": [],
   "source": [
    "if H2modeling:\n",
    "    FCEV_penetration=0.5\n",
    "    operationRateFix=pd.read_excel(os.path.join(inputDataPath,'SpatialData','Demands',\n",
    "                                                'hydrogenDemand_GWh_hydrogen.xlsx'))*FCEV_penetration\n",
    "\n",
    "    esM.add(fn.Sink(esM=esM, name='Hydrogen demand', commodity='hydrogen',\n",
    "                      hasCapacityVariable=False, operationRateFix=operationRateFix))"
   ]
  },
  {
   "cell_type": "markdown",
   "metadata": {},
   "source": [
    "## 7.3. CO2 sinks"
   ]
  },
  {
   "cell_type": "markdown",
   "metadata": {},
   "source": [
    "### CO2 exiting the system's boundary"
   ]
  },
  {
   "cell_type": "code",
   "execution_count": 29,
   "metadata": {},
   "outputs": [
    {
     "name": "stdout",
     "output_type": "stream",
     "text": [
      "The locationalEligibility of a component is set to 1 (eligible) for all locations.\n"
     ]
    }
   ],
   "source": [
    "if CO2modeling:\n",
    "    esM.add(fn.Sink(esM=esM, name='CO2 to enviroment', commodity='CO2',\n",
    "                    hasCapacityVariable=False, commodityLimitID='CO2 limit',\n",
    "                    yearlyLimit=CO2reduction))"
   ]
  },
  {
   "cell_type": "code",
   "execution_count": 30,
   "metadata": {},
   "outputs": [
    {
     "data": {
      "text/plain": [
       "{'AC cables': 'TransmissionModeling',\n",
       " 'Biogas purchase': 'SourceSinkModeling',\n",
       " 'Biogas to methane': 'ConversionModeling',\n",
       " 'CO2 from enviroment': 'SourceSinkModeling',\n",
       " 'CO2 to enviroment': 'SourceSinkModeling',\n",
       " 'DC cables': 'TransmissionModeling',\n",
       " 'Electricity demand': 'SourceSinkModeling',\n",
       " 'Electrolyzers': 'ConversionModeling',\n",
       " 'Existing CCGT plants (methane)': 'ConversionModeling',\n",
       " 'Existing run-of-river plants': 'SourceSinkModeling',\n",
       " 'Hydrogen demand': 'SourceSinkModeling',\n",
       " 'Li-ion batteries': 'StorageModeling',\n",
       " 'Natural gas purchase': 'SourceSinkModeling',\n",
       " 'New CCGT plants (biogas)': 'ConversionModeling',\n",
       " 'New CCGT plants (hydrogen)': 'ConversionModeling',\n",
       " 'PV': 'SourceSinkModeling',\n",
       " 'Pipeline (hydrogen)': 'TransmissionModeling',\n",
       " 'Pipelines (methane)': 'TransmissionModeling',\n",
       " 'Pumped hydro storage': 'StorageModeling',\n",
       " 'Salt caverns (hydrogen)': 'StorageModeling',\n",
       " 'Salt caverns (methane)': 'StorageModeling',\n",
       " 'Wind (offshore)': 'SourceSinkModeling',\n",
       " 'Wind (onshore)': 'SourceSinkModeling'}"
      ]
     },
     "execution_count": 30,
     "metadata": {},
     "output_type": "execute_result"
    }
   ],
   "source": [
    "esM._componentNames"
   ]
  },
  {
   "cell_type": "markdown",
   "metadata": {},
   "source": [
    "# 8. Optimize energy system model"
   ]
  },
  {
   "cell_type": "code",
   "execution_count": 31,
   "metadata": {
    "scrolled": true
   },
   "outputs": [
    {
     "name": "stdout",
     "output_type": "stream",
     "text": [
      "\n",
      "Clustering time series data with 7 typical periods and 24 time steps per period...\n",
      "\t\t(2.2815 sec)\n",
      "\n",
      "Number of typical periods: 7 Number of time steps per periods: 24\n",
      "Declaring sets, variables and constraints for SourceSinkModeling\n",
      "\tdeclaring sets... \n",
      "\tdeclaring variables... \n",
      "\tdeclaring constraints... \n",
      "\t\t(0.2031 sec)\n",
      "Declaring sets, variables and constraints for ConversionModeling\n",
      "\tdeclaring sets... \n",
      "\tdeclaring variables... \n",
      "\tdeclaring constraints... \n",
      "\t\t(0.0781 sec)\n",
      "Declaring sets, variables and constraints for StorageModeling\n",
      "\tdeclaring sets... \n",
      "\tdeclaring variables... \n",
      "\tdeclaring constraints... \n",
      "\t\t(2.6722 sec)\n",
      "Declaring sets, variables and constraints for TransmissionModeling\n",
      "\tdeclaring sets... \n",
      "\tdeclaring variables... \n",
      "\tdeclaring constraints... \n",
      "\t\t(0.0625 sec)\n",
      "Declaring shared potential constraint...\n",
      "\t\t(0.0000 sec)\n",
      "Declaring commodity balances...\n",
      "\t\t(0.3594 sec)\n",
      "Declaring objective function...\n",
      "\t\t(0.2188 sec)\n",
      "Academic license - for non-commercial use only\n",
      "Parameter LogToConsole unchanged\n",
      "   Value: 1  Min: 0  Max: 1  Default: 1\n",
      "Parameter OptimalityTol unchanged\n",
      "   Value: 1e-06  Min: 1e-09  Max: 0.01  Default: 1e-06\n",
      "Parameter Threads unchanged\n",
      "   Value: 0  Min: 0  Max: 1024  Default: 0\n",
      "Changed value of parameter cuts to 3\n",
      "   Prev: -1  Min: -1  Max: 3  Default: -1\n",
      "Changed value of parameter logfile to job\n",
      "   Prev: gurobi.log  Default: \n",
      "Changed value of parameter method to 2\n",
      "   Prev: -1  Min: -1  Max: 5  Default: -1\n",
      "Optimize a model with 49053 rows, 10530 columns and 128803 nonzeros\n",
      "Coefficient statistics:\n",
      "  Matrix range     [6e-06, 5e+02]\n",
      "  Objective range  [2e-06, 3e-01]\n",
      "  Bounds range     [2e+01, 4e+03]\n",
      "  RHS range        [5e-02, 1e+01]\n",
      "Presolve removed 4901 rows and 3283 columns\n",
      "Presolve time: 0.13s\n",
      "Presolved: 44152 rows, 7247 columns, 122692 nonzeros\n",
      "\n",
      "Ordering time: 2.08s\n",
      "\n",
      "Barrier statistics:\n",
      " Dense cols : 231\n",
      " Free vars  : 392\n",
      " AA' NZ     : 1.291e+06\n",
      " Factor NZ  : 5.859e+06 (roughly 70 MBytes of memory)\n",
      " Factor Ops : 2.625e+09 (less than 1 second per iteration)\n",
      " Threads    : 2\n",
      "\n",
      "                  Objective                Residual\n",
      "Iter       Primal          Dual         Primal    Dual     Compl     Time\n",
      "   0   2.12142020e+02 -3.42588259e+02  5.59e+03 3.28e-03  8.16e+00     3s\n",
      "   1   2.31019697e+02 -4.49167291e+02  3.56e+03 1.30e-01  5.91e+00     3s\n",
      "   2   1.33145493e+02 -1.43782158e+03  2.40e+03 2.72e-02  1.67e+00     4s\n",
      "   3   6.56149076e+01 -1.40450976e+03  1.22e+02 5.26e-03  2.87e-01     4s\n",
      "   4   5.70321992e+01 -6.21853165e+02  9.42e+00 9.53e-04  5.76e-02     4s\n",
      "   5   3.81892788e+01 -8.80593478e+01  5.08e-03 1.38e-04  8.65e-03     5s\n",
      "   6   1.87347344e+01 -1.57797604e+01  5.08e-06 1.74e-05  1.47e-03     5s\n",
      "   7   1.21797078e+01 -3.53500089e-01  9.57e-07 8.52e-06  4.43e-04     6s\n",
      "   8   9.21276225e+00  5.48433930e+00  1.08e-07 1.16e-05  8.61e-05     6s\n",
      "   9   8.32466341e+00  6.15922016e+00  6.79e-08 3.59e-06  4.59e-05     6s\n",
      "  10   7.52778763e+00  6.29605109e+00  3.75e-08 1.55e-06  2.55e-05     7s\n",
      "  11   7.27525043e+00  6.33590158e+00  2.82e-08 1.05e-06  1.94e-05     7s\n",
      "  12   7.11583748e+00  6.36367873e+00  2.24e-08 7.24e-07  1.54e-05     8s\n",
      "  13   7.03739392e+00  6.38496272e+00  1.95e-08 5.07e-07  1.33e-05     8s\n",
      "  14   6.90494495e+00  6.42789461e+00  1.48e-08 2.13e-07  9.69e-06     8s\n",
      "  15   6.79702495e+00  6.44183500e+00  1.11e-08 1.30e-07  7.20e-06     9s\n",
      "  16   6.66699019e+00  6.45604607e+00  6.53e-09 6.38e-08  4.27e-06     9s\n",
      "  17   6.60745375e+00  6.46149990e+00  4.42e-09 4.29e-08  2.95e-06    10s\n",
      "  18   6.58124356e+00  6.46466092e+00  3.53e-09 2.96e-08  2.36e-06    10s\n",
      "  19   6.55282742e+00  6.46733585e+00  2.52e-09 2.18e-08  1.73e-06    11s\n",
      "  20   6.53854561e+00  6.47055903e+00  2.00e-09 1.36e-08  1.37e-06    11s\n",
      "  21   6.52467475e+00  6.47138137e+00  1.51e-09 1.22e-08  1.08e-06    11s\n",
      "  22   6.51957201e+00  6.47341331e+00  1.28e-09 8.90e-09  9.32e-07    12s\n",
      "  23   6.51322055e+00  6.47503781e+00  1.02e-09 7.03e-09  7.71e-07    12s\n",
      "  24   6.50333363e+00  6.47658748e+00  6.91e-10 5.18e-09  5.40e-07    13s\n",
      "  25   6.50064918e+00  6.47727570e+00  5.99e-10 4.52e-09  4.72e-07    13s\n",
      "  26   6.49690054e+00  6.47921291e+00  4.67e-10 2.71e-09  3.57e-07    14s\n",
      "  27   6.49551722e+00  6.47966785e+00  4.32e-10 2.51e-09  3.20e-07    14s\n",
      "  28   6.49384646e+00  6.48025322e+00  3.63e-10 2.19e-09  2.74e-07    14s\n",
      "  29   6.49194666e+00  6.48134395e+00  2.68e-10 1.76e-09  2.14e-07    15s\n",
      "  30   6.48991760e+00  6.48213521e+00  1.87e-10 1.36e-09  1.57e-07    15s\n",
      "  31   6.48952261e+00  6.48250284e+00  1.69e-10 1.18e-09  1.42e-07    16s\n",
      "  32   6.48918009e+00  6.48315336e+00  1.57e-10 8.61e-10  1.22e-07    16s\n",
      "  33   6.48840933e+00  6.48347508e+00  1.30e-10 6.49e-10  9.96e-08    17s\n",
      "  34   6.48839577e+00  6.48358515e+00  1.26e-10 5.79e-10  9.71e-08    17s\n",
      "  35   6.48736144e+00  6.48376590e+00  3.74e-10 3.69e-10  7.26e-08    17s\n",
      "  36   6.48614871e+00  6.48426538e+00  1.05e-09 8.43e-10  3.80e-08    18s\n",
      "  37   6.48564401e+00  6.48449742e+00  4.87e-10 7.29e-10  2.31e-08    18s\n",
      "  38   6.48562014e+00  6.48465197e+00  4.60e-10 5.41e-10  1.95e-08    19s\n",
      "  39   6.48555596e+00  6.48513335e+00  3.73e-10 1.84e-10  8.53e-09    19s\n",
      "  40   6.48550685e+00  6.48521744e+00  2.77e-10 9.47e-11  5.84e-09    20s\n",
      "  41   6.48537964e+00  6.48527835e+00  8.12e-11 3.75e-11  2.04e-09    20s\n",
      "  42   6.48535099e+00  6.48532115e+00  1.91e-10 8.43e-12  6.02e-10    20s\n",
      "  43   6.48534090e+00  6.48532969e+00  7.01e-10 8.87e-12  2.26e-10    21s\n",
      "  44   6.48533224e+00  6.48533084e+00  1.06e-09 4.08e-13  2.83e-11    21s\n",
      "  45   6.48533146e+00  6.48533128e+00  7.41e-09 3.37e-09  4.00e-12    22s\n",
      "  46   6.48533131e+00  6.48533122e+00  7.84e-09 1.19e-08  5.07e-13    22s\n",
      "\n",
      "Barrier solved model in 46 iterations and 22.33 seconds\n",
      "Optimal objective 6.48533131e+00\n",
      "\n",
      "Crossover log...\n",
      "\n",
      "    1124 DPushes remaining with DInf 1.4954664e+00                22s\n",
      "       0 DPushes remaining with DInf 1.1463116e+00                22s\n",
      "\n",
      "    1520 PPushes remaining with PInf 1.0511021e-04                22s\n",
      "       0 PPushes remaining with PInf 1.1373720e-01                23s\n",
      "\n",
      "  Push phase complete: Pinf 1.1373720e-01, Dinf 1.8441934e-01     23s\n",
      "\n",
      "Iteration    Objective       Primal Inf.    Dual Inf.      Time\n",
      "    2205    6.4854061e+00   0.000000e+00   1.844193e-01     23s\n",
      "Extra 2 simplex iterations after uncrush\n",
      "    2613    6.4853315e+00   0.000000e+00   0.000000e+00     23s\n",
      "\n",
      "Solved in 2613 iterations and 23.41 seconds\n",
      "Optimal objective  6.485331508e+00\n",
      "\n",
      "Status: ok\n",
      "Return code: 0\n",
      "Message: Model was solved to optimality (subject to tolerances), and an optimal solution is available.\n",
      "Termination condition: optimal\n",
      "Termination message: Model was solved to optimality (subject to tolerances), and an optimal solution is available.\n",
      "Wall time: 23.4087753296\n",
      "Error rc: 0\n",
      "Time: 24.44013261795044\n",
      "\n",
      "\n",
      "Name: x10530\n",
      "Lower bound: 6.4853315082\n",
      "Upper bound: 6.4853315082\n",
      "Number of objectives: 1\n",
      "Number of constraints: 49053\n",
      "Number of variables: 10530\n",
      "Number of binary variables: 0\n",
      "Number of integer variables: 0\n",
      "Number of continuous variables: 10530\n",
      "Number of nonzeros: 128803\n",
      "Sense: minimize\n",
      "\n",
      "\t\t(29.2219 sec)\n",
      "Processing optimization output...\n",
      "\t\t(0.6876 sec)\n"
     ]
    },
    {
     "data": {
      "image/png": "[encoded data removed]",
      "text/plain": [
       "<matplotlib.figure.Figure at 0x147e95d1400>"
      ]
     },
     "metadata": {},
     "output_type": "display_data"
    },
    {
     "name": "stdout",
     "output_type": "stream",
     "text": [
      "Declaring sets, variables and constraints for SourceSinkModeling\n",
      "\tdeclaring sets... \n",
      "\tdeclaring variables... \n",
      "\tdeclaring constraints... \n",
      "\t\t(10.1886 sec)\n",
      "Declaring sets, variables and constraints for ConversionModeling\n",
      "\tdeclaring sets... \n",
      "\tdeclaring variables... \n",
      "\tdeclaring constraints... \n",
      "\t\t(3.8754 sec)\n",
      "Declaring sets, variables and constraints for StorageModeling\n",
      "\tdeclaring sets... \n",
      "\tdeclaring variables... \n",
      "\tdeclaring constraints... \n",
      "\t\t(12.4388 sec)\n",
      "Declaring sets, variables and constraints for TransmissionModeling\n",
      "\tdeclaring sets... \n",
      "\tdeclaring variables... \n",
      "\tdeclaring constraints... \n",
      "\t\t(3.7817 sec)\n",
      "Declaring shared potential constraint...\n",
      "\t\t(0.0000 sec)\n",
      "Declaring commodity balances...\n",
      "\t\t(17.2050 sec)\n",
      "Declaring objective function...\n",
      "\t\t(7.3914 sec)\n",
      "Academic license - for non-commercial use only\n",
      "Parameter LogToConsole unchanged\n",
      "   Value: 1  Min: 0  Max: 1  Default: 1\n",
      "Parameter OptimalityTol unchanged\n",
      "   Value: 1e-06  Min: 1e-09  Max: 0.01  Default: 1e-06\n",
      "Parameter Threads unchanged\n",
      "   Value: 0  Min: 0  Max: 1024  Default: 0\n",
      "Changed value of parameter cuts to 3\n",
      "   Prev: -1  Min: -1  Max: 3  Default: -1\n",
      "Changed value of parameter logfile to job\n",
      "   Prev: gurobi.log  Default: \n",
      "Changed value of parameter method to 2\n",
      "   Prev: -1  Min: -1  Max: 5  Default: -1\n",
      "Optimize a model with 551931 rows, 446820 columns and 1576513 nonzeros\n",
      "Coefficient statistics:\n",
      "  Matrix range     [2e-08, 5e+02]\n",
      "  Objective range  [2e-06, 3e-01]\n",
      "  Bounds range     [2e+01, 4e+03]\n",
      "  RHS range        [5e-02, 1e+01]\n",
      "Presolve removed 189641 rows and 110795 columns\n",
      "Presolve time: 2.05s\n",
      "Presolved: 362290 rows, 336025 columns, 1277830 nonzeros\n",
      "\n",
      "Ordering time: 0.23s\n",
      "\n",
      "Barrier statistics:\n",
      " Dense cols : 19\n",
      " AA' NZ     : 1.350e+06\n",
      " Factor NZ  : 6.675e+06 (roughly 340 MBytes of memory)\n",
      " Factor Ops : 1.757e+08 (less than 1 second per iteration)\n",
      " Threads    : 2\n",
      "\n",
      "                  Objective                Residual\n",
      "Iter       Primal          Dual         Primal    Dual     Compl     Time\n",
      "   0   1.31392110e+03 -1.31159568e+04  2.28e+06 1.08e-04  3.24e+01     4s\n",
      "   1   1.45316674e+03 -1.83966896e+04  1.66e+06 6.07e-02  2.20e+01     4s\n",
      "   2   1.26108634e+03 -2.38540175e+04  1.61e+06 2.59e-02  1.66e+01     5s\n",
      "   3   9.13096745e+02 -3.33396465e+04  9.60e+05 8.43e-03  9.20e+00     6s\n",
      "   4   7.76300199e+02 -3.60670672e+04  7.26e+05 3.14e-03  6.31e+00     7s\n",
      "   5   5.57877461e+02 -5.91661796e+04  3.32e+05 1.08e-03  2.96e+00     7s\n",
      "   6   4.23526077e+02 -5.12797691e+04  1.28e+05 4.78e-04  1.17e+00     8s\n",
      "   7   3.81773834e+02 -4.52139684e+04  3.65e+04 1.29e-04  3.61e-01     8s\n",
      "   8   3.55288793e+02 -2.66889438e+04  3.33e+03 1.50e-05  6.40e-02     9s\n",
      "   9   2.32143126e+02 -4.29339383e+03  3.46e+01 4.05e-07  7.07e-03     9s\n",
      "  10   1.68260834e+02 -1.44741948e+03  1.95e+01 1.38e-07  2.50e-03    10s\n",
      "  11   1.02596246e+02 -8.28804967e+02  6.27e+00 8.17e-08  1.43e-03    10s\n",
      "  12   6.85947346e+01 -2.20169971e+02  5.44e-01 2.30e-08  4.42e-04    11s\n",
      "  13   4.91745621e+01 -1.07013213e+02  1.51e-03 1.19e-08  2.38e-04    11s\n",
      "  14   2.21269733e+01 -5.36028041e+01  4.03e-04 6.10e-09  1.16e-04    12s\n",
      "  15   1.35722025e+01 -1.15087823e+01  1.54e-04 1.59e-09  3.82e-05    13s\n",
      "  16   1.02903671e+01 -3.07162802e+00  7.32e-05 7.91e-10  2.04e-05    13s\n",
      "  17   8.88248025e+00  2.39576284e+00  4.21e-05 2.94e-10  9.86e-06    14s\n",
      "  18   8.28584717e+00  4.47029968e+00  3.00e-05 1.29e-10  5.78e-06    15s\n",
      "  19   7.55525730e+00  5.72282054e+00  1.64e-05 2.29e-11  2.76e-06    15s\n",
      "  20   7.20858457e+00  6.21405551e+00  1.01e-05 4.93e-11  1.49e-06    16s\n",
      "  21   7.03819797e+00  6.38044066e+00  7.20e-06 1.23e-10  9.75e-07    17s\n",
      "  22   6.94450134e+00  6.43501249e+00  5.65e-06 4.16e-10  7.50e-07    18s\n",
      "  23   6.86508822e+00  6.46645358e+00  4.34e-06 6.08e-10  5.82e-07    18s\n",
      "  24   6.84477368e+00  6.50264443e+00  4.03e-06 7.81e-10  4.96e-07    19s\n",
      "  25   6.81884570e+00  6.50757720e+00  3.61e-06 8.04e-10  4.50e-07    20s\n",
      "  26   6.75064180e+00  6.53227821e+00  2.53e-06 8.82e-10  3.11e-07    20s\n",
      "  27   6.71284732e+00  6.54215746e+00  1.90e-06 8.62e-10  2.40e-07    21s\n",
      "  28   6.69283448e+00  6.55070131e+00  1.53e-06 8.18e-10  1.98e-07    21s\n",
      "  29   6.68422766e+00  6.55703610e+00  1.39e-06 7.71e-10  1.75e-07    22s\n",
      "  30   6.67873099e+00  6.56489198e+00  1.30e-06 6.97e-10  1.55e-07    22s\n",
      "  31   6.66074364e+00  6.57126883e+00  1.01e-06 6.14e-10  1.19e-07    23s\n",
      "  32   6.64976484e+00  6.57668301e+00  8.23e-07 5.21e-10  9.53e-08    23s\n",
      "  33   6.64663462e+00  6.57809290e+00  7.73e-07 4.90e-10  8.86e-08    24s\n",
      "  34   6.64582096e+00  6.57948855e+00  7.59e-07 4.63e-10  8.53e-08    24s\n",
      "  35   6.64418624e+00  6.58218456e+00  7.27e-07 4.18e-10  7.89e-08    25s\n",
      "  36   6.63241630e+00  6.58505214e+00  5.03e-07 3.67e-10  5.75e-08    25s\n",
      "  37   6.62467606e+00  6.58804068e+00  3.76e-07 2.81e-10  4.18e-08    26s\n",
      "  38   6.61850429e+00  6.58842635e+00  2.75e-07 2.61e-10  3.25e-08    26s\n",
      "  39   6.61791452e+00  6.58878259e+00  2.65e-07 2.45e-10  3.11e-08    27s\n",
      "  40   6.61661162e+00  6.58956202e+00  2.43e-07 2.15e-10  2.81e-08    27s\n",
      "  41   6.61507875e+00  6.59122757e+00  2.19e-07 1.75e-10  2.34e-08    28s\n",
      "  42   6.61378359e+00  6.59163438e+00  1.97e-07 1.75e-10  2.11e-08    28s\n",
      "  43   6.61311318e+00  6.59191321e+00  1.87e-07 1.75e-10  1.97e-08    29s\n",
      "  44   6.61077453e+00  6.59257086e+00  1.48e-07 1.76e-10  1.55e-08    29s\n",
      "  45   6.61035150e+00  6.59268499e+00  1.42e-07 1.76e-10  1.48e-08    30s\n",
      "  46   6.60916233e+00  6.59283985e+00  1.23e-07 1.76e-10  1.30e-08    30s\n",
      "  47   6.60856690e+00  6.59299113e+00  1.14e-07 1.76e-10  1.20e-08    31s\n",
      "  48   6.60674929e+00  6.59341759e+00  8.44e-08 1.76e-10  9.06e-09    31s\n",
      "  49   6.60577228e+00  6.59371571e+00  7.06e-08 1.76e-10  7.41e-09    32s\n",
      "  50   6.60510518e+00  6.59378638e+00  6.11e-08 1.76e-10  6.53e-09    33s\n",
      "  51   6.60490932e+00  6.59381091e+00  5.83e-08 1.76e-10  6.27e-09    33s\n",
      "  52   6.60436258e+00  6.59390229e+00  5.09e-08 1.76e-10  5.52e-09    33s\n",
      "  53   6.60402876e+00  6.59395121e+00  4.63e-08 1.77e-10  5.10e-09    34s\n",
      "  54   6.60360516e+00  6.59416175e+00  4.09e-08 1.77e-10  4.33e-09    35s\n",
      "  55   6.60275885e+00  6.59423039e+00  3.03e-08 1.77e-10  3.38e-09    36s\n",
      "  56   6.60233250e+00  6.59432149e+00  2.56e-08 1.77e-10  2.86e-09    37s\n",
      "  57   6.60218925e+00  6.59435596e+00  2.41e-08 1.77e-10  2.69e-09    37s\n",
      "  58   6.60212119e+00  6.59436218e+00  2.35e-08 1.77e-10  2.62e-09    38s\n",
      "  59   6.60207872e+00  6.59437938e+00  2.30e-08 1.77e-10  2.56e-09    38s\n",
      "  60   6.60176783e+00  6.59441469e+00  2.00e-08 1.77e-10  2.26e-09    39s\n",
      "  61   6.60158619e+00  6.59444019e+00  1.83e-08 1.77e-10  2.09e-09    39s\n",
      "  62   6.60144818e+00  6.59446076e+00  1.72e-08 1.77e-10  1.95e-09    40s\n",
      "  63   6.60126313e+00  6.59450271e+00  1.56e-08 1.77e-10  1.76e-09    41s\n",
      "  64   6.60106235e+00  6.59452378e+00  1.40e-08 1.77e-10  1.60e-09    42s\n",
      "  65   6.60101608e+00  6.59457281e+00  1.36e-08 1.77e-10  1.50e-09    42s\n",
      "  66   6.60069675e+00  6.59463624e+00  1.12e-08 1.77e-10  1.22e-09    43s\n",
      "  67   6.60010950e+00  6.59466857e+00  8.84e-09 1.77e-10  9.80e-10    44s\n",
      "  68   6.59978646e+00  6.59468676e+00  7.76e-09 1.77e-10  8.69e-10    44s\n",
      "  69   6.59960947e+00  6.59470389e+00  7.24e-09 1.77e-10  8.00e-10    45s\n",
      "  70   6.59954866e+00  6.59470625e+00  7.07e-09 1.77e-10  7.83e-10    46s\n",
      "  71   6.59936210e+00  6.59472628e+00  6.55e-09 1.77e-10  7.12e-10    46s\n",
      "  72   6.59888560e+00  6.59474563e+00  5.31e-09 1.77e-10  5.92e-10    47s\n",
      "  73   6.59855551e+00  6.59477055e+00  4.59e-09 1.77e-10  5.05e-10    48s\n",
      "  74   6.59832798e+00  6.59477162e+00  4.16e-09 1.77e-10  4.71e-10    49s\n",
      "  75   6.59823019e+00  6.59477649e+00  3.99e-09 1.77e-10  4.50e-10    50s\n",
      "  76   6.59779289e+00  6.59478611e+00  3.27e-09 1.77e-10  3.81e-10    50s\n",
      "  77   6.59756489e+00  6.59482428e+00  2.95e-09 1.77e-10  2.99e-10    51s\n",
      "  78   6.59691065e+00  6.59483099e+00  2.13e-09 1.77e-10  2.29e-10    52s\n",
      "  79   6.59668746e+00  6.59483301e+00  1.92e-09 1.77e-10  2.12e-10    52s\n",
      "  80   6.59629496e+00  6.59483617e+00  1.59e-09 1.77e-10  1.84e-10    53s\n",
      "  81   6.59581435e+00  6.59483911e+00  1.25e-09 1.77e-10  1.55e-10    54s\n",
      "  82   6.59553407e+00  6.59483960e+00  1.10e-09 1.77e-10  1.42e-10    54s\n",
      "  83   6.59546836e+00  6.59484676e+00  1.07e-09 1.77e-10  1.30e-10    55s\n",
      "  84   6.59499180e+00  6.59485027e+00  8.35e-10 1.77e-10  1.07e-10    56s\n"
     ]
    },
    {
     "name": "stdout",
     "output_type": "stream",
     "text": [
      "  85   6.59492619e+00  6.59485336e+00  7.91e-10 1.71e-10  9.87e-11    57s\n",
      "  86   6.59492256e+00  6.59485354e+00  7.76e-10 1.70e-10  9.72e-11    57s\n",
      "  87   6.59492007e+00  6.59485450e+00  7.60e-10 1.64e-10  9.46e-11    58s\n",
      "  88   6.59491820e+00  6.59485525e+00  7.39e-10 1.59e-10  9.19e-11    59s\n",
      "  89   6.59491894e+00  6.59485746e+00  6.59e-10 1.42e-10  8.39e-11    60s\n",
      "  90   6.59491890e+00  6.59485830e+00  6.15e-10 1.36e-10  8.04e-11    61s\n",
      "  91   6.59490839e+00  6.59486011e+00  5.03e-10 1.22e-10  6.79e-11    62s\n",
      "  92   6.59490421e+00  6.59486147e+00  4.36e-10 1.10e-10  6.04e-11    64s\n",
      "  93   6.59490212e+00  6.59486417e+00  4.03e-10 8.92e-11  5.41e-11    64s\n",
      "  94   6.59489956e+00  6.59486658e+00  3.65e-10 7.43e-11  4.75e-11    65s\n",
      "  95   6.59489599e+00  6.59486959e+00  3.02e-10 5.52e-11  3.84e-11    65s\n",
      "  96   6.59489093e+00  6.59486998e+00  2.21e-10 5.26e-11  3.07e-11    66s\n",
      "  97   6.59488952e+00  6.59487002e+00  1.99e-10 5.24e-11  2.86e-11    67s\n",
      "  98   6.59488938e+00  6.59487056e+00  1.96e-10 4.87e-11  2.77e-11    68s\n",
      "  99   6.59488761e+00  6.59487122e+00  2.12e-10 4.42e-11  2.42e-11    68s\n",
      " 100   6.59488627e+00  6.59487221e+00  2.24e-10 3.61e-11  2.08e-11    69s\n",
      " 101   6.59488489e+00  6.59487304e+00  7.16e-09 2.95e-11  1.76e-11    70s\n",
      " 102   6.59488447e+00  6.59487324e+00  6.81e-09 3.44e-10  1.67e-11    71s\n",
      " 103   6.59488385e+00  6.59487352e+00  7.26e-09 7.65e-10  1.54e-11    71s\n",
      " 104   6.59488385e+00  6.59487352e+00  3.10e-07 7.67e-10  1.53e-11    72s\n",
      " 105   6.59488385e+00  6.59487352e+00  4.57e-07 7.67e-10  1.53e-11    73s\n",
      " 106   6.59488385e+00  6.59487352e+00  4.57e-07 7.63e-10  1.54e-11    74s\n",
      " 107   6.59488385e+00  6.59487352e+00  4.57e-07 7.63e-10  1.54e-11    75s\n",
      " 108   6.59488281e+00  6.59487421e+00  3.82e-07 9.67e-08  1.30e-11    76s\n",
      " 109   6.59488276e+00  6.59487423e+00  3.79e-07 9.10e-08  1.29e-11    77s\n",
      " 110   6.59488276e+00  6.59487423e+00  3.79e-07 9.10e-08  1.29e-11    77s\n",
      " 111   6.59488276e+00  6.59487423e+00  3.79e-07 9.10e-08  1.29e-11    78s\n",
      " 112   6.59488276e+00  6.59487423e+00  3.79e-07 9.10e-08  1.29e-11    79s\n",
      " 113   6.59488276e+00  6.59487423e+00  3.79e-07 9.10e-08  1.29e-11    80s\n",
      " 114   6.59488276e+00  6.59487423e+00  3.79e-07 9.10e-08  1.29e-11    81s\n",
      "\n",
      "Barrier solved model in 114 iterations and 81.01 seconds\n",
      "Optimal objective 6.59488385e+00\n",
      "\n",
      "Crossover log...\n",
      "\n",
      "   65658 DPushes remaining with DInf 0.0000000e+00                83s\n",
      "   47919 DPushes remaining with DInf 0.0000000e+00                94s\n",
      "   46618 DPushes remaining with DInf 0.0000000e+00                95s\n",
      "   40258 DPushes remaining with DInf 0.0000000e+00               100s\n",
      "   35488 DPushes remaining with DInf 0.0000000e+00               105s\n",
      "   31354 DPushes remaining with DInf 0.0000000e+00               110s\n",
      "   17680 DPushes remaining with DInf 0.0000000e+00               115s\n",
      "    6663 DPushes remaining with DInf 0.0000000e+00               120s\n",
      "       0 DPushes remaining with DInf 1.0655735e-15               124s\n",
      "\n",
      "  173376 PPushes remaining with PInf 1.0510984e-02               125s\n",
      "  150661 PPushes remaining with PInf 1.0110112e-02               126s\n",
      "  123188 PPushes remaining with PInf 1.3351404e+00               130s\n",
      "  120615 PPushes remaining with PInf 1.3348869e+00               135s\n",
      "  118070 PPushes remaining with PInf 1.3348639e+00               140s\n",
      "  109187 PPushes remaining with PInf 3.2146160e+00               145s\n",
      "   74904 PPushes remaining with PInf 2.7838900e+00               150s\n",
      "   61620 PPushes remaining with PInf 2.6576408e+00               155s\n",
      "   43760 PPushes remaining with PInf 1.5060205e+00               160s\n",
      "   31511 PPushes remaining with PInf 1.2854264e+00               175s\n",
      "   27941 PPushes remaining with PInf 1.2854156e+00               182s\n",
      "   25469 PPushes remaining with PInf 1.2854156e+00               187s\n",
      "   21554 PPushes remaining with PInf 1.2854156e+00               195s\n",
      "   20385 PPushes remaining with PInf 1.2726758e+00               197s\n",
      "   15566 PPushes remaining with PInf 1.2658412e+00               200s\n",
      "    4058 PPushes remaining with PInf 1.2656975e+00               205s\n",
      "       0 PPushes remaining with PInf 0.0000000e+00               208s\n",
      "\n",
      "  Push phase complete: Pinf 0.0000000e+00, Dinf 1.1259236e-01    208s\n",
      "\n",
      "Iteration    Objective       Primal Inf.    Dual Inf.      Time\n",
      "  237929    6.5949483e+00   0.000000e+00   1.125924e-01    208s\n",
      "  238247    6.5949483e+00   0.000000e+00   1.259971e-01    212s\n",
      "  238565    6.5949483e+00   0.000000e+00   1.219462e-01    215s\n",
      "  239201    6.5949483e+00   0.000000e+00   1.138445e-01    222s\n",
      "  239519    6.5949483e+00   0.000000e+00   1.097937e-01    226s\n",
      "  240155    6.5949483e+00   0.000000e+00   1.016919e-01    233s\n",
      "  240473    6.5949483e+00   0.000000e+00   9.764109e-02    238s\n",
      "  240791    6.5949483e+00   0.000000e+00   9.359024e-02    242s\n",
      "  241109    6.5949483e+00   0.000000e+00   8.956024e-02    246s\n",
      "  241745    6.5949483e+00   0.000000e+00   8.150366e-02    253s\n",
      "  242063    6.5949483e+00   0.000000e+00   7.745281e-02    256s\n",
      "  242699    6.5949483e+00   0.000000e+00   6.935110e-02    263s\n",
      "  243017    6.5949483e+00   0.000000e+00   6.530025e-02    266s\n",
      "  243335    6.5949483e+00   0.000000e+00   6.124939e-02    270s\n",
      "  243971    6.5949482e+00   0.000000e+00   5.314769e-02    277s\n",
      "  244289    6.5949482e+00   0.000000e+00   4.909683e-02    281s\n",
      "  244925    6.5949480e+00   0.000000e+00   6.575654e-02    288s\n",
      "  245243    6.5949480e+00   0.000000e+00   6.432244e-02    292s\n",
      "  245561    6.5949468e+00   0.000000e+00   4.241965e-02    295s\n",
      "  246197    6.5949463e+00   0.000000e+00   3.786602e-02    302s\n",
      "  246515    6.5949461e+00   0.000000e+00   1.702828e-02    305s\n",
      "  247180    6.5948784e+00   0.000000e+00   0.000000e+00    313s\n",
      "  247180    6.5948784e+00   0.000000e+00   0.000000e+00    315s\n",
      "\n",
      "Solved in 247180 iterations and 314.57 seconds\n",
      "Optimal objective  6.594878406e+00\n",
      "\n",
      "Status: ok\n",
      "Return code: 0\n",
      "Message: Model was solved to optimality (subject to tolerances), and an optimal solution is available.\n",
      "Termination condition: optimal\n",
      "Termination message: Model was solved to optimality (subject to tolerances), and an optimal solution is available.\n",
      "Wall time: 314.565187454\n",
      "Error rc: 0\n",
      "Time: 324.331866979599\n",
      "\n",
      "\n",
      "Name: x446820\n",
      "Lower bound: 6.59487840572\n",
      "Upper bound: 6.59487840572\n",
      "Number of objectives: 1\n",
      "Number of constraints: 551931\n",
      "Number of variables: 446820\n",
      "Number of binary variables: 0\n",
      "Number of integer variables: 0\n",
      "Number of continuous variables: 446820\n",
      "Number of nonzeros: 1576513\n",
      "Sense: minimize\n",
      "\n",
      "\t\t(403.0122 sec)\n",
      "Processing optimization output...\n",
      "\t\t(5.0786 sec)\n"
     ]
    },
    {
     "data": {
      "image/png": "[encoded data removed]",
      "text/plain": [
       "<matplotlib.figure.Figure at 0x147aa3615f8>"
      ]
     },
     "metadata": {},
     "output_type": "display_data"
    }
   ],
   "source": [
    "periods = []\n",
    "TAC = []\n",
    "cap_conv = []\n",
    "cap_sosi = []\n",
    "cap_stor = []\n",
    "\n",
    "l1=range(4,30,4)\n",
    "l2=range(30,150,30)\n",
    "l3=range(150,360,70)\n",
    "l=[]\n",
    "l.extend(l1), l.extend(l2), l.extend(l3), l.extend([365])\n",
    "l = [7]\n",
    "addPeakMax = ['Electricity demand_operationRate_cluster_0',\n",
    "              'Electricity demand_operationRate_cluster_7'] \n",
    "if H2modeling:\n",
    "    addPeakMax.extend(['Hydrogen demand_operationRate_cluster_0',\n",
    "                       'Hydrogen demand_operationRate_cluster_7'])    \n",
    "#addPeakMax=addPeakMax\n",
    "#extremePeriodMethod='append', \n",
    "\n",
    "for p in l:\n",
    "    esM.cluster(numberOfTypicalPeriods=p, numberOfTimeStepsPerPeriod=24,\n",
    "                sortValues=True)\n",
    "    esM.optimize(timeSeriesAggregation=True, optimizationSpecs='LogToConsole=1 OptimalityTol=1e-6 cuts=3 method=2')\n",
    "    df1=esM._componentModelingDict[\"ConversionModeling\"]._capacityVariablesOptimum\n",
    "    df2=esM._componentModelingDict[\"SourceSinkModeling\"]._capacityVariablesOptimum   \n",
    "    TAC.append(esM._pyM.Obj()), periods.append(p), cap_conv.append(df1), cap_sosi.append(df2)\n",
    "    conv=pd.concat(cap_conv, keys=periods)\n",
    "    sosi=None\n",
    "    if df2 is not None:\n",
    "        sosi=pd.concat(cap_sosi, keys=periods)     \n",
    "    if storageModeling:\n",
    "        df3=esM._componentModelingDict[\"StorageModeling\"]._capacityVariablesOptimum\n",
    "        cap_stor.append(df3)\n",
    "        stor=None\n",
    "        if df3 is not None:\n",
    "            stor=pd.concat(cap_stor, keys=periods)\n",
    "    \n",
    "    fig, (ax1, ax2, ax3, ax4) = plt.subplots(4,1, figsize=(12,16))\n",
    "    ax1.plot(periods, TAC)\n",
    "    for compName in conv.index.get_level_values(1).unique():\n",
    "        data=conv[conv.index.get_level_values(1)==compName].sum(axis=1)\n",
    "        ax2.plot(periods, data, label=compName)  \n",
    "    ax2.legend()\n",
    "    if sosi is not None:\n",
    "        for compName in sosi.index.get_level_values(1).unique():\n",
    "            data=sosi[sosi.index.get_level_values(1)==compName].sum(axis=1)\n",
    "            ax3.plot(periods, data, label=compName)      \n",
    "        ax3.legend()\n",
    "    if storageModeling and stor is not None:\n",
    "        for compName in stor.index.get_level_values(1).unique():\n",
    "            data=stor[stor.index.get_level_values(1)==compName].sum(axis=1)\n",
    "            ax4.plot(periods, data, label=compName)      \n",
    "        ax4.legend()        \n",
    "    plt.show()\n",
    "\n",
    "esM.optimize(timeSeriesAggregation=False, optimizationSpecs='LogToConsole=1 OptimalityTol=1e-6 cuts=3 method=2')\n",
    "df1=esM._componentModelingDict[\"ConversionModeling\"]._capacityVariablesOptimum\n",
    "df2=esM._componentModelingDict[\"SourceSinkModeling\"]._capacityVariablesOptimum\n",
    "TAC.append(esM._pyM.Obj()), periods.append(366), cap_conv.append(df1), cap_sosi.append(df2)\n",
    "conv=pd.concat(cap_conv, keys=periods)\n",
    "sosi=None\n",
    "if df2 is not None:\n",
    "    sosi=pd.concat(cap_sosi, keys=periods)\n",
    "if storageModeling:\n",
    "    df3=esM._componentModelingDict[\"StorageModeling\"]._capacityVariablesOptimum\n",
    "    cap_stor.append(df3)\n",
    "    stor=None\n",
    "    if df3 is not None:\n",
    "        stor=pd.concat(cap_stor, keys=periods)\n",
    "\n",
    "fig, (ax1, ax2, ax3, ax4) = plt.subplots(4,1, figsize=(12,16))\n",
    "ax1.plot(periods, TAC)\n",
    "for compName in conv.index.get_level_values(1).unique():\n",
    "    data=conv[conv.index.get_level_values(1)==compName].sum(axis=1)\n",
    "    ax2.plot(periods, data, label=compName)  \n",
    "ax2.legend()\n",
    "if sosi is not None:\n",
    "    for compName in sosi.index.get_level_values(1).unique():\n",
    "        data=sosi[sosi.index.get_level_values(1)==compName].sum(axis=1)\n",
    "        ax3.plot(periods, data, label=compName)      \n",
    "    ax3.legend()\n",
    "if storageModeling and stor is not None:\n",
    "    for compName in stor.index.get_level_values(1).unique():\n",
    "        data=stor[stor.index.get_level_values(1)==compName].sum(axis=1)\n",
    "        ax4.plot(periods, data, label=compName)      \n",
    "    ax4.legend()        \n",
    "plt.show()"
   ]
  },
  {
   "cell_type": "code",
   "execution_count": 32,
   "metadata": {},
   "outputs": [
    {
     "data": {
      "text/plain": [
       "6.59487771323"
      ]
     },
     "execution_count": 32,
     "metadata": {},
     "output_type": "execute_result"
    }
   ],
   "source": [
    "6.59491872599\n",
    "6.59487771323"
   ]
  },
  {
   "cell_type": "code",
   "execution_count": 33,
   "metadata": {
    "scrolled": true
   },
   "outputs": [
    {
     "data": {
      "text/html": [
       "<div>\n",
       "<style>\n",
       "    .dataframe thead tr:only-child th {\n",
       "        text-align: right;\n",
       "    }\n",
       "\n",
       "    .dataframe thead th {\n",
       "        text-align: left;\n",
       "    }\n",
       "\n",
       "    .dataframe tbody tr th {\n",
       "        vertical-align: top;\n",
       "    }\n",
       "</style>\n",
       "<table border=\"1\" class=\"dataframe\">\n",
       "  <thead>\n",
       "    <tr style=\"text-align: right;\">\n",
       "      <th></th>\n",
       "      <th>cluster_0</th>\n",
       "      <th>cluster_7</th>\n",
       "    </tr>\n",
       "  </thead>\n",
       "  <tbody>\n",
       "    <tr>\n",
       "      <th>Existing run-of-river plants</th>\n",
       "      <td>NaN</td>\n",
       "      <td>0.655032</td>\n",
       "    </tr>\n",
       "    <tr>\n",
       "      <th>PV</th>\n",
       "      <td>0.000000</td>\n",
       "      <td>6.418287</td>\n",
       "    </tr>\n",
       "    <tr>\n",
       "      <th>Wind (offshore)</th>\n",
       "      <td>8.348206</td>\n",
       "      <td>NaN</td>\n",
       "    </tr>\n",
       "    <tr>\n",
       "      <th>Wind (onshore)</th>\n",
       "      <td>4.769490</td>\n",
       "      <td>0.000000</td>\n",
       "    </tr>\n",
       "  </tbody>\n",
       "</table>\n",
       "</div>"
      ],
      "text/plain": [
       "                              cluster_0  cluster_7\n",
       "Existing run-of-river plants        NaN   0.655032\n",
       "PV                             0.000000   6.418287\n",
       "Wind (offshore)                8.348206        NaN\n",
       "Wind (onshore)                 4.769490   0.000000"
      ]
     },
     "execution_count": 33,
     "metadata": {},
     "output_type": "execute_result"
    }
   ],
   "source": [
    "esM._componentModelingDict[\"SourceSinkModeling\"]._capacityVariablesOptimum"
   ]
  },
  {
   "cell_type": "code",
   "execution_count": 34,
   "metadata": {
    "collapsed": true
   },
   "outputs": [],
   "source": [
    "esM._componentModelingDict[\"SourceSinkModeling\"]._isBuiltVariablesOptimum"
   ]
  },
  {
   "cell_type": "code",
   "execution_count": 35,
   "metadata": {},
   "outputs": [
    {
     "data": {
      "text/plain": [
       "Biogas purchase                     0.000000\n",
       "CO2 from enviroment                 0.000000\n",
       "CO2 to enviroment                  13.725000\n",
       "Electricity demand              81152.040962\n",
       "Existing run-of-river plants     3211.220222\n",
       "Hydrogen demand                 11632.881986\n",
       "Natural gas purchase            68283.582089\n",
       "PV                               6357.434109\n",
       "Wind (offshore)                 36122.982261\n",
       "Wind (onshore)                   9789.483133\n",
       "dtype: float64"
      ]
     },
     "execution_count": 35,
     "metadata": {},
     "output_type": "execute_result"
    }
   ],
   "source": [
    "esM._componentModelingDict[\"SourceSinkModeling\"]._operationVariablesOptimum.groupby(level=0).sum().sum(axis=1)"
   ]
  },
  {
   "cell_type": "code",
   "execution_count": 36,
   "metadata": {},
   "outputs": [
    {
     "data": {
      "text/plain": [
       "13.725000000000012"
      ]
     },
     "execution_count": 36,
     "metadata": {},
     "output_type": "execute_result"
    }
   ],
   "source": [
    "CO2reduction"
   ]
  },
  {
   "cell_type": "code",
   "execution_count": 37,
   "metadata": {},
   "outputs": [
    {
     "data": {
      "text/html": [
       "<div>\n",
       "<style>\n",
       "    .dataframe thead tr:only-child th {\n",
       "        text-align: right;\n",
       "    }\n",
       "\n",
       "    .dataframe thead th {\n",
       "        text-align: left;\n",
       "    }\n",
       "\n",
       "    .dataframe tbody tr th {\n",
       "        vertical-align: top;\n",
       "    }\n",
       "</style>\n",
       "<table border=\"1\" class=\"dataframe\">\n",
       "  <thead>\n",
       "    <tr style=\"text-align: right;\">\n",
       "      <th></th>\n",
       "      <th>cluster_0</th>\n",
       "      <th>cluster_7</th>\n",
       "    </tr>\n",
       "  </thead>\n",
       "  <tbody>\n",
       "    <tr>\n",
       "      <th>Electrolyzers</th>\n",
       "      <td>1.567219</td>\n",
       "      <td>2.165494</td>\n",
       "    </tr>\n",
       "    <tr>\n",
       "      <th>Existing CCGT plants (methane)</th>\n",
       "      <td>6.280207</td>\n",
       "      <td>6.794410</td>\n",
       "    </tr>\n",
       "    <tr>\n",
       "      <th>New CCGT plants (biogas)</th>\n",
       "      <td>0.000000</td>\n",
       "      <td>0.000000</td>\n",
       "    </tr>\n",
       "    <tr>\n",
       "      <th>New CCGT plants (hydrogen)</th>\n",
       "      <td>0.000000</td>\n",
       "      <td>0.000000</td>\n",
       "    </tr>\n",
       "  </tbody>\n",
       "</table>\n",
       "</div>"
      ],
      "text/plain": [
       "                                cluster_0  cluster_7\n",
       "Electrolyzers                    1.567219   2.165494\n",
       "Existing CCGT plants (methane)   6.280207   6.794410\n",
       "New CCGT plants (biogas)         0.000000   0.000000\n",
       "New CCGT plants (hydrogen)       0.000000   0.000000"
      ]
     },
     "execution_count": 37,
     "metadata": {},
     "output_type": "execute_result"
    }
   ],
   "source": [
    "esM._componentModelingDict[\"ConversionModeling\"]._capacityVariablesOptimum"
   ]
  },
  {
   "cell_type": "code",
   "execution_count": 38,
   "metadata": {
    "collapsed": true
   },
   "outputs": [],
   "source": [
    "esM._componentModelingDict[\"ConversionModeling\"]._isBuiltVariablesOptimum"
   ]
  },
  {
   "cell_type": "code",
   "execution_count": 50,
   "metadata": {},
   "outputs": [
    {
     "data": {
      "text/plain": [
       "Biogas to methane               cluster_0        0.000000\n",
       "                                cluster_7        0.000000\n",
       "Electrolyzers                   cluster_0     8429.769455\n",
       "                                cluster_7     8188.633382\n",
       "Existing CCGT plants (methane)  cluster_0    22417.822330\n",
       "                                cluster_7    20259.416476\n",
       "New CCGT plants (biogas)        cluster_0        0.000000\n",
       "                                cluster_7        0.000000\n",
       "New CCGT plants (hydrogen)      cluster_0        0.000000\n",
       "                                cluster_7        0.000000\n",
       "dtype: float64"
      ]
     },
     "execution_count": 50,
     "metadata": {},
     "output_type": "execute_result"
    }
   ],
   "source": [
    "esM._componentModelingDict[\"ConversionModeling\"]._operationVariablesOptimum.sum(axis=1)"
   ]
  },
  {
   "cell_type": "code",
   "execution_count": 40,
   "metadata": {},
   "outputs": [
    {
     "data": {
      "text/html": [
       "<div>\n",
       "<style>\n",
       "    .dataframe thead tr:only-child th {\n",
       "        text-align: right;\n",
       "    }\n",
       "\n",
       "    .dataframe thead th {\n",
       "        text-align: left;\n",
       "    }\n",
       "\n",
       "    .dataframe tbody tr th {\n",
       "        vertical-align: top;\n",
       "    }\n",
       "</style>\n",
       "<table border=\"1\" class=\"dataframe\">\n",
       "  <thead>\n",
       "    <tr style=\"text-align: right;\">\n",
       "      <th></th>\n",
       "      <th>cluster_0</th>\n",
       "      <th>cluster_7</th>\n",
       "    </tr>\n",
       "  </thead>\n",
       "  <tbody>\n",
       "    <tr>\n",
       "      <th>Li-ion batteries</th>\n",
       "      <td>0.123106</td>\n",
       "      <td>0.116413</td>\n",
       "    </tr>\n",
       "    <tr>\n",
       "      <th>Pumped hydro storage</th>\n",
       "      <td>NaN</td>\n",
       "      <td>10.605000</td>\n",
       "    </tr>\n",
       "    <tr>\n",
       "      <th>Salt caverns (hydrogen)</th>\n",
       "      <td>241.838790</td>\n",
       "      <td>NaN</td>\n",
       "    </tr>\n",
       "    <tr>\n",
       "      <th>Salt caverns (methane)</th>\n",
       "      <td>0.000000</td>\n",
       "      <td>NaN</td>\n",
       "    </tr>\n",
       "  </tbody>\n",
       "</table>\n",
       "</div>"
      ],
      "text/plain": [
       "                          cluster_0  cluster_7\n",
       "Li-ion batteries           0.123106   0.116413\n",
       "Pumped hydro storage            NaN  10.605000\n",
       "Salt caverns (hydrogen)  241.838790        NaN\n",
       "Salt caverns (methane)     0.000000        NaN"
      ]
     },
     "execution_count": 40,
     "metadata": {},
     "output_type": "execute_result"
    }
   ],
   "source": [
    "esM._componentModelingDict[\"StorageModeling\"]._capacityVariablesOptimum"
   ]
  },
  {
   "cell_type": "code",
   "execution_count": 41,
   "metadata": {},
   "outputs": [
    {
     "data": {
      "text/plain": [
       "cluster_0  AC cables            cluster_7    16926.629368\n",
       "           DC cables            cluster_7     1409.984044\n",
       "           Pipeline (hydrogen)  cluster_7      409.366870\n",
       "           Pipelines (methane)  cluster_7        0.000000\n",
       "cluster_7  AC cables            cluster_0    45401.361779\n",
       "           DC cables            cluster_0     1865.204379\n",
       "           Pipeline (hydrogen)  cluster_0     1545.130611\n",
       "           Pipelines (methane)  cluster_0        0.000000\n",
       "dtype: float64"
      ]
     },
     "execution_count": 41,
     "metadata": {},
     "output_type": "execute_result"
    }
   ],
   "source": [
    "esM._componentModelingDict[\"TransmissionModeling\"]._operationVariablesOptimum.sum(axis=1)"
   ]
  },
  {
   "cell_type": "code",
   "execution_count": 42,
   "metadata": {
    "collapsed": true
   },
   "outputs": [],
   "source": [
    "esM._componentModelingDict[\"StorageModeling\"]._isBuiltVariablesOptimum   "
   ]
  },
  {
   "cell_type": "code",
   "execution_count": 43,
   "metadata": {},
   "outputs": [
    {
     "data": {
      "text/html": [
       "<div>\n",
       "<style>\n",
       "    .dataframe thead tr:only-child th {\n",
       "        text-align: right;\n",
       "    }\n",
       "\n",
       "    .dataframe thead th {\n",
       "        text-align: left;\n",
       "    }\n",
       "\n",
       "    .dataframe tbody tr th {\n",
       "        vertical-align: top;\n",
       "    }\n",
       "</style>\n",
       "<table border=\"1\" class=\"dataframe\">\n",
       "  <thead>\n",
       "    <tr style=\"text-align: right;\">\n",
       "      <th></th>\n",
       "      <th></th>\n",
       "      <th>0</th>\n",
       "      <th>1</th>\n",
       "      <th>2</th>\n",
       "      <th>3</th>\n",
       "      <th>4</th>\n",
       "      <th>5</th>\n",
       "      <th>6</th>\n",
       "      <th>7</th>\n",
       "      <th>8</th>\n",
       "      <th>9</th>\n",
       "      <th>...</th>\n",
       "      <th>8751</th>\n",
       "      <th>8752</th>\n",
       "      <th>8753</th>\n",
       "      <th>8754</th>\n",
       "      <th>8755</th>\n",
       "      <th>8756</th>\n",
       "      <th>8757</th>\n",
       "      <th>8758</th>\n",
       "      <th>8759</th>\n",
       "      <th>8760</th>\n",
       "    </tr>\n",
       "  </thead>\n",
       "  <tbody>\n",
       "    <tr>\n",
       "      <th rowspan=\"2\" valign=\"top\">Li-ion batteries</th>\n",
       "      <th>cluster_0</th>\n",
       "      <td>0.000000</td>\n",
       "      <td>0.000000</td>\n",
       "      <td>0.000000</td>\n",
       "      <td>0.000000</td>\n",
       "      <td>0.000000</td>\n",
       "      <td>0.000000</td>\n",
       "      <td>0.035733</td>\n",
       "      <td>0.035731</td>\n",
       "      <td>0.035730</td>\n",
       "      <td>0.035728</td>\n",
       "      <td>...</td>\n",
       "      <td>0.000000</td>\n",
       "      <td>0.000000</td>\n",
       "      <td>0.000000</td>\n",
       "      <td>0.000000</td>\n",
       "      <td>0.000000</td>\n",
       "      <td>0.000000</td>\n",
       "      <td>0.000000</td>\n",
       "      <td>0.000000</td>\n",
       "      <td>0.000000</td>\n",
       "      <td>0.000000</td>\n",
       "    </tr>\n",
       "    <tr>\n",
       "      <th>cluster_7</th>\n",
       "      <td>0.000000</td>\n",
       "      <td>0.000000</td>\n",
       "      <td>0.000000</td>\n",
       "      <td>0.000000</td>\n",
       "      <td>0.000000</td>\n",
       "      <td>0.000000</td>\n",
       "      <td>0.000000</td>\n",
       "      <td>0.000000</td>\n",
       "      <td>0.000000</td>\n",
       "      <td>0.000000</td>\n",
       "      <td>...</td>\n",
       "      <td>0.000000</td>\n",
       "      <td>0.000000</td>\n",
       "      <td>0.000000</td>\n",
       "      <td>0.000000</td>\n",
       "      <td>0.000000</td>\n",
       "      <td>0.000000</td>\n",
       "      <td>0.000000</td>\n",
       "      <td>0.000000</td>\n",
       "      <td>0.000000</td>\n",
       "      <td>0.000000</td>\n",
       "    </tr>\n",
       "    <tr>\n",
       "      <th>Pumped hydro storage</th>\n",
       "      <th>cluster_7</th>\n",
       "      <td>0.000000</td>\n",
       "      <td>0.047048</td>\n",
       "      <td>1.540231</td>\n",
       "      <td>2.127274</td>\n",
       "      <td>3.038449</td>\n",
       "      <td>4.246411</td>\n",
       "      <td>4.293436</td>\n",
       "      <td>4.919052</td>\n",
       "      <td>5.145306</td>\n",
       "      <td>6.638463</td>\n",
       "      <td>...</td>\n",
       "      <td>3.018555</td>\n",
       "      <td>1.572403</td>\n",
       "      <td>0.126259</td>\n",
       "      <td>0.126258</td>\n",
       "      <td>0.126257</td>\n",
       "      <td>0.126257</td>\n",
       "      <td>0.126256</td>\n",
       "      <td>0.126256</td>\n",
       "      <td>0.126255</td>\n",
       "      <td>0.000000</td>\n",
       "    </tr>\n",
       "    <tr>\n",
       "      <th>Salt caverns (hydrogen)</th>\n",
       "      <th>cluster_0</th>\n",
       "      <td>179.466078</td>\n",
       "      <td>179.980224</td>\n",
       "      <td>180.494370</td>\n",
       "      <td>181.008516</td>\n",
       "      <td>181.522662</td>\n",
       "      <td>182.036808</td>\n",
       "      <td>182.550953</td>\n",
       "      <td>183.065099</td>\n",
       "      <td>183.579245</td>\n",
       "      <td>184.093391</td>\n",
       "      <td>...</td>\n",
       "      <td>181.684553</td>\n",
       "      <td>181.255772</td>\n",
       "      <td>181.019959</td>\n",
       "      <td>180.505813</td>\n",
       "      <td>179.991667</td>\n",
       "      <td>179.849456</td>\n",
       "      <td>179.335310</td>\n",
       "      <td>179.335310</td>\n",
       "      <td>179.335310</td>\n",
       "      <td>179.466078</td>\n",
       "    </tr>\n",
       "    <tr>\n",
       "      <th>Salt caverns (methane)</th>\n",
       "      <th>cluster_0</th>\n",
       "      <td>0.000000</td>\n",
       "      <td>0.000000</td>\n",
       "      <td>0.000000</td>\n",
       "      <td>0.000000</td>\n",
       "      <td>0.000000</td>\n",
       "      <td>0.000000</td>\n",
       "      <td>0.000000</td>\n",
       "      <td>0.000000</td>\n",
       "      <td>0.000000</td>\n",
       "      <td>0.000000</td>\n",
       "      <td>...</td>\n",
       "      <td>0.000000</td>\n",
       "      <td>0.000000</td>\n",
       "      <td>0.000000</td>\n",
       "      <td>0.000000</td>\n",
       "      <td>0.000000</td>\n",
       "      <td>0.000000</td>\n",
       "      <td>0.000000</td>\n",
       "      <td>0.000000</td>\n",
       "      <td>0.000000</td>\n",
       "      <td>0.000000</td>\n",
       "    </tr>\n",
       "  </tbody>\n",
       "</table>\n",
       "<p>5 rows × 8761 columns</p>\n",
       "</div>"
      ],
      "text/plain": [
       "                                         0           1           2     \\\n",
       "Li-ion batteries        cluster_0    0.000000    0.000000    0.000000   \n",
       "                        cluster_7    0.000000    0.000000    0.000000   \n",
       "Pumped hydro storage    cluster_7    0.000000    0.047048    1.540231   \n",
       "Salt caverns (hydrogen) cluster_0  179.466078  179.980224  180.494370   \n",
       "Salt caverns (methane)  cluster_0    0.000000    0.000000    0.000000   \n",
       "\n",
       "                                         3           4           5     \\\n",
       "Li-ion batteries        cluster_0    0.000000    0.000000    0.000000   \n",
       "                        cluster_7    0.000000    0.000000    0.000000   \n",
       "Pumped hydro storage    cluster_7    2.127274    3.038449    4.246411   \n",
       "Salt caverns (hydrogen) cluster_0  181.008516  181.522662  182.036808   \n",
       "Salt caverns (methane)  cluster_0    0.000000    0.000000    0.000000   \n",
       "\n",
       "                                         6           7           8     \\\n",
       "Li-ion batteries        cluster_0    0.035733    0.035731    0.035730   \n",
       "                        cluster_7    0.000000    0.000000    0.000000   \n",
       "Pumped hydro storage    cluster_7    4.293436    4.919052    5.145306   \n",
       "Salt caverns (hydrogen) cluster_0  182.550953  183.065099  183.579245   \n",
       "Salt caverns (methane)  cluster_0    0.000000    0.000000    0.000000   \n",
       "\n",
       "                                         9        ...            8751  \\\n",
       "Li-ion batteries        cluster_0    0.035728     ...        0.000000   \n",
       "                        cluster_7    0.000000     ...        0.000000   \n",
       "Pumped hydro storage    cluster_7    6.638463     ...        3.018555   \n",
       "Salt caverns (hydrogen) cluster_0  184.093391     ...      181.684553   \n",
       "Salt caverns (methane)  cluster_0    0.000000     ...        0.000000   \n",
       "\n",
       "                                         8752        8753        8754  \\\n",
       "Li-ion batteries        cluster_0    0.000000    0.000000    0.000000   \n",
       "                        cluster_7    0.000000    0.000000    0.000000   \n",
       "Pumped hydro storage    cluster_7    1.572403    0.126259    0.126258   \n",
       "Salt caverns (hydrogen) cluster_0  181.255772  181.019959  180.505813   \n",
       "Salt caverns (methane)  cluster_0    0.000000    0.000000    0.000000   \n",
       "\n",
       "                                         8755        8756        8757  \\\n",
       "Li-ion batteries        cluster_0    0.000000    0.000000    0.000000   \n",
       "                        cluster_7    0.000000    0.000000    0.000000   \n",
       "Pumped hydro storage    cluster_7    0.126257    0.126257    0.126256   \n",
       "Salt caverns (hydrogen) cluster_0  179.991667  179.849456  179.335310   \n",
       "Salt caverns (methane)  cluster_0    0.000000    0.000000    0.000000   \n",
       "\n",
       "                                         8758        8759        8760  \n",
       "Li-ion batteries        cluster_0    0.000000    0.000000    0.000000  \n",
       "                        cluster_7    0.000000    0.000000    0.000000  \n",
       "Pumped hydro storage    cluster_7    0.126256    0.126255    0.000000  \n",
       "Salt caverns (hydrogen) cluster_0  179.335310  179.335310  179.466078  \n",
       "Salt caverns (methane)  cluster_0    0.000000    0.000000    0.000000  \n",
       "\n",
       "[5 rows x 8761 columns]"
      ]
     },
     "execution_count": 43,
     "metadata": {},
     "output_type": "execute_result"
    }
   ],
   "source": [
    "esM._componentModelingDict[\"StorageModeling\"]._stateOfChargeOperationVariablesOptimum "
   ]
  },
  {
   "cell_type": "code",
   "execution_count": 44,
   "metadata": {},
   "outputs": [
    {
     "data": {
      "image/png": "[encoded data removed]",
      "text/plain": [
       "<matplotlib.figure.Figure at 0x147aa142550>"
      ]
     },
     "metadata": {},
     "output_type": "display_data"
    }
   ],
   "source": [
    "xlim_min=0\n",
    "xlim_max=8760\n",
    "des=esM._componentModelingDict[\"StorageModeling\"]._capacityVariablesOptimum\n",
    "soc=esM._componentModelingDict[\"StorageModeling\"]._stateOfChargeOperationVariablesOptimum \n",
    "fig, (ax1, ax2) = plt.subplots(2,1)\n",
    "ax1.plot(soc.iloc[0,xlim_min:xlim_max])\n",
    "ax1.plot([xlim_min,xlim_max],[des.iloc[0,0],des.iloc[0,0]])\n",
    "ax2.plot(soc.iloc[1,xlim_min:xlim_max])\n",
    "ax2.plot([xlim_min,xlim_max],[des.iloc[0,1],des.iloc[0,1]])\n",
    "\n",
    "plt.show()"
   ]
  },
  {
   "cell_type": "code",
   "execution_count": 45,
   "metadata": {
    "scrolled": true
   },
   "outputs": [
    {
     "data": {
      "image/png": "[encoded data removed]",
      "text/plain": [
       "<matplotlib.figure.Figure at 0x147aa21ca90>"
      ]
     },
     "metadata": {},
     "output_type": "display_data"
    }
   ],
   "source": [
    "xlim_min=0\n",
    "xlim_max=8760\n",
    "des=esM._componentModelingDict[\"StorageModeling\"]._capacityVariablesOptimum\n",
    "soc=esM._componentModelingDict[\"StorageModeling\"]._stateOfChargeOperationVariablesOptimum \n",
    "fig, ax1 = plt.subplots(1,1)\n",
    "ax1.plot(soc.iloc[2,xlim_min:xlim_max])\n",
    "ax1.plot([xlim_min,xlim_max],[des.iloc[1,0],des.iloc[1,0]])\n",
    "\n",
    "plt.show()"
   ]
  },
  {
   "cell_type": "code",
   "execution_count": 46,
   "metadata": {},
   "outputs": [
    {
     "data": {
      "text/plain": [
       "Li-ion batteries         cluster_0      0.123106\n",
       "                         cluster_7      0.116413\n",
       "Pumped hydro storage     cluster_7     10.605000\n",
       "Salt caverns (hydrogen)  cluster_0    241.838790\n",
       "Salt caverns (methane)   cluster_0      0.000000\n",
       "dtype: float64"
      ]
     },
     "execution_count": 46,
     "metadata": {},
     "output_type": "execute_result"
    }
   ],
   "source": [
    "esM._componentModelingDict[\"StorageModeling\"]._capacityVariablesOptimum.stack()"
   ]
  },
  {
   "cell_type": "code",
   "execution_count": 47,
   "metadata": {},
   "outputs": [
    {
     "data": {
      "text/html": [
       "<div>\n",
       "<style>\n",
       "    .dataframe thead tr:only-child th {\n",
       "        text-align: right;\n",
       "    }\n",
       "\n",
       "    .dataframe thead th {\n",
       "        text-align: left;\n",
       "    }\n",
       "\n",
       "    .dataframe tbody tr th {\n",
       "        vertical-align: top;\n",
       "    }\n",
       "</style>\n",
       "<table border=\"1\" class=\"dataframe\">\n",
       "  <thead>\n",
       "    <tr style=\"text-align: right;\">\n",
       "      <th></th>\n",
       "      <th></th>\n",
       "      <th>0</th>\n",
       "      <th>1</th>\n",
       "      <th>2</th>\n",
       "      <th>3</th>\n",
       "      <th>4</th>\n",
       "      <th>5</th>\n",
       "      <th>6</th>\n",
       "      <th>7</th>\n",
       "      <th>8</th>\n",
       "      <th>9</th>\n",
       "      <th>...</th>\n",
       "      <th>8751</th>\n",
       "      <th>8752</th>\n",
       "      <th>8753</th>\n",
       "      <th>8754</th>\n",
       "      <th>8755</th>\n",
       "      <th>8756</th>\n",
       "      <th>8757</th>\n",
       "      <th>8758</th>\n",
       "      <th>8759</th>\n",
       "      <th>8760</th>\n",
       "    </tr>\n",
       "  </thead>\n",
       "  <tbody>\n",
       "    <tr>\n",
       "      <th rowspan=\"2\" valign=\"top\">Li-ion batteries</th>\n",
       "      <th>cluster_0</th>\n",
       "      <td>0.000000</td>\n",
       "      <td>0.000000</td>\n",
       "      <td>0.000000</td>\n",
       "      <td>0.000000</td>\n",
       "      <td>0.000000</td>\n",
       "      <td>0.000000</td>\n",
       "      <td>0.035733</td>\n",
       "      <td>0.035731</td>\n",
       "      <td>0.035730</td>\n",
       "      <td>0.035728</td>\n",
       "      <td>...</td>\n",
       "      <td>0.000000</td>\n",
       "      <td>0.000000</td>\n",
       "      <td>0.000000</td>\n",
       "      <td>0.000000</td>\n",
       "      <td>0.000000</td>\n",
       "      <td>0.000000</td>\n",
       "      <td>0.000000</td>\n",
       "      <td>0.000000</td>\n",
       "      <td>0.000000</td>\n",
       "      <td>0.000000</td>\n",
       "    </tr>\n",
       "    <tr>\n",
       "      <th>cluster_7</th>\n",
       "      <td>0.000000</td>\n",
       "      <td>0.000000</td>\n",
       "      <td>0.000000</td>\n",
       "      <td>0.000000</td>\n",
       "      <td>0.000000</td>\n",
       "      <td>0.000000</td>\n",
       "      <td>0.000000</td>\n",
       "      <td>0.000000</td>\n",
       "      <td>0.000000</td>\n",
       "      <td>0.000000</td>\n",
       "      <td>...</td>\n",
       "      <td>0.000000</td>\n",
       "      <td>0.000000</td>\n",
       "      <td>0.000000</td>\n",
       "      <td>0.000000</td>\n",
       "      <td>0.000000</td>\n",
       "      <td>0.000000</td>\n",
       "      <td>0.000000</td>\n",
       "      <td>0.000000</td>\n",
       "      <td>0.000000</td>\n",
       "      <td>0.000000</td>\n",
       "    </tr>\n",
       "    <tr>\n",
       "      <th>Pumped hydro storage</th>\n",
       "      <th>cluster_7</th>\n",
       "      <td>0.000000</td>\n",
       "      <td>0.047048</td>\n",
       "      <td>1.540231</td>\n",
       "      <td>2.127274</td>\n",
       "      <td>3.038449</td>\n",
       "      <td>4.246411</td>\n",
       "      <td>4.293436</td>\n",
       "      <td>4.919052</td>\n",
       "      <td>5.145306</td>\n",
       "      <td>6.638463</td>\n",
       "      <td>...</td>\n",
       "      <td>3.018555</td>\n",
       "      <td>1.572403</td>\n",
       "      <td>0.126259</td>\n",
       "      <td>0.126258</td>\n",
       "      <td>0.126257</td>\n",
       "      <td>0.126257</td>\n",
       "      <td>0.126256</td>\n",
       "      <td>0.126256</td>\n",
       "      <td>0.126255</td>\n",
       "      <td>0.000000</td>\n",
       "    </tr>\n",
       "    <tr>\n",
       "      <th>Salt caverns (hydrogen)</th>\n",
       "      <th>cluster_0</th>\n",
       "      <td>179.466078</td>\n",
       "      <td>179.980224</td>\n",
       "      <td>180.494370</td>\n",
       "      <td>181.008516</td>\n",
       "      <td>181.522662</td>\n",
       "      <td>182.036808</td>\n",
       "      <td>182.550953</td>\n",
       "      <td>183.065099</td>\n",
       "      <td>183.579245</td>\n",
       "      <td>184.093391</td>\n",
       "      <td>...</td>\n",
       "      <td>181.684553</td>\n",
       "      <td>181.255772</td>\n",
       "      <td>181.019959</td>\n",
       "      <td>180.505813</td>\n",
       "      <td>179.991667</td>\n",
       "      <td>179.849456</td>\n",
       "      <td>179.335310</td>\n",
       "      <td>179.335310</td>\n",
       "      <td>179.335310</td>\n",
       "      <td>179.466078</td>\n",
       "    </tr>\n",
       "    <tr>\n",
       "      <th>Salt caverns (methane)</th>\n",
       "      <th>cluster_0</th>\n",
       "      <td>0.000000</td>\n",
       "      <td>0.000000</td>\n",
       "      <td>0.000000</td>\n",
       "      <td>0.000000</td>\n",
       "      <td>0.000000</td>\n",
       "      <td>0.000000</td>\n",
       "      <td>0.000000</td>\n",
       "      <td>0.000000</td>\n",
       "      <td>0.000000</td>\n",
       "      <td>0.000000</td>\n",
       "      <td>...</td>\n",
       "      <td>0.000000</td>\n",
       "      <td>0.000000</td>\n",
       "      <td>0.000000</td>\n",
       "      <td>0.000000</td>\n",
       "      <td>0.000000</td>\n",
       "      <td>0.000000</td>\n",
       "      <td>0.000000</td>\n",
       "      <td>0.000000</td>\n",
       "      <td>0.000000</td>\n",
       "      <td>0.000000</td>\n",
       "    </tr>\n",
       "  </tbody>\n",
       "</table>\n",
       "<p>5 rows × 8761 columns</p>\n",
       "</div>"
      ],
      "text/plain": [
       "                                         0           1           2     \\\n",
       "Li-ion batteries        cluster_0    0.000000    0.000000    0.000000   \n",
       "                        cluster_7    0.000000    0.000000    0.000000   \n",
       "Pumped hydro storage    cluster_7    0.000000    0.047048    1.540231   \n",
       "Salt caverns (hydrogen) cluster_0  179.466078  179.980224  180.494370   \n",
       "Salt caverns (methane)  cluster_0    0.000000    0.000000    0.000000   \n",
       "\n",
       "                                         3           4           5     \\\n",
       "Li-ion batteries        cluster_0    0.000000    0.000000    0.000000   \n",
       "                        cluster_7    0.000000    0.000000    0.000000   \n",
       "Pumped hydro storage    cluster_7    2.127274    3.038449    4.246411   \n",
       "Salt caverns (hydrogen) cluster_0  181.008516  181.522662  182.036808   \n",
       "Salt caverns (methane)  cluster_0    0.000000    0.000000    0.000000   \n",
       "\n",
       "                                         6           7           8     \\\n",
       "Li-ion batteries        cluster_0    0.035733    0.035731    0.035730   \n",
       "                        cluster_7    0.000000    0.000000    0.000000   \n",
       "Pumped hydro storage    cluster_7    4.293436    4.919052    5.145306   \n",
       "Salt caverns (hydrogen) cluster_0  182.550953  183.065099  183.579245   \n",
       "Salt caverns (methane)  cluster_0    0.000000    0.000000    0.000000   \n",
       "\n",
       "                                         9        ...            8751  \\\n",
       "Li-ion batteries        cluster_0    0.035728     ...        0.000000   \n",
       "                        cluster_7    0.000000     ...        0.000000   \n",
       "Pumped hydro storage    cluster_7    6.638463     ...        3.018555   \n",
       "Salt caverns (hydrogen) cluster_0  184.093391     ...      181.684553   \n",
       "Salt caverns (methane)  cluster_0    0.000000     ...        0.000000   \n",
       "\n",
       "                                         8752        8753        8754  \\\n",
       "Li-ion batteries        cluster_0    0.000000    0.000000    0.000000   \n",
       "                        cluster_7    0.000000    0.000000    0.000000   \n",
       "Pumped hydro storage    cluster_7    1.572403    0.126259    0.126258   \n",
       "Salt caverns (hydrogen) cluster_0  181.255772  181.019959  180.505813   \n",
       "Salt caverns (methane)  cluster_0    0.000000    0.000000    0.000000   \n",
       "\n",
       "                                         8755        8756        8757  \\\n",
       "Li-ion batteries        cluster_0    0.000000    0.000000    0.000000   \n",
       "                        cluster_7    0.000000    0.000000    0.000000   \n",
       "Pumped hydro storage    cluster_7    0.126257    0.126257    0.126256   \n",
       "Salt caverns (hydrogen) cluster_0  179.991667  179.849456  179.335310   \n",
       "Salt caverns (methane)  cluster_0    0.000000    0.000000    0.000000   \n",
       "\n",
       "                                         8758        8759        8760  \n",
       "Li-ion batteries        cluster_0    0.000000    0.000000    0.000000  \n",
       "                        cluster_7    0.000000    0.000000    0.000000  \n",
       "Pumped hydro storage    cluster_7    0.126256    0.126255    0.000000  \n",
       "Salt caverns (hydrogen) cluster_0  179.335310  179.335310  179.466078  \n",
       "Salt caverns (methane)  cluster_0    0.000000    0.000000    0.000000  \n",
       "\n",
       "[5 rows x 8761 columns]"
      ]
     },
     "execution_count": 47,
     "metadata": {},
     "output_type": "execute_result"
    }
   ],
   "source": [
    "esM._componentModelingDict[\"StorageModeling\"]._stateOfChargeOperationVariablesOptimum "
   ]
  },
  {
   "cell_type": "code",
   "execution_count": 48,
   "metadata": {},
   "outputs": [
    {
     "data": {
      "text/plain": [
       "Li-ion batteries         cluster_0    143.784029\n",
       "                         cluster_7    149.820394\n",
       "Pumped hydro storage     cluster_7    150.038304\n",
       "Salt caverns (hydrogen)  cluster_0      7.049008\n",
       "Salt caverns (methane)   cluster_0           NaN\n",
       "dtype: float64"
      ]
     },
     "execution_count": 48,
     "metadata": {},
     "output_type": "execute_result"
    }
   ],
   "source": [
    "(esM._componentModelingDict[\"StorageModeling\"]._chargeOperationVariablesOptimum.sum(axis=1)/\n",
    " esM._componentModelingDict[\"StorageModeling\"]._capacityVariablesOptimum.stack())"
   ]
  },
  {
   "cell_type": "code",
   "execution_count": 49,
   "metadata": {},
   "outputs": [
    {
     "data": {
      "text/plain": [
       "cluster_7    454.545455\n",
       "cluster_0    454.545455\n",
       "dtype: float64"
      ]
     },
     "execution_count": 49,
     "metadata": {},
     "output_type": "execute_result"
    }
   ],
   "source": [
    "esM.getCompAttr('Li-ion batteries','_cyclicLifetime')/esM.getCompAttr('Li-ion batteries','_economicLifetime')"
   ]
  },
  {
   "cell_type": "code",
   "execution_count": null,
   "metadata": {
    "collapsed": true
   },
   "outputs": [],
   "source": []
  },
  {
   "cell_type": "code",
   "execution_count": null,
   "metadata": {
    "collapsed": true
   },
   "outputs": [],
   "source": []
  }
 ],
 "metadata": {
  "anaconda-cloud": {},
  "kernelspec": {
   "display_name": "Python 3",
   "language": "python",
   "name": "python3"
  },
  "language_info": {
   "codemirror_mode": {
    "name": "ipython",
    "version": 3
   },
   "file_extension": ".py",
   "mimetype": "text/x-python",
   "name": "python",
   "nbconvert_exporter": "python",
   "pygments_lexer": "ipython3",
   "version": "3.6.3"
  }
 },
 "nbformat": 4,
 "nbformat_minor": 2
}
