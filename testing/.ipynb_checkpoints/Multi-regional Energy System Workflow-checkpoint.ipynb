{
 "cells": [
  {
   "cell_type": "markdown",
   "metadata": {},
   "source": [
    "# Workflow for a multi-regional energy system\n",
    "\n",
    "In this application of the FINE framework, a multi-regional energy system is modeled and optimized.\n",
    "\n",
    "All classes which are available to the user are utilized and examples of the selection of different parameters within these classes are given.\n",
    "\n",
    "The workflow is structures as follows:\n",
    "1. Required packages are imported and the input data path is set\n",
    "2. An energy system model instance is created\n",
    "3. Commodity sources are added to the energy system model\n",
    "4. Commodity conversion components are added to the energy system model\n",
    "5. Commodity storages are added to the energy system model\n",
    "6. Commodity transmission components are added to the energy system model\n",
    "7. Commodity sinks are added to the energy system model\n",
    "8. The energy system model is optimized\n",
    "\n"
   ]
  },
  {
   "cell_type": "markdown",
   "metadata": {},
   "source": [
    "# 1. Import required packages and set input data path\n",
    "\n",
    "The FINE framework is imported which provides the required classes and functions for modeling the energy system. The pandas packages is used for import location and time series specific data. The os package is used for setting the input data path. Matplotlib is used for plotting."
   ]
  },
  {
   "cell_type": "code",
   "execution_count": 1,
   "metadata": {
    "collapsed": true
   },
   "outputs": [],
   "source": [
    "import FINE as fn\n",
    "import pandas as pd\n",
    "import os\n",
    "import matplotlib.pyplot as plt\n",
    "\n",
    "%load_ext autoreload\n",
    "%autoreload 2"
   ]
  },
  {
   "cell_type": "code",
   "execution_count": 2,
   "metadata": {
    "collapsed": true
   },
   "outputs": [],
   "source": [
    "cwd = os.getcwd()\n",
    "inputDataPath = os.path.join(cwd,\"InputData\")"
   ]
  },
  {
   "cell_type": "markdown",
   "metadata": {},
   "source": [
    "# 2. Create an energy system model instance \n",
    "\n",
    "The structure of the energy system model is given by the considered locations, commodities, the number of time steps as well as the hours per time step.\n",
    "\n",
    "The commodities are specified by a unit (i.e. 'GW_electric', 'GW_H2lowerHeatingValue', 'Mio. t CO2/h') which can be given as an energy or mass unit per hour. Furthermore, the cost unit and length unit are specified."
   ]
  },
  {
   "cell_type": "code",
   "execution_count": 3,
   "metadata": {
    "collapsed": true
   },
   "outputs": [],
   "source": [
    "locations = {'cluster_0','cluster_7'}\n",
    "commodities = {'electricity','hydrogen','methane','biogas','CO2'}\n",
    "numberOfTimeSteps=8760\n",
    "hoursPerTimeStep=1"
   ]
  },
  {
   "cell_type": "code",
   "execution_count": 4,
   "metadata": {
    "collapsed": true
   },
   "outputs": [],
   "source": [
    "esM = fn.EnergySystemModel(locations=locations, commodities=commodities, numberOftimeSteps=8760,\n",
    "                           hoursPerTimeStep=1, powerUnit='GW', energyUnit='GWh',\n",
    "                           costUnit='1e9 Euro', lengthUnit='km')"
   ]
  },
  {
   "cell_type": "code",
   "execution_count": 5,
   "metadata": {
    "collapsed": true
   },
   "outputs": [],
   "source": [
    "CO2_reductionTarget = 0.6*6/8"
   ]
  },
  {
   "cell_type": "markdown",
   "metadata": {},
   "source": [
    "# 3. Add commodity sources to the energy system model"
   ]
  },
  {
   "cell_type": "markdown",
   "metadata": {},
   "source": [
    "## 3.1. Electricity sources"
   ]
  },
  {
   "cell_type": "markdown",
   "metadata": {},
   "source": [
    "### Wind onshore"
   ]
  },
  {
   "cell_type": "code",
   "execution_count": 6,
   "metadata": {},
   "outputs": [
    {
     "name": "stdout",
     "output_type": "stream",
     "text": [
      "The locationalEligibility of a component was set based on the given fixed/maximum capacity of the component.\n"
     ]
    }
   ],
   "source": [
    "capacityMax=pd.read_excel(os.path.join(inputDataPath,'SpatialData','Wind','maxCapacityOnshore_GW_el.xlsx'),\n",
    "                          index_col=0, squeeze=True)\n",
    "operationRateMax=pd.read_excel(os.path.join(inputDataPath,'SpatialData','Wind','maxOperationRateOnshore_el.xlsx'))\n",
    "\n",
    "esM.add(fn.Source(esM=esM, name='Wind (onshore)', commodity='electricity', hasDesignDimensionVariables=True,\n",
    "                  operationRateMax=operationRateMax, capacityMax=capacityMax,\n",
    "                  capexPerDesignDimension=1.1, opexPerDesignDimension=1.1*0.02, interestRate=0.08,\n",
    "                  economicLifetime=20))"
   ]
  },
  {
   "cell_type": "markdown",
   "metadata": {},
   "source": [
    "### Wind offshore"
   ]
  },
  {
   "cell_type": "code",
   "execution_count": 7,
   "metadata": {},
   "outputs": [
    {
     "name": "stdout",
     "output_type": "stream",
     "text": [
      "The locationalEligibility of a component was set based on the given fixed/maximum capacity of the component.\n"
     ]
    }
   ],
   "source": [
    "capacityMax=pd.read_excel(os.path.join(inputDataPath,'SpatialData','Wind','maxCapacityOffshore_GW_el.xlsx'),\n",
    "                          index_col=0, squeeze=True)\n",
    "operationRateMax=pd.read_excel(os.path.join(inputDataPath,'SpatialData','Wind','maxOperationRateOffshore_el.xlsx'))\n",
    "\n",
    "esM.add(fn.Source(esM=esM, name='Wind (offshore)', commodity='electricity', hasDesignDimensionVariables=True,\n",
    "                  operationRateMax=operationRateMax, capacityMax=capacityMax,\n",
    "                  capexPerDesignDimension=2.3, opexPerDesignDimension=2.3*0.02, interestRate=0.08,\n",
    "                  economicLifetime=20))"
   ]
  },
  {
   "cell_type": "markdown",
   "metadata": {},
   "source": [
    "### PV"
   ]
  },
  {
   "cell_type": "code",
   "execution_count": 8,
   "metadata": {},
   "outputs": [
    {
     "name": "stdout",
     "output_type": "stream",
     "text": [
      "The locationalEligibility of a component was set based on the given fixed/maximum capacity of the component.\n"
     ]
    }
   ],
   "source": [
    "capacityMax=pd.read_excel(os.path.join(inputDataPath,'SpatialData','PV','maxCapacityPV_GW_el.xlsx'),\n",
    "                          index_col=0, squeeze=True)\n",
    "operationRateMax=pd.read_excel(os.path.join(inputDataPath,'SpatialData','PV','maxOperationRatePV_el.xlsx'))\n",
    "\n",
    "esM.add(fn.Source(esM=esM, name='PV', commodity='electricity', hasDesignDimensionVariables=True,\n",
    "                  operationRateMax=operationRateMax, capacityMax=capacityMax,\n",
    "                  capexPerDesignDimension=0.65, opexPerDesignDimension=0.65*0.02, interestRate=0.08,\n",
    "                  economicLifetime=25))"
   ]
  },
  {
   "cell_type": "markdown",
   "metadata": {},
   "source": [
    "### Exisisting run-of-river hydroelectricity plants"
   ]
  },
  {
   "cell_type": "code",
   "execution_count": 9,
   "metadata": {},
   "outputs": [
    {
     "name": "stdout",
     "output_type": "stream",
     "text": [
      "The locationalEligibility of a component was set based on the given fixed/maximum capacity of the component.\n"
     ]
    }
   ],
   "source": [
    "capacityFix=pd.read_excel(os.path.join(inputDataPath,'SpatialData','HydroPower','fixCapacityROR_GW_el.xlsx'),\n",
    "                          index_col=0, squeeze=True)\n",
    "operationRateFix=pd.read_excel(os.path.join(inputDataPath,'SpatialData','HydroPower',\n",
    "                                            'fixOperationRateROR_GW_el.xlsx'))\n",
    "\n",
    "esM.add(fn.Source(esM=esM, name='Existing run-of-river plants', commodity='electricity',\n",
    "                  hasDesignDimensionVariables=True,\n",
    "                  operationRateFix=operationRateFix, capacityFix=capacityFix,\n",
    "                  capexPerDesignDimension=0, opexPerDesignDimension=0.208))"
   ]
  },
  {
   "cell_type": "markdown",
   "metadata": {},
   "source": [
    "## 3.2. Methane (natural gas and biogas)"
   ]
  },
  {
   "cell_type": "markdown",
   "metadata": {},
   "source": [
    "### Natural gas"
   ]
  },
  {
   "cell_type": "code",
   "execution_count": 10,
   "metadata": {},
   "outputs": [
    {
     "name": "stdout",
     "output_type": "stream",
     "text": [
      "The locationalEligibility of a component is set to 1 (eligible) for all locations.\n"
     ]
    }
   ],
   "source": [
    "esM.add(fn.Source(esM=esM, name='Natural gas purchase', commodity='methane',\n",
    "                  hasDesignDimensionVariables=False, commodityCost=0.0331*1e-3))"
   ]
  },
  {
   "cell_type": "markdown",
   "metadata": {},
   "source": [
    "### Biogas"
   ]
  },
  {
   "cell_type": "code",
   "execution_count": 11,
   "metadata": {},
   "outputs": [
    {
     "name": "stdout",
     "output_type": "stream",
     "text": [
      "The locationalEligibility of a component was set based on the given operation time series of the component.\n"
     ]
    }
   ],
   "source": [
    "operationRateMax=pd.read_excel(os.path.join(inputDataPath,'SpatialData','Biogas',\n",
    "                                            'biogasPotential_GWh_biogas.xlsx'))\n",
    "\n",
    "esM.add(fn.Source(esM=esM, name='Biogas purchase', commodity='biogas', operationRateMax=operationRateMax,\n",
    "                  hasDesignDimensionVariables=False, commodityCost=0.05409*1e-3))"
   ]
  },
  {
   "cell_type": "markdown",
   "metadata": {},
   "source": [
    "## 3.3 CO2"
   ]
  },
  {
   "cell_type": "markdown",
   "metadata": {},
   "source": [
    "### CO2\n",
    "\n",
    "The CO2 source is required for the case in which it can be mixed with conventional natural gas."
   ]
  },
  {
   "cell_type": "code",
   "execution_count": 12,
   "metadata": {},
   "outputs": [
    {
     "name": "stdout",
     "output_type": "stream",
     "text": [
      "The locationalEligibility of a component is set to 1 (eligible) for all locations.\n"
     ]
    }
   ],
   "source": [
    "esM.add(fn.Source(esM=esM, name='CO2 from enviroment', commodity='CO2',\n",
    "                  hasDesignDimensionVariables=False, commodityLimitID='CO2 limit', yearlyLimit=366*(1-CO2_reductionTarget)))"
   ]
  },
  {
   "cell_type": "markdown",
   "metadata": {},
   "source": [
    "# 4. Add conversion components to the energy system model"
   ]
  },
  {
   "cell_type": "markdown",
   "metadata": {},
   "source": [
    "### Biogas to methane"
   ]
  },
  {
   "cell_type": "code",
   "execution_count": 13,
   "metadata": {},
   "outputs": [
    {
     "name": "stdout",
     "output_type": "stream",
     "text": [
      "The locationalEligibility of a component is set to 1 (eligible) for all locations.\n"
     ]
    }
   ],
   "source": [
    "esM.add(fn.Conversion(esM=esM, name='Biogas to methane',\n",
    "                      commodityConversionFactors={'biogas':-1, 'methane':1, 'CO2':-201*1e-6*0.625},\n",
    "                      hasDesignDimensionVariables=False))"
   ]
  },
  {
   "cell_type": "markdown",
   "metadata": {},
   "source": [
    "### Existing combined cycle gas turbine plants"
   ]
  },
  {
   "cell_type": "code",
   "execution_count": 14,
   "metadata": {},
   "outputs": [
    {
     "name": "stdout",
     "output_type": "stream",
     "text": [
      "The locationalEligibility of a component was set based on the given fixed/maximum capacity of the component.\n"
     ]
    }
   ],
   "source": [
    "capacityMax=pd.read_excel(os.path.join(inputDataPath,'SpatialData','NaturalGasPlants',\n",
    "                                       'existingCombinedCycleGasTurbinePlantsCapacity_GW_el.xlsx'),\n",
    "                          index_col=0, squeeze=True)\n",
    "\n",
    "esM.add(fn.Conversion(esM=esM, name='Existing CCGT plants (methane)',\n",
    "                      commodityConversionFactors={'electricity':1, 'methane':-1/0.625, 'CO2':201*1e-6/0.625},\n",
    "                      hasDesignDimensionVariables=True, capacityMax=capacityMax,\n",
    "                      capexPerDesignDimension=0, opexPerDesignDimension=0.021, interestRate=0.08,\n",
    "                      economicLifetime=33))"
   ]
  },
  {
   "cell_type": "markdown",
   "metadata": {},
   "source": [
    "### New combined cycle gas turbine plants for biogas"
   ]
  },
  {
   "cell_type": "code",
   "execution_count": 15,
   "metadata": {},
   "outputs": [
    {
     "name": "stdout",
     "output_type": "stream",
     "text": [
      "The locationalEligibility of a component is set to 1 (eligible) for all locations.\n"
     ]
    }
   ],
   "source": [
    "esM.add(fn.Conversion(esM=esM, name='New CCGT plants (biogas)',\n",
    "                      commodityConversionFactors={'electricity':1, 'biogas':-1/0.635},\n",
    "                      hasDesignDimensionVariables=True, \n",
    "                      capexPerDesignDimension=0.7, opexPerDesignDimension=0.021, interestRate=0.08,\n",
    "                      economicLifetime=33))"
   ]
  },
  {
   "cell_type": "markdown",
   "metadata": {},
   "source": [
    "### New combined cycly gas turbines for hydrogen"
   ]
  },
  {
   "cell_type": "code",
   "execution_count": 16,
   "metadata": {},
   "outputs": [
    {
     "name": "stdout",
     "output_type": "stream",
     "text": [
      "The locationalEligibility of a component is set to 1 (eligible) for all locations.\n"
     ]
    }
   ],
   "source": [
    "esM.add(fn.Conversion(esM=esM, name='New CCGT plants (hydrogen)',\n",
    "                      commodityConversionFactors={'electricity':1, 'hydrogen':-1/0.6},\n",
    "                      hasDesignDimensionVariables=True, \n",
    "                      capexPerDesignDimension=0.927, opexPerDesignDimension=0.021, interestRate=0.08,\n",
    "                      economicLifetime=33))"
   ]
  },
  {
   "cell_type": "markdown",
   "metadata": {},
   "source": [
    "### Electrolyzers"
   ]
  },
  {
   "cell_type": "code",
   "execution_count": 17,
   "metadata": {},
   "outputs": [
    {
     "name": "stdout",
     "output_type": "stream",
     "text": [
      "The locationalEligibility of a component is set to 1 (eligible) for all locations.\n"
     ]
    }
   ],
   "source": [
    "esM.add(fn.Conversion(esM=esM, name='Electrolyzers',\n",
    "                      commodityConversionFactors={'electricity':-1, 'hydrogen':0.7},\n",
    "                      hasDesignDimensionVariables=True, \n",
    "                      capexPerDesignDimension=0.5, opexPerDesignDimension=0.5*0.025, interestRate=0.08,\n",
    "                      economicLifetime=10))"
   ]
  },
  {
   "cell_type": "markdown",
   "metadata": {},
   "source": [
    "# 5. Add commodity storages to the energy system model"
   ]
  },
  {
   "cell_type": "markdown",
   "metadata": {},
   "source": [
    "## 5.1. Electricity storage"
   ]
  },
  {
   "cell_type": "markdown",
   "metadata": {},
   "source": [
    "### Lithium ion batteries\n",
    "\n",
    "The self discharge of a lithium ion battery is here described as 3% per month. The self discharge per hours is obtained using the equation (1-$\\text{selfDischarge}_\\text{hour})^{30*24\\text{h}} = 1-\\text{selfDischarge}_\\text{month}$."
   ]
  },
  {
   "cell_type": "code",
   "execution_count": 18,
   "metadata": {},
   "outputs": [
    {
     "name": "stdout",
     "output_type": "stream",
     "text": [
      "The locationalEligibility of a component is set to 1 (eligible) for all locations.\n"
     ]
    }
   ],
   "source": [
    "esM.add(fn.Storage(esM=esM, name='Li-ion batteries', commodity='electricity',\n",
    "                   hasDesignDimensionVariables=True, chargeEfficiency=0.95,\n",
    "                   cyclicLifetime=10000, dischargeEfficiency=0.95, selfDischarge=1-(1-0.03)**(1/(30*24)),\n",
    "                   chargeRate=1, dischargeRate=1,\n",
    "                   capexPerDesignDimension=0.151, opexPerDesignDimension=0.002, interestRate=0.08,\n",
    "                   economicLifetime=22))"
   ]
  },
  {
   "cell_type": "markdown",
   "metadata": {},
   "source": [
    "## 5.2. Hydrogen storage"
   ]
  },
  {
   "cell_type": "markdown",
   "metadata": {},
   "source": [
    "### Hydrogen filled salt caverns\n",
    "The maximum capacity is here obtained by: dividing the given capacity (which is given for methane) by the lower heating value of methane and then multiplying it with the lower heating value of hydrogen."
   ]
  },
  {
   "cell_type": "code",
   "execution_count": 19,
   "metadata": {},
   "outputs": [
    {
     "name": "stdout",
     "output_type": "stream",
     "text": [
      "The locationalEligibility of a component was set based on the given fixed/maximum capacity of the component.\n"
     ]
    }
   ],
   "source": [
    "capacityMax=pd.read_excel(os.path.join(inputDataPath,'SpatialData','GeologicalStorage',\n",
    "                                       'existingSaltCavernsCapacity_GWh_methane.xlsx'),\n",
    "                          index_col=0, squeeze=True)*3/10\n",
    "\n",
    "esM.add(fn.Storage(esM=esM, name='Salt caverns (hydrogen)', commodity='hydrogen',\n",
    "                   hasDesignDimensionVariables=True, designDimensionVariableDomain='continuous',\n",
    "                   capacityPerUnit=133,\n",
    "                   chargeRate=1/470.37, dischargeRate=1/470.37, sharedPotentialID='Existing salt caverns',\n",
    "                   stateOfChargeMin=0.33, stateOfChargeMax=1, capacityMax=capacityMax,\n",
    "                   capexPerDesignDimension=0.00011, opexPerDesignDimension=0.00057, interestRate=0.08,\n",
    "                   economicLifetime=30))"
   ]
  },
  {
   "cell_type": "markdown",
   "metadata": {},
   "source": [
    "## 5.3. Methane storage"
   ]
  },
  {
   "cell_type": "markdown",
   "metadata": {},
   "source": [
    "### Methane filled salt caverns"
   ]
  },
  {
   "cell_type": "code",
   "execution_count": 20,
   "metadata": {},
   "outputs": [
    {
     "name": "stdout",
     "output_type": "stream",
     "text": [
      "The locationalEligibility of a component was set based on the given fixed/maximum capacity of the component.\n"
     ]
    }
   ],
   "source": [
    "capacityMax=pd.read_excel(os.path.join(inputDataPath,'SpatialData','GeologicalStorage',\n",
    "                                       'existingSaltCavernsCapacity_GWh_methane.xlsx'),\n",
    "                          index_col=0, squeeze=True)\n",
    "\n",
    "esM.add(fn.Storage(esM=esM, name='Salt caverns (methane)', commodity='methane',\n",
    "                   hasDesignDimensionVariables=True, designDimensionVariableDomain='continuous',\n",
    "                   capacityPerUnit=443,\n",
    "                   chargeRate=1/470.37, dischargeRate=1/470.37, sharedPotentialID='Existing salt caverns',\n",
    "                   stateOfChargeMin=0.33, stateOfChargeMax=1, capacityMax=capacityMax,\n",
    "                   capexPerDesignDimension=0.00004, opexPerDesignDimension=0.00001, interestRate=0.08,\n",
    "                   economicLifetime=30))"
   ]
  },
  {
   "cell_type": "markdown",
   "metadata": {},
   "source": [
    "## 5.4 Pumped hydro storage"
   ]
  },
  {
   "cell_type": "markdown",
   "metadata": {},
   "source": [
    "### Pumped hydro storage"
   ]
  },
  {
   "cell_type": "code",
   "execution_count": 21,
   "metadata": {},
   "outputs": [
    {
     "name": "stdout",
     "output_type": "stream",
     "text": [
      "The locationalEligibility of a component was set based on the given fixed/maximum capacity of the component.\n"
     ]
    }
   ],
   "source": [
    "capacityFix=pd.read_excel(os.path.join(inputDataPath,'SpatialData','HydroPower',\n",
    "                                       'fixCapacityPHS_storage_GWh_energyPHS.xlsx'),\n",
    "                          index_col=0, squeeze=True)\n",
    "\n",
    "esM.add(fn.Storage(esM=esM, name='Pumped hydro storage', commodity='electricity',\n",
    "                   chargeEfficiency=0.88, dischargeEfficiency=0.88,\n",
    "                   hasDesignDimensionVariables=True, selfDischarge=1-(1-0.00375)**(1/(30*24)),\n",
    "                   chargeRate=0.16, dischargeRate=0.12, capacityFix=capacityFix,\n",
    "                   capexPerDesignDimension=0, opexPerDesignDimension=0.000153))"
   ]
  },
  {
   "cell_type": "markdown",
   "metadata": {},
   "source": [
    "# 6. Add commodity transmission components to the energy system model"
   ]
  },
  {
   "cell_type": "markdown",
   "metadata": {},
   "source": [
    "## 6.1. Electricity transmission"
   ]
  },
  {
   "cell_type": "markdown",
   "metadata": {},
   "source": [
    "### AC cables"
   ]
  },
  {
   "cell_type": "code",
   "execution_count": 22,
   "metadata": {},
   "outputs": [
    {
     "name": "stdout",
     "output_type": "stream",
     "text": [
      "The distances of a component are set to a normalized values of 1.\n",
      "The locationalEligibility of a component was set based on the given fixed/maximum capacity of the component.\n"
     ]
    }
   ],
   "source": [
    "capacityFix=pd.read_excel(os.path.join(inputDataPath,'SpatialData','ElectricGrid',\n",
    "                                       'ACcableExistingCapacity_GW_el.xlsx'),\n",
    "                          index_col=0, header=0)\n",
    "\n",
    "esM.add(fn.Transmission(esM=esM, name='AC cables', commodity='electricity',\n",
    "                        hasDesignDimensionVariables=True, capacityFix=capacityFix))"
   ]
  },
  {
   "cell_type": "markdown",
   "metadata": {},
   "source": [
    "### DC cables"
   ]
  },
  {
   "cell_type": "code",
   "execution_count": 23,
   "metadata": {},
   "outputs": [
    {
     "name": "stdout",
     "output_type": "stream",
     "text": [
      "The locationalEligibility of a component was set based on the given fixed/maximum capacity of the component.\n"
     ]
    }
   ],
   "source": [
    "capacityFix=pd.read_excel(os.path.join(inputDataPath,'SpatialData','ElectricGrid',\n",
    "                                       'DCcableExistingCapacity_GW_el.xlsx'),\n",
    "                          index_col=0, header=0)\n",
    "distances=pd.read_excel(os.path.join(inputDataPath,'SpatialData','ElectricGrid',\n",
    "                                       'DCcableLength_km.xlsx'),\n",
    "                          index_col=0, header=0)\n",
    "efficiency=pd.read_excel(os.path.join(inputDataPath,'SpatialData','ElectricGrid',\n",
    "                                       'DCcableEfficiency.xlsx'),\n",
    "                          index_col=0, header=0)\n",
    "\n",
    "esM.add(fn.Transmission(esM=esM, name='DC cables', commodity='electricity', losses=efficiency, distances=distances,\n",
    "                        hasDesignDimensionVariables=True, capacityFix=capacityFix))"
   ]
  },
  {
   "cell_type": "markdown",
   "metadata": {},
   "source": [
    "## 6.2 Methane transmission"
   ]
  },
  {
   "cell_type": "markdown",
   "metadata": {},
   "source": [
    "### Methane pipeline"
   ]
  },
  {
   "cell_type": "code",
   "execution_count": 24,
   "metadata": {
    "collapsed": true
   },
   "outputs": [],
   "source": [
    "eligibility=pd.read_excel(os.path.join(inputDataPath,'SpatialData','Pipelines',\n",
    "                                       'pipelineIncidence.xlsx'), index_col=0, header=0)\n",
    "distances=pd.read_excel(os.path.join(inputDataPath,'SpatialData','Pipelines', 'pipelineIncidence.xlsx'),\n",
    "                          index_col=0, header=0)\n",
    "\n",
    "esM.add(fn.Transmission(esM=esM, name='Pipelines (methane)', commodity='methane', distances=distances,\n",
    "                        hasDesignDimensionVariables=True, #hasDesignDecisionVariables=True, bigM=300,\n",
    "                        locationalEligibility=eligibility,\n",
    "                        capexPerDesignDimension=0.000037, #capexForDesignDecision=0.000314,\n",
    "                        interestRate=0.08, economicLifetime=40))"
   ]
  },
  {
   "cell_type": "markdown",
   "metadata": {},
   "source": [
    "## 6.3 Hydrogen transmission"
   ]
  },
  {
   "cell_type": "markdown",
   "metadata": {},
   "source": [
    "### Hydrogen pipelines"
   ]
  },
  {
   "cell_type": "code",
   "execution_count": 25,
   "metadata": {
    "collapsed": true
   },
   "outputs": [],
   "source": [
    "eligibility=pd.read_excel(os.path.join(inputDataPath,'SpatialData','Pipelines', 'pipelineIncidence.xlsx'),\n",
    "                          index_col=0, header=0)\n",
    "distances=pd.read_excel(os.path.join(inputDataPath,'SpatialData','Pipelines', 'pipelineIncidence.xlsx'),\n",
    "                          index_col=0, header=0)\n",
    "\n",
    "esM.add(fn.Transmission(esM=esM, name='Pipeline (hydrogen)', commodity='hydrogen', distances=distances,\n",
    "                        hasDesignDimensionVariables=True, #hasDesignDecisionVariables=True, bigM=300,\n",
    "                        locationalEligibility=eligibility,\n",
    "                        capexPerDesignDimension=0.000177, #capexForDesignDecision=0.00033,\n",
    "                        interestRate=0.08, economicLifetime=40))"
   ]
  },
  {
   "cell_type": "markdown",
   "metadata": {},
   "source": [
    "# 7. Add commodity sinks to the energy system model"
   ]
  },
  {
   "cell_type": "markdown",
   "metadata": {},
   "source": [
    "## 7.1. Electricity sinks"
   ]
  },
  {
   "cell_type": "markdown",
   "metadata": {},
   "source": [
    "### Electricity demand"
   ]
  },
  {
   "cell_type": "code",
   "execution_count": 26,
   "metadata": {},
   "outputs": [
    {
     "name": "stdout",
     "output_type": "stream",
     "text": [
      "The locationalEligibility of a component was set based on the given operation time series of the component.\n"
     ]
    }
   ],
   "source": [
    "operationRateFix=pd.read_excel(os.path.join(inputDataPath,'SpatialData','Demands',\n",
    "                                            'electricityDemand_GWh_el.xlsx'))\n",
    "\n",
    "esM.add(fn.Sink(esM=esM, name='Electricity demand', commodity='electricity',\n",
    "                hasDesignDimensionVariables=False, operationRateFix=operationRateFix))"
   ]
  },
  {
   "cell_type": "markdown",
   "metadata": {},
   "source": [
    "## 7.2. Hydrogen sinks"
   ]
  },
  {
   "cell_type": "markdown",
   "metadata": {},
   "source": [
    "### Fuel cell electric vehicle (FCEV) demand"
   ]
  },
  {
   "cell_type": "code",
   "execution_count": 27,
   "metadata": {},
   "outputs": [
    {
     "name": "stdout",
     "output_type": "stream",
     "text": [
      "The locationalEligibility of a component was set based on the given operation time series of the component.\n"
     ]
    }
   ],
   "source": [
    "FCEV_penetration=0.5\n",
    "operationRateFix=pd.read_excel(os.path.join(inputDataPath,'SpatialData','Demands',\n",
    "                                            'hydrogenDemand_GWh_hydrogen.xlsx'))*FCEV_penetration\n",
    "\n",
    "esM.add(fn.Sink(esM=esM, name='Hydrogen demand', commodity='hydrogen',\n",
    "                  hasDesignDimensionVariables=False, operationRateFix=operationRateFix))"
   ]
  },
  {
   "cell_type": "markdown",
   "metadata": {},
   "source": [
    "## 7.3. CO2 sinks"
   ]
  },
  {
   "cell_type": "markdown",
   "metadata": {},
   "source": [
    "### CO2 exiting the system's boundary"
   ]
  },
  {
   "cell_type": "code",
   "execution_count": null,
   "metadata": {},
   "outputs": [
    {
     "name": "stdout",
     "output_type": "stream",
     "text": [
      "The locationalEligibility of a component is set to 1 (eligible) for all locations.\n"
     ]
    }
   ],
   "source": [
    "if CO2modeling:\n",
    "    esM.add(fn.Sink(esM=esM, name='CO2 to enviroment', commodity='CO2',\n",
    "                    hasDesignDimensionVariables=False, commodityLimitID='CO2 limit',\n",
    "                    yearlyLimit=366*(1-CO2_reductionTarget)))"
   ]
  },
  {
   "cell_type": "markdown",
   "metadata": {},
   "source": [
    "# 8. Optimize energy system model"
   ]
  },
  {
   "cell_type": "code",
   "execution_count": null,
   "metadata": {
    "scrolled": true
   },
   "outputs": [
    {
     "name": "stdout",
     "output_type": "stream",
     "text": [
      "\n",
      "Clustering time series data with 24 typical periods and 24 time steps per period...\n",
      "\t\t(4.4849 sec)\n",
      "\n",
      "Declaring sets, variables and constraints for SourceSinkModeling\n",
      "\tdeclaring sets... \n",
      "\tdeclaring variables... \n",
      "\tdeclaring constraints... \n",
      "\t\t(1.8752 sec)\n",
      "Declaring sets, variables and constraints for ConversionModeling\n",
      "\tdeclaring sets... \n",
      "\tdeclaring variables... \n",
      "\tdeclaring constraints... \n",
      "\t\t(0.5470 sec)\n",
      "Declaring sets, variables and constraints for StorageModeling\n",
      "\tdeclaring sets... \n",
      "\tdeclaring variables... \n",
      "\tdeclaring constraints... \n",
      "\t\t(2.3284 sec)\n",
      "Declaring sets, variables and constraints for TransmissionModeling\n",
      "\tdeclaring sets... \n",
      "\tdeclaring variables... \n",
      "\tdeclaring constraints... \n",
      "\t\t(1.1407 sec)\n",
      "Declaring shared potential constraint...\n",
      "\t\t(0.0000 sec)\n",
      "Declaring commodity balances...\n",
      "\t\t(3.3441 sec)\n",
      "Declaring objective function...\n",
      "\t\t(1.7814 sec)\n",
      "Academic license - for non-commercial use only\n",
      "Parameter LogToConsole unchanged\n",
      "   Value: 1  Min: 0  Max: 1  Default: 1\n",
      "Changed value of parameter OptimalityTol to 0.001\n",
      "   Prev: 1e-06  Min: 1e-09  Max: 0.01  Default: 1e-06\n",
      "Parameter Threads unchanged\n",
      "   Value: 0  Min: 0  Max: 1024  Default: 0\n",
      "Changed value of parameter cuts to 3\n",
      "   Prev: -1  Min: -1  Max: 3  Default: -1\n",
      "Changed value of parameter logfile to job\n",
      "   Prev: gurobi.log  Default: \n",
      "Changed value of parameter method to 2\n",
      "   Prev: -1  Min: -1  Max: 5  Default: -1\n",
      "Optimize a model with 213461 rows, 190967 columns and 666695 nonzeros\n",
      "Coefficient statistics:\n",
      "  Matrix range     [3e-06, 5e+02]\n",
      "  Objective range  [2e-06, 3e-01]\n",
      "  Bounds range     [6e-01, 6e+04]\n",
      "  RHS range        [4e-02, 1e+02]\n",
      "Presolve removed 87099 rows and 77883 columns\n",
      "Presolve time: 0.55s\n",
      "Presolved: 126362 rows, 113084 columns, 538807 nonzeros\n",
      "\n",
      "Elapsed ordering time = 5s\n",
      "Ordering time: 7.17s\n",
      "\n",
      "Barrier statistics:\n",
      " Dense cols : 80\n",
      " Free vars  : 6090\n",
      " AA' NZ     : 2.416e+06\n",
      " Factor NZ  : 5.009e+07 (roughly 500 MBytes of memory)\n",
      " Factor Ops : 1.308e+11 (roughly 5 seconds per iteration)\n",
      " Threads    : 2\n",
      "\n",
      "                  Objective                Residual\n",
      "Iter       Primal          Dual         Primal    Dual     Compl     Time\n",
      "   0   5.36688858e+04 -5.03380581e+03  4.67e+05 1.25e-01  3.59e+02    12s\n",
      "   1   5.94723238e+04 -1.50257121e+04  3.56e+05 6.63e-02  2.29e+02    16s\n",
      "   2   5.03366034e+04 -5.96504917e+04  2.66e+05 1.48e-02  1.16e+02    20s\n",
      "   3   2.73148055e+04 -9.80192417e+04  6.42e+04 4.70e-03  3.11e+01    24s\n",
      "   4   1.68669980e+04 -7.27860493e+04  9.20e+02 4.80e-03  6.38e+00    29s\n",
      "   5   1.35610298e+04 -4.48490727e+04  1.92e+02 2.09e-03  1.57e+00    33s\n",
      "   6   5.65766368e+03 -1.99801187e+04  2.00e+01 3.73e-03  2.47e-01    37s\n",
      "   7   1.83482990e+03 -7.33314497e+03  3.30e+00 9.12e-04  5.59e-02    42s\n",
      "   8   7.31385553e+02 -2.64646341e+03  8.79e-01 2.39e-04  1.70e-02    46s\n",
      "   9   2.95273475e+02 -4.74809872e+02  1.55e-01 6.89e-05  3.49e-03    51s\n",
      "  10   1.50874975e+02 -2.06639259e+01  2.16e-02 1.26e-05  7.51e-04    56s\n",
      "  11   1.12974094e+02  2.48186371e+01  1.11e-02 7.46e-06  3.84e-04    60s\n",
      "  12   9.84770254e+01  4.00264708e+01  7.13e-03 5.19e-06  2.53e-04    65s\n",
      "  13   8.63032438e+01  5.66507249e+01  3.03e-03 2.50e-06  1.27e-04    70s\n",
      "  14   8.08642403e+01  6.36037926e+01  1.65e-03 1.48e-06  7.29e-05    74s\n",
      "  15   7.87122438e+01  6.82503800e+01  1.12e-03 1.90e-06  4.32e-05    78s\n",
      "  16   7.69011083e+01  7.07590994e+01  7.08e-04 2.12e-06  2.43e-05    82s\n",
      "  17   7.54184503e+01  7.18798741e+01  3.63e-04 1.45e-06  1.31e-05    86s\n",
      "  18   7.48295437e+01  7.24277680e+01  2.40e-04 8.94e-07  8.32e-06    91s\n",
      "  19   7.45139305e+01  7.27138922e+01  1.73e-04 5.80e-07  5.80e-06    95s\n",
      "  20   7.42130500e+01  7.29364777e+01  1.14e-04 3.33e-07  3.65e-06    99s\n",
      "  21   7.38421976e+01  7.31308822e+01  4.20e-05 1.16e-07  1.44e-06   104s\n",
      "  22   7.37141389e+01  7.32000854e+01  2.39e-05 4.74e-08  7.53e-07   108s\n",
      "  23   7.36166729e+01  7.32308087e+01  1.29e-05 2.06e-08  3.82e-07   113s\n",
      "  24   7.35475773e+01  7.32434720e+01  7.39e-06 9.55e-09  2.03e-07   117s\n",
      "  25   7.34936207e+01  7.32464429e+01  4.32e-06 6.66e-09  1.27e-07   122s\n",
      "  26   7.34680330e+01  7.32495052e+01  3.37e-06 4.08e-09  9.40e-08   126s\n",
      "  27   7.34145528e+01  7.32522586e+01  1.75e-06 2.25e-09  4.90e-08   130s\n",
      "  28   7.33768919e+01  7.32533488e+01  1.12e-06 2.25e-09  3.05e-08   135s\n",
      "  29   7.33244363e+01  7.32542148e+01  5.39e-07 2.25e-09  1.51e-08   139s\n",
      "  30   7.32952063e+01  7.32546460e+01  3.75e-07 2.25e-09  1.01e-08   143s\n",
      "  31   7.32823255e+01  7.32549719e+01  2.21e-07 2.15e-09  9.33e-08   147s\n",
      "  32   7.32720196e+01  7.32550478e+01  1.46e-07 2.15e-09  6.31e-08   152s\n",
      "  33   7.32599389e+01  7.32551427e+01  4.51e-08 1.27e-09  1.72e-08   156s\n",
      "  34   7.32565987e+01  7.32552279e+01  2.53e-08 3.10e-10  5.48e-09   161s\n",
      "  35   7.32561751e+01  7.32552489e+01  1.76e-08 1.13e-10  3.88e-09   166s\n",
      "  36   7.32561020e+01  7.32552496e+01  1.62e-08 1.10e-10  3.58e-09   171s\n",
      "  37   7.32560192e+01  7.32552531e+01  2.90e-07 1.01e-10  3.22e-09   175s\n",
      "  38   7.32556996e+01  7.32552590e+01  1.68e-07 8.38e-11  1.86e-09   179s\n",
      "  39   7.32556670e+01  7.32552608e+01  4.58e-07 7.67e-11  1.72e-09   184s\n",
      "  40   7.32556489e+01  7.32552622e+01  1.42e-06 7.29e-11  1.64e-09   188s\n",
      "  41   7.32556489e+01  7.32552622e+01  1.42e-06 7.29e-11  1.64e-09   192s\n",
      "  42   7.32556489e+01  7.32552622e+01  1.99e-06 7.29e-11  1.64e-09   196s\n",
      "  43   7.32556489e+01  7.32552622e+01  1.99e-06 7.29e-11  1.64e-09   200s\n",
      "  44   7.32556489e+01  7.32552622e+01  2.47e-06 7.29e-11  1.64e-09   205s\n",
      "  45   7.32555824e+01  7.32552643e+01  2.27e-06 6.63e-11  1.35e-09   209s\n",
      "  46   7.32555119e+01  7.32552740e+01  1.73e-06 4.11e-11  1.02e-09   214s\n",
      "  47   7.32554169e+01  7.32552782e+01  1.00e-06 2.88e-11  5.97e-10   218s\n",
      "  48   7.32554169e+01  7.32552782e+01  1.00e-06 2.88e-11  5.97e-10   222s\n",
      "  49   7.32554169e+01  7.32552782e+01  1.00e-06 2.88e-11  5.97e-10   227s\n"
     ]
    }
   ],
   "source": [
    "esM.cluster(numberOfTypicalPeriods=30)\n",
    "esM.optimize(timeSeriesAggregation=True, optimizationSpecs='LogToConsole=1 OptimalityTol=1e-3 cuts=3 method=2')"
   ]
  },
  {
   "cell_type": "code",
   "execution_count": null,
   "metadata": {
    "collapsed": true,
    "scrolled": true
   },
   "outputs": [],
   "source": [
    "soc = esM.getCompAttr(\"Salt caverns (hydrogen)\",'_stateOfChargeVariablesOptimum')\n",
    "fig, ax = plt.subplots()\n",
    "ax.plot(soc.loc[\"cluster_0\"])\n",
    "plt.show()"
   ]
  },
  {
   "cell_type": "code",
   "execution_count": null,
   "metadata": {
    "collapsed": true
   },
   "outputs": [],
   "source": []
  }
 ],
 "metadata": {
  "anaconda-cloud": {},
  "kernelspec": {
   "display_name": "Python 3",
   "language": "python",
   "name": "python3"
  },
  "language_info": {
   "codemirror_mode": {
    "name": "ipython",
    "version": 3
   },
   "file_extension": ".py",
   "mimetype": "text/x-python",
   "name": "python",
   "nbconvert_exporter": "python",
   "pygments_lexer": "ipython3",
   "version": "3.6.3"
  }
 },
 "nbformat": 4,
 "nbformat_minor": 2
}
