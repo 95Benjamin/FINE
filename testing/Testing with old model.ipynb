{
 "cells": [
  {
   "cell_type": "code",
   "execution_count": 1,
   "metadata": {},
   "outputs": [
    {
     "ename": "KeyboardInterrupt",
     "evalue": "",
     "output_type": "error",
     "traceback": [
      "\u001b[1;31m---------------------------------------------------------------------------\u001b[0m",
      "\u001b[1;31mKeyboardInterrupt\u001b[0m                         Traceback (most recent call last)",
      "\u001b[1;32m<ipython-input-1-147695113da5>\u001b[0m in \u001b[0;36m<module>\u001b[1;34m()\u001b[0m\n\u001b[1;32m----> 1\u001b[1;33m \u001b[1;32mimport\u001b[0m \u001b[0mEnerFrame\u001b[0m \u001b[1;32mas\u001b[0m \u001b[0mef\u001b[0m\u001b[1;33m\u001b[0m\u001b[0m\n\u001b[0m\u001b[0;32m      2\u001b[0m \u001b[1;32mimport\u001b[0m \u001b[0mpandas\u001b[0m \u001b[1;32mas\u001b[0m \u001b[0mpd\u001b[0m\u001b[1;33m\u001b[0m\u001b[0m\n\u001b[0;32m      3\u001b[0m \u001b[1;32mimport\u001b[0m \u001b[0mos\u001b[0m\u001b[1;33m\u001b[0m\u001b[0m\n\u001b[0;32m      4\u001b[0m \u001b[1;32mimport\u001b[0m \u001b[0mmatplotlib\u001b[0m\u001b[1;33m.\u001b[0m\u001b[0mpyplot\u001b[0m \u001b[1;32mas\u001b[0m \u001b[0mplt\u001b[0m\u001b[1;33m\u001b[0m\u001b[0m\n\u001b[0;32m      5\u001b[0m \u001b[1;33m\u001b[0m\u001b[0m\n",
      "\u001b[1;32mc:\\users\\larawelder\\documents\\python\\enerframe\\steropes\\EnerFrame\\__init__.py\u001b[0m in \u001b[0;36m<module>\u001b[1;34m()\u001b[0m\n\u001b[0;32m      4\u001b[0m \u001b[1;33m@\u001b[0m\u001b[0mauthor\u001b[0m\u001b[1;33m:\u001b[0m \u001b[0mLara\u001b[0m \u001b[0mWelder\u001b[0m\u001b[1;33m\u001b[0m\u001b[0m\n\u001b[0;32m      5\u001b[0m \"\"\"\n\u001b[1;32m----> 6\u001b[1;33m \u001b[1;32mfrom\u001b[0m \u001b[0mEnerFrame\u001b[0m\u001b[1;33m.\u001b[0m\u001b[0mComponents\u001b[0m\u001b[1;33m.\u001b[0m\u001b[0mSources\u001b[0m \u001b[1;32mimport\u001b[0m \u001b[0mGenerationTechnology\u001b[0m\u001b[1;33m,\u001b[0m \u001b[0mImportData\u001b[0m\u001b[1;33m,\u001b[0m \u001b[0mPurchaseOption\u001b[0m\u001b[1;33m\u001b[0m\u001b[0m\n\u001b[0m\u001b[0;32m      7\u001b[0m \u001b[1;32mfrom\u001b[0m \u001b[0mEnerFrame\u001b[0m\u001b[1;33m.\u001b[0m\u001b[0mComponents\u001b[0m\u001b[1;33m.\u001b[0m\u001b[0mConversionTechnology\u001b[0m\u001b[1;33m.\u001b[0m\u001b[0mconversionTechnology\u001b[0m \u001b[1;32mimport\u001b[0m \u001b[0mConversionTechnology\u001b[0m\u001b[1;33m\u001b[0m\u001b[0m\n\u001b[0;32m      8\u001b[0m \u001b[1;32mfrom\u001b[0m \u001b[0mEnerFrame\u001b[0m\u001b[1;33m.\u001b[0m\u001b[0mComponents\u001b[0m\u001b[1;33m.\u001b[0m\u001b[0mStorageTechnology\u001b[0m\u001b[1;33m.\u001b[0m\u001b[0mstorageTechnology\u001b[0m \u001b[1;32mimport\u001b[0m \u001b[0mStorageTechnology\u001b[0m\u001b[1;33m\u001b[0m\u001b[0m\n",
      "\u001b[1;32mc:\\users\\larawelder\\documents\\python\\enerframe\\steropes\\EnerFrame\\Components\\__init__.py\u001b[0m in \u001b[0;36m<module>\u001b[1;34m()\u001b[0m\n\u001b[0;32m      4\u001b[0m \u001b[1;33m@\u001b[0m\u001b[0mauthor\u001b[0m\u001b[1;33m:\u001b[0m \u001b[0mLara\u001b[0m \u001b[0mWelder\u001b[0m\u001b[1;33m\u001b[0m\u001b[0m\n\u001b[0;32m      5\u001b[0m \"\"\"\n\u001b[1;32m----> 6\u001b[1;33m \u001b[1;32mfrom\u001b[0m \u001b[1;33m.\u001b[0m\u001b[0mSources\u001b[0m \u001b[1;32mimport\u001b[0m \u001b[0mGenerationTechnology\u001b[0m\u001b[1;33m,\u001b[0m \u001b[0mImportData\u001b[0m\u001b[1;33m,\u001b[0m \u001b[0mPurchaseOption\u001b[0m\u001b[1;33m\u001b[0m\u001b[0m\n\u001b[0m\u001b[0;32m      7\u001b[0m \u001b[1;32mfrom\u001b[0m \u001b[1;33m.\u001b[0m\u001b[0mConversionTechnology\u001b[0m\u001b[1;33m.\u001b[0m\u001b[0mconversionTechnology\u001b[0m \u001b[1;32mimport\u001b[0m \u001b[0mConversionTechnology\u001b[0m\u001b[1;33m\u001b[0m\u001b[0m\n\u001b[0;32m      8\u001b[0m \u001b[1;32mfrom\u001b[0m \u001b[1;33m.\u001b[0m\u001b[0mStorageTechnology\u001b[0m\u001b[1;33m.\u001b[0m\u001b[0mstorageTechnology\u001b[0m \u001b[1;32mimport\u001b[0m \u001b[0mStorageTechnology\u001b[0m\u001b[1;33m\u001b[0m\u001b[0m\n",
      "\u001b[1;32mc:\\users\\larawelder\\documents\\python\\enerframe\\steropes\\EnerFrame\\Components\\Sources\\__init__.py\u001b[0m in \u001b[0;36m<module>\u001b[1;34m()\u001b[0m\n\u001b[0;32m      5\u001b[0m \u001b[1;33m@\u001b[0m\u001b[0mauthor\u001b[0m\u001b[1;33m:\u001b[0m \u001b[0mWelder\u001b[0m\u001b[1;33m\u001b[0m\u001b[0m\n\u001b[0;32m      6\u001b[0m \"\"\"\n\u001b[1;32m----> 7\u001b[1;33m \u001b[1;32mfrom\u001b[0m \u001b[1;33m.\u001b[0m\u001b[0mgenerationTechnology\u001b[0m \u001b[1;32mimport\u001b[0m \u001b[0mGenerationTechnology\u001b[0m\u001b[1;33m\u001b[0m\u001b[0m\n\u001b[0m\u001b[0;32m      8\u001b[0m \u001b[1;32mfrom\u001b[0m \u001b[1;33m.\u001b[0m\u001b[0mimportData\u001b[0m \u001b[1;32mimport\u001b[0m \u001b[0mImportData\u001b[0m\u001b[1;33m\u001b[0m\u001b[0m\n\u001b[0;32m      9\u001b[0m \u001b[1;32mfrom\u001b[0m \u001b[1;33m.\u001b[0m\u001b[0mpurchaseOption\u001b[0m \u001b[1;32mimport\u001b[0m \u001b[0mPurchaseOption\u001b[0m\u001b[1;33m\u001b[0m\u001b[0m\n",
      "\u001b[1;32mc:\\users\\larawelder\\documents\\python\\enerframe\\steropes\\EnerFrame\\Components\\Sources\\generationTechnology.py\u001b[0m in \u001b[0;36m<module>\u001b[1;34m()\u001b[0m\n\u001b[0;32m      4\u001b[0m \u001b[1;33m@\u001b[0m\u001b[0mauthor\u001b[0m\u001b[1;33m:\u001b[0m \u001b[0mLara\u001b[0m \u001b[0mWelder\u001b[0m\u001b[1;33m\u001b[0m\u001b[0m\n\u001b[0;32m      5\u001b[0m \"\"\"\n\u001b[1;32m----> 6\u001b[1;33m \u001b[1;32mfrom\u001b[0m \u001b[1;33m.\u001b[0m\u001b[1;33m.\u001b[0m\u001b[0mtechnology\u001b[0m \u001b[1;32mimport\u001b[0m \u001b[0mTechnology\u001b[0m\u001b[1;33m\u001b[0m\u001b[0m\n\u001b[0m\u001b[0;32m      7\u001b[0m \u001b[1;32mimport\u001b[0m \u001b[0mpandas\u001b[0m \u001b[1;32mas\u001b[0m \u001b[0mpd\u001b[0m\u001b[1;33m\u001b[0m\u001b[0m\n\u001b[0;32m      8\u001b[0m \u001b[1;32mimport\u001b[0m \u001b[0mEnerFrame\u001b[0m\u001b[1;33m.\u001b[0m\u001b[0mUtils\u001b[0m\u001b[1;33m.\u001b[0m\u001b[0mcheckInputs\u001b[0m \u001b[1;32mas\u001b[0m \u001b[0mcheckInputs\u001b[0m\u001b[1;33m\u001b[0m\u001b[0m\n",
      "\u001b[1;32mc:\\users\\larawelder\\documents\\python\\enerframe\\steropes\\EnerFrame\\Components\\technology.py\u001b[0m in \u001b[0;36m<module>\u001b[1;34m()\u001b[0m\n\u001b[0;32m      4\u001b[0m \u001b[1;33m@\u001b[0m\u001b[0mauthor\u001b[0m\u001b[1;33m:\u001b[0m \u001b[0mLara\u001b[0m \u001b[0mWelder\u001b[0m\u001b[1;33m\u001b[0m\u001b[0m\n\u001b[0;32m      5\u001b[0m \"\"\"\n\u001b[1;32m----> 6\u001b[1;33m \u001b[1;32mimport\u001b[0m \u001b[0mpandas\u001b[0m \u001b[1;32mas\u001b[0m \u001b[0mpd\u001b[0m\u001b[1;33m\u001b[0m\u001b[0m\n\u001b[0m\u001b[0;32m      7\u001b[0m \u001b[1;32mimport\u001b[0m \u001b[0mEnerFrame\u001b[0m\u001b[1;33m.\u001b[0m\u001b[0mUtils\u001b[0m\u001b[1;33m.\u001b[0m\u001b[0mcheckInputs\u001b[0m \u001b[1;32mas\u001b[0m \u001b[0mcheckInputs\u001b[0m\u001b[1;33m\u001b[0m\u001b[0m\n\u001b[0;32m      8\u001b[0m \u001b[1;32mimport\u001b[0m \u001b[0mtextwrap\u001b[0m \u001b[1;32mas\u001b[0m \u001b[0mtextwrap\u001b[0m\u001b[1;33m\u001b[0m\u001b[0m\n",
      "\u001b[1;32mC:\\ProgramData\\Anaconda3\\lib\\site-packages\\pandas\\__init__.py\u001b[0m in \u001b[0;36m<module>\u001b[1;34m()\u001b[0m\n\u001b[0;32m     11\u001b[0m \u001b[1;32mfor\u001b[0m \u001b[0mdependency\u001b[0m \u001b[1;32min\u001b[0m \u001b[0mhard_dependencies\u001b[0m\u001b[1;33m:\u001b[0m\u001b[1;33m\u001b[0m\u001b[0m\n\u001b[0;32m     12\u001b[0m     \u001b[1;32mtry\u001b[0m\u001b[1;33m:\u001b[0m\u001b[1;33m\u001b[0m\u001b[0m\n\u001b[1;32m---> 13\u001b[1;33m         \u001b[0m__import__\u001b[0m\u001b[1;33m(\u001b[0m\u001b[0mdependency\u001b[0m\u001b[1;33m)\u001b[0m\u001b[1;33m\u001b[0m\u001b[0m\n\u001b[0m\u001b[0;32m     14\u001b[0m     \u001b[1;32mexcept\u001b[0m \u001b[0mImportError\u001b[0m \u001b[1;32mas\u001b[0m \u001b[0me\u001b[0m\u001b[1;33m:\u001b[0m\u001b[1;33m\u001b[0m\u001b[0m\n\u001b[0;32m     15\u001b[0m         \u001b[0mmissing_dependencies\u001b[0m\u001b[1;33m.\u001b[0m\u001b[0mappend\u001b[0m\u001b[1;33m(\u001b[0m\u001b[0mdependency\u001b[0m\u001b[1;33m)\u001b[0m\u001b[1;33m\u001b[0m\u001b[0m\n",
      "\u001b[1;32mC:\\ProgramData\\Anaconda3\\lib\\site-packages\\numpy\\__init__.py\u001b[0m in \u001b[0;36m<module>\u001b[1;34m()\u001b[0m\n\u001b[0;32m    140\u001b[0m         \u001b[1;32mreturn\u001b[0m \u001b[0mloader\u001b[0m\u001b[1;33m(\u001b[0m\u001b[1;33m*\u001b[0m\u001b[0mpackages\u001b[0m\u001b[1;33m,\u001b[0m \u001b[1;33m**\u001b[0m\u001b[0moptions\u001b[0m\u001b[1;33m)\u001b[0m\u001b[1;33m\u001b[0m\u001b[0m\n\u001b[0;32m    141\u001b[0m \u001b[1;33m\u001b[0m\u001b[0m\n\u001b[1;32m--> 142\u001b[1;33m     \u001b[1;32mfrom\u001b[0m \u001b[1;33m.\u001b[0m \u001b[1;32mimport\u001b[0m \u001b[0madd_newdocs\u001b[0m\u001b[1;33m\u001b[0m\u001b[0m\n\u001b[0m\u001b[0;32m    143\u001b[0m     __all__ = ['add_newdocs',\n\u001b[0;32m    144\u001b[0m                \u001b[1;34m'ModuleDeprecationWarning'\u001b[0m\u001b[1;33m,\u001b[0m\u001b[1;33m\u001b[0m\u001b[0m\n",
      "\u001b[1;32mC:\\ProgramData\\Anaconda3\\lib\\site-packages\\numpy\\add_newdocs.py\u001b[0m in \u001b[0;36m<module>\u001b[1;34m()\u001b[0m\n\u001b[0;32m     11\u001b[0m \u001b[1;32mfrom\u001b[0m \u001b[0m__future__\u001b[0m \u001b[1;32mimport\u001b[0m \u001b[0mdivision\u001b[0m\u001b[1;33m,\u001b[0m \u001b[0mabsolute_import\u001b[0m\u001b[1;33m,\u001b[0m \u001b[0mprint_function\u001b[0m\u001b[1;33m\u001b[0m\u001b[0m\n\u001b[0;32m     12\u001b[0m \u001b[1;33m\u001b[0m\u001b[0m\n\u001b[1;32m---> 13\u001b[1;33m \u001b[1;32mfrom\u001b[0m \u001b[0mnumpy\u001b[0m\u001b[1;33m.\u001b[0m\u001b[0mlib\u001b[0m \u001b[1;32mimport\u001b[0m \u001b[0madd_newdoc\u001b[0m\u001b[1;33m\u001b[0m\u001b[0m\n\u001b[0m\u001b[0;32m     14\u001b[0m \u001b[1;33m\u001b[0m\u001b[0m\n\u001b[0;32m     15\u001b[0m \u001b[1;31m###############################################################################\u001b[0m\u001b[1;33m\u001b[0m\u001b[1;33m\u001b[0m\u001b[0m\n",
      "\u001b[1;32mC:\\ProgramData\\Anaconda3\\lib\\site-packages\\numpy\\lib\\__init__.py\u001b[0m in \u001b[0;36m<module>\u001b[1;34m()\u001b[0m\n\u001b[0;32m     22\u001b[0m \u001b[1;32mfrom\u001b[0m \u001b[1;33m.\u001b[0m\u001b[0marraysetops\u001b[0m \u001b[1;32mimport\u001b[0m \u001b[1;33m*\u001b[0m\u001b[1;33m\u001b[0m\u001b[0m\n\u001b[0;32m     23\u001b[0m \u001b[1;32mfrom\u001b[0m \u001b[1;33m.\u001b[0m\u001b[0mnpyio\u001b[0m \u001b[1;32mimport\u001b[0m \u001b[1;33m*\u001b[0m\u001b[1;33m\u001b[0m\u001b[0m\n\u001b[1;32m---> 24\u001b[1;33m \u001b[1;32mfrom\u001b[0m \u001b[1;33m.\u001b[0m\u001b[0mfinancial\u001b[0m \u001b[1;32mimport\u001b[0m \u001b[1;33m*\u001b[0m\u001b[1;33m\u001b[0m\u001b[0m\n\u001b[0m\u001b[0;32m     25\u001b[0m \u001b[1;32mfrom\u001b[0m \u001b[1;33m.\u001b[0m\u001b[0marrayterator\u001b[0m \u001b[1;32mimport\u001b[0m \u001b[0mArrayterator\u001b[0m\u001b[1;33m\u001b[0m\u001b[0m\n\u001b[0;32m     26\u001b[0m \u001b[1;32mfrom\u001b[0m \u001b[1;33m.\u001b[0m\u001b[0marraypad\u001b[0m \u001b[1;32mimport\u001b[0m \u001b[1;33m*\u001b[0m\u001b[1;33m\u001b[0m\u001b[0m\n",
      "\u001b[1;32mC:\\ProgramData\\Anaconda3\\lib\\importlib\\_bootstrap.py\u001b[0m in \u001b[0;36m_find_and_load\u001b[1;34m(name, import_)\u001b[0m\n",
      "\u001b[1;32mC:\\ProgramData\\Anaconda3\\lib\\importlib\\_bootstrap.py\u001b[0m in \u001b[0;36m_find_and_load_unlocked\u001b[1;34m(name, import_)\u001b[0m\n",
      "\u001b[1;32mC:\\ProgramData\\Anaconda3\\lib\\importlib\\_bootstrap.py\u001b[0m in \u001b[0;36m_find_spec\u001b[1;34m(name, path, target)\u001b[0m\n",
      "\u001b[1;32mC:\\ProgramData\\Anaconda3\\lib\\importlib\\_bootstrap_external.py\u001b[0m in \u001b[0;36mfind_spec\u001b[1;34m(cls, fullname, path, target)\u001b[0m\n",
      "\u001b[1;32mC:\\ProgramData\\Anaconda3\\lib\\importlib\\_bootstrap_external.py\u001b[0m in \u001b[0;36m_get_spec\u001b[1;34m(cls, fullname, path, target)\u001b[0m\n",
      "\u001b[1;32mC:\\ProgramData\\Anaconda3\\lib\\importlib\\_bootstrap_external.py\u001b[0m in \u001b[0;36mfind_spec\u001b[1;34m(self, fullname, target)\u001b[0m\n",
      "\u001b[1;32mC:\\ProgramData\\Anaconda3\\lib\\importlib\\_bootstrap_external.py\u001b[0m in \u001b[0;36m_path_isfile\u001b[1;34m(path)\u001b[0m\n",
      "\u001b[1;32mC:\\ProgramData\\Anaconda3\\lib\\importlib\\_bootstrap_external.py\u001b[0m in \u001b[0;36m_path_is_mode_type\u001b[1;34m(path, mode)\u001b[0m\n",
      "\u001b[1;32mC:\\ProgramData\\Anaconda3\\lib\\importlib\\_bootstrap_external.py\u001b[0m in \u001b[0;36m_path_stat\u001b[1;34m(path)\u001b[0m\n",
      "\u001b[1;31mKeyboardInterrupt\u001b[0m: "
     ]
    }
   ],
   "source": [
    "import EnerFrame as ef\n",
    "import pandas as pd\n",
    "import os\n",
    "import matplotlib.pyplot as plt\n",
    "\n",
    "%load_ext autoreload\n",
    "%autoreload 2"
   ]
  },
  {
   "cell_type": "code",
   "execution_count": null,
   "metadata": {
    "collapsed": true
   },
   "outputs": [],
   "source": [
    "cwd = os.getcwd()\n",
    "inputDataPath = os.path.join(cwd,\"InputData\")"
   ]
  },
  {
   "cell_type": "code",
   "execution_count": null,
   "metadata": {
    "collapsed": true
   },
   "outputs": [],
   "source": [
    "CO2modeling=True\n",
    "biogasModeling=True\n",
    "H2modeling=True\n",
    "transmissionModeling=True\n",
    "storageModeling=True\n",
    "RESmodeling=True\n",
    "RORmodeling=True\n",
    "PHSmodeling=True\n",
    "maxCapCCGTCH4modeling=False\n",
    "\n",
    "locations = {'cluster_0','cluster_7'}\n",
    "commodities = {'electricity','methane'}\n",
    "if biogasModeling:\n",
    "    commodities.add('biogas')\n",
    "if CO2modeling:\n",
    "    commodities.add('CO2')\n",
    "if H2modeling:\n",
    "    commodities.add('hydrogen')\n",
    "numberOfTimeSteps=8760\n",
    "hoursPerTimeStep=1"
   ]
  },
  {
   "cell_type": "code",
   "execution_count": null,
   "metadata": {},
   "outputs": [],
   "source": [
    "commodities"
   ]
  },
  {
   "cell_type": "code",
   "execution_count": null,
   "metadata": {
    "collapsed": true
   },
   "outputs": [],
   "source": [
    "CO2_reductionTarget = 0.95\n",
    "CO2reduction = 366*(1-CO2_reductionTarget)*6/8"
   ]
  },
  {
   "cell_type": "code",
   "execution_count": null,
   "metadata": {},
   "outputs": [],
   "source": [
    "CO2reduction"
   ]
  },
  {
   "cell_type": "code",
   "execution_count": null,
   "metadata": {},
   "outputs": [],
   "source": [
    "if not CO2modeling:\n",
    "    esM = ef.EnergySystemStructure(regions=locations, carriers=commodities, \n",
    "                                   powerUnit='GW', energyUnit='GWh',\n",
    "                                   costUnit='1e9 Euro', lengthUnit='km')\n",
    "else:\n",
    "    esM = ef.EnergySystemStructure(regions=locations, carriers=commodities, \n",
    "                                   powerUnit='GW', energyUnit='GWh',\n",
    "                                   costUnit='1e9 Euro', lengthUnit='km', carrierLimitation={'CO2':CO2reduction})\n",
    "    "
   ]
  },
  {
   "cell_type": "code",
   "execution_count": null,
   "metadata": {},
   "outputs": [],
   "source": [
    "if RESmodeling:\n",
    "    capacityMax=pd.read_excel(os.path.join(inputDataPath,'SpatialData','Wind','maxCapacityOnshore_GW_el.xlsx'),\n",
    "                              index_col=0, squeeze=True)\n",
    "    operationRateMax=pd.read_excel(os.path.join(inputDataPath,'SpatialData','Wind','maxOperationRateOnshore_el.xlsx'))\n",
    "\n",
    "    esM.add(ef.GenerationTechnology(esS=esM, name='Wind (onshore)', carrier='electricity', \n",
    "                      maxUtilizationRate=operationRateMax, maxCapacity=capacityMax,\n",
    "                      capexCap=1.1, opexCap=1.1*0.02, interest=0.08,\n",
    "                      economicLifetime=20, powerUnit='GW', energyUnit='GWh', costUnit='1e9 Euro'))"
   ]
  },
  {
   "cell_type": "code",
   "execution_count": null,
   "metadata": {
    "collapsed": true
   },
   "outputs": [],
   "source": [
    "if RESmodeling:\n",
    "    capacityMax=pd.read_excel(os.path.join(inputDataPath,'SpatialData','Wind','maxCapacityOffshore_GW_el.xlsx'),\n",
    "                              index_col=0, squeeze=True)\n",
    "    operationRateMax=pd.read_excel(os.path.join(inputDataPath,'SpatialData','Wind','maxOperationRateOffshore_el.xlsx'))\n",
    "    \n",
    "    esM.add(ef.GenerationTechnology(esS=esM, name='Wind (offshore)', carrier='electricity', \n",
    "                      maxUtilizationRate=operationRateMax, maxCapacity=capacityMax,\n",
    "                      capexCap=2.3, opexCap=2.3*0.02, interest=0.08,\n",
    "                      economicLifetime=20, powerUnit='GW', energyUnit='GWh', costUnit='1e9 Euro'))    "
   ]
  },
  {
   "cell_type": "code",
   "execution_count": null,
   "metadata": {
    "collapsed": true
   },
   "outputs": [],
   "source": [
    "if RESmodeling:\n",
    "    capacityMax=pd.read_excel(os.path.join(inputDataPath,'SpatialData','PV','maxCapacityPV_GW_el.xlsx'),\n",
    "                              index_col=0, squeeze=True)\n",
    "    operationRateMax=pd.read_excel(os.path.join(inputDataPath,'SpatialData','PV','maxOperationRatePV_el.xlsx'))\n",
    "    \n",
    "    esM.add(ef.GenerationTechnology(esS=esM, name='PV', carrier='electricity', \n",
    "                      maxUtilizationRate=operationRateMax, maxCapacity=capacityMax,\n",
    "                      capexCap=0.65, opexCap=0.65*0.02, interest=0.08,\n",
    "                      economicLifetime=25, powerUnit='GW', energyUnit='GWh', costUnit='1e9 Euro'))       "
   ]
  },
  {
   "cell_type": "code",
   "execution_count": null,
   "metadata": {
    "collapsed": true
   },
   "outputs": [],
   "source": [
    "if RESmodeling and RORmodeling:\n",
    "    capacityFix=pd.read_excel(os.path.join(inputDataPath,'SpatialData','HydroPower','fixCapacityROR_GW_el.xlsx'),\n",
    "                              index_col=0, squeeze=True)\n",
    "    operationRateFix=pd.read_excel(os.path.join(inputDataPath,'SpatialData','HydroPower',\n",
    "                                                'fixOperationRateROR_GW_el.xlsx'))\n",
    "    \n",
    "    esM.add(ef.GenerationTechnology(esS=esM, name='Existing run-of-river plants', carrier='electricity', \n",
    "                      maxUtilizationRate=operationRateFix, fixCapacity=capacityFix, isDispatchable=False,\n",
    "                      capexCap=0, opexCap=0.208, interest=0.08,\n",
    "                      economicLifetime=60, powerUnit='GW', energyUnit='GWh', costUnit='1e9 Euro'))      "
   ]
  },
  {
   "cell_type": "code",
   "execution_count": null,
   "metadata": {},
   "outputs": [],
   "source": [
    "esM.add(ef.PurchaseOption(esS=esM, name='Natural gas purchase', carrier='methane',\n",
    "                  energyUnit='GWh', costUnit='1e9 Euro', cost=0.0331*1e-3))"
   ]
  },
  {
   "cell_type": "code",
   "execution_count": null,
   "metadata": {
    "collapsed": true
   },
   "outputs": [],
   "source": [
    "if biogasModeling:\n",
    "    operationRateMax=pd.read_excel(os.path.join(inputDataPath,'SpatialData','Biogas',\n",
    "                                                'biogasPotential_GWh_biogas.xlsx'))\n",
    "    \n",
    "    esM.add(ef.PurchaseOption(esS=esM, name='Biogas purchase', carrier='biogas',\n",
    "                      energyUnit='GWh', costUnit='1e9 Euro', cost=0.05409*1e-3))    "
   ]
  },
  {
   "cell_type": "code",
   "execution_count": null,
   "metadata": {},
   "outputs": [],
   "source": [
    "if CO2modeling and biogasModeling:\n",
    "    esM.add(ef.PurchaseOption(esS=esM, name='CO2 from enviroment', carrier='CO2',\n",
    "                      energyUnit='GWh', costUnit='1e9 Euro', cost=0, carrierLimitationKey='CO2'))   "
   ]
  },
  {
   "cell_type": "code",
   "execution_count": null,
   "metadata": {},
   "outputs": [],
   "source": [
    "if CO2modeling and biogasModeling:\n",
    "    esM.add(ef.ConversionTechnology(esS=esM, name='Biogas to methane',\n",
    "                          conversionFactors={'biogas':-1, 'methane':1, 'CO2':-201*1e-6*0.625, 'electricity':0, 'hydrogen':0},\n",
    "                          energyUnit='GWh', powerUnit='GW', costUnit='1e9 Euro', economicLifetime=10, interest=0.08))"
   ]
  },
  {
   "cell_type": "code",
   "execution_count": null,
   "metadata": {},
   "outputs": [],
   "source": [
    "if maxCapCCGTCH4modeling:\n",
    "    capacityMax=pd.read_excel(os.path.join(inputDataPath,'SpatialData','NaturalGasPlants',\n",
    "                                           'existingCombinedCycleGasTurbinePlantsCapacity_GW_el.xlsx'),\n",
    "                              index_col=0, squeeze=True)\n",
    "else:\n",
    "    capacityMax=pd.Series()\n",
    "    \n",
    "if CO2modeling and H2modeling and biogasModeling:\n",
    "    cF = {'electricity':1, 'methane':-1/0.625, 'CO2':201*1e-6/0.625, 'biogas':0, 'hydrogen':0}\n",
    "elif CO2modeling and H2modeling and not biogasModeling:\n",
    "    cF = {'electricity':1, 'methane':-1/0.625, 'CO2':201*1e-6/0.625, 'hydrogen':0}\n",
    "elif CO2modeling and not H2modeling and biogasModeling:\n",
    "    cF = {'electricity':1, 'methane':-1/0.625, 'CO2':201*1e-6/0.625, 'biogas':0}\n",
    "elif CO2modeling and not H2modeling and not biogasModeling:\n",
    "    cF = {'electricity':1, 'methane':-1/0.625, 'CO2':201*1e-6/0.625}    \n",
    "elif not CO2modeling and H2modeling and biogasModeling:\n",
    "    cF = {'electricity':1, 'methane':-1/0.625, 'biogas':0, 'hydrogen':0}    \n",
    "elif not CO2modeling and H2modeling and not biogasModeling:\n",
    "    cF = {'electricity':1, 'methane':-1/0.625, 'hydrogen':0}\n",
    "elif not CO2modeling and not H2modeling and biogasModeling:\n",
    "    cF = {'electricity':1, 'methane':-1/0.625, 'biogas':0}\n",
    "else:\n",
    "    cF = {'electricity':1, 'methane':-1/0.625}    \n",
    "\n",
    "esM.add(ef.ConversionTechnology(esS=esM, name='Existing CCGT plants (methane)',\n",
    "                      conversionFactors=cF,\n",
    "                      capexCap=0, opexCap=0.021, energyUnit='GWh', powerUnit='GW', costUnit='1e9 Euro',\n",
    "                      economicLifetime=33, interest=0.08, maxCapacity=capacityMax))                                        "
   ]
  },
  {
   "cell_type": "code",
   "execution_count": null,
   "metadata": {},
   "outputs": [],
   "source": [
    "if H2modeling and not CO2modeling:\n",
    "    cF = {'electricity':1, 'biogas':-1/0.635, 'methane':0, 'hydrogen':0}\n",
    "elif H2modeling and CO2modeling:\n",
    "    cF = {'electricity':1, 'biogas':-1/0.635, 'methane':0, 'hydrogen':0,  'CO2':0}    \n",
    "else:\n",
    "    cF = {'electricity':1, 'biogas':-1/0.635, 'methane':0}\n",
    "    \n",
    "if biogasModeling:\n",
    "    esM.add(ef.ConversionTechnology(esS=esM, name='New CCGT plants (biogas)',\n",
    "                          conversionFactors=cF,\n",
    "                          capexCap=0.7, opexCap=0.021, energyUnit='GWh', powerUnit='GW', costUnit='1e9 Euro',\n",
    "                          economicLifetime=33, interest=0.08))   "
   ]
  },
  {
   "cell_type": "code",
   "execution_count": null,
   "metadata": {},
   "outputs": [],
   "source": [
    "if biogasModeling and CO2modeling:\n",
    "    cF = {'electricity':1, 'biogas':0, 'methane':0, 'hydrogen':-1/0.6, 'CO2':0}\n",
    "elif not biogasModeling and CO2modeling:\n",
    "    cF = {'electricity':1, 'methane':0, 'hydrogen':-1/0.6, 'CO2':0}\n",
    "else:\n",
    "    cF = {'electricity':1, 'methane':0, 'hydrogen':-1/0.6}\n",
    "    \n",
    "if H2modeling:\n",
    "    esM.add(ef.ConversionTechnology(esS=esM, name='New CCGT plants (hydrogen)',\n",
    "                          conversionFactors=cF,\n",
    "                          capexCap=0.927, opexCap=0.021, energyUnit='GWh', powerUnit='GW', costUnit='1e9 Euro',\n",
    "                          economicLifetime=33, interest=0.08))   "
   ]
  },
  {
   "cell_type": "code",
   "execution_count": null,
   "metadata": {},
   "outputs": [],
   "source": [
    "if biogasModeling and CO2modeling:\n",
    "    cF = {'electricity':-1, 'biogas':0, 'methane':0, 'hydrogen':0.7, 'CO2':0}\n",
    "elif not biogasModeling and CO2modeling:\n",
    "    cF = {'electricity':-1, 'methane':0, 'hydrogen':0.7, 'CO2':0}\n",
    "else:\n",
    "    cF = {'electricity':-1, 'methane':0, 'hydrogen':0.7}\n",
    "    \n",
    "if H2modeling:\n",
    "    esM.add(ef.ConversionTechnology(esS=esM, name='Electrolyzers',\n",
    "                          conversionFactors=cF,\n",
    "                          capexCap=0.5, opexCap=0.5*0.025, energyUnit='GWh', powerUnit='GW', costUnit='1e9 Euro',\n",
    "                          economicLifetime=10, interest=0.08))   "
   ]
  },
  {
   "cell_type": "code",
   "execution_count": null,
   "metadata": {},
   "outputs": [],
   "source": [
    "if storageModeling:\n",
    "    esM.add(ef.StorageTechnology(esS=esM, name='Li-ion batteries', carrier='electricity',\n",
    "                                 capexCap=0.151, opexCap=0.002, #cyclicLifetime=10000, \n",
    "                                 injectionEfficiency=0.95, deliveryEfficiency=0.95,\n",
    "                                 injectability=1, deliverability=1, preciseInventoryLimitation=True,\n",
    "                                 selfDischarge=1-(1-0.03)**(1/(30*24)), \n",
    "                                 energyUnit='GWh', powerUnit='GW', costUnit='1e9 Euro',\n",
    "                                 economicLifetime=22, interest=0.08))   "
   ]
  },
  {
   "cell_type": "code",
   "execution_count": null,
   "metadata": {},
   "outputs": [],
   "source": [
    "if H2modeling and storageModeling:\n",
    "    capacityMax=pd.read_excel(os.path.join(inputDataPath,'SpatialData','GeologicalStorage',\n",
    "                                           'existingSaltCavernsCapacity_GWh_methane.xlsx'),\n",
    "                              index_col=0, squeeze=True)*3/10\n",
    "\n",
    "    esM.add(ef.StorageTechnology(esS=esM, name='Salt caverns (hydrogen)', carrier='hydrogen',\n",
    "                                 capexCap=0.00011, opexCap=0.00057, #cyclicLifetime=10000, \n",
    "                                 multipleUsageID='Existing salt caverns', minSOC=0.33, maxSOC=1,\n",
    "                                 injectability=1/470.37, deliverability=1/470.37,\n",
    "                                 energyUnit='GWh', powerUnit='GW', costUnit='1e9 Euro',\n",
    "                                 economicLifetime=30, interest=0.08, maxCapacity=capacityMax))  "
   ]
  },
  {
   "cell_type": "code",
   "execution_count": null,
   "metadata": {
    "collapsed": true
   },
   "outputs": [],
   "source": [
    "if storageModeling and biogasModeling:\n",
    "    capacityMax=pd.read_excel(os.path.join(inputDataPath,'SpatialData','GeologicalStorage',\n",
    "                                           'existingSaltCavernsCapacity_GWh_methane.xlsx'),\n",
    "                              index_col=0, squeeze=True)\n",
    "\n",
    "    esM.add(ef.StorageTechnology(esS=esM, name='Salt caverns (methane)', carrier='methane',\n",
    "                                 capexCap=0.00004, opexCap=0.00001, #cyclicLifetime=10000, \n",
    "                                 multipleUsageID='Existing salt caverns', minSOC=0.33, maxSOC=1,\n",
    "                                 injectability=1/470.37, deliverability=1/470.37,\n",
    "                                 energyUnit='GWh', powerUnit='GW', costUnit='1e9 Euro',\n",
    "                                 economicLifetime=30, interest=0.08, maxCapacity=capacityMax))      "
   ]
  },
  {
   "cell_type": "code",
   "execution_count": null,
   "metadata": {
    "collapsed": true
   },
   "outputs": [],
   "source": [
    "if storageModeling and PHSmodeling:\n",
    "    capacityFix=pd.read_excel(os.path.join(inputDataPath,'SpatialData','HydroPower',\n",
    "                                           'fixCapacityPHS_storage_GWh_energyPHS.xlsx'),\n",
    "                              index_col=0, squeeze=True)\n",
    "\n",
    "    esM.add(ef.StorageTechnology(esS=esM, name='Pumped hydro storage', carrier='electricity',\n",
    "                                 injectionEfficiency=0.88, deliveryEfficiency=0.88,\n",
    "                                 selfDischarge=1-(1-0.00375)**(1/(30*24)),\n",
    "                                 capexCap=0, opexCap=0.000153, \n",
    "                                 injectability=0.16, deliverability=0.12, \n",
    "                                 energyUnit='GWh', powerUnit='GW', costUnit='1e9 Euro',\n",
    "                                 economicLifetime=30, interest=0.08, fixCapacity=capacityFix))      "
   ]
  },
  {
   "cell_type": "code",
   "execution_count": null,
   "metadata": {},
   "outputs": [],
   "source": [
    "if transmissionModeling:\n",
    "    capacityFix=pd.read_excel(os.path.join(inputDataPath,'SpatialData','ElectricGrid',\n",
    "                                           'ACcableExistingCapacity_GW_el.xlsx'),\n",
    "                              index_col=0, header=0)\n",
    "    eligibility= capacityFix.copy()\n",
    "    eligibility[eligibility>0] =1\n",
    "\n",
    "    esM.add(ef.TransmissionTechnology(esS=esM, name='AC cables', carrier='electricity', eligibility=eligibility,\n",
    "                                      fixCapacity=capacityFix, economicLifetime=40, interest=0.08, lengths=capacityFix,\n",
    "                                      energyUnit='GWh', powerUnit='GW', costUnit='1e9 Euro', lengthUnit='km'))"
   ]
  },
  {
   "cell_type": "code",
   "execution_count": null,
   "metadata": {},
   "outputs": [],
   "source": [
    "if transmissionModeling:\n",
    "    capacityFix=pd.read_excel(os.path.join(inputDataPath,'SpatialData','ElectricGrid',\n",
    "                                           'DCcableExistingCapacity_GW_el.xlsx'),\n",
    "                              index_col=0, header=0)\n",
    "    eligibility= capacityFix.copy()\n",
    "    eligibility[eligibility>0] =1\n",
    "    \n",
    "    distances=pd.read_excel(os.path.join(inputDataPath,'SpatialData','ElectricGrid',\n",
    "                                           'DCcableLength_km.xlsx'),\n",
    "                              index_col=0, header=0)\n",
    "\n",
    "    esM.add(ef.TransmissionTechnology(esS=esM, name='DC cables', carrier='electricity', eligibility=eligibility,\n",
    "                                      losses=0.00001,\n",
    "                                      fixCapacity=capacityFix, economicLifetime=40, interest=0.08, lengths=distances,\n",
    "                                      energyUnit='GWh', powerUnit='GW', costUnit='1e9 Euro', lengthUnit='km'))    "
   ]
  },
  {
   "cell_type": "code",
   "execution_count": null,
   "metadata": {
    "collapsed": true
   },
   "outputs": [],
   "source": [
    "if transmissionModeling:\n",
    "    eligibility=pd.read_excel(os.path.join(inputDataPath,'SpatialData','Pipelines',\n",
    "                                           'pipelineIncidence.xlsx'), index_col=0, header=0)\n",
    "    distances=pd.read_excel(os.path.join(inputDataPath,'SpatialData','Pipelines', 'pipelineIncidence.xlsx'),\n",
    "                              index_col=0, header=0)\n",
    "\n",
    "    esM.add(ef.TransmissionTechnology(esS=esM, name='Pipelines (methane)', carrier='methane',\n",
    "                                      eligibility=eligibility, capexCap=0.000037,\n",
    "                                      economicLifetime=40, interest=0.08, lengths=distances,\n",
    "                                      energyUnit='GWh', powerUnit='GW', costUnit='1e9 Euro', lengthUnit='km'))      "
   ]
  },
  {
   "cell_type": "code",
   "execution_count": null,
   "metadata": {
    "collapsed": true
   },
   "outputs": [],
   "source": [
    "if H2modeling and transmissionModeling:\n",
    "    eligibility=pd.read_excel(os.path.join(inputDataPath,'SpatialData','Pipelines', 'pipelineIncidence.xlsx'),\n",
    "                              index_col=0, header=0)\n",
    "    distances=pd.read_excel(os.path.join(inputDataPath,'SpatialData','Pipelines', 'pipelineIncidence.xlsx'),\n",
    "                              index_col=0, header=0)\n",
    "    \n",
    "    esM.add(ef.TransmissionTechnology(esS=esM, name='Pipelines (hydrogen)', carrier='hydrogen',\n",
    "                                      eligibility=eligibility, capexCap=0.000177,\n",
    "                                      economicLifetime=40, interest=0.08, lengths=distances,\n",
    "                                      energyUnit='GWh', powerUnit='GW', costUnit='1e9 Euro', lengthUnit='km'))       "
   ]
  },
  {
   "cell_type": "code",
   "execution_count": null,
   "metadata": {},
   "outputs": [],
   "source": [
    "operationRateFix=pd.read_excel(os.path.join(inputDataPath,'SpatialData','Demands',\n",
    "                                            'electricityDemand_GWh_el.xlsx'))\n",
    "\n",
    "esM.add(ef.DemandData(esS=esM, name='Electricity demand', carrier='electricity',\n",
    "                data=operationRateFix, energyUnit='GWh'))"
   ]
  },
  {
   "cell_type": "code",
   "execution_count": null,
   "metadata": {
    "collapsed": true
   },
   "outputs": [],
   "source": [
    "if H2modeling:\n",
    "    FCEV_penetration=0.5\n",
    "    operationRateFix=pd.read_excel(os.path.join(inputDataPath,'SpatialData','Demands',\n",
    "                                                'hydrogenDemand_GWh_hydrogen.xlsx'))*FCEV_penetration\n",
    "\n",
    "    esM.add(ef.DemandData(esS=esM, name='Hydrogen demand', carrier='hydrogen',\n",
    "                    data=operationRateFix, energyUnit='GWh'))    "
   ]
  },
  {
   "cell_type": "code",
   "execution_count": null,
   "metadata": {},
   "outputs": [],
   "source": [
    "if CO2modeling:\n",
    "    esM.add(ef.SaleOption(esS=esM, name='CO2 to enviroment', carrier='CO2',\n",
    "                      energyUnit='GWh', costUnit='1e9 Euro', cost=0, carrierLimitationKey='CO2'))   "
   ]
  },
  {
   "cell_type": "code",
   "execution_count": null,
   "metadata": {
    "scrolled": true
   },
   "outputs": [],
   "source": [
    "periods = []\n",
    "TAC = []\n",
    "cap_conv = []\n",
    "cap_sosi = []\n",
    "cap_stor = []\n",
    "\n",
    "l1=range(4,30,4)\n",
    "l2=range(30,150,30)\n",
    "l3=range(150,360,70)\n",
    "l=[]\n",
    "l.extend(l1), l.extend(l2), l.extend(l3), l.extend([365])\n",
    "l = [7]\n",
    "\n",
    "for p in l:\n",
    "    esM.cluster(numberOfTypicalPeriods=p)\n",
    "    pyM, results, _, _ = ef.optimize(esM, timeSeriesAggregation=True, optimizationSpecs='LogToConsole=1 OptimalityTol=1e-6 cuts=3 method=2')\n",
    "    TAC.append(pyM.Obj()), periods.append(p)\n",
    "    fig, ax1 = plt.subplots(1,1, figsize=(12,4))\n",
    "    ax1.plot(periods, TAC)       \n",
    "    plt.show()\n",
    "\n",
    "#pyM, results, _, _ = ef.optimize(esM, timeSeriesAggregation=False, optimizationSpecs='LogToConsole=1 OptimalityTol=1e-6 cuts=3 method=2')\n",
    "#TAC.append(pyM.Obj()), periods.append(366)\n",
    "#fig, ax1 = plt.subplots(1,1, figsize=(12,4))\n",
    "#ax1.plot(periods, TAC)       \n",
    "#plt.show()"
   ]
  },
  {
   "cell_type": "code",
   "execution_count": null,
   "metadata": {},
   "outputs": [],
   "source": [
    "6.59491872599\n",
    "6.59487771323"
   ]
  },
  {
   "cell_type": "code",
   "execution_count": null,
   "metadata": {},
   "outputs": [],
   "source": [
    "for i in pyM.timeSet:\n",
    "    print(i)"
   ]
  },
  {
   "cell_type": "code",
   "execution_count": null,
   "metadata": {},
   "outputs": [],
   "source": [
    "ef.outputManager.getOptimizationSummary(esM, results, True).sum(axis=1)"
   ]
  },
  {
   "cell_type": "code",
   "execution_count": null,
   "metadata": {},
   "outputs": [],
   "source": [
    "CO2reduction"
   ]
  },
  {
   "cell_type": "code",
   "execution_count": null,
   "metadata": {
    "collapsed": true
   },
   "outputs": [],
   "source": []
  }
 ],
 "metadata": {
  "kernelspec": {
   "display_name": "Python 3",
   "language": "python",
   "name": "python3"
  },
  "language_info": {
   "codemirror_mode": {
    "name": "ipython",
    "version": 3
   },
   "file_extension": ".py",
   "mimetype": "text/x-python",
   "name": "python",
   "nbconvert_exporter": "python",
   "pygments_lexer": "ipython3",
   "version": "3.6.3"
  }
 },
 "nbformat": 4,
 "nbformat_minor": 2
}
