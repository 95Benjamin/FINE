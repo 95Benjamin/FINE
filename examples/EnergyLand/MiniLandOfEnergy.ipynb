{
 "cells": [
  {
   "cell_type": "code",
   "execution_count": 1,
   "metadata": {},
   "outputs": [],
   "source": [
    "import FINE as fn\n",
    "from getData import getData\n",
    "import pandas as pd\n",
    "import os\n",
    "import copy\n",
    "cwd = os.getcwd()\n",
    "data = getData()\n",
    "\n",
    "\n",
    "%matplotlib inline  \n",
    "%load_ext autoreload\n",
    "%autoreload 2"
   ]
  },
  {
   "cell_type": "code",
   "execution_count": 2,
   "metadata": {},
   "outputs": [],
   "source": [
    "locations = {'EnergyLand_elec'}\n",
    "commodityUnitDict = {'electricity': r'GW$_{el}$'}\n",
    "commodities = {'electricity'}\n",
    "numberOfTimeSteps=8760\n",
    "hoursPerTimeStep=1"
   ]
  },
  {
   "cell_type": "code",
   "execution_count": 3,
   "metadata": {},
   "outputs": [],
   "source": [
    "esM = fn.EnergySystemModel(locations=locations, commodities=commodities, numberOfTimeSteps=8760,\n",
    "                           commodityUnitsDict=commodityUnitDict,\n",
    "                           hoursPerTimeStep=1, costUnit='1e6 Euro', lengthUnit='km', verboseLogLevel=0)"
   ]
  },
  {
   "cell_type": "markdown",
   "metadata": {},
   "source": [
    "# Sources"
   ]
  },
  {
   "cell_type": "code",
   "execution_count": 4,
   "metadata": {},
   "outputs": [],
   "source": [
    "esM.add(fn.Source(esM=esM, name='Wind_Onshore', commodity='electricity', hasCapacityVariable=True,\n",
    "                  operationRateMax=data['Wind_onshore, operationRateMax'],\n",
    "                  capacityMax=data['Wind_onshore, capacityMax'],\n",
    "                  investPerCapacity=1250, opexPerCapacity=1250*0.02, interestRate=0.08,\n",
    "                  economicLifetime=20, technicalLifetime=10))"
   ]
  },
  {
   "cell_type": "markdown",
   "metadata": {},
   "source": [
    "esM.add(fn.Source(esM=esM, name='Wind_Onshore_stock', commodity='electricity', hasCapacityVariable=True,\n",
    "                  operationRateMax=data['Wind_onshore, operationRateMax'],\n",
    "                  capacityFix=100, \n",
    "                  investPerCapacity=1250, opexPerCapacity=1250*0.02, interestRate=0.08,\n",
    "                  economicLifetime=20))"
   ]
  },
  {
   "cell_type": "markdown",
   "metadata": {},
   "source": [
    "esM.add(fn.Source(esM=esM, name='PV', commodity='electricity', hasCapacityVariable=True,\n",
    "                  operationRateMax=data['PV, operationRateMax'],\n",
    "                  capacityMax=data['PV, capacityMax'],\n",
    "                  investPerCapacity=800, opexPerCapacity=800*0.019, interestRate=0.08,\n",
    "                  economicLifetime=20))"
   ]
  },
  {
   "cell_type": "code",
   "execution_count": 5,
   "metadata": {},
   "outputs": [],
   "source": [
    "esM.add(fn.Source(esM=esM, name='el_Import', commodity='electricity', hasCapacityVariable=False,\n",
    "                  operationRateMax=data['el_Import, operationRateMax']))"
   ]
  },
  {
   "cell_type": "markdown",
   "metadata": {},
   "source": [
    "# Storage"
   ]
  },
  {
   "cell_type": "code",
   "execution_count": 6,
   "metadata": {},
   "outputs": [],
   "source": [
    "esM.add(fn.Storage(esM=esM, name='Li-ion batteries', commodity='electricity',\n",
    "                   hasCapacityVariable=True, chargeEfficiency=0.99,\n",
    "                   dischargeEfficiency=0.99, selfDischarge=0.004,\n",
    "                   doPreciseTsaModeling=False,investPerCapacity=120, \n",
    "                   opexPerCapacity=120*0.014, opexPerChargeOperation=0.0001, \n",
    "                   interestRate=0.08, economicLifetime=10))"
   ]
  },
  {
   "cell_type": "markdown",
   "metadata": {},
   "source": [
    "esM.add(fn.Storage(esM=esM, name='Li-ion batteries_stock', commodity='electricity',\n",
    "                   hasCapacityVariable=True, chargeEfficiency=0.99,\n",
    "                   dischargeEfficiency=0.99, selfDischarge=0.004,\n",
    "                   doPreciseTsaModeling=False,investPerCapacity=120, \n",
    "                   opexPerCapacity=120*0.014, opexPerChargeOperation=0.0001, \n",
    "                   interestRate=0.08, economicLifetime=10, capacityFix=0))"
   ]
  },
  {
   "cell_type": "markdown",
   "metadata": {},
   "source": [
    "# Sink"
   ]
  },
  {
   "cell_type": "code",
   "execution_count": 7,
   "metadata": {},
   "outputs": [],
   "source": [
    "eDemand=516\n",
    "esM.add(fn.Sink(esM=esM, name='Electricity demand', commodity='electricity',\n",
    "                hasCapacityVariable=False, operationRateFix=data['Electricity demand, operationRateFix']*eDemand))"
   ]
  },
  {
   "cell_type": "markdown",
   "metadata": {},
   "source": [
    "# Optimization"
   ]
  },
  {
   "cell_type": "code",
   "execution_count": 8,
   "metadata": {},
   "outputs": [
    {
     "data": {
      "text/plain": [
       "{'Wind_Onshore': 'SourceSinkModel',\n",
       " 'el_Import': 'SourceSinkModel',\n",
       " 'Li-ion batteries': 'StorageModel',\n",
       " 'Electricity demand': 'SourceSinkModel'}"
      ]
     },
     "execution_count": 8,
     "metadata": {},
     "output_type": "execute_result"
    }
   ],
   "source": [
    "esM.componentNames"
   ]
  },
  {
   "cell_type": "code",
   "execution_count": 9,
   "metadata": {},
   "outputs": [
    {
     "name": "stdout",
     "output_type": "stream",
     "text": [
      "\n",
      "Clustering time series data with 7 typical periods and 24 time steps per period...\n",
      "\t\t(0.4842 sec)\n",
      "\n",
      "Time series aggregation specifications:\n",
      "Number of typical periods:7, number of time steps per periods:24\n",
      "\n",
      "Declaring sets, variables and constraints for SourceSinkModel\n",
      "\tdeclaring sets... \n",
      "\tdeclaring variables... \n",
      "\tdeclaring constraints... \n",
      "\t\t(0.6405 sec)\n",
      "\n",
      "Declaring sets, variables and constraints for StorageModel\n",
      "\tdeclaring sets... \n",
      "\tdeclaring variables... \n",
      "\tdeclaring constraints... \n",
      "\t\t(0.0625 sec)\n",
      "\n",
      "Declaring shared potential constraint...\n",
      "\t\t(0.0000 sec)\n",
      "\n",
      "Declaring commodity balances...\n",
      "\t\t(0.0156 sec)\n",
      "\n",
      "Declaring objective function...\n",
      "\t\t(0.0000 sec)\n",
      "\n",
      "Using license file C:\\Users\\there\\gurobi.lic\n",
      "Academic license - for non-commercial use only\n",
      "Read LP format model from file C:\\Users\\there\\AppData\\Local\\Temp\\tmpgdh3eqcr.pyomo.lp\n",
      "Reading time = 0.02 seconds\n",
      "x1400: 2618 rows, 1400 columns, 6462 nonzeros\n",
      "Changed value of parameter QCPDual to 1\n",
      "   Prev: 0  Min: 0  Max: 1  Default: 0\n",
      "Changed value of parameter Threads to 3\n",
      "   Prev: 0  Min: 0  Max: 1024  Default: 0\n",
      "Changed value of parameter logfile to log_2020\n",
      "   Prev:   Default: \n",
      "Gurobi Optimizer version 9.0.0 build v9.0.0rc2 (win64)\n",
      "Optimize a model with 2618 rows, 1400 columns and 6462 nonzeros\n",
      "Model fingerprint: 0xd30429f1\n",
      "Coefficient statistics:\n",
      "  Matrix range     [2e-02, 1e+00]\n",
      "  Objective range  [3e-03, 2e+02]\n",
      "  Bounds range     [6e+02, 6e+02]\n",
      "  RHS range        [1e+00, 8e+01]\n",
      "Presolve removed 857 rows and 664 columns\n",
      "Presolve time: 0.00s\n",
      "Presolved: 1761 rows, 736 columns, 6820 nonzeros\n",
      "\n",
      "Iteration    Objective       Primal Inf.    Dual Inf.      Time\n",
      "       0      handle free variables                          0s\n",
      "     701    1.3394338e+05   0.000000e+00   0.000000e+00      0s\n",
      "\n",
      "Solved in 701 iterations and 0.02 seconds\n",
      "Optimal objective  1.339433845e+05\n",
      "\n",
      "Status: ok\n",
      "Return code: 0\n",
      "Message: Model was solved to optimality (subject to tolerances), and an optimal solution is available.\n",
      "Termination condition: optimal\n",
      "Termination message: Model was solved to optimality (subject to tolerances), and an optimal solution is available.\n",
      "Wall time: 0.015626907348632812\n",
      "Error rc: 0\n",
      "Time: 0.3436551094055176\n",
      "\n",
      "\n",
      "Name: x1400\n",
      "Lower bound: 133943.38448864527\n",
      "Upper bound: 133943.38448864527\n",
      "Number of objectives: 1\n",
      "Number of constraints: 2618\n",
      "Number of variables: 1400\n",
      "Number of binary variables: 0\n",
      "Number of integer variables: 0\n",
      "Number of continuous variables: 1400\n",
      "Number of nonzeros: 6462\n",
      "Sense: minimize\n",
      "\n",
      "Solve time: 0.4530019760131836 sec.\n",
      "\n",
      "Processing optimization output...\n",
      "for SourceSinkModel ...(0.3593sec)\n",
      "for StorageModel ...  (1.2653sec)\n",
      "\t\t(1.6246 sec)\n",
      "\n",
      "\n",
      "Clustering time series data with 7 typical periods and 24 time steps per period...\n",
      "\t\t(0.3749 sec)\n",
      "\n",
      "Time series aggregation specifications:\n",
      "Number of typical periods:7, number of time steps per periods:24\n",
      "\n",
      "Declaring sets, variables and constraints for SourceSinkModel\n",
      "\tdeclaring sets... \n",
      "\tdeclaring variables... \n",
      "\tdeclaring constraints... \n",
      "\t\t(0.0312 sec)\n",
      "\n",
      "Declaring sets, variables and constraints for StorageModel\n",
      "\tdeclaring sets... \n",
      "\tdeclaring variables... \n",
      "\tdeclaring constraints... \n",
      "\t\t(0.1875 sec)\n",
      "\n",
      "Declaring shared potential constraint...\n",
      "\t\t(0.0000 sec)\n",
      "\n",
      "Declaring commodity balances...\n",
      "\t\t(0.0157 sec)\n",
      "\n",
      "Declaring objective function...\n",
      "\t\t(0.0000 sec)\n",
      "\n",
      "Using license file C:\\Users\\there\\gurobi.lic\n",
      "Academic license - for non-commercial use only\n",
      "Read LP format model from file C:\\Users\\there\\AppData\\Local\\Temp\\tmpuo1h5zpa.pyomo.lp\n",
      "Reading time = 0.03 seconds\n",
      "x2463: 4733 rows, 2463 columns, 12253 nonzeros\n",
      "Changed value of parameter QCPDual to 1\n",
      "   Prev: 0  Min: 0  Max: 1  Default: 0\n",
      "Changed value of parameter Threads to 3\n",
      "   Prev: 0  Min: 0  Max: 1024  Default: 0\n",
      "Changed value of parameter logfile to log_2025\n",
      "   Prev:   Default: \n",
      "Gurobi Optimizer version 9.0.0 build v9.0.0rc2 (win64)\n",
      "Optimize a model with 4733 rows, 2463 columns and 12253 nonzeros\n",
      "Model fingerprint: 0xe5963ad6\n",
      "Coefficient statistics:\n",
      "  Matrix range     [3e-02, 1e+00]\n",
      "  Objective range  [6e-04, 2e+02]\n",
      "  Bounds range     [6e+02, 6e+02]\n",
      "  RHS range        [1e+00, 3e+03]\n",
      "Presolve removed 1795 rows and 1263 columns\n",
      "Presolve time: 0.00s\n",
      "Presolved: 2938 rows, 1200 columns, 12055 nonzeros\n",
      "\n",
      "Iteration    Objective       Primal Inf.    Dual Inf.      Time\n",
      "       0      handle free variables                          0s\n",
      "     818    1.3694858e+05   0.000000e+00   0.000000e+00      0s\n",
      "\n",
      "Solved in 818 iterations and 0.03 seconds\n",
      "Optimal objective  1.369485840e+05\n",
      "\n",
      "Status: ok\n",
      "Return code: 0\n",
      "Message: Model was solved to optimality (subject to tolerances), and an optimal solution is available.\n",
      "Termination condition: optimal\n",
      "Termination message: Model was solved to optimality (subject to tolerances), and an optimal solution is available.\n",
      "Wall time: 0.0312347412109375\n",
      "Error rc: 0\n",
      "Time: 0.3748805522918701\n",
      "\n",
      "\n",
      "Name: x2463\n",
      "Lower bound: 136948.58401128295\n",
      "Upper bound: 136948.58401128295\n",
      "Number of objectives: 1\n",
      "Number of constraints: 4733\n",
      "Number of variables: 2463\n",
      "Number of binary variables: 0\n",
      "Number of integer variables: 0\n",
      "Number of continuous variables: 2463\n",
      "Number of nonzeros: 12253\n",
      "Sense: minimize\n",
      "\n",
      "Solve time: 0.5779860019683838 sec.\n",
      "\n",
      "Processing optimization output...\n",
      "for SourceSinkModel ...(0.3593sec)\n",
      "for StorageModel ...  (1.3122sec)\n",
      "\t\t(1.6715 sec)\n",
      "\n",
      "Wind_Onshore_stock_2020 EnergyLand_elec    5.0\n",
      "dtype: float64\n",
      "Li-ion batteries_stock_2020 EnergyLand_elec    5.0\n",
      "dtype: float64\n",
      "\n",
      "Clustering time series data with 7 typical periods and 24 time steps per period...\n",
      "\t\t(0.4217 sec)\n",
      "\n",
      "Time series aggregation specifications:\n",
      "Number of typical periods:7, number of time steps per periods:24\n",
      "\n",
      "Declaring sets, variables and constraints for SourceSinkModel\n",
      "\tdeclaring sets... \n",
      "\tdeclaring variables... \n",
      "\tdeclaring constraints... \n",
      "\t\t(0.0469 sec)\n",
      "\n",
      "Declaring sets, variables and constraints for StorageModel\n",
      "\tdeclaring sets... \n",
      "\tdeclaring variables... \n",
      "\tdeclaring constraints... \n",
      "\t\t(0.2500 sec)\n",
      "\n",
      "Declaring shared potential constraint...\n",
      "\t\t(0.0000 sec)\n",
      "\n",
      "Declaring commodity balances...\n",
      "\t\t(0.0156 sec)\n",
      "\n",
      "Declaring objective function...\n",
      "\t\t(0.0156 sec)\n",
      "\n",
      "Using license file C:\\Users\\there\\gurobi.lic\n",
      "Academic license - for non-commercial use only\n",
      "Read LP format model from file C:\\Users\\there\\AppData\\Local\\Temp\\tmpnnkci0cq.pyomo.lp\n",
      "Reading time = 0.03 seconds\n",
      "x3526: 6848 rows, 3526 columns, 18044 nonzeros\n",
      "Changed value of parameter QCPDual to 1\n",
      "   Prev: 0  Min: 0  Max: 1  Default: 0\n",
      "Changed value of parameter Threads to 3\n",
      "   Prev: 0  Min: 0  Max: 1024  Default: 0\n",
      "Changed value of parameter logfile to log_2030\n",
      "   Prev:   Default: \n",
      "Gurobi Optimizer version 9.0.0 build v9.0.0rc2 (win64)\n",
      "Optimize a model with 6848 rows, 3526 columns and 18044 nonzeros\n",
      "Model fingerprint: 0xd29dd681\n",
      "Coefficient statistics:\n",
      "  Matrix range     [3e-02, 1e+00]\n",
      "  Objective range  [5e-04, 2e+02]\n",
      "  Bounds range     [6e+02, 6e+02]\n",
      "  RHS range        [1e+00, 3e+03]\n",
      "Presolve removed 3910 rows and 2326 columns\n",
      "Presolve time: 0.00s\n",
      "Presolved: 2938 rows, 1200 columns, 11973 nonzeros\n",
      "\n",
      "Iteration    Objective       Primal Inf.    Dual Inf.      Time\n",
      "       0      handle free variables                          0s\n",
      "     603    1.3694489e+05   0.000000e+00   0.000000e+00      0s\n",
      "\n",
      "Solved in 603 iterations and 0.03 seconds\n",
      "Optimal objective  1.369448948e+05\n",
      "\n",
      "Status: ok\n",
      "Return code: 0\n",
      "Message: Model was solved to optimality (subject to tolerances), and an optimal solution is available.\n",
      "Termination condition: optimal\n",
      "Termination message: Model was solved to optimality (subject to tolerances), and an optimal solution is available.\n",
      "Wall time: 0.031240463256835938\n",
      "Error rc: 0\n",
      "Time: 0.35929012298583984\n",
      "\n",
      "\n",
      "Name: x3526\n",
      "Lower bound: 136944.894809842\n",
      "Upper bound: 136944.894809842\n",
      "Number of objectives: 1\n",
      "Number of constraints: 6848\n",
      "Number of variables: 3526\n",
      "Number of binary variables: 0\n",
      "Number of integer variables: 0\n",
      "Number of continuous variables: 3526\n",
      "Number of nonzeros: 18044\n",
      "Sense: minimize\n",
      "\n",
      "Solve time: 0.6560623645782471 sec.\n",
      "\n",
      "Processing optimization output...\n",
      "for SourceSinkModel ...(0.3749sec)\n",
      "for StorageModel ...  (1.4215sec)\n",
      "\t\t(1.7965 sec)\n",
      "\n",
      "Wind_Onshore_stock_2020 EnergyLand_elec    0.0\n",
      "dtype: float64\n",
      "Wind_Onshore_stock_2025 EnergyLand_elec    5.0\n",
      "dtype: float64\n",
      "Li-ion batteries_stock_2020 EnergyLand_elec    0.0\n",
      "dtype: float64\n",
      "Li-ion batteries_stock_2025 EnergyLand_elec    5.0\n",
      "dtype: float64\n"
     ]
    }
   ],
   "source": [
    "esM.optimizeMyopic(startYear=2020, nbOfSteps=3, stepLength=5, numberOfTypicalPeriods=7, timeSeriesAggregation=True)"
   ]
  },
  {
   "cell_type": "code",
   "execution_count": null,
   "metadata": {},
   "outputs": [],
   "source": [
    "esM.componentModelingDict['SourceSinkModel'].componentsDict['Wind_Onshore_stock'].capacityFix"
   ]
  },
  {
   "cell_type": "code",
   "execution_count": null,
   "metadata": {},
   "outputs": [],
   "source": [
    "esM.cluster(numberOfTypicalPeriods=7)"
   ]
  },
  {
   "cell_type": "code",
   "execution_count": null,
   "metadata": {},
   "outputs": [],
   "source": [
    "esM.optimize(timeSeriesAggregation=True, solver='gurobi')"
   ]
  },
  {
   "cell_type": "code",
   "execution_count": null,
   "metadata": {},
   "outputs": [],
   "source": [
    "esM.getOptimizationSummary(\"SourceSinkModel\", outputLevel=0)"
   ]
  },
  {
   "cell_type": "code",
   "execution_count": null,
   "metadata": {},
   "outputs": [],
   "source": [
    "esM.getStock(2025)"
   ]
  },
  {
   "cell_type": "code",
   "execution_count": null,
   "metadata": {},
   "outputs": [],
   "source": [
    "esM.componentModelingDict['SourceSinkModel'].componentsDict['Wind_Onshore'].name"
   ]
  },
  {
   "cell_type": "code",
   "execution_count": null,
   "metadata": {},
   "outputs": [],
   "source": [
    "esM.getOptimizationSummary(\"StorageModel\", outputLevel=2)"
   ]
  },
  {
   "cell_type": "markdown",
   "metadata": {},
   "source": [
    "# Jetzt kommt der Stock!!"
   ]
  },
  {
   "cell_type": "code",
   "execution_count": null,
   "metadata": {},
   "outputs": [],
   "source": [
    "esM.getStock('2020')"
   ]
  },
  {
   "cell_type": "code",
   "execution_count": null,
   "metadata": {},
   "outputs": [],
   "source": [
    "esM.componentModelingDict['SourceSinkModel'].componentsDict['Wind_Onshore_stock'].capacityFix"
   ]
  },
  {
   "cell_type": "code",
   "execution_count": null,
   "metadata": {},
   "outputs": [],
   "source": [
    "esM.declareOptimizationProblem(timeSeriesAggregation=False)"
   ]
  },
  {
   "cell_type": "markdown",
   "metadata": {},
   "source": [
    "# TESTEN"
   ]
  },
  {
   "cell_type": "code",
   "execution_count": null,
   "metadata": {},
   "outputs": [],
   "source": [
    "esM.setFixedVariables('capacityVariablesOptimum')"
   ]
  },
  {
   "cell_type": "code",
   "execution_count": null,
   "metadata": {},
   "outputs": [],
   "source": [
    "compValues = esM.componentModelingDict['StorageModel'].getOptimizedValues('capacityVariablesOptimum')"
   ]
  },
  {
   "cell_type": "code",
   "execution_count": null,
   "metadata": {},
   "outputs": [],
   "source": [
    "compValues"
   ]
  },
  {
   "cell_type": "code",
   "execution_count": null,
   "metadata": {},
   "outputs": [],
   "source": [
    "stockComp = copy.copy(esM.componentModelingDict['StorageModel'].componentsDict['Li-ion batteries'])"
   ]
  },
  {
   "cell_type": "code",
   "execution_count": null,
   "metadata": {},
   "outputs": [],
   "source": [
    "stockComp"
   ]
  },
  {
   "cell_type": "code",
   "execution_count": null,
   "metadata": {},
   "outputs": [],
   "source": [
    "esM.componentModelingDict['StorageModel'].componentsDict['Li-ion batteries']"
   ]
  },
  {
   "cell_type": "code",
   "execution_count": null,
   "metadata": {},
   "outputs": [],
   "source": [
    "stockComp.name = stockComp.name + '_stock'"
   ]
  },
  {
   "cell_type": "code",
   "execution_count": null,
   "metadata": {},
   "outputs": [],
   "source": [
    "esM.componentModelingDict['StorageModel'].componentsDict['Li-ion batteries'].name"
   ]
  },
  {
   "cell_type": "code",
   "execution_count": null,
   "metadata": {},
   "outputs": [],
   "source": [
    "stockComp.name"
   ]
  },
  {
   "cell_type": "code",
   "execution_count": null,
   "metadata": {},
   "outputs": [],
   "source": [
    "compValues.loc['Wind_Onshore'].values"
   ]
  },
  {
   "cell_type": "code",
   "execution_count": null,
   "metadata": {},
   "outputs": [],
   "source": [
    "compValues.loc['Li-ion batteries'][0]"
   ]
  },
  {
   "cell_type": "code",
   "execution_count": null,
   "metadata": {},
   "outputs": [],
   "source": [
    "for mdl in esM.componentModelingDict.keys():\n",
    "    print(mdl)"
   ]
  },
  {
   "cell_type": "code",
   "execution_count": null,
   "metadata": {},
   "outputs": [],
   "source": [
    "for comp in esM.componentModelingDict[mdl].componentNames.keys():\n",
    "        print(comp)"
   ]
  },
  {
   "cell_type": "code",
   "execution_count": null,
   "metadata": {},
   "outputs": [],
   "source": [
    "for comp in esM.componentModelingDict[mdl].componentsDict.keys():\n",
    "    print(comp)"
   ]
  },
  {
   "cell_type": "code",
   "execution_count": null,
   "metadata": {},
   "outputs": [],
   "source": [
    "esM.getStock()"
   ]
  },
  {
   "cell_type": "code",
   "execution_count": null,
   "metadata": {},
   "outputs": [],
   "source": [
    "esM.componentModelingDict[mdl].componentsDict['Li-ion batteries'].name"
   ]
  },
  {
   "cell_type": "code",
   "execution_count": null,
   "metadata": {},
   "outputs": [],
   "source": [
    "stockComp = esM.componentModelingDict[mdl].componentsDict['Li-ion batteries']"
   ]
  },
  {
   "cell_type": "code",
   "execution_count": null,
   "metadata": {},
   "outputs": [],
   "source": [
    "stockComp.dischargeEfficiency"
   ]
  },
  {
   "cell_type": "code",
   "execution_count": null,
   "metadata": {},
   "outputs": [],
   "source": [
    "stockComp2.name = stockComp.name+'_Hallo'"
   ]
  },
  {
   "cell_type": "code",
   "execution_count": null,
   "metadata": {},
   "outputs": [],
   "source": [
    "stockComp2.operationRateMax"
   ]
  },
  {
   "cell_type": "code",
   "execution_count": null,
   "metadata": {},
   "outputs": [],
   "source": [
    "stockComp.capacityFix = compValues.loc['Li-ion batteries'][0]"
   ]
  },
  {
   "cell_type": "code",
   "execution_count": null,
   "metadata": {},
   "outputs": [],
   "source": [
    "stockComp.capacityFix"
   ]
  },
  {
   "cell_type": "code",
   "execution_count": null,
   "metadata": {},
   "outputs": [],
   "source": [
    "esM.add(stockComp)"
   ]
  },
  {
   "cell_type": "code",
   "execution_count": null,
   "metadata": {},
   "outputs": [],
   "source": [
    "for comp in esM.componentModelingDict['SourceSinkModel'].componentsDict.keys():\n",
    "    print(comp)"
   ]
  },
  {
   "cell_type": "code",
   "execution_count": null,
   "metadata": {},
   "outputs": [],
   "source": [
    "stockComp2 = esM.componentModelingDict['SourceSinkModel'].componentsDict['Wind_Onshore']"
   ]
  },
  {
   "cell_type": "code",
   "execution_count": null,
   "metadata": {},
   "outputs": [],
   "source": [
    "stockComp2"
   ]
  },
  {
   "cell_type": "code",
   "execution_count": null,
   "metadata": {},
   "outputs": [],
   "source": [
    "stockComp2.capacityMax = None"
   ]
  },
  {
   "cell_type": "code",
   "execution_count": null,
   "metadata": {},
   "outputs": [],
   "source": [
    "esM.componentModelingDict['SourceSinkModel'].getOptimizedValues('capacityVariablesOptimum').loc['Wind_Onshore']"
   ]
  },
  {
   "cell_type": "code",
   "execution_count": null,
   "metadata": {},
   "outputs": [],
   "source": [
    "compValues.values[0]"
   ]
  },
  {
   "cell_type": "code",
   "execution_count": null,
   "metadata": {},
   "outputs": [],
   "source": [
    "stockComp2.capacityFix = compValues.values[0]"
   ]
  },
  {
   "cell_type": "code",
   "execution_count": null,
   "metadata": {},
   "outputs": [],
   "source": [
    "stockComp2.name = stockComp2.name+'_stock'"
   ]
  },
  {
   "cell_type": "code",
   "execution_count": null,
   "metadata": {},
   "outputs": [],
   "source": [
    "esM.add(stockComp2)"
   ]
  },
  {
   "cell_type": "code",
   "execution_count": null,
   "metadata": {},
   "outputs": [],
   "source": [
    "stockComp4 = stockComp2"
   ]
  },
  {
   "cell_type": "code",
   "execution_count": null,
   "metadata": {},
   "outputs": [],
   "source": [
    "stockComp4.name"
   ]
  },
  {
   "cell_type": "code",
   "execution_count": null,
   "metadata": {},
   "outputs": [],
   "source": [
    "stockComp2.name"
   ]
  },
  {
   "cell_type": "code",
   "execution_count": null,
   "metadata": {},
   "outputs": [],
   "source": [
    "stockComp4.name = 'Tschuess'"
   ]
  },
  {
   "cell_type": "code",
   "execution_count": null,
   "metadata": {},
   "outputs": [],
   "source": [
    "stockComp2.name"
   ]
  },
  {
   "cell_type": "code",
   "execution_count": null,
   "metadata": {},
   "outputs": [],
   "source": [
    "stockComp3 = copy.copy(stockComp2)"
   ]
  },
  {
   "cell_type": "code",
   "execution_count": null,
   "metadata": {},
   "outputs": [],
   "source": [
    "stockComp3.name"
   ]
  },
  {
   "cell_type": "code",
   "execution_count": null,
   "metadata": {},
   "outputs": [],
   "source": [
    "stockComp2.name"
   ]
  },
  {
   "cell_type": "code",
   "execution_count": null,
   "metadata": {},
   "outputs": [],
   "source": [
    "stockComp3.name = 'Hallo'"
   ]
  },
  {
   "cell_type": "code",
   "execution_count": null,
   "metadata": {},
   "outputs": [],
   "source": [
    "stockComp2.name"
   ]
  },
  {
   "cell_type": "code",
   "execution_count": null,
   "metadata": {},
   "outputs": [],
   "source": []
  }
 ],
 "metadata": {
  "kernelspec": {
   "display_name": "Python 3",
   "language": "python",
   "name": "python3"
  },
  "language_info": {
   "codemirror_mode": {
    "name": "ipython",
    "version": 3
   },
   "file_extension": ".py",
   "mimetype": "text/x-python",
   "name": "python",
   "nbconvert_exporter": "python",
   "pygments_lexer": "ipython3",
   "version": "3.6.9"
  }
 },
 "nbformat": 4,
 "nbformat_minor": 2
}
