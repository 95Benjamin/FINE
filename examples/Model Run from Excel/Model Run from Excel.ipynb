{
 "cells": [
  {
   "cell_type": "markdown",
   "metadata": {},
   "source": [
    "# Using Excel for parameter input and model runs\n",
    "\n",
    "Besides using a python script or a jupyter notebook it is also possible to read and run a model using excel files.\n",
    "\n",
    "The energySystemModelRunFromExcel() function reads a model from excel, optimizes it and stores it to an excel file.\n",
    "\n",
    "The readEnergySystemModelFromExcel() function reads a model from excel.\n",
    "\n",
    "The model run can also be started on double-klicking on the run.bat Windows batch script in the folder where this notebook is located (still requires that a Python version, the FINE package and an optmization solver are installed).\n",
    "\n",
    "Moreover, it is possible to run the model inside the Excel file with a VBA Macro (see scenarioInputWithMacro.xlsx)"
   ]
  },
  {
   "cell_type": "markdown",
   "metadata": {},
   "source": [
    "# Import FINE package\n"
   ]
  },
  {
   "cell_type": "code",
   "execution_count": null,
   "metadata": {
    "collapsed": true
   },
   "outputs": [],
   "source": [
    "import FINE as fn \n",
    "%load_ext autoreload\n",
    "%autoreload 2"
   ]
  },
  {
   "cell_type": "markdown",
   "metadata": {},
   "source": [
    "# Call energySystemModelRunFromExcel function"
   ]
  },
  {
   "cell_type": "markdown",
   "metadata": {},
   "source": [
    "### Read model from excel file, optimize and store to excel file\n",
    "Checkout the output excel file in the folder where this notebook is located"
   ]
  },
  {
   "cell_type": "code",
   "execution_count": null,
   "metadata": {
    "scrolled": true
   },
   "outputs": [
    {
     "name": "stdout",
     "output_type": "stream",
     "text": [
      "The distances of a component are set to a normalized values of 1.\n",
      "\n",
      "Clustering time series data with 3 typical periods and 24 time steps per period...\n",
      "\t\t(4.9051 sec)\n",
      "\n",
      "Time series aggregation specifications:\n",
      "Number of typical periods:3, number of time steps per periods:24\n",
      "\n",
      "Declaring sets, variables and constraints for StorageModel\n",
      "\tdeclaring sets... \n",
      "\tdeclaring variables... \n",
      "\tdeclaring constraints... \n",
      "\t\t(1.6871 sec)\n",
      "\n",
      "Declaring sets, variables and constraints for ConversionModel\n",
      "\tdeclaring sets... \n",
      "\tdeclaring variables... \n",
      "\tdeclaring constraints... \n",
      "\t\t(0.0469 sec)\n",
      "\n",
      "Declaring sets, variables and constraints for SourceSinkModel\n",
      "\tdeclaring sets... \n",
      "\tdeclaring variables... \n",
      "\tdeclaring constraints... \n",
      "\t\t(0.2343 sec)\n",
      "\n",
      "Declaring sets, variables and constraints for TransmissionModel\n",
      "\tdeclaring sets... \n",
      "\tdeclaring variables... \n",
      "\tdeclaring constraints... \n",
      "\t\t(0.1250 sec)\n",
      "\n",
      "Declaring shared potential constraint...\n",
      "\t\t(0.0000 sec)\n",
      "\n",
      "Declaring commodity balances...\n",
      "\t\t(0.4217 sec)\n",
      "\n",
      "Declaring objective function...\n",
      "\t\t(0.3437 sec)\n",
      "\n",
      "Academic license - for non-commercial use only\n",
      "Changed value of parameter QCPDual to 1\n",
      "   Prev: 0  Min: 0  Max: 1  Default: 0\n",
      "Changed value of parameter logfile to \n",
      "   Prev: gurobi.log  Default: \n",
      "Changed value of parameter Threads to 3\n",
      "   Prev: 0  Min: 0  Max: 1024  Default: 0\n",
      "Changed value of parameter method to 2\n",
      "   Prev: -1  Min: -1  Max: 5  Default: -1\n",
      "Changed value of parameter OptimalityTol to 0.001\n",
      "   Prev: 1e-06  Min: 1e-09  Max: 0.01  Default: 1e-06\n",
      "Changed value of parameter cuts to 0\n",
      "   Prev: -1  Min: -1  Max: 3  Default: -1\n",
      "Optimize a model with 50111 rows, 27264 columns and 147376 nonzeros\n",
      "Variable types: 27226 continuous, 38 integer (28 binary)\n",
      "Coefficient statistics:\n",
      "  Matrix range     [1e-06, 5e+02]\n",
      "  Objective range  [2e-06, 3e-01]\n",
      "  Bounds range     [1e+00, 6e+04]\n",
      "  RHS range        [4e-02, 5e+01]\n",
      "Presolve removed 13620 rows and 10101 columns\n",
      "Presolve time: 0.30s\n",
      "Presolved: 36491 rows, 17163 columns, 119873 nonzeros\n",
      "Variable types: 17139 continuous, 24 integer (14 binary)\n",
      "Presolve removed 14 rows and 14 columns\n",
      "Presolved: 36477 rows, 17149 columns, 119845 nonzeros\n",
      "\n",
      "Root barrier log...\n",
      "\n",
      "Ordering time: 0.42s\n",
      "\n",
      "Barrier statistics:\n",
      " Dense cols : 168\n",
      " Free vars  : 552\n",
      " AA' NZ     : 4.919e+05\n",
      " Factor NZ  : 1.893e+06 (roughly 40 MBytes of memory)\n",
      " Factor Ops : 3.904e+08 (less than 1 second per iteration)\n",
      " Threads    : 3\n",
      "\n",
      "                  Objective                Residual\n",
      "Iter       Primal          Dual         Primal    Dual     Compl     Time\n",
      "   0   7.24214535e+04 -1.09882080e+06  1.61e+05 1.39e-02  4.57e+02     1s\n",
      "   1   5.78179208e+04 -7.90481120e+05  1.07e+05 1.75e-01  2.67e+02     1s\n",
      "   2   2.30878061e+04 -6.35715479e+05  3.92e+04 1.11e-01  1.17e+02     1s\n",
      "   3   6.54179305e+03 -2.03375624e+05  6.41e+03 5.56e-03  1.72e+01     1s\n",
      "   4   3.69117021e+03 -9.78583063e+04  2.29e+03 1.43e-03  6.12e+00     1s\n",
      "   5   2.20618442e+03 -3.25205470e+04  7.27e+02 1.52e-04  1.71e+00     1s\n",
      "   6   6.37193071e+02 -2.25569832e+04  5.37e+01 7.28e-05  4.76e-01     2s\n",
      "   7   3.50281789e+02 -4.01521329e+03  5.93e+00 2.68e-05  7.79e-02     2s\n",
      "   8   2.42508690e+02 -1.64292813e+03  4.45e-02 4.40e-05  3.23e-02     2s\n",
      "   9   1.49420343e+02 -7.63942815e+02  1.20e-02 5.51e-05  1.54e-02     2s\n",
      "  10   1.01753817e+02 -3.35026762e+02  5.48e-03 4.76e-05  7.34e-03     2s\n",
      "  11   8.24169458e+01 -5.70088733e+01  3.03e-03 3.47e-05  2.34e-03     2s\n",
      "  12   6.51471329e+01  1.59074392e+01  1.37e-03 1.65e-05  8.24e-04     2s\n",
      "  13   5.82641332e+01  2.87021375e+01  8.70e-04 1.01e-05  4.95e-04     2s\n",
      "  14   5.35277098e+01  3.53618141e+01  5.59e-04 6.47e-06  3.04e-04     2s\n",
      "  15   5.07708951e+01  3.92044013e+01  3.88e-04 4.03e-06  1.93e-04     2s\n",
      "  16   4.83812510e+01  4.06462911e+01  2.36e-04 3.15e-06  1.29e-04     2s\n",
      "  17   4.72856265e+01  4.12406409e+01  1.57e-04 2.76e-06  1.01e-04     2s\n",
      "  18   4.68514997e+01  4.17854366e+01  1.29e-04 2.38e-06  8.47e-05     2s\n",
      "  19   4.66530501e+01  4.18793446e+01  1.16e-04 2.31e-06  7.98e-05     2s\n",
      "  20   4.63589522e+01  4.23966338e+01  9.63e-05 1.97e-06  6.63e-05     2s\n",
      "  21   4.58071388e+01  4.28004819e+01  6.19e-05 1.66e-06  5.03e-05     2s\n",
      "  22   4.56482620e+01  4.29286277e+01  5.32e-05 1.56e-06  4.55e-05     2s\n",
      "  23   4.55503822e+01  4.30929712e+01  4.71e-05 1.43e-06  4.11e-05     2s\n",
      "  24   4.54327855e+01  4.32836122e+01  3.91e-05 1.28e-06  3.59e-05     2s\n",
      "  25   4.52673241e+01  4.37490876e+01  2.89e-05 8.97e-07  2.54e-05     2s\n",
      "  26   4.51962850e+01  4.38743287e+01  2.46e-05 7.96e-07  2.21e-05     2s\n",
      "  27   4.51420545e+01  4.39212228e+01  2.14e-05 7.56e-07  2.04e-05     3s\n",
      "  28   4.50836331e+01  4.41825171e+01  1.77e-05 5.42e-07  1.51e-05     3s\n",
      "  29   4.49655545e+01  4.44035751e+01  1.05e-05 3.57e-07  9.40e-06     3s\n",
      "  30   4.48943455e+01  4.45520482e+01  6.01e-06 2.37e-07  5.72e-06     3s\n",
      "  31   4.48616001e+01  4.46031684e+01  4.06e-06 1.86e-07  4.32e-06     3s\n",
      "  32   4.48276088e+01  4.46920637e+01  2.10e-06 9.84e-08  2.27e-06     3s\n",
      "  33   4.48087565e+01  4.47332632e+01  1.13e-06 5.45e-08  1.26e-06     3s\n",
      "  34   4.48035108e+01  4.47533057e+01  8.60e-07 3.39e-08  8.39e-07     3s\n",
      "  35   4.47981072e+01  4.47701627e+01  5.96e-07 1.74e-08  4.67e-07     3s\n",
      "  36   4.47925683e+01  4.47750210e+01  3.29e-07 1.22e-08  2.93e-07     3s\n",
      "  37   4.47899650e+01  4.47798619e+01  2.08e-07 6.74e-09  1.69e-07     3s\n",
      "  38   4.47887247e+01  4.47804437e+01  1.48e-07 6.06e-09  1.38e-07     3s\n",
      "  39   4.47881110e+01  4.47826162e+01  1.14e-07 3.49e-09  9.19e-08     3s\n",
      "  40   4.47874632e+01  4.47844933e+01  8.22e-08 2.24e-09  4.97e-08     3s\n",
      "  41   4.47870975e+01  4.47845675e+01  6.50e-08 1.73e-09  4.23e-08     3s\n",
      "  42   4.47861188e+01  4.47850866e+01  1.89e-08 8.46e-10  1.73e-08     3s\n",
      "  43   4.47859818e+01  4.47852815e+01  1.34e-08 5.56e-10  1.17e-08     3s\n",
      "  44   4.47858905e+01  4.47854192e+01  9.67e-09 3.47e-10  7.88e-09     3s\n",
      "  45   4.47858761e+01  4.47854574e+01  9.17e-09 2.86e-10  7.00e-09     3s\n",
      "  46   4.47857847e+01  4.47855266e+01  5.63e-09 1.73e-10  4.31e-09     3s\n",
      "  47   4.47857675e+01  4.47855562e+01  4.94e-09 1.30e-10  3.53e-09     4s\n",
      "  48   4.47856909e+01  4.47855926e+01  2.05e-09 7.48e-11  1.64e-09     4s\n",
      "  49   4.47856524e+01  4.47856254e+01  5.53e-10 1.86e-11  4.51e-10     4s\n",
      "  50   4.47856399e+01  4.47856338e+01  2.44e-10 1.56e-12  1.01e-10     4s\n",
      "  51   4.47856363e+01  4.47856347e+01  2.67e-10 1.69e-10  2.62e-11     4s\n",
      "  52   4.47856354e+01  4.47856350e+01  6.50e-10 8.73e-11  6.97e-12     4s\n",
      "\n",
      "Barrier solved model in 52 iterations and 3.81 seconds\n",
      "Optimal objective 4.47856354e+01\n",
      "\n",
      "\n",
      "Root relaxation: objective 4.478564e+01, 6178 iterations, 3.69 seconds\n",
      "\n",
      "    Nodes    |    Current Node    |     Objective Bounds      |     Work\n",
      " Expl Unexpl |  Obj  Depth IntInf | Incumbent    BestBd   Gap | It/Node Time\n",
      "\n",
      "     0     0   44.78564    0   14          -   44.78564      -     -    4s\n",
      "H    0     0                      68.1521331   44.78564  34.3%     -    8s\n",
      "     0     0   44.78956    0    8   68.15213   44.78956  34.3%     -   23s\n"
     ]
    }
   ],
   "source": [
    "esM = fn.energySystemModelRunFromExcel()"
   ]
  },
  {
   "cell_type": "markdown",
   "metadata": {},
   "source": [
    "### Read only"
   ]
  },
  {
   "cell_type": "code",
   "execution_count": null,
   "metadata": {},
   "outputs": [],
   "source": [
    "esM, esMData = fn.readEnergySystemModelFromExcel()"
   ]
  }
 ],
 "metadata": {
  "kernelspec": {
   "display_name": "Python 3",
   "language": "python",
   "name": "python3"
  },
  "language_info": {
   "codemirror_mode": {
    "name": "ipython",
    "version": 3
   },
   "file_extension": ".py",
   "mimetype": "text/x-python",
   "name": "python",
   "nbconvert_exporter": "python",
   "pygments_lexer": "ipython3",
   "version": "3.7.0"
  }
 },
 "nbformat": 4,
 "nbformat_minor": 2
}
