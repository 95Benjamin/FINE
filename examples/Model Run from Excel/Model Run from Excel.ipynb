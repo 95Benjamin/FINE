{
 "cells": [
  {
   "cell_type": "markdown",
   "metadata": {},
   "source": [
    "# Using Excel for parameter input and model runs\n",
    "\n",
    "Besides using a python script or a jupyter notebook it is also possible to read and run a model using excel files.\n",
    "\n",
    "The energySystemModelRunFromExcel() function reads a model from excel, optimizes it and stores it to an excel file.\n",
    "\n",
    "The readEnergySystemModelFromExcel() function reads a model from excel.\n",
    "\n",
    "The model run can also be started on double-klicking on the run.bat Windows batch script in the folder where this notebook is located (still requires that a Python version, the FINE package and an optmization solver are installed).\n",
    "\n",
    "Moreover, it is possible to run the model inside the Excel file with a VBA Macro (see scenarioInputWithMacro.xlsx)"
   ]
  },
  {
   "cell_type": "markdown",
   "metadata": {},
   "source": [
    "# Import FINE package\n"
   ]
  },
  {
   "cell_type": "code",
   "execution_count": 1,
   "metadata": {},
   "outputs": [],
   "source": [
    "import FINE as fn \n",
    "%load_ext autoreload\n",
    "%autoreload 2"
   ]
  },
  {
   "cell_type": "markdown",
   "metadata": {},
   "source": [
    "# Call energySystemModelRunFromExcel function"
   ]
  },
  {
   "cell_type": "markdown",
   "metadata": {},
   "source": [
    "### Read model from excel file, optimize and store to excel file\n",
    "Checkout the output excel file in the folder where this notebook is located"
   ]
  },
  {
   "cell_type": "code",
   "execution_count": 2,
   "metadata": {
    "scrolled": true
   },
   "outputs": [
    {
     "name": "stdout",
     "output_type": "stream",
     "text": [
      "The distances of a component are set to a normalized values of 1.\n",
      "\n",
      "Clustering time series data with 3 typical periods and 24 time steps per period...\n",
      "\t\t(3.8515 sec)\n",
      "\n",
      "Time series aggregation specifications:\n",
      "Number of typical periods:3, number of time steps per periods:24\n",
      "\n",
      "Declaring sets, variables and constraints for StorageModel\n",
      "\tdeclaring sets... \n",
      "\tdeclaring variables... \n",
      "\tdeclaring constraints... \n",
      "\t\t(1.2338 sec)\n",
      "\n",
      "Declaring sets, variables and constraints for SourceSinkModel\n",
      "\tdeclaring sets... \n",
      "\tdeclaring variables... \n",
      "\tdeclaring constraints... \n",
      "\t\t(0.2187 sec)\n",
      "\n",
      "Declaring sets, variables and constraints for ConversionModel\n",
      "\tdeclaring sets... \n",
      "\tdeclaring variables... \n",
      "\tdeclaring constraints... \n",
      "\t\t(0.0469 sec)\n",
      "\n",
      "Declaring sets, variables and constraints for TransmissionModel\n",
      "\tdeclaring sets... \n",
      "\tdeclaring variables... \n",
      "\tdeclaring constraints... \n",
      "\t\t(0.0937 sec)\n",
      "\n",
      "Declaring shared potential constraint...\n",
      "\t\t(0.0000 sec)\n",
      "\n",
      "Declaring commodity balances...\n",
      "\t\t(0.2426 sec)\n",
      "\n",
      "Declaring objective function...\n",
      "\t\t(0.2092 sec)\n",
      "\n",
      "Academic license - for non-commercial use only\n",
      "Read LP format model from file C:\\Users\\t.gross\\Documents\\Fork-Test\\FINE\\examples\\Model Run from Excel\\tmpphzx5uv1.pyomo.lp\n",
      "Reading time = 0.19 seconds\n",
      "x27264: 50111 rows, 27264 columns, 147376 nonzeros\n",
      "Changed value of parameter QCPDual to 1\n",
      "   Prev: 0  Min: 0  Max: 1  Default: 0\n",
      "Changed value of parameter logfile to \n",
      "   Prev: gurobi.log  Default: \n",
      "Changed value of parameter Threads to 3\n",
      "   Prev: 0  Min: 0  Max: 1024  Default: 0\n",
      "Changed value of parameter method to 2\n",
      "   Prev: -1  Min: -1  Max: 5  Default: -1\n",
      "Changed value of parameter OptimalityTol to 0.001\n",
      "   Prev: 1e-06  Min: 1e-09  Max: 0.01  Default: 1e-06\n",
      "Changed value of parameter cuts to 0\n",
      "   Prev: -1  Min: -1  Max: 3  Default: -1\n",
      "Optimize a model with 50111 rows, 27264 columns and 147376 nonzeros\n",
      "Variable types: 27226 continuous, 38 integer (28 binary)\n",
      "Coefficient statistics:\n",
      "  Matrix range     [1e-06, 5e+02]\n",
      "  Objective range  [2e-06, 3e-01]\n",
      "  Bounds range     [1e+00, 6e+04]\n",
      "  RHS range        [4e-02, 5e+01]\n",
      "Presolve removed 13620 rows and 10101 columns\n",
      "Presolve time: 0.19s\n",
      "Presolved: 36491 rows, 17163 columns, 119873 nonzeros\n",
      "Variable types: 17139 continuous, 24 integer (14 binary)\n",
      "Presolve removed 14 rows and 14 columns\n",
      "Presolved: 36477 rows, 17149 columns, 119845 nonzeros\n",
      "\n",
      "Root barrier log...\n",
      "\n",
      "Ordering time: 0.00s\n",
      "\n",
      "Barrier statistics:\n",
      " Dense cols : 168\n",
      " Free vars  : 552\n",
      " AA' NZ     : 4.919e+05\n",
      " Factor NZ  : 1.870e+06 (roughly 40 MBytes of memory)\n",
      " Factor Ops : 3.831e+08 (less than 1 second per iteration)\n",
      " Threads    : 3\n",
      "\n",
      "                  Objective                Residual\n",
      "Iter       Primal          Dual         Primal    Dual     Compl     Time\n",
      "   0   7.24214535e+04 -1.09882080e+06  1.61e+05 1.39e-02  4.57e+02     1s\n",
      "   1   5.78179208e+04 -7.90481120e+05  1.07e+05 1.75e-01  2.67e+02     1s\n",
      "   2   2.30878061e+04 -6.35715479e+05  3.92e+04 1.11e-01  1.17e+02     1s\n",
      "   3   6.54179305e+03 -2.03375624e+05  6.41e+03 5.56e-03  1.72e+01     1s\n",
      "   4   3.69117021e+03 -9.78583063e+04  2.29e+03 1.43e-03  6.12e+00     1s\n",
      "   5   2.20618442e+03 -3.25205470e+04  7.27e+02 1.52e-04  1.71e+00     1s\n",
      "   6   6.37193071e+02 -2.25569832e+04  5.37e+01 7.28e-05  4.76e-01     1s\n",
      "   7   3.50281789e+02 -4.01521329e+03  5.93e+00 2.68e-05  7.79e-02     1s\n",
      "   8   2.42508690e+02 -1.64292813e+03  4.45e-02 4.40e-05  3.23e-02     1s\n",
      "   9   1.49420343e+02 -7.63942815e+02  1.20e-02 5.51e-05  1.54e-02     1s\n",
      "  10   1.01753817e+02 -3.35026762e+02  5.48e-03 4.76e-05  7.34e-03     1s\n",
      "  11   8.24169458e+01 -5.70088733e+01  3.03e-03 3.47e-05  2.34e-03     1s\n",
      "  12   6.51471329e+01  1.59074392e+01  1.37e-03 1.65e-05  8.24e-04     1s\n",
      "  13   5.82641332e+01  2.87021375e+01  8.70e-04 1.01e-05  4.95e-04     1s\n",
      "  14   5.35277098e+01  3.53618141e+01  5.59e-04 6.47e-06  3.04e-04     1s\n",
      "  15   5.07708951e+01  3.92044012e+01  3.88e-04 4.03e-06  1.93e-04     1s\n",
      "  16   4.83812510e+01  4.06462911e+01  2.36e-04 3.15e-06  1.29e-04     1s\n",
      "  17   4.72856265e+01  4.12406409e+01  1.57e-04 2.76e-06  1.01e-04     1s\n",
      "  18   4.68514997e+01  4.17854366e+01  1.29e-04 2.38e-06  8.47e-05     1s\n",
      "  19   4.66530502e+01  4.18793446e+01  1.16e-04 2.31e-06  7.98e-05     1s\n",
      "  20   4.63589522e+01  4.23966338e+01  9.63e-05 1.97e-06  6.63e-05     1s\n",
      "  21   4.58071388e+01  4.28004820e+01  6.19e-05 1.66e-06  5.03e-05     1s\n",
      "  22   4.56482620e+01  4.29286276e+01  5.32e-05 1.56e-06  4.55e-05     1s\n",
      "  23   4.55503759e+01  4.30929801e+01  4.71e-05 1.43e-06  4.11e-05     1s\n",
      "  24   4.54327682e+01  4.32836048e+01  3.91e-05 1.28e-06  3.59e-05     1s\n",
      "  25   4.52673127e+01  4.37490923e+01  2.89e-05 8.97e-07  2.54e-05     1s\n",
      "  26   4.51962760e+01  4.38743193e+01  2.46e-05 7.96e-07  2.21e-05     1s\n",
      "  27   4.51420490e+01  4.39212222e+01  2.14e-05 7.56e-07  2.04e-05     1s\n",
      "  28   4.50836269e+01  4.41825465e+01  1.77e-05 5.42e-07  1.51e-05     1s\n",
      "  29   4.49655618e+01  4.44036322e+01  1.05e-05 3.57e-07  9.39e-06     1s\n",
      "  30   4.48943462e+01  4.45519711e+01  6.01e-06 2.37e-07  5.72e-06     2s\n",
      "  31   4.48615949e+01  4.46027654e+01  4.06e-06 1.87e-07  4.33e-06     2s\n",
      "  32   4.48276001e+01  4.46919851e+01  2.10e-06 9.85e-08  2.27e-06     2s\n",
      "  33   4.48087413e+01  4.47331756e+01  1.12e-06 5.46e-08  1.26e-06     2s\n",
      "  34   4.48034953e+01  4.47532280e+01  8.59e-07 3.40e-08  8.40e-07     2s\n",
      "  35   4.47981360e+01  4.47701198e+01  5.98e-07 1.74e-08  4.68e-07     2s\n",
      "  36   4.47925690e+01  4.47750393e+01  3.29e-07 1.22e-08  2.93e-07     2s\n",
      "  37   4.47899303e+01  4.47799726e+01  2.06e-07 6.66e-09  1.66e-07     2s\n",
      "  38   4.47891668e+01  4.47803538e+01  1.69e-07 6.20e-09  1.47e-07     2s\n",
      "  39   4.47885312e+01  4.47824989e+01  1.36e-07 3.66e-09  1.01e-07     2s\n",
      "  40   4.47875145e+01  4.47841003e+01  8.51e-08 3.71e-09  5.71e-08     2s\n",
      "  41   4.47861898e+01  4.47847613e+01  1.95e-08 2.20e-09  2.39e-08     2s\n",
      "  42   4.47859377e+01  4.47848412e+01  1.04e-08 1.95e-09  1.83e-08     2s\n",
      "  43   4.47858675e+01  4.47853038e+01  7.77e-09 7.78e-10  9.42e-09     2s\n",
      "  44   4.47857953e+01  4.47854720e+01  5.22e-09 3.29e-10  5.40e-09     2s\n",
      "  45   4.47857420e+01  4.47855648e+01  3.49e-09 1.04e-10  2.96e-09     2s\n",
      "  46   4.47857253e+01  4.47855848e+01  2.95e-09 7.15e-11  2.35e-09     2s\n",
      "  47   4.47856987e+01  4.47855962e+01  2.08e-09 5.23e-11  1.71e-09     2s\n",
      "  48   4.47856595e+01  4.47856060e+01  7.60e-10 3.69e-11  8.94e-10     2s\n",
      "  49   4.47856439e+01  4.47856260e+01  6.28e-10 1.08e-11  3.00e-10     2s\n",
      "  50   4.47856387e+01  4.47856342e+01  2.80e-10 2.21e-11  7.58e-11     2s\n",
      "  51   4.47856355e+01  4.47856350e+01  2.18e-10 3.63e-11  8.76e-12     2s\n",
      "  52   4.47856352e+01  4.47856351e+01  2.86e-09 8.92e-10  2.42e-12     2s\n",
      "\n",
      "Barrier solved model in 52 iterations and 2.08 seconds\n",
      "Optimal objective 4.47856352e+01\n",
      "\n",
      "\n",
      "Root relaxation: objective 4.478564e+01, 5856 iterations, 1.98 seconds\n",
      "\n",
      "    Nodes    |    Current Node    |     Objective Bounds      |     Work\n",
      " Expl Unexpl |  Obj  Depth IntInf | Incumbent    BestBd   Gap | It/Node Time\n",
      "\n",
      "     0     0   44.78564    0   14          -   44.78564      -     -    2s\n",
      "H    0     0                      45.4890970   44.78564  1.55%     -    3s\n",
      "     0     0     cutoff    0        45.48910   45.48910  0.00%     -    3s\n",
      "\n",
      "Explored 1 nodes (5881 simplex iterations) in 3.33 seconds\n",
      "Thread count was 3 (of 8 available processors)\n",
      "\n",
      "Solution count 1: 45.4891 \n",
      "\n",
      "Optimal solution found (tolerance 1.00e-04)\n",
      "Best objective 4.548909702865e+01, best bound 4.548909702865e+01, gap 0.0000%\n",
      "\n",
      "Status: ok\n",
      "Return code: 0\n",
      "Message: Model was solved to optimality (subject to tolerances), and an optimal solution is available.\n",
      "Termination condition: optimal\n",
      "Termination message: Model was solved to optimality (subject to tolerances), and an optimal solution is available.\n",
      "Wall time: 3.32937240601\n",
      "Error rc: 0\n",
      "Time: 3.9135937690734863\n",
      "\n",
      "\n",
      "Name: x27264\n",
      "Lower bound: 45.4890970287\n",
      "Upper bound: 45.4890970287\n",
      "Number of objectives: 1\n",
      "Number of constraints: 50111\n",
      "Number of variables: 27264\n",
      "Number of binary variables: 28\n",
      "Number of integer variables: 38\n",
      "Number of continuous variables: 27226\n",
      "Number of nonzeros: 147376\n",
      "Sense: minimize\n",
      "\n",
      "Solve time: 6.02867317199707 sec.\n",
      "\n",
      "Processing optimization output...\n",
      "for StorageModel ...       (1.4024sec)\n",
      "for SourceSinkModel ...    (0.4694sec)\n"
     ]
    },
    {
     "name": "stdout",
     "output_type": "stream",
     "text": [
      "for ConversionModel ...    (0.3461sec)\n",
      "for TransmissionModel ...  (1.1326sec)\n",
      "\t\t(3.3504 sec)\n",
      "\n",
      "\n",
      "Writing output to Excel... \n",
      "\t\t(15.8780 sec)\n",
      "\n"
     ]
    }
   ],
   "source": [
    "esM = fn.energySystemModelRunFromExcel()"
   ]
  },
  {
   "cell_type": "markdown",
   "metadata": {},
   "source": [
    "### Read only"
   ]
  },
  {
   "cell_type": "code",
   "execution_count": 3,
   "metadata": {},
   "outputs": [
    {
     "name": "stdout",
     "output_type": "stream",
     "text": [
      "The distances of a component are set to a normalized values of 1.\n"
     ]
    }
   ],
   "source": [
    "esM, esMData = fn.readEnergySystemModelFromExcel()"
   ]
  },
  {
   "cell_type": "code",
   "execution_count": 4,
   "metadata": {},
   "outputs": [],
   "source": [
    "esM = fn.readOptimizationOutputFromExcel(esM, 'ScenarioResults.xlsx')"
   ]
  }
 ],
 "metadata": {
  "kernelspec": {
   "display_name": "Python 3",
   "language": "python",
   "name": "python3"
  },
  "language_info": {
   "codemirror_mode": {
    "name": "ipython",
    "version": 3
   },
   "file_extension": ".py",
   "mimetype": "text/x-python",
   "name": "python",
   "nbconvert_exporter": "python",
   "pygments_lexer": "ipython3",
   "version": "3.7.0"
  }
 },
 "nbformat": 4,
 "nbformat_minor": 2
}
