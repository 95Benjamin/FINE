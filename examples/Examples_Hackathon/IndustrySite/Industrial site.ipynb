{
 "cells": [
  {
   "cell_type": "code",
   "execution_count": 1,
   "metadata": {},
   "outputs": [],
   "source": [
    "import warnings\n",
    "warnings.filterwarnings('ignore') # For better visibility, warnings are turned off in this notebook"
   ]
  },
  {
   "cell_type": "markdown",
   "metadata": {},
   "source": [
    "# Industrial Site"
   ]
  },
  {
   "cell_type": "markdown",
   "metadata": {},
   "source": [
    "In this application of the FINE framework, an energy supply system, consisting of two-regions, is modeled and optimized.\n",
    "\n",
    "The workflow is structures as follows:\n",
    "-  Required packages are imported\n",
    "-  An energy system model instance is created\n",
    "-  Commodity sources are added to the energy supply system model\n",
    "-  Commodity conversion components are added to the energy supply system model\n",
    "-  Commodity storages are added to the energy supply system model\n",
    "-  Commodity transmission components are added to the energy supply system model\n",
    "-  Commodity sinks are added to the energy supply system model\n",
    "-  The energy supply system model is optimized\n",
    "-  Selected optimization results are presented"
   ]
  },
  {
   "cell_type": "markdown",
   "metadata": {},
   "source": [
    "# Import required packages\n",
    "\n",
    "The FINE framework is imported which provides the required classes and functions for modeling the energy system."
   ]
  },
  {
   "cell_type": "code",
   "execution_count": 2,
   "metadata": {},
   "outputs": [],
   "source": [
    "import FINE as fn         # Provides objects and functions to model an energy system \n",
    "import pandas as pd       # Used to manage data in tables\n",
    "import geopandas as gpd   # Used to display geo-referenced plots\n",
    "import shapely as shp     # Used to generate geometric objects\n",
    "import numpy as np        # Used to generate random input data\n",
    "\n",
    "%load_ext autoreload\n",
    "%autoreload 2"
   ]
  },
  {
   "cell_type": "markdown",
   "metadata": {},
   "source": [
    "# Model an energy system"
   ]
  },
  {
   "cell_type": "markdown",
   "metadata": {},
   "source": [
    "## Specify model configuration"
   ]
  },
  {
   "cell_type": "code",
   "execution_count": null,
   "metadata": {},
   "outputs": [],
   "source": [
    "doDSM = True"
   ]
  },
  {
   "cell_type": "markdown",
   "metadata": {},
   "source": [
    "## Create an energy system model instance \n",
    "\n",
    "The structure of the energy supply system model is given by the considered locations, commodities, the number of time steps as well as the hours per time step.\n",
    "\n",
    "The commodities are specified by a unit (i.e. 'GW_electric', 'GW_naturalGas_lowerHeatingValue', 'Mio. t CO2/h') which can be given as an energy or mass unit per hour. Furthermore, the cost unit and length unit are specified."
   ]
  },
  {
   "cell_type": "code",
   "execution_count": 3,
   "metadata": {},
   "outputs": [],
   "source": [
    "# Input parameters\n",
    "locations = {'industry_0'}\n",
    "commodityUnitDict = {'electricity': r'MW$_{el}$', 'hydrogen': r'MW$_{H_{2},LHV}$'}\n",
    "commodities = {'electricity', 'hydrogen'}\n",
    "numberOfTimeSteps, hoursPerTimeStep = 52560, 1/6 #8760, 1 \n",
    "costUnit, lengthUnit = '1e3 Euro', 'km'\n",
    "\n",
    "# Code\n",
    "esM = fn.EnergySystemModel(locations=locations, commodities=commodities,\n",
    "    numberOfTimeSteps=numberOfTimeSteps, commodityUnitsDict=commodityUnitDict,\n",
    "    hoursPerTimeStep=hoursPerTimeStep, costUnit=costUnit, lengthUnit=lengthUnit, verboseLogLevel=0)"
   ]
  },
  {
   "cell_type": "markdown",
   "metadata": {},
   "source": [
    "## Add source component\n",
    "\n",
    "Source components generate commodities across the energy system's virtual boundaries."
   ]
  },
  {
   "cell_type": "code",
   "execution_count": 4,
   "metadata": {},
   "outputs": [],
   "source": [
    "data = pd.read_excel('generationTimeSeries_e825103.xlsx')\n",
    "operationRateMax = pd.DataFrame(data['e825103_2017_2.3MW_faults9'],index=range(numberOfTimeSteps)) # Dataset with least missing data\n",
    "operationRateMax.columns = ['industry_0']"
   ]
  },
  {
   "cell_type": "code",
   "execution_count": 5,
   "metadata": {},
   "outputs": [],
   "source": [
    "# Input parameters\n",
    "name, commodity ='Wind turbines', 'electricity'\n",
    "hasCapacityVariable = True\n",
    "capacityFix = pd.Series([20], index=['industry_0']) # 10 MW_el = 0.01 GW_el\n",
    "investPerCapacity, opexPerCapacity = 0, 30 # 30 €/kW = 30 1e6€/GW = 30 1e3€/MW\n",
    "interestRate, economicLifetime = 0.08, 20\n",
    "\n",
    "# Code\n",
    "esM.add(fn.Source(esM=esM, name=name, commodity=commodity, hasCapacityVariable=hasCapacityVariable,\n",
    "    operationRateMax=operationRateMax, capacityFix=capacityFix, investPerCapacity=investPerCapacity,\n",
    "    opexPerCapacity=opexPerCapacity, interestRate=interestRate, economicLifetime=economicLifetime))"
   ]
  },
  {
   "cell_type": "code",
   "execution_count": 6,
   "metadata": {},
   "outputs": [
    {
     "data": {
      "text/plain": [
       "industry_0    12107.056522\n",
       "dtype: float64"
      ]
     },
     "execution_count": 6,
     "metadata": {},
     "output_type": "execute_result"
    }
   ],
   "source": [
    "operationRateMax.sum()"
   ]
  },
  {
   "cell_type": "code",
   "execution_count": 7,
   "metadata": {},
   "outputs": [
    {
     "data": {
      "text/plain": [
       "<matplotlib.axes._subplots.AxesSubplot at 0x1fbdf8479e8>"
      ]
     },
     "execution_count": 7,
     "metadata": {},
     "output_type": "execute_result"
    },
    {
     "data": {
      "image/png": "[encoded data removed]",
      "text/plain": [
       "<Figure size 432x288 with 1 Axes>"
      ]
     },
     "metadata": {
      "needs_background": "light"
     },
     "output_type": "display_data"
    }
   ],
   "source": [
    "(capacityFix*operationRateMax).plot()"
   ]
  },
  {
   "cell_type": "markdown",
   "metadata": {},
   "source": [
    "## Add conversion components"
   ]
  },
  {
   "cell_type": "code",
   "execution_count": 8,
   "metadata": {},
   "outputs": [],
   "source": [
    "esM.add(fn.Conversion(esM=esM, name='PEMEC', physicalUnit=r'MW$_{el}$',\n",
    "                      commodityConversionFactors={'electricity':-1, 'hydrogen':0.67},\n",
    "                      hasCapacityVariable=True, \n",
    "                      investPerCapacity=2300, opexPerCapacity=12.5, interestRate=0.08, # for 2018 CAPEX\n",
    "                      economicLifetime=5))"
   ]
  },
  {
   "cell_type": "code",
   "execution_count": 9,
   "metadata": {},
   "outputs": [],
   "source": [
    "esM.add(fn.Conversion(esM=esM, name='AEC', physicalUnit=r'MW$_{el}$',\n",
    "                      commodityConversionFactors={'electricity':-1, 'hydrogen':0.64},\n",
    "                      hasCapacityVariable=True, \n",
    "                      investPerCapacity=1300, opexPerCapacity=18, interestRate=0.08, # for 2018 CAPEX\n",
    "                      economicLifetime=9))"
   ]
  },
  {
   "cell_type": "markdown",
   "metadata": {},
   "source": [
    "## Add storage components"
   ]
  },
  {
   "cell_type": "code",
   "execution_count": 10,
   "metadata": {},
   "outputs": [],
   "source": [
    "esM.add(fn.Storage(esM=esM, name='Hydrogen tank (gaseous)', commodity='hydrogen',\n",
    "                   hasCapacityVariable=True, capacityVariableDomain='continuous',\n",
    "                   capacityPerPlantUnit=1,\n",
    "                   chargeRate=1, dischargeRate=1, sharedPotentialID=None,\n",
    "                   stateOfChargeMin=0.06, stateOfChargeMax=1,\n",
    "                   investPerCapacity=0.004, opexPerCapacity=0.004*0.02, interestRate=0.08,\n",
    "                   economicLifetime=20))"
   ]
  },
  {
   "cell_type": "markdown",
   "metadata": {},
   "source": [
    "### Industrial hydrogen demand"
   ]
  },
  {
   "cell_type": "markdown",
   "metadata": {},
   "source": [
    "operationRateFix = pd.DataFrame(2*np.ones(52560)*(1/6), columns=['industry_0']) # constant hydrogen demand of 2 MW_GH2: ATTN\n",
    "esM.add(fn.Sink(esM=esM, name='Hydrogen demand', commodity='hydrogen', hasCapacityVariable=False,\n",
    "                operationRateFix=operationRateFix))"
   ]
  },
  {
   "cell_type": "code",
   "execution_count": 11,
   "metadata": {
    "scrolled": true
   },
   "outputs": [],
   "source": [
    "operationRateFix = pd.DataFrame(2*np.ones(52560)*(1/6), columns=['industry_0']) # constant hydrogen demand of 2 MW_GH2: ATTN\n",
    "if doDSM:\n",
    "    esM.add(fn.DemandSideManagement(esM=esM, name='Hydrogen demand', commodity='hydrogen', hasCapacityVariable=False,\n",
    "                    tUp=1, tDown=1, operationRateFix=operationRateFix))\n",
    "else:\n",
    "    esM.add(fn.Sink(esM=esM, name='Hydrogen demand', commodity='hydrogen', hasCapacityVariable=False,\n",
    "                    operationRateFix=operationRateFix))"
   ]
  },
  {
   "cell_type": "markdown",
   "metadata": {},
   "source": [
    "# Optimize energy system model"
   ]
  },
  {
   "cell_type": "markdown",
   "metadata": {},
   "source": [
    "All components are now added to the model and the model can be optimized. If the computational complexity of the optimization should be reduced, the time series data of the specified components can be clustered before the optimization and the parameter timeSeriesAggregation is set to True in the optimize call."
   ]
  },
  {
   "cell_type": "code",
   "execution_count": 12,
   "metadata": {
    "scrolled": true
   },
   "outputs": [
    {
     "name": "stdout",
     "output_type": "stream",
     "text": [
      "\n",
      "Clustering time series data with 30 typical periods and 144 time steps per period...\n",
      "\t\t(7.6388 sec)\n",
      "\n"
     ]
    }
   ],
   "source": [
    "# Input parameters\n",
    "numberOfTypicalPeriods=30\n",
    "numberOfTimeStepsPerPeriod=24*6\n",
    "\n",
    "# Code\n",
    "esM.cluster(numberOfTypicalPeriods=numberOfTypicalPeriods,numberOfTimeStepsPerPeriod=numberOfTimeStepsPerPeriod)"
   ]
  },
  {
   "cell_type": "code",
   "execution_count": 13,
   "metadata": {},
   "outputs": [
    {
     "name": "stdout",
     "output_type": "stream",
     "text": [
      "Declaring sets, variables and constraints for SourceSinkModel\n",
      "\tdeclaring sets... \n",
      "\tdeclaring variables... \n",
      "\tdeclaring constraints... \n",
      "\t\t(9.5446 sec)\n",
      "\n",
      "Declaring sets, variables and constraints for ConversionModel\n",
      "\tdeclaring sets... \n",
      "\tdeclaring variables... \n",
      "\tdeclaring constraints... \n",
      "\t\t(6.4360 sec)\n",
      "\n",
      "Declaring sets, variables and constraints for StorageModel\n",
      "\tdeclaring sets... \n",
      "\tdeclaring variables... \n",
      "\tdeclaring constraints... \n",
      "\t\t(15.0121 sec)\n",
      "\n",
      "Declaring sets, variables and constraints for StorageExtModel\n",
      "\tdeclaring sets... \n",
      "\tdeclaring variables... \n",
      "\tdeclaring constraints... \n",
      "\t\t(76.2934 sec)\n",
      "\n",
      "Declaring sets, variables and constraints for DSMModel\n",
      "\tdeclaring sets... \n",
      "\tdeclaring variables... \n",
      "\tdeclaring constraints... \n",
      "\t\t(7.4982 sec)\n",
      "\n",
      "Declaring shared potential constraint...\n",
      "\t\t(0.0000 sec)\n",
      "\n",
      "Declaring commodity balances...\n",
      "\t\t(20.5733 sec)\n",
      "\n",
      "Declaring objective function...\n",
      "\t\t(12.0284 sec)\n",
      "\n",
      "Using license file C:\\Users\\LaraWelder\\gurobi.lic\n",
      "Academic license - for non-commercial use only\n",
      "Read LP format model from file C:\\Users\\LARAWE~1\\AppData\\Local\\Temp\\tmp1qprmz1c.pyomo.lp\n",
      "Reading time = 18.64 seconds\n",
      "x840979: 1366576 rows, 840979 columns, 3361201 nonzeros\n",
      "Changed value of parameter QCPDual to 1\n",
      "   Prev: 0  Min: 0  Max: 1  Default: 0\n",
      "Changed value of parameter Threads to 3\n",
      "   Prev: 0  Min: 0  Max: 1024  Default: 0\n",
      "Parameter logfile unchanged\n",
      "   Value:   Default: \n",
      "Gurobi Optimizer version 9.0.0 build v9.0.0rc2 (win64)\n",
      "Optimize a model with 1366576 rows, 840979 columns and 3361201 nonzeros\n",
      "Model fingerprint: 0xca72b0bd\n",
      "Coefficient statistics:\n",
      "  Matrix range     [7e-05, 1e+00]\n",
      "  Objective range  [5e-04, 6e+02]\n",
      "  Bounds range     [0e+00, 0e+00]\n",
      "  RHS range        [3e-01, 2e+01]\n",
      "\n",
      "Concurrent LP optimizer: dual simplex and barrier\n",
      "Showing barrier log only...\n",
      "\n",
      "Presolve removed 843819 rows and 368113 columns (presolve time = 9s) ...\n",
      "Presolve removed 860142 rows and 384436 columns (presolve time = 10s) ...\n",
      "Presolve removed 860142 rows and 384436 columns\n",
      "Presolve time: 11.21s\n",
      "Presolved: 506434 rows, 456543 columns, 1739212 nonzeros\n",
      "\n",
      "Ordering time: 0.66s\n",
      "\n",
      "Barrier statistics:\n",
      " Dense cols : 3\n",
      " AA' NZ     : 2.034e+06\n",
      " Factor NZ  : 7.483e+06 (roughly 450 MBytes of memory)\n",
      " Factor Ops : 1.240e+08 (less than 1 second per iteration)\n",
      " Threads    : 2\n",
      "\n",
      "                  Objective                Residual\n",
      "Iter       Primal          Dual         Primal    Dual     Compl     Time\n",
      "   0   6.53613916e+04 -8.76573651e+04  1.50e+02 0.00e+00  3.93e+01    15s\n",
      "   1   8.48201458e+04 -1.38115562e+05  4.49e+01 4.41e-01  1.17e+01    16s\n",
      "   2   8.38526259e+04 -1.37733374e+05  1.69e+01 1.01e-01  3.74e+00    18s\n",
      "   3   6.18602969e+04 -1.18757228e+05  6.06e+00 3.19e-02  1.36e+00    20s\n",
      "   4   4.79520256e+04 -9.65389583e+04  4.04e+00 1.52e-02  8.62e-01    21s\n",
      "   5   4.12756350e+04 -7.80583910e+04  3.30e+00 9.23e-03  6.64e-01    23s\n",
      "   6   3.61355189e+04 -6.29480649e+04  2.79e+00 6.76e-03  5.47e-01    24s\n",
      "   7   2.63064763e+04 -3.86552908e+04  1.87e+00 3.93e-03  3.64e-01    26s\n",
      "   8   1.86646045e+04 -2.85095197e+04  1.22e+00 2.08e-03  2.32e-01    27s\n",
      "   9   1.23718996e+04 -2.62986063e+04  7.18e-01 1.62e-03  1.56e-01    29s\n",
      "  10   9.57250733e+03 -2.18262113e+04  4.98e-01 1.22e-03  1.14e-01    30s\n",
      "  11   8.38137550e+03 -1.86218893e+04  3.97e-01 9.85e-04  9.23e-02    32s\n",
      "  12   7.97576148e+03 -1.54956749e+04  3.65e-01 8.10e-04  7.99e-02    33s\n",
      "  13   7.75645430e+03 -1.41541996e+04  3.45e-01 7.61e-04  7.52e-02    34s\n",
      "  14   8.03685190e+03 -1.38851758e+04  3.39e-01 7.53e-04  7.48e-02    36s\n",
      "  15   7.55439270e+03 -1.32439904e+04  3.01e-01 7.29e-04  7.06e-02    38s\n",
      "  16   8.22687995e+03 -1.16259869e+04  2.58e-01 6.58e-04  6.39e-02    39s\n",
      "  17   7.02542573e+03 -9.68279036e+03  1.96e-01 5.65e-04  5.29e-02    41s\n",
      "  18   6.78707925e+03 -9.57233908e+03  1.46e-01 5.60e-04  4.92e-02    43s\n",
      "  19   6.66591722e+03 -7.75033467e+03  1.40e-01 4.62e-04  4.22e-02    45s\n",
      "  20   6.47294292e+03 -6.78238232e+03  1.32e-01 4.10e-04  3.81e-02    47s\n",
      "  21   6.26980033e+03 -6.61896404e+03  1.19e-01 4.02e-04  3.67e-02    49s\n",
      "  22   6.13401616e+03 -5.55877085e+03  1.13e-01 3.47e-04  3.25e-02    50s\n",
      "  23   6.04808050e+03 -5.30435778e+03  1.05e-01 3.35e-04  3.12e-02    52s\n",
      "  24   5.81059574e+03 -4.44260224e+03  9.35e-02 2.93e-04  2.75e-02    53s\n",
      "  25   5.62686196e+03 -4.19895871e+03  8.68e-02 2.82e-04  2.62e-02    55s\n",
      "  26   5.55028343e+03 -3.95186318e+03  8.19e-02 2.71e-04  2.51e-02    57s\n",
      "  27   5.35895003e+03 -3.39074213e+03  7.45e-02 2.44e-04  2.27e-02    59s\n",
      "  28   5.48882807e+03 -3.19365309e+03  6.90e-02 2.35e-04  2.20e-02    60s\n",
      "  29   5.09340727e+03 -2.54942698e+03  5.89e-02 2.02e-04  1.90e-02    62s\n",
      "  30   4.93608667e+03 -2.34704641e+03  4.46e-02 1.94e-04  1.77e-02    63s\n",
      "  31   4.60189762e+03 -1.49188015e+03  3.67e-02 1.58e-04  1.46e-02    65s\n",
      "  32   4.51723498e+03 -1.35087093e+03  3.49e-02 1.53e-04  1.41e-02    67s\n",
      "  33   4.40445892e+03 -1.18260858e+03  3.28e-02 1.47e-04  1.34e-02    69s\n",
      "  34   4.31488695e+03 -9.68209537e+02  3.08e-02 1.38e-04  1.27e-02    70s\n",
      "  35   4.26985413e+03 -8.71009809e+02  2.99e-02 1.35e-04  1.23e-02    72s\n",
      "  36   4.20304657e+03 -7.13443419e+02  2.84e-02 1.29e-04  1.18e-02    74s\n",
      "  37   4.17216708e+03 -5.30557300e+02  2.55e-02 1.22e-04  1.12e-02    75s\n",
      "  38   3.96118397e+03 -1.48451354e+02  2.22e-02 1.07e-04  9.76e-03    77s\n",
      "  39   3.86962627e+03 -1.87180391e+01  2.07e-02 1.02e-04  9.28e-03    79s\n",
      "  40   3.81868043e+03  4.63626051e+01  1.99e-02 9.93e-05  9.04e-03    81s\n",
      "  41   3.76227115e+03  1.18620071e+02  1.93e-02 9.66e-05  8.78e-03    82s\n",
      "  42   3.72322122e+03  1.88528134e+02  1.85e-02 9.40e-05  8.54e-03    84s\n",
      "  43   3.70975388e+03  2.88022531e+02  1.74e-02 9.04e-05  8.22e-03    85s\n",
      "  44   3.59210095e+03  5.27734447e+02  1.54e-02 8.14e-05  7.38e-03    87s\n",
      "  45   3.52911640e+03  6.54863394e+02  1.44e-02 7.68e-05  6.95e-03    89s\n",
      "  46   3.46867622e+03  7.33170919e+02  1.35e-02 7.39e-05  6.67e-03    91s\n",
      "  47   3.50653388e+03  8.06558693e+02  1.22e-02 7.11e-05  6.46e-03    92s\n",
      "  48   3.32513791e+03  1.29926106e+03  1.01e-02 5.22e-05  4.81e-03    94s\n",
      "  49   3.25524510e+03  1.35891653e+03  8.86e-03 5.00e-05  4.57e-03    95s\n",
      "  50   3.13077599e+03  1.49723930e+03  6.60e-03 4.49e-05  4.06e-03    97s\n",
      "  51   3.04546499e+03  1.62502443e+03  5.03e-03 4.02e-05  3.60e-03    99s\n",
      "  52   2.96767017e+03  1.73356405e+03  3.42e-03 3.64e-05  3.21e-03   101s\n",
      "  53   2.91307735e+03  1.94674903e+03  2.49e-03 2.90e-05  2.57e-03   102s\n",
      "  54   2.88882478e+03  1.99023708e+03  2.37e-03 2.75e-05  2.43e-03   104s\n",
      "  55   2.86590710e+03  2.00954129e+03  2.28e-03 2.68e-05  2.37e-03   106s\n",
      "  56   2.85171590e+03  2.02455609e+03  2.23e-03 2.62e-05  2.32e-03   107s\n",
      "  57   2.81303341e+03  2.06747757e+03  2.10e-03 2.46e-05  2.18e-03   109s\n",
      "  58   2.77926531e+03  2.08007546e+03  1.98e-03 2.41e-05  2.13e-03   110s\n",
      "  59   2.74951563e+03  2.10434490e+03  1.89e-03 2.31e-05  2.05e-03   112s\n",
      "  60   2.72691648e+03  2.11539321e+03  1.82e-03 2.27e-05  2.00e-03   114s\n",
      "  61   2.72163751e+03  2.12574510e+03  1.78e-03 2.22e-05  1.96e-03   115s\n",
      "  62   2.67327384e+03  2.14809416e+03  1.68e-03 2.11e-05  1.87e-03   117s\n",
      "  63   2.73325057e+03  2.15711848e+03  1.57e-03 2.07e-05  1.84e-03   118s\n",
      "  64   2.62131885e+03  2.19145538e+03  1.41e-03 1.88e-05  1.66e-03   120s\n",
      "  65   2.59352553e+03  2.19713517e+03  1.35e-03 1.84e-05  1.63e-03   122s\n",
      "  66   2.58298440e+03  2.20281791e+03  1.32e-03 1.80e-05  1.60e-03   124s\n",
      "  67   2.52653219e+03  2.21369161e+03  1.13e-03 1.72e-05  1.53e-03   125s\n",
      "  68   2.49045862e+03  2.22267396e+03  1.06e-03 1.63e-05  1.45e-03   127s\n",
      "  69   2.46824755e+03  2.22564708e+03  1.02e-03 1.59e-05  1.42e-03   129s\n",
      "  70   2.44958756e+03  2.22825256e+03  9.86e-04 1.56e-05  1.38e-03   131s\n",
      "  71   3.26052428e+06 -4.38428663e+07  7.69e+03 0.00e+00  1.00e+06   134s\n",
      "  72   6.43051014e+06 -1.09045157e+08  6.63e+02 2.59e+02  1.93e+05   136s\n",
      "  73   6.58427148e+06 -1.18670660e+08  3.06e+01 7.71e+00  6.29e+03   137s\n",
      "  74   6.44699440e+06 -1.01148161e+08  1.41e+00 2.94e-01  3.53e+02   139s\n",
      "  75   3.87357315e+06 -3.06730910e+07  4.39e-02 1.23e-02  3.91e+01   140s\n",
      "  76   8.66284976e+04 -9.49655822e+05  3.38e-07 1.78e-04  1.03e+00   141s\n",
      "  77   1.67766388e+04 -6.65164879e+04  1.81e-07 1.27e-05  8.22e-02   143s\n",
      "  78   5.66391116e+03 -1.27863317e+04  1.75e-07 2.28e-06  1.82e-02   144s\n"
     ]
    },
    {
     "name": "stdout",
     "output_type": "stream",
     "text": [
      "  79   3.51347268e+03 -9.87763519e+03  7.90e-08 1.83e-06  1.33e-02   145s\n",
      "  80   2.56854018e+03 -5.42108938e+03  1.84e-07 1.14e-06  8.05e-03   147s\n",
      "  81   2.19939871e+03 -2.54164895e+03  2.76e-07 6.89e-07  4.82e-03   148s\n",
      "  82   2.03684284e+03 -6.26066659e+02  4.18e-07 3.91e-07  2.72e-03   149s\n",
      "  83   1.97487193e+03  8.13428488e+02  1.85e-07 1.68e-07  1.19e-03   151s\n",
      "  84   1.94349663e+03  1.48943876e+03  9.81e-08 6.29e-08  4.64e-04   152s\n",
      "  85   1.92593626e+03  1.73033035e+03  5.86e-08 2.55e-08  1.99e-04   154s\n",
      "  86   1.91695372e+03  1.82950004e+03  4.39e-08 1.01e-08  8.77e-05   155s\n",
      "  87   1.91227778e+03  1.88559092e+03  1.10e-08 1.69e-09  2.61e-05   157s\n",
      "  88   1.91018688e+03  1.90025721e+03  2.91e-09 8.34e-12  9.53e-06   158s\n",
      "  89   1.90984345e+03  1.90861185e+03  1.80e-09 8.12e-12  1.17e-06   160s\n",
      "  90   1.90987884e+03  1.90906665e+03  1.69e-09 7.06e-17  7.68e-07   162s\n",
      "  91   1.90977077e+03  1.90927760e+03  1.19e-09 7.63e-17  4.66e-07   164s\n",
      "  92   1.90963302e+03  1.90940224e+03  4.66e-10 2.46e-11  2.18e-07   166s\n",
      "  93   1.90958012e+03  1.90946215e+03  2.02e-10 8.33e-12  1.12e-07   168s\n",
      "  94   1.90956450e+03  1.90949228e+03  1.21e-10 7.94e-17  6.83e-08   170s\n",
      "  95   1.90954887e+03  1.90952811e+03  1.78e-10 2.87e-11  1.96e-08   171s\n",
      "  96   1.90954410e+03  1.90954202e+03  1.67e-10 2.15e-12  1.96e-09   173s\n",
      "  97   1.90954289e+03  1.90954250e+03  3.06e-11 7.98e-17  3.74e-10   174s\n",
      "  98   1.90954267e+03  1.90954262e+03  2.57e-12 2.85e-11  4.45e-11   176s\n",
      "  99   1.90954267e+03  1.90954267e+03  2.06e-09 2.97e-10  2.80e-14   178s\n",
      "\n",
      "Barrier solved model in 99 iterations and 177.54 seconds\n",
      "Optimal objective 1.90954267e+03\n",
      "\n",
      "Crossover log...\n",
      "\n",
      "  438686 variables added to crossover basis                      180s\n",
      "\n",
      "   50727 DPushes remaining with DInf 0.0000000e+00               182s\n",
      "     671 DPushes remaining with DInf 0.0000000e+00               221s\n",
      "       0 DPushes remaining with DInf 2.7404167e-10               222s\n",
      "\n",
      "  193906 PPushes remaining with PInf 0.0000000e+00               222s\n",
      "  189433 PPushes remaining with PInf 0.0000000e+00               226s\n",
      "  181133 PPushes remaining with PInf 0.0000000e+00               231s\n",
      "  171427 PPushes remaining with PInf 0.0000000e+00               237s\n",
      "  166040 PPushes remaining with PInf 0.0000000e+00               242s\n",
      "  160375 PPushes remaining with PInf 0.0000000e+00               247s\n",
      "  154397 PPushes remaining with PInf 0.0000000e+00               252s\n",
      "  148509 PPushes remaining with PInf 0.0000000e+00               256s\n",
      "  142318 PPushes remaining with PInf 0.0000000e+00               262s\n",
      "  135419 PPushes remaining with PInf 0.0000000e+00               269s\n",
      "  127693 PPushes remaining with PInf 0.0000000e+00               277s\n",
      "  119798 PPushes remaining with PInf 0.0000000e+00               285s\n",
      "  111789 PPushes remaining with PInf 0.0000000e+00               292s\n",
      "  103158 PPushes remaining with PInf 0.0000000e+00               299s\n",
      "   93308 PPushes remaining with PInf 0.0000000e+00               306s\n",
      "   82884 PPushes remaining with PInf 0.0000000e+00               316s\n",
      "   69065 PPushes remaining with PInf 0.0000000e+00               334s\n",
      "   55209 PPushes remaining with PInf 0.0000000e+00               345s\n",
      "   42668 PPushes remaining with PInf 0.0000000e+00               349s\n",
      "   32077 PPushes remaining with PInf 0.0000000e+00               356s\n",
      "   19313 PPushes remaining with PInf 0.0000000e+00               364s\n",
      "    6648 PPushes remaining with PInf 0.0000000e+00               372s\n",
      "       0 PPushes remaining with PInf 0.0000000e+00               374s\n",
      "\n",
      "  Push phase complete: Pinf 0.0000000e+00, Dinf 2.7437612e-10    374s\n",
      "\n",
      "Iteration    Objective       Primal Inf.    Dual Inf.      Time\n",
      "  244636    1.9095427e+03   0.000000e+00   0.000000e+00    378s\n",
      "\n",
      "Solved with barrier\n",
      "Solved in 244636 iterations and 377.93 seconds\n",
      "Optimal objective  1.909542666e+03\n",
      "\n",
      "Status: ok\n",
      "Return code: 0\n",
      "Message: Model was solved to optimality (subject to tolerances), and an optimal solution is available.\n",
      "Termination condition: optimal\n",
      "Termination message: Model was solved to optimality (subject to tolerances), and an optimal solution is available.\n",
      "Wall time: 378.2316303253174\n",
      "Error rc: 0\n",
      "Time: 426.36089396476746\n",
      "\n",
      "\n",
      "Name: x840979_copy\n",
      "Lower bound: 1909.542666428835\n",
      "Upper bound: 1909.542666428835\n",
      "Number of objectives: 1\n",
      "Number of constraints: 1366576\n",
      "Number of variables: 840979\n",
      "Number of binary variables: 0\n",
      "Number of integer variables: 0\n",
      "Number of continuous variables: 840979\n",
      "Number of nonzeros: 3361201\n",
      "Sense: minimize\n",
      "\n",
      "Solve time: 576.309894323349 sec.\n",
      "\n",
      "Processing optimization output...\n",
      "for SourceSinkModel ...(9.2947sec)\n",
      "for ConversionModel ...(18.2301sec)\n",
      "for StorageModel ...  (31.5863sec)\n",
      "for StorageExtModel ...(85.6829sec)\n"
     ]
    },
    {
     "ename": "ValueError",
     "evalue": "cannot set using a list-like indexer with a different length than the value",
     "output_type": "error",
     "traceback": [
      "\u001b[1;31m---------------------------------------------------------------------------\u001b[0m",
      "\u001b[1;31mValueError\u001b[0m                                Traceback (most recent call last)",
      "\u001b[1;32m<ipython-input-13-9fc1c58162e5>\u001b[0m in \u001b[0;36m<module>\u001b[1;34m\u001b[0m\n\u001b[0;32m      4\u001b[0m \u001b[1;33m\u001b[0m\u001b[0m\n\u001b[0;32m      5\u001b[0m \u001b[1;31m# Code\u001b[0m\u001b[1;33m\u001b[0m\u001b[1;33m\u001b[0m\u001b[1;33m\u001b[0m\u001b[0m\n\u001b[1;32m----> 6\u001b[1;33m \u001b[0mesM\u001b[0m\u001b[1;33m.\u001b[0m\u001b[0moptimize\u001b[0m\u001b[1;33m(\u001b[0m\u001b[0mtimeSeriesAggregation\u001b[0m\u001b[1;33m=\u001b[0m\u001b[0mtimeSeriesAggregation\u001b[0m\u001b[1;33m,\u001b[0m \u001b[0msolver\u001b[0m\u001b[1;33m=\u001b[0m\u001b[0msolver\u001b[0m\u001b[1;33m)\u001b[0m\u001b[1;33m\u001b[0m\u001b[1;33m\u001b[0m\u001b[0m\n\u001b[0m",
      "\u001b[1;32mc:\\users\\larawelder\\documents\\python\\fine_gitlab\\fine\\FINE\\energySystemModel.py\u001b[0m in \u001b[0;36moptimize\u001b[1;34m(self, declaresOptimizationProblem, timeSeriesAggregation, logFileName, threads, solver, timeLimit, optimizationSpecs, warmstart)\u001b[0m\n\u001b[0;32m    755\u001b[0m             \u001b[1;32mfor\u001b[0m \u001b[0mkey\u001b[0m\u001b[1;33m,\u001b[0m \u001b[0mmdl\u001b[0m \u001b[1;32min\u001b[0m \u001b[0mself\u001b[0m\u001b[1;33m.\u001b[0m\u001b[0mcomponentModelingDict\u001b[0m\u001b[1;33m.\u001b[0m\u001b[0mitems\u001b[0m\u001b[1;33m(\u001b[0m\u001b[1;33m)\u001b[0m\u001b[1;33m:\u001b[0m\u001b[1;33m\u001b[0m\u001b[1;33m\u001b[0m\u001b[0m\n\u001b[0;32m    756\u001b[0m                 \u001b[0m__t\u001b[0m \u001b[1;33m=\u001b[0m \u001b[0mtime\u001b[0m\u001b[1;33m.\u001b[0m\u001b[0mtime\u001b[0m\u001b[1;33m(\u001b[0m\u001b[1;33m)\u001b[0m\u001b[1;33m\u001b[0m\u001b[1;33m\u001b[0m\u001b[0m\n\u001b[1;32m--> 757\u001b[1;33m                 \u001b[0mmdl\u001b[0m\u001b[1;33m.\u001b[0m\u001b[0msetOptimalValues\u001b[0m\u001b[1;33m(\u001b[0m\u001b[0mself\u001b[0m\u001b[1;33m,\u001b[0m \u001b[0mself\u001b[0m\u001b[1;33m.\u001b[0m\u001b[0mpyM\u001b[0m\u001b[1;33m)\u001b[0m\u001b[1;33m\u001b[0m\u001b[1;33m\u001b[0m\u001b[0m\n\u001b[0m\u001b[0;32m    758\u001b[0m                 \u001b[0moutputString\u001b[0m \u001b[1;33m=\u001b[0m \u001b[1;33m(\u001b[0m\u001b[1;34m'for {:'\u001b[0m \u001b[1;33m+\u001b[0m \u001b[0mw\u001b[0m \u001b[1;33m+\u001b[0m \u001b[1;34m'}'\u001b[0m\u001b[1;33m)\u001b[0m\u001b[1;33m.\u001b[0m\u001b[0mformat\u001b[0m\u001b[1;33m(\u001b[0m\u001b[0mkey\u001b[0m \u001b[1;33m+\u001b[0m \u001b[1;34m' ...'\u001b[0m\u001b[1;33m)\u001b[0m \u001b[1;33m+\u001b[0m \u001b[1;34m\"(%.4f\"\u001b[0m \u001b[1;33m%\u001b[0m \u001b[1;33m(\u001b[0m\u001b[0mtime\u001b[0m\u001b[1;33m.\u001b[0m\u001b[0mtime\u001b[0m\u001b[1;33m(\u001b[0m\u001b[1;33m)\u001b[0m \u001b[1;33m-\u001b[0m \u001b[0m__t\u001b[0m\u001b[1;33m)\u001b[0m \u001b[1;33m+\u001b[0m \u001b[1;34m\"sec)\"\u001b[0m\u001b[1;33m\u001b[0m\u001b[1;33m\u001b[0m\u001b[0m\n\u001b[0;32m    759\u001b[0m                 \u001b[0mutils\u001b[0m\u001b[1;33m.\u001b[0m\u001b[0moutput\u001b[0m\u001b[1;33m(\u001b[0m\u001b[0moutputString\u001b[0m\u001b[1;33m,\u001b[0m \u001b[0mself\u001b[0m\u001b[1;33m.\u001b[0m\u001b[0mverbose\u001b[0m\u001b[1;33m,\u001b[0m \u001b[1;36m0\u001b[0m\u001b[1;33m)\u001b[0m\u001b[1;33m\u001b[0m\u001b[1;33m\u001b[0m\u001b[0m\n",
      "\u001b[1;32mc:\\users\\larawelder\\documents\\python\\fine_gitlab\\fine\\FINE\\subclasses\\DSM.py\u001b[0m in \u001b[0;36msetOptimalValues\u001b[1;34m(self, esM, pyM)\u001b[0m\n\u001b[0;32m    147\u001b[0m                            \u001b[1;33m(\u001b[0m\u001b[0moptSummary\u001b[0m\u001b[1;33m.\u001b[0m\u001b[0mindex\u001b[0m\u001b[1;33m.\u001b[0m\u001b[0mget_level_values\u001b[0m\u001b[1;33m(\u001b[0m\u001b[1;36m1\u001b[0m\u001b[1;33m)\u001b[0m \u001b[1;33m==\u001b[0m \u001b[1;34m'opexOp'\u001b[0m\u001b[1;33m)\u001b[0m \u001b[1;33m|\u001b[0m\u001b[1;33m\u001b[0m\u001b[1;33m\u001b[0m\u001b[0m\n\u001b[0;32m    148\u001b[0m                            (optSummary.index.get_level_values(1) == 'commodCosts')].groupby(level=0).sum().values \\\n\u001b[1;32m--> 149\u001b[1;33m             \u001b[1;33m-\u001b[0m \u001b[0moptSummary\u001b[0m\u001b[1;33m.\u001b[0m\u001b[0mloc\u001b[0m\u001b[1;33m[\u001b[0m\u001b[1;33m(\u001b[0m\u001b[0moptSummary\u001b[0m\u001b[1;33m.\u001b[0m\u001b[0mindex\u001b[0m\u001b[1;33m.\u001b[0m\u001b[0mget_level_values\u001b[0m\u001b[1;33m(\u001b[0m\u001b[1;36m1\u001b[0m\u001b[1;33m)\u001b[0m \u001b[1;33m==\u001b[0m \u001b[1;34m'commodRevenues'\u001b[0m\u001b[1;33m)\u001b[0m\u001b[1;33m]\u001b[0m\u001b[1;33m.\u001b[0m\u001b[0mgroupby\u001b[0m\u001b[1;33m(\u001b[0m\u001b[0mlevel\u001b[0m\u001b[1;33m=\u001b[0m\u001b[1;36m0\u001b[0m\u001b[1;33m)\u001b[0m\u001b[1;33m.\u001b[0m\u001b[0msum\u001b[0m\u001b[1;33m(\u001b[0m\u001b[1;33m)\u001b[0m\u001b[1;33m.\u001b[0m\u001b[0mvalues\u001b[0m\u001b[1;33m\u001b[0m\u001b[1;33m\u001b[0m\u001b[0m\n\u001b[0m\u001b[0;32m    150\u001b[0m \u001b[1;33m\u001b[0m\u001b[0m\n\u001b[0;32m    151\u001b[0m         \u001b[0mself\u001b[0m\u001b[1;33m.\u001b[0m\u001b[0moptSummary\u001b[0m \u001b[1;33m=\u001b[0m \u001b[0moptSummary\u001b[0m\u001b[1;33m\u001b[0m\u001b[1;33m\u001b[0m\u001b[0m\n",
      "\u001b[1;32m~\\.conda\\envs\\envTSA\\lib\\site-packages\\pandas\\core\\indexing.py\u001b[0m in \u001b[0;36m__setitem__\u001b[1;34m(self, key, value)\u001b[0m\n\u001b[0;32m    203\u001b[0m             \u001b[0mkey\u001b[0m \u001b[1;33m=\u001b[0m \u001b[0mcom\u001b[0m\u001b[1;33m.\u001b[0m\u001b[0mapply_if_callable\u001b[0m\u001b[1;33m(\u001b[0m\u001b[0mkey\u001b[0m\u001b[1;33m,\u001b[0m \u001b[0mself\u001b[0m\u001b[1;33m.\u001b[0m\u001b[0mobj\u001b[0m\u001b[1;33m)\u001b[0m\u001b[1;33m\u001b[0m\u001b[1;33m\u001b[0m\u001b[0m\n\u001b[0;32m    204\u001b[0m         \u001b[0mindexer\u001b[0m \u001b[1;33m=\u001b[0m \u001b[0mself\u001b[0m\u001b[1;33m.\u001b[0m\u001b[0m_get_setitem_indexer\u001b[0m\u001b[1;33m(\u001b[0m\u001b[0mkey\u001b[0m\u001b[1;33m)\u001b[0m\u001b[1;33m\u001b[0m\u001b[1;33m\u001b[0m\u001b[0m\n\u001b[1;32m--> 205\u001b[1;33m         \u001b[0mself\u001b[0m\u001b[1;33m.\u001b[0m\u001b[0m_setitem_with_indexer\u001b[0m\u001b[1;33m(\u001b[0m\u001b[0mindexer\u001b[0m\u001b[1;33m,\u001b[0m \u001b[0mvalue\u001b[0m\u001b[1;33m)\u001b[0m\u001b[1;33m\u001b[0m\u001b[1;33m\u001b[0m\u001b[0m\n\u001b[0m\u001b[0;32m    206\u001b[0m \u001b[1;33m\u001b[0m\u001b[0m\n\u001b[0;32m    207\u001b[0m     \u001b[1;32mdef\u001b[0m \u001b[0m_validate_key\u001b[0m\u001b[1;33m(\u001b[0m\u001b[0mself\u001b[0m\u001b[1;33m,\u001b[0m \u001b[0mkey\u001b[0m\u001b[1;33m,\u001b[0m \u001b[0maxis\u001b[0m\u001b[1;33m:\u001b[0m \u001b[0mint\u001b[0m\u001b[1;33m)\u001b[0m\u001b[1;33m:\u001b[0m\u001b[1;33m\u001b[0m\u001b[1;33m\u001b[0m\u001b[0m\n",
      "\u001b[1;32m~\\.conda\\envs\\envTSA\\lib\\site-packages\\pandas\\core\\indexing.py\u001b[0m in \u001b[0;36m_setitem_with_indexer\u001b[1;34m(self, indexer, value)\u001b[0m\n\u001b[0;32m    591\u001b[0m             \u001b[1;31m# actually do the set\u001b[0m\u001b[1;33m\u001b[0m\u001b[1;33m\u001b[0m\u001b[1;33m\u001b[0m\u001b[0m\n\u001b[0;32m    592\u001b[0m             \u001b[0mself\u001b[0m\u001b[1;33m.\u001b[0m\u001b[0mobj\u001b[0m\u001b[1;33m.\u001b[0m\u001b[0m_consolidate_inplace\u001b[0m\u001b[1;33m(\u001b[0m\u001b[1;33m)\u001b[0m\u001b[1;33m\u001b[0m\u001b[1;33m\u001b[0m\u001b[0m\n\u001b[1;32m--> 593\u001b[1;33m             \u001b[0mself\u001b[0m\u001b[1;33m.\u001b[0m\u001b[0mobj\u001b[0m\u001b[1;33m.\u001b[0m\u001b[0m_data\u001b[0m \u001b[1;33m=\u001b[0m \u001b[0mself\u001b[0m\u001b[1;33m.\u001b[0m\u001b[0mobj\u001b[0m\u001b[1;33m.\u001b[0m\u001b[0m_data\u001b[0m\u001b[1;33m.\u001b[0m\u001b[0msetitem\u001b[0m\u001b[1;33m(\u001b[0m\u001b[0mindexer\u001b[0m\u001b[1;33m=\u001b[0m\u001b[0mindexer\u001b[0m\u001b[1;33m,\u001b[0m \u001b[0mvalue\u001b[0m\u001b[1;33m=\u001b[0m\u001b[0mvalue\u001b[0m\u001b[1;33m)\u001b[0m\u001b[1;33m\u001b[0m\u001b[1;33m\u001b[0m\u001b[0m\n\u001b[0m\u001b[0;32m    594\u001b[0m             \u001b[0mself\u001b[0m\u001b[1;33m.\u001b[0m\u001b[0mobj\u001b[0m\u001b[1;33m.\u001b[0m\u001b[0m_maybe_update_cacher\u001b[0m\u001b[1;33m(\u001b[0m\u001b[0mclear\u001b[0m\u001b[1;33m=\u001b[0m\u001b[1;32mTrue\u001b[0m\u001b[1;33m)\u001b[0m\u001b[1;33m\u001b[0m\u001b[1;33m\u001b[0m\u001b[0m\n\u001b[0;32m    595\u001b[0m \u001b[1;33m\u001b[0m\u001b[0m\n",
      "\u001b[1;32m~\\.conda\\envs\\envTSA\\lib\\site-packages\\pandas\\core\\internals\\managers.py\u001b[0m in \u001b[0;36msetitem\u001b[1;34m(self, **kwargs)\u001b[0m\n\u001b[0;32m    558\u001b[0m \u001b[1;33m\u001b[0m\u001b[0m\n\u001b[0;32m    559\u001b[0m     \u001b[1;32mdef\u001b[0m \u001b[0msetitem\u001b[0m\u001b[1;33m(\u001b[0m\u001b[0mself\u001b[0m\u001b[1;33m,\u001b[0m \u001b[1;33m**\u001b[0m\u001b[0mkwargs\u001b[0m\u001b[1;33m)\u001b[0m\u001b[1;33m:\u001b[0m\u001b[1;33m\u001b[0m\u001b[1;33m\u001b[0m\u001b[0m\n\u001b[1;32m--> 560\u001b[1;33m         \u001b[1;32mreturn\u001b[0m \u001b[0mself\u001b[0m\u001b[1;33m.\u001b[0m\u001b[0mapply\u001b[0m\u001b[1;33m(\u001b[0m\u001b[1;34m\"setitem\"\u001b[0m\u001b[1;33m,\u001b[0m \u001b[1;33m**\u001b[0m\u001b[0mkwargs\u001b[0m\u001b[1;33m)\u001b[0m\u001b[1;33m\u001b[0m\u001b[1;33m\u001b[0m\u001b[0m\n\u001b[0m\u001b[0;32m    561\u001b[0m \u001b[1;33m\u001b[0m\u001b[0m\n\u001b[0;32m    562\u001b[0m     \u001b[1;32mdef\u001b[0m \u001b[0mputmask\u001b[0m\u001b[1;33m(\u001b[0m\u001b[0mself\u001b[0m\u001b[1;33m,\u001b[0m \u001b[1;33m**\u001b[0m\u001b[0mkwargs\u001b[0m\u001b[1;33m)\u001b[0m\u001b[1;33m:\u001b[0m\u001b[1;33m\u001b[0m\u001b[1;33m\u001b[0m\u001b[0m\n",
      "\u001b[1;32m~\\.conda\\envs\\envTSA\\lib\\site-packages\\pandas\\core\\internals\\managers.py\u001b[0m in \u001b[0;36mapply\u001b[1;34m(self, f, axes, filter, do_integrity_check, consolidate, **kwargs)\u001b[0m\n\u001b[0;32m    436\u001b[0m                     \u001b[0mkwargs\u001b[0m\u001b[1;33m[\u001b[0m\u001b[0mk\u001b[0m\u001b[1;33m]\u001b[0m \u001b[1;33m=\u001b[0m \u001b[0mobj\u001b[0m\u001b[1;33m.\u001b[0m\u001b[0mreindex\u001b[0m\u001b[1;33m(\u001b[0m\u001b[0mb_items\u001b[0m\u001b[1;33m,\u001b[0m \u001b[0maxis\u001b[0m\u001b[1;33m=\u001b[0m\u001b[0maxis\u001b[0m\u001b[1;33m,\u001b[0m \u001b[0mcopy\u001b[0m\u001b[1;33m=\u001b[0m\u001b[0malign_copy\u001b[0m\u001b[1;33m)\u001b[0m\u001b[1;33m\u001b[0m\u001b[1;33m\u001b[0m\u001b[0m\n\u001b[0;32m    437\u001b[0m \u001b[1;33m\u001b[0m\u001b[0m\n\u001b[1;32m--> 438\u001b[1;33m             \u001b[0mapplied\u001b[0m \u001b[1;33m=\u001b[0m \u001b[0mgetattr\u001b[0m\u001b[1;33m(\u001b[0m\u001b[0mb\u001b[0m\u001b[1;33m,\u001b[0m \u001b[0mf\u001b[0m\u001b[1;33m)\u001b[0m\u001b[1;33m(\u001b[0m\u001b[1;33m**\u001b[0m\u001b[0mkwargs\u001b[0m\u001b[1;33m)\u001b[0m\u001b[1;33m\u001b[0m\u001b[1;33m\u001b[0m\u001b[0m\n\u001b[0m\u001b[0;32m    439\u001b[0m             \u001b[0mresult_blocks\u001b[0m \u001b[1;33m=\u001b[0m \u001b[0m_extend_blocks\u001b[0m\u001b[1;33m(\u001b[0m\u001b[0mapplied\u001b[0m\u001b[1;33m,\u001b[0m \u001b[0mresult_blocks\u001b[0m\u001b[1;33m)\u001b[0m\u001b[1;33m\u001b[0m\u001b[1;33m\u001b[0m\u001b[0m\n\u001b[0;32m    440\u001b[0m \u001b[1;33m\u001b[0m\u001b[0m\n",
      "\u001b[1;32m~\\.conda\\envs\\envTSA\\lib\\site-packages\\pandas\\core\\internals\\blocks.py\u001b[0m in \u001b[0;36msetitem\u001b[1;34m(self, indexer, value)\u001b[0m\n\u001b[0;32m    911\u001b[0m \u001b[1;33m\u001b[0m\u001b[0m\n\u001b[0;32m    912\u001b[0m         \u001b[1;31m# length checking\u001b[0m\u001b[1;33m\u001b[0m\u001b[1;33m\u001b[0m\u001b[1;33m\u001b[0m\u001b[0m\n\u001b[1;32m--> 913\u001b[1;33m         \u001b[0mcheck_setitem_lengths\u001b[0m\u001b[1;33m(\u001b[0m\u001b[0mindexer\u001b[0m\u001b[1;33m,\u001b[0m \u001b[0mvalue\u001b[0m\u001b[1;33m,\u001b[0m \u001b[0mvalues\u001b[0m\u001b[1;33m)\u001b[0m\u001b[1;33m\u001b[0m\u001b[1;33m\u001b[0m\u001b[0m\n\u001b[0m\u001b[0;32m    914\u001b[0m \u001b[1;33m\u001b[0m\u001b[0m\n\u001b[0;32m    915\u001b[0m         \u001b[1;32mif\u001b[0m \u001b[0mis_empty_indexer\u001b[0m\u001b[1;33m(\u001b[0m\u001b[0mindexer\u001b[0m\u001b[1;33m,\u001b[0m \u001b[0marr_value\u001b[0m\u001b[1;33m)\u001b[0m\u001b[1;33m:\u001b[0m\u001b[1;33m\u001b[0m\u001b[1;33m\u001b[0m\u001b[0m\n",
      "\u001b[1;32m~\\.conda\\envs\\envTSA\\lib\\site-packages\\pandas\\core\\indexers.py\u001b[0m in \u001b[0;36mcheck_setitem_lengths\u001b[1;34m(indexer, value, values)\u001b[0m\n\u001b[0;32m     99\u001b[0m             ):\n\u001b[0;32m    100\u001b[0m                 raise ValueError(\n\u001b[1;32m--> 101\u001b[1;33m                     \u001b[1;34m\"cannot set using a list-like indexer \"\u001b[0m\u001b[1;33m\u001b[0m\u001b[1;33m\u001b[0m\u001b[0m\n\u001b[0m\u001b[0;32m    102\u001b[0m                     \u001b[1;34m\"with a different length than the value\"\u001b[0m\u001b[1;33m\u001b[0m\u001b[1;33m\u001b[0m\u001b[0m\n\u001b[0;32m    103\u001b[0m                 )\n",
      "\u001b[1;31mValueError\u001b[0m: cannot set using a list-like indexer with a different length than the value"
     ]
    }
   ],
   "source": [
    "# Input parameters\n",
    "timeSeriesAggregation=False\n",
    "solver='gurobi'\n",
    "\n",
    "# Code\n",
    "esM.optimize(timeSeriesAggregation=timeSeriesAggregation, solver=solver)"
   ]
  },
  {
   "cell_type": "code",
   "execution_count": null,
   "metadata": {},
   "outputs": [],
   "source": [
    "esM.componentModelingDict['DSMModel'].setOptimalValues(esM, esM.pyM)"
   ]
  },
  {
   "cell_type": "markdown",
   "metadata": {},
   "source": [
    "## Display optimization summaries\n",
    "\n",
    "For each modeling class, an optimization summary can be stored and displayed. "
   ]
  },
  {
   "cell_type": "markdown",
   "metadata": {},
   "source": [
    "#### Source and Sink Component"
   ]
  },
  {
   "cell_type": "code",
   "execution_count": null,
   "metadata": {},
   "outputs": [],
   "source": [
    "srcSnkSummary = esM.getOptimizationSummary(\"SourceSinkModel\", outputLevel=1)\n",
    "display(esM.getOptimizationSummary(\"SourceSinkModel\", outputLevel=2))"
   ]
  },
  {
   "cell_type": "markdown",
   "metadata": {},
   "source": [
    "#### Conversion Components"
   ]
  },
  {
   "cell_type": "code",
   "execution_count": null,
   "metadata": {},
   "outputs": [],
   "source": [
    "convSummary = esM.getOptimizationSummary(\"ConversionModel\", outputLevel=1)\n",
    "display(esM.getOptimizationSummary(\"ConversionModel\", outputLevel=2))"
   ]
  },
  {
   "cell_type": "markdown",
   "metadata": {},
   "source": [
    "#### Storage Components"
   ]
  },
  {
   "cell_type": "code",
   "execution_count": null,
   "metadata": {},
   "outputs": [],
   "source": [
    "storSummary = esM.getOptimizationSummary(\"StorageModel\", outputLevel=1)\n",
    "display(esM.getOptimizationSummary(\"StorageModel\", outputLevel=2))"
   ]
  },
  {
   "cell_type": "markdown",
   "metadata": {},
   "source": [
    "#### DSM Components"
   ]
  },
  {
   "cell_type": "code",
   "execution_count": null,
   "metadata": {},
   "outputs": [],
   "source": [
    "if doDSM:\n",
    "    DSMSummary = esM.getOptimizationSummary(\"DSMModel\", outputLevel=1)\n",
    "    display(esM.getOptimizationSummary(\"DSMModel\", outputLevel=2))"
   ]
  },
  {
   "cell_type": "markdown",
   "metadata": {},
   "source": [
    "## Display regional and operational plots\n",
    "\n",
    "Plots representing time series can be displayed for each component."
   ]
  },
  {
   "cell_type": "markdown",
   "metadata": {},
   "source": [
    "### Wind turbines"
   ]
  },
  {
   "cell_type": "code",
   "execution_count": null,
   "metadata": {},
   "outputs": [],
   "source": [
    "# If wind turbines are built in industry_0, their operation is displayed as heatmap\n",
    "if srcSnkSummary.loc[('Wind turbines','capacity','[MW$_{el}$]'),'industry_0'] > 0:\n",
    "    fig, ax = fn.plotOperationColorMap(esM, 'Wind turbines', 'industry_0', figsize=(3.5,3), monthlabels=True,\n",
    "        xlabel='', ylabel='Hour of the day', yticks=range(0,25*6,4*6), yticklabels=range(0,25,4),\n",
    "        zlabel='', nbTimeStepsPerPeriod=24*6)"
   ]
  },
  {
   "cell_type": "markdown",
   "metadata": {},
   "source": [
    "### Electrolyzers "
   ]
  },
  {
   "cell_type": "code",
   "execution_count": null,
   "metadata": {},
   "outputs": [],
   "source": [
    "# If PEMECs are built in industry_0 their operation is displayed as heatmap\n",
    "if convSummary.loc[('PEMEC','capacity','[MW$_{el}$]'),'industry_0'] > 0:\n",
    "    fig, ax = fn.plotOperationColorMap(esM, 'PEMEC', 'industry_0', figsize=(4,3), \n",
    "        monthlabels=True, xlabel='', ylabel='Hour of the day', yticks=range(0,25*6,4*6),\n",
    "        yticklabels=range(0,25,4), zlabel='Power [MW]', nbTimeStepsPerPeriod=24*6)"
   ]
  },
  {
   "cell_type": "code",
   "execution_count": null,
   "metadata": {
    "scrolled": true
   },
   "outputs": [],
   "source": [
    "# If AECs are built in industry_0 their operation is displayed as heatmap\n",
    "if convSummary.loc[('AEC','capacity','[MW$_{el}$]'),'industry_0'] > 0:\n",
    "    ts = fn.plotOperationColorMap(esM, 'AEC', 'industry_0', figsize=(4,3), monthlabels=True,\n",
    "        xlabel='', ylabel='Hour of the day', \n",
    "        nbTimeStepsPerPeriod=24*6, yticks=range(0,24*6+1,6*4), yticklabels=range(0,25,4))"
   ]
  },
  {
   "cell_type": "markdown",
   "metadata": {},
   "source": [
    "### Gaseous Hydrogen Tank"
   ]
  },
  {
   "cell_type": "code",
   "execution_count": null,
   "metadata": {},
   "outputs": [],
   "source": [
    "# If Gaseous Hydrogen Tanks are built in industry_0, their storage inventory is displayed as heatmap\n",
    "if storSummary.loc[('Hydrogen tank (gaseous)','capacity','[MW$_{H_{2},LHV}$*h]'),'industry_0'] > 0:\n",
    "    fig, ax = fn.plotOperationColorMap(esM, 'Hydrogen tank (gaseous)', 'industry_0', figsize=(4,3),\n",
    "        variableName='stateOfChargeOperationVariablesOptimum', monthlabels=True,\n",
    "        xlabel='', ylabel='Hour of the day', yticks=range(0,25*6,4*6), yticklabels=range(0,25,4),\n",
    "        nbTimeStepsPerPeriod=24*6)"
   ]
  },
  {
   "cell_type": "markdown",
   "metadata": {},
   "source": [
    "### Hydrogen Demand"
   ]
  },
  {
   "cell_type": "code",
   "execution_count": null,
   "metadata": {},
   "outputs": [],
   "source": [
    "# The hydrogen demand time series in industry_0 is displayed\n",
    "fig, ax = fn.plotOperationColorMap(esM, 'Hydrogen demand', 'industry_0', figsize=(4,3), \n",
    "    yticks=range(0,25*6,4*6), yticklabels=range(0,25,4),\n",
    "    xlabel='', ylabel='Hour of the day', nbTimeStepsPerPeriod=24*6)"
   ]
  },
  {
   "cell_type": "code",
   "execution_count": null,
   "metadata": {},
   "outputs": [],
   "source": []
  }
 ],
 "metadata": {
  "kernelspec": {
   "display_name": "Python 3",
   "language": "python",
   "name": "python3"
  },
  "language_info": {
   "codemirror_mode": {
    "name": "ipython",
    "version": 3
   },
   "file_extension": ".py",
   "mimetype": "text/x-python",
   "name": "python",
   "nbconvert_exporter": "python",
   "pygments_lexer": "ipython3",
   "version": "3.6.9"
  }
 },
 "nbformat": 4,
 "nbformat_minor": 2
}
