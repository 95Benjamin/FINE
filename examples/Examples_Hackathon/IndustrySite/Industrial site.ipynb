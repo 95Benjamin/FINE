{
 "cells": [
  {
   "cell_type": "code",
   "execution_count": 1,
   "metadata": {
    "collapsed": true
   },
   "outputs": [],
   "source": [
    "import warnings\n",
    "warnings.filterwarnings('ignore') # For better visibility, warnings are turned off in this notebook"
   ]
  },
  {
   "cell_type": "markdown",
   "metadata": {},
   "source": [
    "# Industrial Site"
   ]
  },
  {
   "cell_type": "markdown",
   "metadata": {},
   "source": [
    "In this application of the FINE framework, an energy supply system, consisting of two-regions, is modeled and optimized.\n",
    "\n",
    "The workflow is structures as follows:\n",
    "-  Required packages are imported\n",
    "-  An energy system model instance is created\n",
    "-  Commodity sources are added to the energy supply system model\n",
    "-  Commodity conversion components are added to the energy supply system model\n",
    "-  Commodity storages are added to the energy supply system model\n",
    "-  Commodity transmission components are added to the energy supply system model\n",
    "-  Commodity sinks are added to the energy supply system model\n",
    "-  The energy supply system model is optimized\n",
    "-  Selected optimization results are presented"
   ]
  },
  {
   "cell_type": "markdown",
   "metadata": {},
   "source": [
    "# Import required packages\n",
    "\n",
    "The FINE framework is imported which provides the required classes and functions for modeling the energy system."
   ]
  },
  {
   "cell_type": "code",
   "execution_count": 2,
   "metadata": {
    "collapsed": true
   },
   "outputs": [],
   "source": [
    "import FINE as fn         # Provides objects and functions to model an energy system \n",
    "import pandas as pd       # Used to manage data in tables\n",
    "import geopandas as gpd   # Used to display geo-referenced plots\n",
    "import shapely as shp     # Used to generate geometric objects\n",
    "import numpy as np        # Used to generate random input data"
   ]
  },
  {
   "cell_type": "markdown",
   "metadata": {},
   "source": [
    "# Model an energy system"
   ]
  },
  {
   "cell_type": "markdown",
   "metadata": {},
   "source": [
    "## Create an energy system model instance \n",
    "\n",
    "The structure of the energy supply system model is given by the considered locations, commodities, the number of time steps as well as the hours per time step.\n",
    "\n",
    "The commodities are specified by a unit (i.e. 'GW_electric', 'GW_naturalGas_lowerHeatingValue', 'Mio. t CO2/h') which can be given as an energy or mass unit per hour. Furthermore, the cost unit and length unit are specified."
   ]
  },
  {
   "cell_type": "code",
   "execution_count": 3,
   "metadata": {
    "collapsed": true
   },
   "outputs": [],
   "source": [
    "# Input parameters\n",
    "locations = {'industry_0'}\n",
    "commodityUnitDict = {'electricity': r'MW$_{el}$', 'hydrogen': r'MW$_{H_{2},LHV}$'}\n",
    "commodities = {'electricity', 'hydrogen'}\n",
    "numberOfTimeSteps, hoursPerTimeStep = 52560, 1/6 #8760, 1 \n",
    "costUnit, lengthUnit = '1e3 Euro', 'km'\n",
    "\n",
    "# Code\n",
    "esM = fn.EnergySystemModel(locations=locations, commodities=commodities,\n",
    "    numberOfTimeSteps=numberOfTimeSteps, commodityUnitsDict=commodityUnitDict,\n",
    "    hoursPerTimeStep=hoursPerTimeStep, costUnit=costUnit, lengthUnit=lengthUnit, verboseLogLevel=0)"
   ]
  },
  {
   "cell_type": "markdown",
   "metadata": {},
   "source": [
    "## Add source component\n",
    "\n",
    "Source components generate commodities across the energy system's virtual boundaries."
   ]
  },
  {
   "cell_type": "code",
   "execution_count": 39,
   "metadata": {
    "scrolled": true
   },
   "outputs": [
    {
     "data": {
      "text/html": [
       "<div>\n",
       "<style scoped>\n",
       "    .dataframe tbody tr th:only-of-type {\n",
       "        vertical-align: middle;\n",
       "    }\n",
       "\n",
       "    .dataframe tbody tr th {\n",
       "        vertical-align: top;\n",
       "    }\n",
       "\n",
       "    .dataframe thead th {\n",
       "        text-align: right;\n",
       "    }\n",
       "</style>\n",
       "<table border=\"1\" class=\"dataframe\">\n",
       "  <thead>\n",
       "    <tr style=\"text-align: right;\">\n",
       "      <th></th>\n",
       "      <th>e825103_2017_2.3MW_faults9</th>\n",
       "    </tr>\n",
       "  </thead>\n",
       "  <tbody>\n",
       "    <tr>\n",
       "      <th>0</th>\n",
       "      <td>0.573043</td>\n",
       "    </tr>\n",
       "    <tr>\n",
       "      <th>1</th>\n",
       "      <td>0.609130</td>\n",
       "    </tr>\n",
       "    <tr>\n",
       "      <th>2</th>\n",
       "      <td>0.623478</td>\n",
       "    </tr>\n",
       "    <tr>\n",
       "      <th>3</th>\n",
       "      <td>0.584783</td>\n",
       "    </tr>\n",
       "    <tr>\n",
       "      <th>4</th>\n",
       "      <td>0.646522</td>\n",
       "    </tr>\n",
       "    <tr>\n",
       "      <th>5</th>\n",
       "      <td>0.737391</td>\n",
       "    </tr>\n",
       "    <tr>\n",
       "      <th>6</th>\n",
       "      <td>0.681304</td>\n",
       "    </tr>\n",
       "    <tr>\n",
       "      <th>7</th>\n",
       "      <td>0.640000</td>\n",
       "    </tr>\n",
       "    <tr>\n",
       "      <th>8</th>\n",
       "      <td>0.558261</td>\n",
       "    </tr>\n",
       "    <tr>\n",
       "      <th>9</th>\n",
       "      <td>0.475217</td>\n",
       "    </tr>\n",
       "    <tr>\n",
       "      <th>10</th>\n",
       "      <td>0.384783</td>\n",
       "    </tr>\n",
       "    <tr>\n",
       "      <th>11</th>\n",
       "      <td>0.431739</td>\n",
       "    </tr>\n",
       "    <tr>\n",
       "      <th>12</th>\n",
       "      <td>0.470870</td>\n",
       "    </tr>\n",
       "    <tr>\n",
       "      <th>13</th>\n",
       "      <td>0.476957</td>\n",
       "    </tr>\n",
       "    <tr>\n",
       "      <th>14</th>\n",
       "      <td>0.516087</td>\n",
       "    </tr>\n",
       "    <tr>\n",
       "      <th>15</th>\n",
       "      <td>0.565217</td>\n",
       "    </tr>\n",
       "    <tr>\n",
       "      <th>16</th>\n",
       "      <td>0.541304</td>\n",
       "    </tr>\n",
       "    <tr>\n",
       "      <th>17</th>\n",
       "      <td>0.454348</td>\n",
       "    </tr>\n",
       "    <tr>\n",
       "      <th>18</th>\n",
       "      <td>0.445652</td>\n",
       "    </tr>\n",
       "    <tr>\n",
       "      <th>19</th>\n",
       "      <td>0.412174</td>\n",
       "    </tr>\n",
       "    <tr>\n",
       "      <th>20</th>\n",
       "      <td>0.447391</td>\n",
       "    </tr>\n",
       "    <tr>\n",
       "      <th>21</th>\n",
       "      <td>0.440000</td>\n",
       "    </tr>\n",
       "    <tr>\n",
       "      <th>22</th>\n",
       "      <td>0.470000</td>\n",
       "    </tr>\n",
       "    <tr>\n",
       "      <th>23</th>\n",
       "      <td>0.446957</td>\n",
       "    </tr>\n",
       "    <tr>\n",
       "      <th>24</th>\n",
       "      <td>0.466957</td>\n",
       "    </tr>\n",
       "    <tr>\n",
       "      <th>25</th>\n",
       "      <td>0.526957</td>\n",
       "    </tr>\n",
       "    <tr>\n",
       "      <th>26</th>\n",
       "      <td>0.570870</td>\n",
       "    </tr>\n",
       "    <tr>\n",
       "      <th>27</th>\n",
       "      <td>0.543478</td>\n",
       "    </tr>\n",
       "    <tr>\n",
       "      <th>28</th>\n",
       "      <td>0.462174</td>\n",
       "    </tr>\n",
       "    <tr>\n",
       "      <th>29</th>\n",
       "      <td>0.473478</td>\n",
       "    </tr>\n",
       "    <tr>\n",
       "      <th>...</th>\n",
       "      <td>...</td>\n",
       "    </tr>\n",
       "    <tr>\n",
       "      <th>52530</th>\n",
       "      <td>0.078261</td>\n",
       "    </tr>\n",
       "    <tr>\n",
       "      <th>52531</th>\n",
       "      <td>0.066957</td>\n",
       "    </tr>\n",
       "    <tr>\n",
       "      <th>52532</th>\n",
       "      <td>0.053043</td>\n",
       "    </tr>\n",
       "    <tr>\n",
       "      <th>52533</th>\n",
       "      <td>0.076957</td>\n",
       "    </tr>\n",
       "    <tr>\n",
       "      <th>52534</th>\n",
       "      <td>0.133478</td>\n",
       "    </tr>\n",
       "    <tr>\n",
       "      <th>52535</th>\n",
       "      <td>0.161304</td>\n",
       "    </tr>\n",
       "    <tr>\n",
       "      <th>52536</th>\n",
       "      <td>0.179565</td>\n",
       "    </tr>\n",
       "    <tr>\n",
       "      <th>52537</th>\n",
       "      <td>0.212609</td>\n",
       "    </tr>\n",
       "    <tr>\n",
       "      <th>52538</th>\n",
       "      <td>0.240870</td>\n",
       "    </tr>\n",
       "    <tr>\n",
       "      <th>52539</th>\n",
       "      <td>0.273913</td>\n",
       "    </tr>\n",
       "    <tr>\n",
       "      <th>52540</th>\n",
       "      <td>0.198261</td>\n",
       "    </tr>\n",
       "    <tr>\n",
       "      <th>52541</th>\n",
       "      <td>0.199130</td>\n",
       "    </tr>\n",
       "    <tr>\n",
       "      <th>52542</th>\n",
       "      <td>0.196522</td>\n",
       "    </tr>\n",
       "    <tr>\n",
       "      <th>52543</th>\n",
       "      <td>0.239565</td>\n",
       "    </tr>\n",
       "    <tr>\n",
       "      <th>52544</th>\n",
       "      <td>0.246522</td>\n",
       "    </tr>\n",
       "    <tr>\n",
       "      <th>52545</th>\n",
       "      <td>0.273913</td>\n",
       "    </tr>\n",
       "    <tr>\n",
       "      <th>52546</th>\n",
       "      <td>0.294783</td>\n",
       "    </tr>\n",
       "    <tr>\n",
       "      <th>52547</th>\n",
       "      <td>0.260870</td>\n",
       "    </tr>\n",
       "    <tr>\n",
       "      <th>52548</th>\n",
       "      <td>0.313913</td>\n",
       "    </tr>\n",
       "    <tr>\n",
       "      <th>52549</th>\n",
       "      <td>0.303913</td>\n",
       "    </tr>\n",
       "    <tr>\n",
       "      <th>52550</th>\n",
       "      <td>0.370435</td>\n",
       "    </tr>\n",
       "    <tr>\n",
       "      <th>52551</th>\n",
       "      <td>0.340000</td>\n",
       "    </tr>\n",
       "    <tr>\n",
       "      <th>52552</th>\n",
       "      <td>0.338261</td>\n",
       "    </tr>\n",
       "    <tr>\n",
       "      <th>52553</th>\n",
       "      <td>0.366957</td>\n",
       "    </tr>\n",
       "    <tr>\n",
       "      <th>52554</th>\n",
       "      <td>0.404783</td>\n",
       "    </tr>\n",
       "    <tr>\n",
       "      <th>52555</th>\n",
       "      <td>0.372609</td>\n",
       "    </tr>\n",
       "    <tr>\n",
       "      <th>52556</th>\n",
       "      <td>0.307826</td>\n",
       "    </tr>\n",
       "    <tr>\n",
       "      <th>52557</th>\n",
       "      <td>0.338261</td>\n",
       "    </tr>\n",
       "    <tr>\n",
       "      <th>52558</th>\n",
       "      <td>0.331304</td>\n",
       "    </tr>\n",
       "    <tr>\n",
       "      <th>52559</th>\n",
       "      <td>0.300000</td>\n",
       "    </tr>\n",
       "  </tbody>\n",
       "</table>\n",
       "<p>52560 rows × 1 columns</p>\n",
       "</div>"
      ],
      "text/plain": [
       "       e825103_2017_2.3MW_faults9\n",
       "0                        0.573043\n",
       "1                        0.609130\n",
       "2                        0.623478\n",
       "3                        0.584783\n",
       "4                        0.646522\n",
       "5                        0.737391\n",
       "6                        0.681304\n",
       "7                        0.640000\n",
       "8                        0.558261\n",
       "9                        0.475217\n",
       "10                       0.384783\n",
       "11                       0.431739\n",
       "12                       0.470870\n",
       "13                       0.476957\n",
       "14                       0.516087\n",
       "15                       0.565217\n",
       "16                       0.541304\n",
       "17                       0.454348\n",
       "18                       0.445652\n",
       "19                       0.412174\n",
       "20                       0.447391\n",
       "21                       0.440000\n",
       "22                       0.470000\n",
       "23                       0.446957\n",
       "24                       0.466957\n",
       "25                       0.526957\n",
       "26                       0.570870\n",
       "27                       0.543478\n",
       "28                       0.462174\n",
       "29                       0.473478\n",
       "...                           ...\n",
       "52530                    0.078261\n",
       "52531                    0.066957\n",
       "52532                    0.053043\n",
       "52533                    0.076957\n",
       "52534                    0.133478\n",
       "52535                    0.161304\n",
       "52536                    0.179565\n",
       "52537                    0.212609\n",
       "52538                    0.240870\n",
       "52539                    0.273913\n",
       "52540                    0.198261\n",
       "52541                    0.199130\n",
       "52542                    0.196522\n",
       "52543                    0.239565\n",
       "52544                    0.246522\n",
       "52545                    0.273913\n",
       "52546                    0.294783\n",
       "52547                    0.260870\n",
       "52548                    0.313913\n",
       "52549                    0.303913\n",
       "52550                    0.370435\n",
       "52551                    0.340000\n",
       "52552                    0.338261\n",
       "52553                    0.366957\n",
       "52554                    0.404783\n",
       "52555                    0.372609\n",
       "52556                    0.307826\n",
       "52557                    0.338261\n",
       "52558                    0.331304\n",
       "52559                    0.300000\n",
       "\n",
       "[52560 rows x 1 columns]"
      ]
     },
     "execution_count": 39,
     "metadata": {},
     "output_type": "execute_result"
    }
   ],
   "source": [
    "data = pd.read_excel('generationTimeSeries_e825103.xlsx')\n",
    "data"
   ]
  },
  {
   "cell_type": "code",
   "execution_count": 41,
   "metadata": {
    "collapsed": true
   },
   "outputs": [],
   "source": [
    "operationRateMax = pd.DataFrame(data['e825103_2017_2.3MW_faults9'],index=range(numberOfTimeSteps)) # Dataset with least missing data\n",
    "operationRateMax.columns = ['industry_0']"
   ]
  },
  {
   "cell_type": "code",
   "execution_count": 42,
   "metadata": {
    "collapsed": true
   },
   "outputs": [],
   "source": [
    "# Input parameters\n",
    "name, commodity ='Wind turbines', 'electricity'\n",
    "hasCapacityVariable = True\n",
    "capacityFix = pd.Series([20], index=['industry_0']) # 10 MW_el = 0.01 GW_el\n",
    "investPerCapacity, opexPerCapacity = 0, 30 # 30 €/kW = 30 1e6€/GW = 30 1e3€/MW\n",
    "interestRate, economicLifetime = 0.08, 20\n",
    "\n",
    "# Code\n",
    "esM.add(fn.Source(esM=esM, name=name, commodity=commodity, hasCapacityVariable=hasCapacityVariable,\n",
    "    operationRateMax=operationRateMax, capacityFix=capacityFix, investPerCapacity=investPerCapacity,\n",
    "    opexPerCapacity=opexPerCapacity, interestRate=interestRate, economicLifetime=economicLifetime))"
   ]
  },
  {
   "cell_type": "code",
   "execution_count": 43,
   "metadata": {},
   "outputs": [
    {
     "data": {
      "text/plain": [
       "industry_0    12107.056522\n",
       "dtype: float64"
      ]
     },
     "execution_count": 43,
     "metadata": {},
     "output_type": "execute_result"
    }
   ],
   "source": [
    "operationRateMax.sum()"
   ]
  },
  {
   "cell_type": "code",
   "execution_count": 44,
   "metadata": {},
   "outputs": [
    {
     "data": {
      "text/plain": [
       "<matplotlib.axes._subplots.AxesSubplot at 0x25b594d2208>"
      ]
     },
     "execution_count": 44,
     "metadata": {},
     "output_type": "execute_result"
    },
    {
     "data": {
      "image/png": "[encoded data removed]",
      "text/plain": [
       "<Figure size 432x288 with 1 Axes>"
      ]
     },
     "metadata": {
      "needs_background": "light"
     },
     "output_type": "display_data"
    }
   ],
   "source": [
    "(capacityFix*operationRateMax).plot()"
   ]
  },
  {
   "cell_type": "markdown",
   "metadata": {},
   "source": [
    "## Add conversion components"
   ]
  },
  {
   "cell_type": "code",
   "execution_count": 45,
   "metadata": {
    "collapsed": true
   },
   "outputs": [],
   "source": [
    "esM.add(fn.Conversion(esM=esM, name='PEMEC', physicalUnit=r'MW$_{el}$',\n",
    "                      commodityConversionFactors={'electricity':-1, 'hydrogen':0.67},\n",
    "                      hasCapacityVariable=True, \n",
    "                      investPerCapacity=2300, opexPerCapacity=12.5, interestRate=0.08, # for 2018 CAPEX\n",
    "                      economicLifetime=5))"
   ]
  },
  {
   "cell_type": "code",
   "execution_count": 46,
   "metadata": {
    "collapsed": true
   },
   "outputs": [],
   "source": [
    "esM.add(fn.Conversion(esM=esM, name='AEC', physicalUnit=r'MW$_{el}$',\n",
    "                      commodityConversionFactors={'electricity':-1, 'hydrogen':0.64},\n",
    "                      hasCapacityVariable=True, \n",
    "                      investPerCapacity=1300, opexPerCapacity=18, interestRate=0.08, # for 2018 CAPEX\n",
    "                      economicLifetime=9))"
   ]
  },
  {
   "cell_type": "markdown",
   "metadata": {},
   "source": [
    "## Add storage components"
   ]
  },
  {
   "cell_type": "code",
   "execution_count": 47,
   "metadata": {
    "collapsed": true
   },
   "outputs": [],
   "source": [
    "esM.add(fn.Storage(esM=esM, name='Hydrogen tank (gaseous)', commodity='hydrogen',\n",
    "                   hasCapacityVariable=True, capacityVariableDomain='continuous',\n",
    "                   capacityPerPlantUnit=1,\n",
    "                   chargeRate=1, dischargeRate=1, sharedPotentialID=None,\n",
    "                   stateOfChargeMin=0.06, stateOfChargeMax=1,\n",
    "                   investPerCapacity=0.004, opexPerCapacity=0.004*0.02, interestRate=0.08,\n",
    "                   economicLifetime=20))"
   ]
  },
  {
   "cell_type": "markdown",
   "metadata": {},
   "source": [
    "### Industrial hydrogen demand"
   ]
  },
  {
   "cell_type": "code",
   "execution_count": 48,
   "metadata": {
    "collapsed": true
   },
   "outputs": [],
   "source": [
    "operationRateFix = pd.DataFrame(2*np.ones(52560)*(1/6), columns=['industry_0']) # constant hydrogen demand of 2 MW_GH2: ATTN\n",
    "esM.add(fn.Sink(esM=esM, name='Hydrogen demand', commodity='hydrogen', hasCapacityVariable=False,\n",
    "                operationRateFix=operationRateFix))"
   ]
  },
  {
   "cell_type": "code",
   "execution_count": 49,
   "metadata": {},
   "outputs": [
    {
     "data": {
      "text/plain": [
       "industry_0    17.52\n",
       "dtype: float64"
      ]
     },
     "execution_count": 49,
     "metadata": {},
     "output_type": "execute_result"
    }
   ],
   "source": [
    "operationRateFix.sum()/1e3"
   ]
  },
  {
   "cell_type": "markdown",
   "metadata": {},
   "source": [
    "# Optimize energy system model"
   ]
  },
  {
   "cell_type": "markdown",
   "metadata": {},
   "source": [
    "All components are now added to the model and the model can be optimized. If the computational complexity of the optimization should be reduced, the time series data of the specified components can be clustered before the optimization and the parameter timeSeriesAggregation is set to True in the optimize call."
   ]
  },
  {
   "cell_type": "code",
   "execution_count": 50,
   "metadata": {
    "scrolled": true
   },
   "outputs": [
    {
     "name": "stdout",
     "output_type": "stream",
     "text": [
      "\n",
      "Clustering time series data with 30 typical periods and 144 time steps per period...\n",
      "\t\t(0.9595 sec)\n",
      "\n"
     ]
    }
   ],
   "source": [
    "# Input parameters\n",
    "numberOfTypicalPeriods=30\n",
    "numberOfTimeStepsPerPeriod=24*6\n",
    "\n",
    "# Code\n",
    "esM.cluster(numberOfTypicalPeriods=numberOfTypicalPeriods,numberOfTimeStepsPerPeriod=numberOfTimeStepsPerPeriod)"
   ]
  },
  {
   "cell_type": "code",
   "execution_count": 51,
   "metadata": {},
   "outputs": [
    {
     "name": "stdout",
     "output_type": "stream",
     "text": [
      "Time series aggregation specifications:\n",
      "Number of typical periods:30, number of time steps per periods:144\n",
      "\n",
      "Declaring sets, variables and constraints for SourceSinkModel\n",
      "\tdeclaring sets... \n",
      "\tdeclaring variables... \n",
      "\tdeclaring constraints... \n",
      "\t\t(0.7237 sec)\n",
      "\n",
      "Declaring sets, variables and constraints for ConversionModel\n",
      "\tdeclaring sets... \n",
      "\tdeclaring variables... \n",
      "\tdeclaring constraints... \n",
      "\t\t(0.2187 sec)\n",
      "\n",
      "Declaring sets, variables and constraints for StorageModel\n",
      "\tdeclaring sets... \n",
      "\tdeclaring variables... \n",
      "\tdeclaring constraints... \n",
      "\t\t(0.7743 sec)\n",
      "\n",
      "Declaring shared potential constraint...\n",
      "\t\t(0.0000 sec)\n",
      "\n",
      "Declaring commodity balances...\n",
      "\t\t(0.4530 sec)\n",
      "\n",
      "Declaring objective function...\n",
      "\t\t(0.1875 sec)\n",
      "\n",
      "Academic license - for non-commercial use only\n",
      "Read LP format model from file C:\\Users\\M8889~1.ZIE\\AppData\\Local\\Temp\\tmpk7iji36d.pyomo.lp\n",
      "Reading time = 0.16 seconds\n",
      "x30705: 48652 rows, 30705 columns, 119917 nonzeros\n",
      "Changed value of parameter QCPDual to 1\n",
      "   Prev: 0  Min: 0  Max: 1  Default: 0\n",
      "Changed value of parameter logfile to \n",
      "   Prev: gurobi.log  Default: \n",
      "Changed value of parameter Threads to 3\n",
      "   Prev: 0  Min: 0  Max: 1024  Default: 0\n",
      "Optimize a model with 48652 rows, 30705 columns and 119917 nonzeros\n",
      "Coefficient statistics:\n",
      "  Matrix range     [7e-05, 1e+00]\n",
      "  Objective range  [5e-04, 6e+02]\n",
      "  Bounds range     [0e+00, 0e+00]\n",
      "  RHS range        [3e-01, 2e+01]\n",
      "\n",
      "Concurrent LP optimizer: dual simplex and barrier\n",
      "Showing barrier log only...\n",
      "\n",
      "Presolve removed 14998 rows and 14064 columns\n",
      "Presolve time: 0.09s\n",
      "Presolved: 33654 rows, 16641 columns, 108792 nonzeros\n",
      "\n",
      "Ordering time: 0.00s\n",
      "\n",
      "Barrier statistics:\n",
      " Dense cols : 71\n",
      " Free vars  : 914\n",
      " AA' NZ     : 1.817e+05\n",
      " Factor NZ  : 4.621e+05 (roughly 24 MBytes of memory)\n",
      " Factor Ops : 1.232e+07 (less than 1 second per iteration)\n",
      " Threads    : 2\n",
      "\n",
      "                  Objective                Residual\n",
      "Iter       Primal          Dual         Primal    Dual     Compl     Time\n",
      "   0   5.08957751e+04  6.00000975e+02  9.40e+01 0.00e+00  1.43e+02     0s\n",
      "   1   6.39665634e+04 -1.97253635e+04  1.89e+01 4.76e+00  5.94e+01     0s\n",
      "   2   5.85706966e+04 -2.53854630e+04  5.33e+00 8.36e-01  1.25e+01     0s\n",
      "   3   4.21022122e+04 -1.37114728e+04  2.64e+00 2.73e-01  4.84e+00     0s\n",
      "   4   3.53515982e+04 -4.04199213e+03  2.05e+00 1.41e-01  2.97e+00     0s\n",
      "   5   3.04176323e+04  2.87116750e+03  1.70e+00 9.60e-02  2.23e+00     0s\n",
      "   6   2.34852280e+04  1.25901517e+04  1.26e+00 4.52e-02  1.33e+00     0s\n",
      "   7   1.67882718e+04  1.43601744e+04  8.52e-01 2.93e-02  8.76e-01     0s\n",
      "   8   1.56180427e+04  1.51864501e+04  7.77e-01 2.50e-02  7.82e-01     0s\n",
      "   9   1.44941158e+04  1.55541008e+04  7.05e-01 2.29e-02  7.19e-01     0s\n",
      "  10   1.38520915e+04  1.59041186e+04  6.64e-01 2.05e-02  6.66e-01     0s\n",
      "  11   1.21006989e+04  1.61708869e+04  5.54e-01 1.77e-02  5.76e-01     0s\n",
      "  12   7.37285791e+03  1.38788767e+04  2.57e-01 1.32e-02  3.85e-01     0s\n",
      "  13   6.49003598e+03  1.10851340e+04  2.05e-01 9.57e-03  2.93e-01     0s\n",
      "  14   6.24248211e+03  1.02787879e+04  1.85e-01 8.43e-03  2.64e-01     0s\n",
      "  15   5.54114520e+03  8.98771148e+03  1.49e-01 6.91e-03  2.19e-01     0s\n",
      "  16   5.17733782e+03  8.06071332e+03  1.30e-01 5.81e-03  1.86e-01     0s\n",
      "  17   4.34353803e+03  6.78033020e+03  8.15e-02 4.27e-03  1.37e-01     0s\n",
      "  18   4.04437224e+03  6.53635954e+03  6.93e-02 3.98e-03  1.25e-01     0s\n",
      "  19   3.77794052e+03  5.94102148e+03  3.95e-02 3.27e-03  1.05e-01     0s\n",
      "  20   3.36037439e+03  5.00175418e+03  2.77e-02 2.34e-03  7.67e-02     1s\n",
      "  21   3.12428922e+03  4.47496721e+03  2.12e-02 1.80e-03  5.94e-02     1s\n",
      "  22   2.88743323e+03  4.16420737e+03  1.59e-02 1.50e-03  4.88e-02     1s\n",
      "  23   2.79586038e+03  3.84293003e+03  1.40e-02 1.21e-03  4.00e-02     1s\n",
      "  24   2.76621425e+03  3.72869214e+03  1.35e-02 1.11e-03  3.72e-02     1s\n",
      "  25   2.75569394e+03  3.61928554e+03  1.33e-02 1.02e-03  3.48e-02     1s\n",
      "  26   2.58796183e+03  3.49978867e+03  1.10e-02 9.22e-04  3.11e-02     1s\n",
      "  27   2.52473040e+03  3.32471431e+03  1.00e-02 7.92e-04  2.69e-02     1s\n",
      "  28   2.41733044e+03  3.27704336e+03  6.86e-03 7.57e-04  2.47e-02     1s\n",
      "  29   2.31031836e+03  2.95768320e+03  5.49e-03 5.32e-04  1.78e-02     1s\n",
      "  30   2.22359045e+03  2.83852343e+03  4.71e-03 4.55e-04  1.52e-02     1s\n",
      "  31   2.15328131e+03  2.77081410e+03  4.15e-03 4.14e-04  1.38e-02     1s\n",
      "  32   2.15892792e+03  2.72242662e+03  3.68e-03 3.88e-04  1.31e-02     1s\n",
      "  33   2.09642632e+03  2.67708510e+03  3.08e-03 3.64e-04  1.19e-02     1s\n",
      "  34   2.08225287e+03  2.49028697e+03  2.75e-03 2.71e-04  9.46e-03     1s\n",
      "  35   2.04582672e+03  2.36519207e+03  1.63e-03 2.12e-04  7.31e-03     1s\n",
      "  36   1.99992018e+03  2.21154507e+03  8.46e-04 1.42e-04  5.01e-03     1s\n",
      "  37   1.93561067e+03  1.99184848e+03  2.49e-04 4.64e-05  1.92e-03     1s\n",
      "  38   1.90695776e+03  1.93766687e+03  8.53e-05 2.42e-05  8.58e-04     1s\n",
      "  39   1.89884921e+03  1.91803908e+03  4.39e-05 1.54e-05  4.84e-04     1s\n",
      "  40   1.89338851e+03  1.91228911e+03  1.52e-05 1.26e-05  3.05e-04     1s\n",
      "  41   1.89321449e+03  1.91009588e+03  1.42e-05 1.14e-05  2.78e-04     1s\n",
      "  42   1.89065982e+03  1.89124252e+03  1.36e-06 1.24e-06  2.76e-05     1s\n",
      "  43   1.89031521e+03  1.89025901e+03  1.78e-07 2.96e-08  1.49e-06     1s\n",
      "  44   1.89026186e+03  1.89026050e+03  1.12e-08 2.70e-09  3.99e-08     1s\n",
      "  45   1.89026096e+03  1.89026094e+03  1.66e-09 5.48e-12  4.68e-10     1s\n",
      "  46   1.89026094e+03  1.89026094e+03  3.80e-09 1.23e-11  4.68e-13     1s\n",
      "\n",
      "Barrier solved model in 46 iterations and 0.95 seconds\n",
      "Optimal objective 1.89026094e+03\n",
      "\n",
      "Crossover log...\n",
      "\n",
      "       0 DPushes remaining with DInf 2.0921954e-11                 2s\n",
      "\n",
      "    3567 PPushes remaining with PInf 0.0000000e+00                 2s\n",
      "       0 PPushes remaining with PInf 0.0000000e+00                 2s\n",
      "\n",
      "  Push phase complete: Pinf 0.0000000e+00, Dinf 2.0915941e-11      2s\n",
      "\n",
      "Iteration    Objective       Primal Inf.    Dual Inf.      Time\n",
      "    7842    1.8902609e+03   0.000000e+00   0.000000e+00      2s\n",
      "\n",
      "Solved with barrier\n",
      "Solved in 7842 iterations and 2.13 seconds\n",
      "Optimal objective  1.890260944e+03\n",
      "\n",
      "Status: ok\n",
      "Return code: 0\n",
      "Message: Model was solved to optimality (subject to tolerances), and an optimal solution is available.\n",
      "Termination condition: optimal\n",
      "Termination message: Model was solved to optimality (subject to tolerances), and an optimal solution is available.\n",
      "Wall time: 2.14477348328\n",
      "Error rc: 0\n",
      "Time: 2.7893595695495605\n",
      "\n",
      "\n",
      "Name: x30705_copy\n",
      "Lower bound: 1890.26094442\n",
      "Upper bound: 1890.26094442\n",
      "Number of objectives: 1\n",
      "Number of constraints: 48652\n",
      "Number of variables: 30705\n",
      "Number of binary variables: 0\n",
      "Number of integer variables: 0\n",
      "Number of continuous variables: 30705\n",
      "Number of nonzeros: 119917\n",
      "Sense: minimize\n",
      "\n",
      "Solve time: 4.892914056777954 sec.\n",
      "\n",
      "Processing optimization output...\n",
      "for SourceSinkModel ...(0.7186sec)\n",
      "for ConversionModel ...(0.7613sec)\n",
      "for StorageModel ...  (1.8493sec)\n",
      "\t\t(3.3292 sec)\n",
      "\n"
     ]
    }
   ],
   "source": [
    "# Input parameters\n",
    "timeSeriesAggregation=True\n",
    "solver='gurobi'\n",
    "\n",
    "# Code\n",
    "esM.optimize(timeSeriesAggregation=timeSeriesAggregation, solver=solver)"
   ]
  },
  {
   "cell_type": "markdown",
   "metadata": {},
   "source": [
    "## Display optimization summaries\n",
    "\n",
    "For each modeling class, an optimization summary can be stored and displayed. "
   ]
  },
  {
   "cell_type": "markdown",
   "metadata": {},
   "source": [
    "#### Source and Sink Component"
   ]
  },
  {
   "cell_type": "code",
   "execution_count": 31,
   "metadata": {},
   "outputs": [
    {
     "data": {
      "text/html": [
       "<div>\n",
       "<style scoped>\n",
       "    .dataframe tbody tr th:only-of-type {\n",
       "        vertical-align: middle;\n",
       "    }\n",
       "\n",
       "    .dataframe tbody tr th {\n",
       "        vertical-align: top;\n",
       "    }\n",
       "\n",
       "    .dataframe thead th {\n",
       "        text-align: right;\n",
       "    }\n",
       "</style>\n",
       "<table border=\"1\" class=\"dataframe\">\n",
       "  <thead>\n",
       "    <tr style=\"text-align: right;\">\n",
       "      <th></th>\n",
       "      <th></th>\n",
       "      <th></th>\n",
       "      <th>industry_0</th>\n",
       "    </tr>\n",
       "    <tr>\n",
       "      <th>Component</th>\n",
       "      <th>Property</th>\n",
       "      <th>Unit</th>\n",
       "      <th></th>\n",
       "    </tr>\n",
       "  </thead>\n",
       "  <tbody>\n",
       "    <tr>\n",
       "      <th>Hydrogen demand</th>\n",
       "      <th>operation</th>\n",
       "      <th>[MW$_{H_{2},LHV}$*h/a]</th>\n",
       "      <td>17520</td>\n",
       "    </tr>\n",
       "    <tr>\n",
       "      <th rowspan=\"4\" valign=\"top\">Wind turbines</th>\n",
       "      <th>TAC</th>\n",
       "      <th>[1e3 Euro/a]</th>\n",
       "      <td>600</td>\n",
       "    </tr>\n",
       "    <tr>\n",
       "      <th>capacity</th>\n",
       "      <th>[MW$_{el}$]</th>\n",
       "      <td>20</td>\n",
       "    </tr>\n",
       "    <tr>\n",
       "      <th>operation</th>\n",
       "      <th>[MW$_{el}$*h/a]</th>\n",
       "      <td>27375</td>\n",
       "    </tr>\n",
       "    <tr>\n",
       "      <th>opexCap</th>\n",
       "      <th>[1e3 Euro/a]</th>\n",
       "      <td>600</td>\n",
       "    </tr>\n",
       "  </tbody>\n",
       "</table>\n",
       "</div>"
      ],
      "text/plain": [
       "                                                 industry_0\n",
       "Component       Property  Unit                             \n",
       "Hydrogen demand operation [MW$_{H_{2},LHV}$*h/a]      17520\n",
       "Wind turbines   TAC       [1e3 Euro/a]                  600\n",
       "                capacity  [MW$_{el}$]                    20\n",
       "                operation [MW$_{el}$*h/a]             27375\n",
       "                opexCap   [1e3 Euro/a]                  600"
      ]
     },
     "metadata": {},
     "output_type": "display_data"
    }
   ],
   "source": [
    "srcSnkSummary = esM.getOptimizationSummary(\"SourceSinkModel\", outputLevel=1)\n",
    "display(esM.getOptimizationSummary(\"SourceSinkModel\", outputLevel=2))"
   ]
  },
  {
   "cell_type": "markdown",
   "metadata": {},
   "source": [
    "#### Conversion Components"
   ]
  },
  {
   "cell_type": "code",
   "execution_count": 32,
   "metadata": {},
   "outputs": [
    {
     "data": {
      "text/html": [
       "<div>\n",
       "<style scoped>\n",
       "    .dataframe tbody tr th:only-of-type {\n",
       "        vertical-align: middle;\n",
       "    }\n",
       "\n",
       "    .dataframe tbody tr th {\n",
       "        vertical-align: top;\n",
       "    }\n",
       "\n",
       "    .dataframe thead th {\n",
       "        text-align: right;\n",
       "    }\n",
       "</style>\n",
       "<table border=\"1\" class=\"dataframe\">\n",
       "  <thead>\n",
       "    <tr style=\"text-align: right;\">\n",
       "      <th></th>\n",
       "      <th></th>\n",
       "      <th></th>\n",
       "      <th>industry_0</th>\n",
       "    </tr>\n",
       "    <tr>\n",
       "      <th>Component</th>\n",
       "      <th>Property</th>\n",
       "      <th>Unit</th>\n",
       "      <th></th>\n",
       "    </tr>\n",
       "  </thead>\n",
       "  <tbody>\n",
       "    <tr>\n",
       "      <th rowspan=\"6\" valign=\"top\">AEC</th>\n",
       "      <th>TAC</th>\n",
       "      <th>[1e3 Euro/a]</th>\n",
       "      <td>1289.45</td>\n",
       "    </tr>\n",
       "    <tr>\n",
       "      <th>capacity</th>\n",
       "      <th>[MW$_{el}$]</th>\n",
       "      <td>5.70293</td>\n",
       "    </tr>\n",
       "    <tr>\n",
       "      <th>capexCap</th>\n",
       "      <th>[1e3 Euro/a]</th>\n",
       "      <td>1186.8</td>\n",
       "    </tr>\n",
       "    <tr>\n",
       "      <th>invest</th>\n",
       "      <th>[1e3 Euro]</th>\n",
       "      <td>7413.81</td>\n",
       "    </tr>\n",
       "    <tr>\n",
       "      <th>operation</th>\n",
       "      <th>[MW$_{el}$*h/a]</th>\n",
       "      <td>27375</td>\n",
       "    </tr>\n",
       "    <tr>\n",
       "      <th>opexCap</th>\n",
       "      <th>[1e3 Euro/a]</th>\n",
       "      <td>102.653</td>\n",
       "    </tr>\n",
       "  </tbody>\n",
       "</table>\n",
       "</div>"
      ],
      "text/plain": [
       "                                    industry_0\n",
       "Component Property  Unit                      \n",
       "AEC       TAC       [1e3 Euro/a]       1289.45\n",
       "          capacity  [MW$_{el}$]        5.70293\n",
       "          capexCap  [1e3 Euro/a]        1186.8\n",
       "          invest    [1e3 Euro]         7413.81\n",
       "          operation [MW$_{el}$*h/a]      27375\n",
       "          opexCap   [1e3 Euro/a]       102.653"
      ]
     },
     "metadata": {},
     "output_type": "display_data"
    }
   ],
   "source": [
    "convSummary = esM.getOptimizationSummary(\"ConversionModel\", outputLevel=1)\n",
    "display(esM.getOptimizationSummary(\"ConversionModel\", outputLevel=2))"
   ]
  },
  {
   "cell_type": "markdown",
   "metadata": {},
   "source": [
    "#### Storage Components"
   ]
  },
  {
   "cell_type": "code",
   "execution_count": 33,
   "metadata": {},
   "outputs": [
    {
     "data": {
      "text/html": [
       "<div>\n",
       "<style scoped>\n",
       "    .dataframe tbody tr th:only-of-type {\n",
       "        vertical-align: middle;\n",
       "    }\n",
       "\n",
       "    .dataframe tbody tr th {\n",
       "        vertical-align: top;\n",
       "    }\n",
       "\n",
       "    .dataframe thead th {\n",
       "        text-align: right;\n",
       "    }\n",
       "</style>\n",
       "<table border=\"1\" class=\"dataframe\">\n",
       "  <thead>\n",
       "    <tr style=\"text-align: right;\">\n",
       "      <th></th>\n",
       "      <th></th>\n",
       "      <th></th>\n",
       "      <th>industry_0</th>\n",
       "    </tr>\n",
       "    <tr>\n",
       "      <th>Component</th>\n",
       "      <th>Property</th>\n",
       "      <th>Unit</th>\n",
       "      <th></th>\n",
       "    </tr>\n",
       "  </thead>\n",
       "  <tbody>\n",
       "    <tr>\n",
       "      <th rowspan=\"7\" valign=\"top\">Hydrogen tank (gaseous)</th>\n",
       "      <th>TAC</th>\n",
       "      <th>[1e3 Euro/a]</th>\n",
       "      <td>0.807064</td>\n",
       "    </tr>\n",
       "    <tr>\n",
       "      <th>capacity</th>\n",
       "      <th>[MW$_{H_{2},LHV}$*h]</th>\n",
       "      <td>1655.83</td>\n",
       "    </tr>\n",
       "    <tr>\n",
       "      <th>capexCap</th>\n",
       "      <th>[1e3 Euro/a]</th>\n",
       "      <td>0.674598</td>\n",
       "    </tr>\n",
       "    <tr>\n",
       "      <th>invest</th>\n",
       "      <th>[1e3 Euro]</th>\n",
       "      <td>6.62331</td>\n",
       "    </tr>\n",
       "    <tr>\n",
       "      <th>operationCharge</th>\n",
       "      <th>[MW$_{H_{2},LHV}$*h/a]</th>\n",
       "      <td>5500.45</td>\n",
       "    </tr>\n",
       "    <tr>\n",
       "      <th>operationDischarge</th>\n",
       "      <th>[MW$_{H_{2},LHV}$*h/a]</th>\n",
       "      <td>5500.45</td>\n",
       "    </tr>\n",
       "    <tr>\n",
       "      <th>opexCap</th>\n",
       "      <th>[1e3 Euro/a]</th>\n",
       "      <td>0.132466</td>\n",
       "    </tr>\n",
       "  </tbody>\n",
       "</table>\n",
       "</div>"
      ],
      "text/plain": [
       "                                                                  industry_0\n",
       "Component               Property           Unit                             \n",
       "Hydrogen tank (gaseous) TAC                [1e3 Euro/a]             0.807064\n",
       "                        capacity           [MW$_{H_{2},LHV}$*h]      1655.83\n",
       "                        capexCap           [1e3 Euro/a]             0.674598\n",
       "                        invest             [1e3 Euro]                6.62331\n",
       "                        operationCharge    [MW$_{H_{2},LHV}$*h/a]    5500.45\n",
       "                        operationDischarge [MW$_{H_{2},LHV}$*h/a]    5500.45\n",
       "                        opexCap            [1e3 Euro/a]             0.132466"
      ]
     },
     "metadata": {},
     "output_type": "display_data"
    }
   ],
   "source": [
    "storSummary = esM.getOptimizationSummary(\"StorageModel\", outputLevel=1)\n",
    "display(esM.getOptimizationSummary(\"StorageModel\", outputLevel=2))"
   ]
  },
  {
   "cell_type": "markdown",
   "metadata": {},
   "source": [
    "## Display regional and operational plots\n",
    "\n",
    "Plots representing time series can be displayed for each component."
   ]
  },
  {
   "cell_type": "markdown",
   "metadata": {},
   "source": [
    "### Wind turbines"
   ]
  },
  {
   "cell_type": "code",
   "execution_count": 34,
   "metadata": {},
   "outputs": [
    {
     "data": {
      "image/png": "[encoded data removed]",
      "text/plain": [
       "<Figure size 360x216 with 2 Axes>"
      ]
     },
     "metadata": {
      "needs_background": "light"
     },
     "output_type": "display_data"
    }
   ],
   "source": [
    "# If wind turbines are built in industry_0, their operation is displayed as heatmap\n",
    "if srcSnkSummary.loc[('Wind turbines','capacity','[MW$_{el}$]'),'industry_0'] > 0:\n",
    "    fig, ax = fn.plotOperationColorMap(esM, 'Wind turbines', 'industry_0', figsize=(5,3), \n",
    "        xlabel='Day of the year', ylabel='Hour of the day', zlabel='[MW]',nbTimeStepsPerPeriod=24*6)"
   ]
  },
  {
   "cell_type": "markdown",
   "metadata": {},
   "source": [
    "### Electrolyzers "
   ]
  },
  {
   "cell_type": "code",
   "execution_count": 35,
   "metadata": {
    "collapsed": true
   },
   "outputs": [],
   "source": [
    "# If PEMECs are built in industry_0 their operation is displayed as heatmap\n",
    "if convSummary.loc[('PEMEC','capacity','[MW$_{el}$]'),'industry_0'] > 0:\n",
    "    fig, ax = fn.plotOperationColorMap(esM, 'PEMEC', 'industry_0', figsize=(5,3), \n",
    "        xlabel='Day of the year', ylabel='Hour of the day', zlabel='[MW]',nbTimeStepsPerPeriod=24*6)"
   ]
  },
  {
   "cell_type": "code",
   "execution_count": 36,
   "metadata": {},
   "outputs": [
    {
     "data": {
      "image/png": "[encoded data removed]",
      "text/plain": [
       "<Figure size 360x216 with 2 Axes>"
      ]
     },
     "metadata": {
      "needs_background": "light"
     },
     "output_type": "display_data"
    }
   ],
   "source": [
    "# If AECs are built in industry_0 their operation is displayed as heatmap\n",
    "if convSummary.loc[('AEC','capacity','[MW$_{el}$]'),'industry_0'] > 0:\n",
    "    fig, ax = fn.plotOperationColorMap(esM, 'AEC', 'industry_0', figsize=(5,3), \n",
    "        xlabel='Day of the year', ylabel='Hour of the day', zlabel='Operation\\nin industry_0\\n[MW]',nbTimeStepsPerPeriod=24*6)"
   ]
  },
  {
   "cell_type": "markdown",
   "metadata": {},
   "source": [
    "### Gaseous Hydrogen Tank"
   ]
  },
  {
   "cell_type": "code",
   "execution_count": 37,
   "metadata": {},
   "outputs": [
    {
     "data": {
      "image/png": "[encoded data removed]",
      "text/plain": [
       "<Figure size 360x216 with 2 Axes>"
      ]
     },
     "metadata": {
      "needs_background": "light"
     },
     "output_type": "display_data"
    }
   ],
   "source": [
    "# If Gaseous Hydrogen Tanks are built in industry_0, their storage inventory is displayed as heatmap\n",
    "if storSummary.loc[('Hydrogen tank (gaseous)','capacity','[MW$_{H_{2},LHV}$*h]'),'industry_0'] > 0:\n",
    "    fig, ax = fn.plotOperationColorMap(esM, 'Hydrogen tank (gaseous)', 'industry_0', figsize=(5,3),\n",
    "        xlabel='Day of the year', ylabel='Hour of the day',\n",
    "        zlabel='State of charge\\nin industry_0\\n[MWh]',\n",
    "        variableName='stateOfChargeOperationVariablesOptimum',nbTimeStepsPerPeriod=24*6)"
   ]
  },
  {
   "cell_type": "markdown",
   "metadata": {},
   "source": [
    "### Hydorgen Demand"
   ]
  },
  {
   "cell_type": "code",
   "execution_count": 38,
   "metadata": {},
   "outputs": [
    {
     "data": {
      "image/png": "[encoded data removed]",
      "text/plain": [
       "<Figure size 360x216 with 2 Axes>"
      ]
     },
     "metadata": {
      "needs_background": "light"
     },
     "output_type": "display_data"
    }
   ],
   "source": [
    "# The hydrogen demand time series in industry_0 is displayed\n",
    "fig, ax = fn.plotOperationColorMap(esM, 'Hydrogen demand', 'industry_0', figsize=(5,3), \n",
    "    xlabel='Day of the year', ylabel='Hour of the day', zlabel='Demand\\nin industry_0\\n[MW]',nbTimeStepsPerPeriod=24*6)"
   ]
  }
 ],
 "metadata": {
  "kernelspec": {
   "display_name": "Python [default]",
   "language": "python",
   "name": "python3"
  },
  "language_info": {
   "codemirror_mode": {
    "name": "ipython",
    "version": 3
   },
   "file_extension": ".py",
   "mimetype": "text/x-python",
   "name": "python",
   "nbconvert_exporter": "python",
   "pygments_lexer": "ipython3",
   "version": "3.4.5"
  }
 },
 "nbformat": 4,
 "nbformat_minor": 2
}
