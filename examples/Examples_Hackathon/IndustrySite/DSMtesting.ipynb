{
 "cells": [
  {
   "cell_type": "code",
   "execution_count": 1,
   "metadata": {},
   "outputs": [
    {
     "ename": "SyntaxError",
     "evalue": "duplicate argument 'socOffsetDown' in function definition (DSM.py, line 13)",
     "output_type": "error",
     "traceback": [
      "Traceback \u001b[1;36m(most recent call last)\u001b[0m:\n",
      "  File \u001b[0;32m\"C:\\Users\\LaraWelder\\.conda\\envs\\envTSA\\lib\\site-packages\\IPython\\core\\interactiveshell.py\"\u001b[0m, line \u001b[0;32m3326\u001b[0m, in \u001b[0;35mrun_code\u001b[0m\n    exec(code_obj, self.user_global_ns, self.user_ns)\n",
      "  File \u001b[0;32m\"<ipython-input-1-a03450e29648>\"\u001b[0m, line \u001b[0;32m2\u001b[0m, in \u001b[0;35m<module>\u001b[0m\n    import FINE as fn\n",
      "  File \u001b[0;32m\"c:\\users\\larawelder\\documents\\python\\fine_gitlab\\fine\\FINE\\__init__.py\"\u001b[0m, line \u001b[0;32m12\u001b[0m, in \u001b[0;35m<module>\u001b[0m\n    from .subclasses import *\n",
      "\u001b[1;36m  File \u001b[1;32m\"c:\\users\\larawelder\\documents\\python\\fine_gitlab\\fine\\FINE\\subclasses\\__init__.py\"\u001b[1;36m, line \u001b[1;32m7\u001b[1;36m, in \u001b[1;35m<module>\u001b[1;36m\u001b[0m\n\u001b[1;33m    from .DSM import DemandSideManagement\u001b[0m\n",
      "\u001b[1;36m  File \u001b[1;32m\"c:\\users\\larawelder\\documents\\python\\fine_gitlab\\fine\\FINE\\subclasses\\DSM.py\"\u001b[1;36m, line \u001b[1;32m13\u001b[0m\n\u001b[1;33m    def __init__(self, esM, name, commodity, hasCapacityVariable, tBwd, tFwd, operationRateFix,\u001b[0m\n\u001b[1;37m    ^\u001b[0m\n\u001b[1;31mSyntaxError\u001b[0m\u001b[1;31m:\u001b[0m duplicate argument 'socOffsetDown' in function definition\n"
     ]
    }
   ],
   "source": [
    "import pandas as pd\n",
    "import FINE as fn\n",
    "import os\n",
    "\n",
    "import matplotlib.pyplot as plt\n",
    "import numpy as np\n",
    "\n",
    "%load_ext autoreload\n",
    "%autoreload 2"
   ]
  },
  {
   "cell_type": "code",
   "execution_count": null,
   "metadata": {},
   "outputs": [],
   "source": [
    "def dsm_test_esM():\n",
    "    \"\"\"\n",
    "    Generate a simple energy system model with one node, two fixed generators and one load time series\n",
    "    for testing demand side management functionality.\n",
    "    \"\"\"\n",
    "    # load without dsm\n",
    "    now = pd.Timestamp.now().round('h')\n",
    "    number_of_time_steps = 28\n",
    "    #t_index = pd.date_range(now, now + pd.DateOffset(hours=number_of_timeSteps - 1), freq='h')\n",
    "    t_index = range(number_of_time_steps)\n",
    "    load_without_dsm = pd.Series([80.] * number_of_time_steps, index=t_index)\n",
    "\n",
    "    timestep_up = 10\n",
    "    timestep_down = 20\n",
    "    load_without_dsm[timestep_up:timestep_down] += 40.\n",
    "\n",
    "    time_shift = 3\n",
    "    cheap_capacity = 100.\n",
    "    expensive_capacity = 20.\n",
    "\n",
    "    # set up energy model\n",
    "    esM = fn.EnergySystemModel(locations={'location'},\n",
    "                               commodities={'electricity'},\n",
    "                               numberOfTimeSteps=number_of_time_steps,\n",
    "                               commodityUnitsDict={'electricity': r'MW$_{el}$'},\n",
    "                               hoursPerTimeStep=1, costUnit='1 Euro',\n",
    "                               lengthUnit='km',\n",
    "                               verboseLogLevel=2)\n",
    "    esM.add(fn.Source(esM=esM, name='cheap', commodity='electricity', hasCapacityVariable=False,\n",
    "                      operationRateMax=pd.Series(cheap_capacity, index=t_index), opexPerOperation=25))\n",
    "    esM.add(fn.Source(esM=esM, name='expensive', commodity='electricity', hasCapacityVariable=False,\n",
    "                      operationRateMax=pd.Series(expensive_capacity, index=t_index), opexPerOperation=50))\n",
    "    esM.add(fn.Source(esM=esM, name='back-up', commodity='electricity', hasCapacityVariable=False,\n",
    "                      operationRateMax=pd.Series(1000, index=t_index), opexPerOperation=1000))\n",
    "\n",
    "    return esM, load_without_dsm, timestep_up, timestep_down, time_shift, cheap_capacity\n"
   ]
  },
  {
   "cell_type": "code",
   "execution_count": null,
   "metadata": {},
   "outputs": [],
   "source": [
    "dsm_test_esM_ = dsm_test_esM()"
   ]
  },
  {
   "cell_type": "code",
   "execution_count": null,
   "metadata": {
    "scrolled": true
   },
   "outputs": [],
   "source": [
    "\"\"\"\n",
    "Given a one-node system with two generators, check whether the load and generation is shifted correctly in both\n",
    "directions with and without demand side management.\n",
    "\"\"\"\n",
    "\n",
    "esM_without, load_without_dsm, timestep_up, timestep_down, time_shift, cheap_capacity = dsm_test_esM_\n",
    "\n",
    "esM_without.add(fn.Sink(esM=esM_without, name='load', commodity='electricity',\n",
    "                        hasCapacityVariable=False, operationRateFix=load_without_dsm))\n",
    "\n",
    "esM_without.optimize(timeSeriesAggregation=False, solver='glpk')  # without dsm\n",
    "\n",
    "generator_outputs = esM_without.componentModelingDict['SourceSinkModel'].operationVariablesOptimum\n",
    "\n",
    "# benchmark generation without dsm\n",
    "cheap_without_dsm = load_without_dsm.clip(0, cheap_capacity).copy()\n",
    "cheap_without_dsm.name = ('cheap', 'location')\n",
    "expensive_without_dsm = load_without_dsm - cheap_without_dsm\n",
    "expensive_without_dsm.name = ('expensive', 'location')"
   ]
  },
  {
   "cell_type": "code",
   "execution_count": null,
   "metadata": {
    "scrolled": true
   },
   "outputs": [],
   "source": [
    "print((generator_outputs.loc[('cheap', 'location')] == cheap_without_dsm).all())\n",
    "print((generator_outputs.loc[('expensive', 'location')] == expensive_without_dsm).all())"
   ]
  },
  {
   "cell_type": "code",
   "execution_count": null,
   "metadata": {},
   "outputs": [],
   "source": [
    "# fig, ax = fn.plotOperation(esM_without,'cheap','location', figsize=(6,3))\n",
    "fig, ax = fn.plotOperation(esM_without,'expensive','location', figsize=(6,3))\n",
    "fig, ax = fn.plotOperation(esM_without,'load','location', figsize=(6,3))"
   ]
  },
  {
   "cell_type": "code",
   "execution_count": null,
   "metadata": {},
   "outputs": [],
   "source": [
    "def plotShift(tmin, tmax, title, timeSeriesAggregation, esM_with, tBwd, tFwd, shiftMax, numberOfTimeStepsPerPeriod):\n",
    "    c = esM_with.componentModelingDict['StorageExtModel'].chargeOperationVariablesOptimum\n",
    "\n",
    "    fig, axT = plt.subplots(1,1,figsize=(9,4))\n",
    "\n",
    "    axT.plot(np.arange(0.5,tmax-tmin+0.5),\n",
    "             esM_with.componentModelingDict['DSMModel'].operationVariablesOptimum.\\\n",
    "                 loc[('flexible demand','location'),tmin:tmax-1].values,\n",
    "            color='k', label='Demand w/- DSM', zorder=10, linestyle = '-')\n",
    "    axT.set_ylabel('Flexible demand [kW]', fontsize=10)\n",
    "\n",
    "    axT.set_title(title, fontsize=11)\n",
    "\n",
    "    if timeSeriesAggregation:\n",
    "        demand = pd.concat([esM_with.getComponent('flexible demand').aggregatedOperationRateFix.loc[p]\n",
    "                            for p in esM_with.periodsOrder], ignore_index=True)\n",
    "        demand = pd.concat([demand.iloc[tBwd:], demand.iloc[:tBwd]]).reset_index(drop=True)\n",
    "        axT.plot(np.arange(0.5,tmax-tmin+0.5), demand.loc[tmin:tmax-1,'location'].values,\n",
    "                 color='k',linestyle = '--', label='Demand w/o DSM')            \n",
    "    else:\n",
    "        demand = esM_with.getComponent('flexible demand').fullOperationRateFix.loc[0]\n",
    "        demand = pd.concat([demand.iloc[tBwd:], demand.iloc[:tBwd]]).reset_index(drop=True)\n",
    "        axT.plot(np.arange(0.5,tmax-tmin+0.5), demand.loc[tmin:tmax-1].values,\n",
    "                 color='k',linestyle = '--', label='Demand w/o DSM')\n",
    "    axT.grid(False)\n",
    "\n",
    "    axT.legend(loc=2, fontsize=9)\n",
    "    axT.set_xticks(range(0,len(c.T),4))\n",
    "    axT.set_xlabel('Hour of the day [h]', fontsize=10)\n",
    "\n",
    "    ax = axT.twinx() \n",
    "    \n",
    "    color_1 = ['blue','grey','red','yellow','green','black','pink']\n",
    "    marker = ['o','x','*']\n",
    "\n",
    "    ax.grid(zorder=-10)\n",
    "\n",
    "    bottom_1 = np.array([0 for i in range(tmax-tmin)])\n",
    "    bottom_2 = np.array([0 for i in range(tmax-tmin)])\n",
    "\n",
    "    for x in range(tmax-tmin):\n",
    "        h = tmin+x\n",
    "        bottom = 0\n",
    "        for i in range(tFwd + tBwd + 1):\n",
    "            if (tBwd + h) % (tFwd + tBwd + 1) == i:\n",
    "                if timeSeriesAggregation:\n",
    "                    p = int((h - (h % numberOfTimeStepsPerPeriod))/numberOfTimeStepsPerPeriod)\n",
    "                    tp = esM_with.periodsOrder[p]\n",
    "                    h_ = h % numberOfTimeStepsPerPeriod\n",
    "                    chargeMax = esM_with.getComponent('flexible demand_' + str(i)).\\\n",
    "                        aggregatedChargeOpRateMax.loc[(tp,h_),'location']\n",
    "                else:\n",
    "                    chargeMax = esM_with.getComponent('flexible demand_' + str(i)).\\\n",
    "                        fullChargeOpRateMax.loc[(0,h),'location']\n",
    "                if x == 0:\n",
    "                    ax.bar([x+0.5], -(chargeMax-c.iloc[i].values[h]), color=color_1[i], zorder=10, \n",
    "                           label='Virtual storage_' + str(i), alpha=0.5)\n",
    "                else:\n",
    "                    ax.bar([x+0.5], -(chargeMax-c.iloc[i].values[h]), color=color_1[i], zorder=10, alpha=0.5)\n",
    "            else:\n",
    "                if x == 0:\n",
    "                    ax.bar([x+0.5], c.iloc[i].values[h], bottom=[bottom], color=color_1[i], zorder=10,\n",
    "                           label='Virtual storage_' + str(i), alpha=0.5)\n",
    "                else:\n",
    "                    ax.bar([x+0.5], c.iloc[i].values[h], bottom=[bottom], color=color_1[i], zorder=10,\n",
    "                           alpha=0.5)\n",
    "                bottom += c.iloc[i].values[h]\n",
    "\n",
    "    ax.legend(loc=3, fontsize=9)\n",
    "\n",
    "    ax.set_ylim([-(shiftMax*1.1),(shiftMax*1.1)])\n",
    "    ax.set_ylabel('Up-/ downshifted demand [kW]', fontsize=10)\n",
    "\n",
    "    plt.tight_layout()    \n",
    "    plt.show()"
   ]
  },
  {
   "cell_type": "code",
   "execution_count": null,
   "metadata": {},
   "outputs": [],
   "source": [
    "def run_esM_with_DSM(timeSeriesAggregation, numberOfTypicalPeriods = 25,\n",
    "    numberOfTimeStepsPerPeriod = 1):\n",
    "    # add DSM\n",
    "    dsm_test_esM_ = dsm_test_esM()\n",
    "    tFwd = 3\n",
    "    tBwd = 3\n",
    "    esM_with = dsm_test_esM_[0]\n",
    "    shiftMax = 10\n",
    "\n",
    "    esM_with.add(fn.DemandSideManagement(esM=esM_with, name='flexible demand', commodity='electricity',\n",
    "                                         hasCapacityVariable=False, tFwd=tFwd, tBwd=tBwd,\n",
    "                                         operationRateFix=load_without_dsm, opexShift=1,\n",
    "                                         shiftDownMax=shiftMax, shiftUpMax=shiftMax,\n",
    "                                         socOffsetDown=-1, socOffsetUp=-1))\n",
    "\n",
    "    if timeSeriesAggregation:\n",
    "        esM_with.cluster(numberOfTimeStepsPerPeriod=numberOfTimeStepsPerPeriod,\n",
    "                         numberOfTypicalPeriods=numberOfTypicalPeriods)\n",
    "        esM_with.optimize(timeSeriesAggregation=True, solver='gurobi', optimizationSpecs='LogToConsole=0')\n",
    "    else:\n",
    "        esM_with.optimize(timeSeriesAggregation=False, solver='gurobi', optimizationSpecs= 'LogToConsole=0')\n",
    "\n",
    "    generator_outputs = esM_with.componentModelingDict[\"SourceSinkModel\"].operationVariablesOptimum\n",
    "    esM_load_with_DSM = esM_with.componentModelingDict['DSMModel'].operationVariablesOptimum\n",
    "\n",
    "    # benchmark generation and load with dsm\n",
    "    expensive_with_dsm = expensive_without_dsm.copy()\n",
    "    expensive_with_dsm[timestep_up:timestep_up + time_shift] -= 10\n",
    "    expensive_with_dsm[timestep_down - time_shift:timestep_down] -= 10\n",
    "    expensive_with_dsm.name = ('expensive', 'location')\n",
    "\n",
    "    cheap_with_dsm = cheap_without_dsm.copy()\n",
    "    cheap_with_dsm[timestep_up - time_shift:timestep_up] += 10\n",
    "    cheap_with_dsm[timestep_down:timestep_down + time_shift] += 10\n",
    "    cheap_with_dsm.name = ('cheap', 'location')\n",
    "\n",
    "    load_with_dsm = load_without_dsm.copy()\n",
    "    load_with_dsm[timestep_up - time_shift:timestep_up] += 10\n",
    "    load_with_dsm[timestep_up:timestep_up + time_shift] -= 10\n",
    "    load_with_dsm[timestep_down - time_shift:timestep_down] -= 10\n",
    "    load_with_dsm[timestep_down:timestep_down + time_shift] += 10\n",
    "    load_with_dsm.name = ('flexible demand', 'location')\n",
    "    \n",
    "    print((generator_outputs.loc[('cheap', 'location')] == cheap_with_dsm).all())\n",
    "    print((generator_outputs.loc[('expensive', 'location')] == expensive_with_dsm).all())\n",
    "    print((esM_load_with_DSM.loc[('flexible demand', 'location')] == load_with_dsm).all())\n",
    "\n",
    "    fig, ax = fn.plotOperation(esM_with,'cheap','location', figsize=(6,3))\n",
    "    ax.plot(cheap_with_dsm, color='orange',linestyle='--')\n",
    "    fig, ax = fn.plotOperation(esM_with,'expensive','location', figsize=(6,3))\n",
    "    ax.plot(expensive_with_dsm, color='orange',linestyle='--')\n",
    "    fig, ax = fn.plotOperation(esM_with,'flexible demand','location', figsize=(6,3))\n",
    "    ax.plot(load_with_dsm, color='orange',linestyle='--')\n",
    "    ax.plot(load_without_dsm, color='forestgreen',linestyle=':')\n",
    "    plt.show()\n",
    "    \n",
    "    c = esM_with.componentModelingDict['StorageExtModel'].chargeOperationVariablesOptimum\n",
    "    chargeMax = (pd.concat([esM_with.getComponent('flexible demand_' + str(i)).fullChargeOpRateMax.loc[0]\n",
    "                            for i in range(tFwd + tBwd + 1)], axis=1, keys=['flexible demand_' + str(i)\n",
    "                 for i in range(tFwd + tBwd +1)]).T)\n",
    "\n",
    "    plotShift(0, len(c.T), 'Shift profile', timeSeriesAggregation, esM_with, tBwd, tFwd, shiftMax,\n",
    "             numberOfTimeStepsPerPeriod)"
   ]
  },
  {
   "cell_type": "code",
   "execution_count": null,
   "metadata": {
    "scrolled": false
   },
   "outputs": [],
   "source": [
    "run_esM_with_DSM(False)"
   ]
  },
  {
   "cell_type": "code",
   "execution_count": null,
   "metadata": {
    "scrolled": false
   },
   "outputs": [],
   "source": [
    "run_esM_with_DSM(True)"
   ]
  },
  {
   "cell_type": "code",
   "execution_count": null,
   "metadata": {},
   "outputs": [],
   "source": []
  }
 ],
 "metadata": {
  "kernelspec": {
   "display_name": "Python 3",
   "language": "python",
   "name": "python3"
  },
  "language_info": {
   "codemirror_mode": {
    "name": "ipython",
    "version": 3
   },
   "file_extension": ".py",
   "mimetype": "text/x-python",
   "name": "python",
   "nbconvert_exporter": "python",
   "pygments_lexer": "ipython3",
   "version": "3.6.9"
  }
 },
 "nbformat": 4,
 "nbformat_minor": 2
}
