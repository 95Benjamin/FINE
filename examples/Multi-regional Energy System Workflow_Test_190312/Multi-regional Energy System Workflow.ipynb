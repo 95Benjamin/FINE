{
 "cells": [
  {
   "cell_type": "markdown",
   "metadata": {},
   "source": [
    "# Workflow for a multi-regional energy system\n",
    "\n",
    "In this application of the FINE framework, a multi-regional energy system is modeled and optimized.\n",
    "\n",
    "All classes which are available to the user are utilized and examples of the selection of different parameters within these classes are given.\n",
    "\n",
    "The workflow is structures as follows:\n",
    "1. Required packages are imported and the input data path is set\n",
    "2. An energy system model instance is created\n",
    "3. Commodity sources are added to the energy system model\n",
    "4. Commodity conversion components are added to the energy system model\n",
    "5. Commodity storages are added to the energy system model\n",
    "6. Commodity transmission components are added to the energy system model\n",
    "7. Commodity sinks are added to the energy system model\n",
    "8. The energy system model is optimized\n",
    "9. Selected optimization results are presented\n"
   ]
  },
  {
   "cell_type": "markdown",
   "metadata": {},
   "source": [
    "# 1. Import required packages and set input data path\n",
    "\n",
    "The FINE framework is imported which provides the required classes and functions for modeling the energy system."
   ]
  },
  {
   "cell_type": "code",
   "execution_count": 8,
   "metadata": {},
   "outputs": [
    {
     "name": "stdout",
     "output_type": "stream",
     "text": [
      "The autoreload extension is already loaded. To reload it, use:\n",
      "  %reload_ext autoreload\n"
     ]
    }
   ],
   "source": [
    "import FINE as fn\n",
    "from getData import getData\n",
    "import os\n",
    "import pandas as pd\n",
    "import numpy as np\n",
    "cwd = os.getcwd()\n",
    "data = getData()\n",
    "\n",
    "%matplotlib inline  \n",
    "%load_ext autoreload\n",
    "%autoreload 2"
   ]
  },
  {
   "cell_type": "markdown",
   "metadata": {},
   "source": [
    "# 2. Create an energy system model instance \n",
    "\n",
    "The structure of the energy system model is given by the considered locations, commodities, the number of time steps as well as the hours per time step.\n",
    "\n",
    "The commodities are specified by a unit (i.e. 'GW_electric', 'GW_H2lowerHeatingValue', 'Mio. t CO2/h') which can be given as an energy or mass unit per hour. Furthermore, the cost unit and length unit are specified."
   ]
  },
  {
   "cell_type": "code",
   "execution_count": 9,
   "metadata": {},
   "outputs": [
    {
     "name": "stdout",
     "output_type": "stream",
     "text": [
      "0                     1          2        \n",
      "DC cables             cluster_0  cluster_1    12205.917190\n",
      "                                 cluster_7     9344.874698\n",
      "                      cluster_1  cluster_0       17.287633\n",
      "                                 cluster_2    10190.031930\n",
      "                      cluster_2  cluster_1      175.265592\n",
      "                                 cluster_4      974.447919\n",
      "                      cluster_3  cluster_7    19492.141415\n",
      "                      cluster_4  cluster_2     9069.973039\n",
      "                      cluster_7  cluster_0        0.000000\n",
      "                                 cluster_3        8.079028\n",
      "Pipelines (biogas)    cluster_0  cluster_4     8066.588374\n",
      "                      cluster_1  cluster_2    21063.593941\n",
      "                                 cluster_7     1066.828321\n",
      "                      cluster_2  cluster_1     3884.947505\n",
      "                                 cluster_4        0.000000\n",
      "                      cluster_3  cluster_4    17420.150245\n",
      "                                 cluster_5      869.482072\n",
      "                      cluster_4  cluster_0       39.440169\n",
      "                                 cluster_2        0.000000\n",
      "                                 cluster_3     1800.085213\n",
      "                      cluster_5  cluster_3     9770.330496\n",
      "                      cluster_6  cluster_7     7713.182869\n",
      "                      cluster_7  cluster_1    14719.744960\n",
      "                                 cluster_6      594.238519\n",
      "Pipelines (hydrogen)  cluster_0  cluster_4    54561.949476\n",
      "                      cluster_1  cluster_2       84.020081\n",
      "                                 cluster_7    10906.187746\n",
      "                      cluster_2  cluster_1    24304.033684\n",
      "                                 cluster_4       27.162949\n",
      "                      cluster_3  cluster_4     3823.887096\n",
      "                                 cluster_5     3953.032458\n",
      "                      cluster_4  cluster_0      181.487862\n",
      "                                 cluster_2    65959.172060\n",
      "                                 cluster_3     5557.580483\n",
      "                      cluster_5  cluster_3     9994.001580\n",
      "                      cluster_6  cluster_7      642.532667\n",
      "                      cluster_7  cluster_1      167.473964\n",
      "                                 cluster_6     4513.439340\n",
      "dtype: float64\n"
     ]
    }
   ],
   "source": [
    "locations = {'cluster_0', 'cluster_1', 'cluster_2', 'cluster_3', 'cluster_4', 'cluster_5', 'cluster_6', 'cluster_7'}\n",
    "commodityUnitDict = {'electricity': r'GW$_{el}$', 'methane': r'GW$_{CH_{4},LHV}$', 'biogas': r'GW$_{biogas,LHV}$',\n",
    "                     'CO2': r'Mio. t$_{CO_2}$/h', 'hydrogen': r'GW$_{H_{2},LHV}$'}\n",
    "commodities = {'electricity', 'hydrogen', 'methane', 'biogas', 'CO2'}\n",
    "numberOfTimeSteps=8760\n",
    "hoursPerTimeStep=1\n",
    "\n",
    "# read in original results\n",
    "results = pd.Series.from_csv('totalTransmission.csv', index_col = [0,1,2])\n",
    "print(results)"
   ]
  },
  {
   "cell_type": "code",
   "execution_count": 10,
   "metadata": {},
   "outputs": [],
   "source": [
    "esM = fn.EnergySystemModel(locations=locations, commodities=commodities, numberOfTimeSteps=numberOfTimeSteps,\n",
    "                           commodityUnitsDict=commodityUnitDict,\n",
    "                           hoursPerTimeStep=1, costUnit='1e9 Euro', lengthUnit='km', verboseLogLevel=0)"
   ]
  },
  {
   "cell_type": "code",
   "execution_count": 11,
   "metadata": {},
   "outputs": [],
   "source": [
    "CO2_reductionTarget = 1"
   ]
  },
  {
   "cell_type": "markdown",
   "metadata": {},
   "source": [
    "# 3. Add commodity sources to the energy system model"
   ]
  },
  {
   "cell_type": "markdown",
   "metadata": {},
   "source": [
    "## 3.1. Electricity sources"
   ]
  },
  {
   "cell_type": "markdown",
   "metadata": {},
   "source": [
    "### Wind onshore"
   ]
  },
  {
   "cell_type": "code",
   "execution_count": 12,
   "metadata": {},
   "outputs": [],
   "source": [
    "esM.add(fn.Source(esM=esM, name='Wind (onshore)', commodity='electricity', hasCapacityVariable=True,\n",
    "                  operationRateMax=data['Wind (onshore), operationRateMax'],\n",
    "                  capacityMax=data['Wind (onshore), capacityMax'],\n",
    "                  investPerCapacity=1.1, opexPerCapacity=1.1*0.02, interestRate=0.08,\n",
    "                  economicLifetime=20))"
   ]
  },
  {
   "cell_type": "markdown",
   "metadata": {},
   "source": [
    "Full load hours:"
   ]
  },
  {
   "cell_type": "code",
   "execution_count": 13,
   "metadata": {},
   "outputs": [
    {
     "data": {
      "text/plain": [
       "cluster_0    2300.406907\n",
       "cluster_1    1082.032187\n",
       "cluster_2    1447.812026\n",
       "cluster_3    1448.827987\n",
       "cluster_4    1935.618218\n",
       "cluster_5    1757.696047\n",
       "cluster_6    1286.944636\n",
       "cluster_7    1199.380071\n",
       "dtype: float64"
      ]
     },
     "execution_count": 13,
     "metadata": {},
     "output_type": "execute_result"
    }
   ],
   "source": [
    "data['Wind (onshore), operationRateMax'].sum()"
   ]
  },
  {
   "cell_type": "markdown",
   "metadata": {},
   "source": [
    "### Wind offshore"
   ]
  },
  {
   "cell_type": "code",
   "execution_count": 14,
   "metadata": {},
   "outputs": [],
   "source": [
    "esM.add(fn.Source(esM=esM, name='Wind (offshore)', commodity='electricity', hasCapacityVariable=True,\n",
    "                  operationRateMax=data['Wind (offshore), operationRateMax'],\n",
    "                  capacityMax=data['Wind (offshore), capacityMax'],\n",
    "                  investPerCapacity=2.3, opexPerCapacity=2.3*0.02, interestRate=0.08,\n",
    "                  economicLifetime=20))"
   ]
  },
  {
   "cell_type": "markdown",
   "metadata": {},
   "source": [
    "Full load hours:"
   ]
  },
  {
   "cell_type": "code",
   "execution_count": 15,
   "metadata": {},
   "outputs": [
    {
     "data": {
      "text/plain": [
       "cluster_0    4332.977326\n",
       "cluster_1       0.000000\n",
       "cluster_2       0.000000\n",
       "cluster_3       0.000000\n",
       "cluster_4    3963.044612\n",
       "cluster_5    3459.283279\n",
       "cluster_6       0.000000\n",
       "cluster_7       0.000000\n",
       "dtype: float64"
      ]
     },
     "execution_count": 15,
     "metadata": {},
     "output_type": "execute_result"
    }
   ],
   "source": [
    "data['Wind (offshore), operationRateMax'].sum()"
   ]
  },
  {
   "cell_type": "markdown",
   "metadata": {},
   "source": [
    "### PV"
   ]
  },
  {
   "cell_type": "code",
   "execution_count": 16,
   "metadata": {},
   "outputs": [],
   "source": [
    "esM.add(fn.Source(esM=esM, name='PV', commodity='electricity', hasCapacityVariable=True,\n",
    "                  operationRateMax=data['PV, operationRateMax'], capacityMax=data['PV, capacityMax'],\n",
    "                  investPerCapacity=0.65, opexPerCapacity=0.65*0.02, interestRate=0.08,\n",
    "                  economicLifetime=25))"
   ]
  },
  {
   "cell_type": "markdown",
   "metadata": {},
   "source": [
    "Full load hours:"
   ]
  },
  {
   "cell_type": "code",
   "execution_count": 17,
   "metadata": {},
   "outputs": [
    {
     "data": {
      "text/plain": [
       "cluster_0    859.175855\n",
       "cluster_1    970.535848\n",
       "cluster_2    913.049274\n",
       "cluster_3    917.880212\n",
       "cluster_4    875.448945\n",
       "cluster_5    904.590003\n",
       "cluster_6    984.223517\n",
       "cluster_7    992.311727\n",
       "dtype: float64"
      ]
     },
     "execution_count": 17,
     "metadata": {},
     "output_type": "execute_result"
    }
   ],
   "source": [
    "data['PV, operationRateMax'].sum()"
   ]
  },
  {
   "cell_type": "markdown",
   "metadata": {},
   "source": [
    "### Exisisting run-of-river hydroelectricity plants"
   ]
  },
  {
   "cell_type": "code",
   "execution_count": 18,
   "metadata": {},
   "outputs": [],
   "source": [
    "esM.add(fn.Source(esM=esM, name='Existing run-of-river plants', commodity='electricity',\n",
    "                  hasCapacityVariable=True,\n",
    "                  operationRateFix=data['Existing run-of-river plants, operationRateFix'], tsaWeight=0.01,\n",
    "                  capacityFix=data['Existing run-of-river plants, capacityFix'],\n",
    "                  investPerCapacity=0, opexPerCapacity=0.208))"
   ]
  },
  {
   "cell_type": "markdown",
   "metadata": {},
   "source": [
    "## 3.2. Methane (natural gas and biogas)"
   ]
  },
  {
   "cell_type": "markdown",
   "metadata": {},
   "source": [
    "### Natural gas"
   ]
  },
  {
   "cell_type": "code",
   "execution_count": 19,
   "metadata": {},
   "outputs": [
    {
     "name": "stdout",
     "output_type": "stream",
     "text": [
      "      cluster_0  cluster_3  cluster_1  cluster_4  cluster_2  cluster_5  \\\n",
      "0      0.000066   0.000073   0.000077   0.000071   0.000072   0.000071   \n",
      "1      0.000066   0.000051   0.000044   0.000051   0.000061   0.000066   \n",
      "2      0.000057   0.000062   0.000051   0.000068   0.000067   0.000070   \n",
      "3      0.000066   0.000052   0.000070   0.000077   0.000081   0.000047   \n",
      "4      0.000054   0.000068   0.000053   0.000079   0.000044   0.000068   \n",
      "5      0.000050   0.000078   0.000067   0.000066   0.000056   0.000047   \n",
      "6      0.000057   0.000067   0.000066   0.000046   0.000059   0.000066   \n",
      "7      0.000050   0.000071   0.000049   0.000080   0.000065   0.000049   \n",
      "8      0.000070   0.000072   0.000054   0.000062   0.000075   0.000044   \n",
      "9      0.000079   0.000046   0.000077   0.000051   0.000050   0.000067   \n",
      "10     0.000047   0.000052   0.000081   0.000063   0.000055   0.000062   \n",
      "11     0.000081   0.000056   0.000070   0.000070   0.000051   0.000071   \n",
      "12     0.000053   0.000044   0.000044   0.000065   0.000064   0.000057   \n",
      "13     0.000049   0.000057   0.000065   0.000057   0.000058   0.000073   \n",
      "14     0.000063   0.000051   0.000070   0.000069   0.000060   0.000055   \n",
      "15     0.000078   0.000073   0.000050   0.000044   0.000068   0.000053   \n",
      "16     0.000058   0.000064   0.000069   0.000072   0.000069   0.000058   \n",
      "17     0.000046   0.000052   0.000064   0.000058   0.000052   0.000063   \n",
      "18     0.000071   0.000056   0.000076   0.000079   0.000074   0.000054   \n",
      "19     0.000075   0.000048   0.000054   0.000076   0.000078   0.000074   \n",
      "20     0.000052   0.000072   0.000045   0.000056   0.000074   0.000065   \n",
      "21     0.000046   0.000066   0.000053   0.000052   0.000062   0.000071   \n",
      "22     0.000044   0.000076   0.000058   0.000073   0.000056   0.000051   \n",
      "23     0.000052   0.000052   0.000046   0.000065   0.000069   0.000076   \n",
      "24     0.000072   0.000043   0.000080   0.000059   0.000055   0.000056   \n",
      "25     0.000047   0.000067   0.000077   0.000043   0.000077   0.000050   \n",
      "26     0.000045   0.000063   0.000076   0.000051   0.000071   0.000047   \n",
      "27     0.000079   0.000050   0.000048   0.000080   0.000071   0.000069   \n",
      "28     0.000077   0.000069   0.000081   0.000058   0.000067   0.000078   \n",
      "29     0.000066   0.000046   0.000073   0.000051   0.000069   0.000049   \n",
      "...         ...        ...        ...        ...        ...        ...   \n",
      "8730   0.000070   0.000044   0.000069   0.000052   0.000060   0.000069   \n",
      "8731   0.000075   0.000069   0.000052   0.000051   0.000061   0.000080   \n",
      "8732   0.000078   0.000054   0.000080   0.000081   0.000063   0.000051   \n",
      "8733   0.000066   0.000070   0.000063   0.000065   0.000052   0.000056   \n",
      "8734   0.000080   0.000073   0.000063   0.000048   0.000053   0.000061   \n",
      "8735   0.000064   0.000078   0.000059   0.000075   0.000056   0.000074   \n",
      "8736   0.000071   0.000045   0.000080   0.000072   0.000072   0.000061   \n",
      "8737   0.000051   0.000047   0.000068   0.000059   0.000063   0.000056   \n",
      "8738   0.000065   0.000065   0.000066   0.000049   0.000080   0.000055   \n",
      "8739   0.000044   0.000047   0.000056   0.000045   0.000071   0.000045   \n",
      "8740   0.000044   0.000077   0.000057   0.000078   0.000047   0.000044   \n",
      "8741   0.000076   0.000059   0.000078   0.000069   0.000076   0.000066   \n",
      "8742   0.000047   0.000051   0.000080   0.000073   0.000071   0.000051   \n",
      "8743   0.000046   0.000046   0.000078   0.000078   0.000072   0.000077   \n",
      "8744   0.000066   0.000075   0.000079   0.000075   0.000077   0.000078   \n",
      "8745   0.000073   0.000047   0.000054   0.000053   0.000069   0.000063   \n",
      "8746   0.000079   0.000060   0.000047   0.000076   0.000076   0.000072   \n",
      "8747   0.000077   0.000061   0.000077   0.000045   0.000045   0.000072   \n",
      "8748   0.000045   0.000049   0.000047   0.000065   0.000045   0.000079   \n",
      "8749   0.000055   0.000051   0.000063   0.000064   0.000052   0.000063   \n",
      "8750   0.000051   0.000052   0.000048   0.000067   0.000074   0.000051   \n",
      "8751   0.000069   0.000059   0.000064   0.000066   0.000058   0.000067   \n",
      "8752   0.000064   0.000074   0.000046   0.000060   0.000051   0.000052   \n",
      "8753   0.000049   0.000046   0.000052   0.000045   0.000073   0.000060   \n",
      "8754   0.000052   0.000055   0.000077   0.000046   0.000052   0.000073   \n",
      "8755   0.000060   0.000049   0.000078   0.000045   0.000071   0.000067   \n",
      "8756   0.000056   0.000071   0.000069   0.000076   0.000052   0.000052   \n",
      "8757   0.000045   0.000058   0.000057   0.000081   0.000063   0.000069   \n",
      "8758   0.000079   0.000053   0.000045   0.000064   0.000045   0.000066   \n",
      "8759   0.000056   0.000048   0.000067   0.000064   0.000080   0.000075   \n",
      "\n",
      "      cluster_7  cluster_6  \n",
      "0      0.000077   0.000080  \n",
      "1      0.000055   0.000050  \n",
      "2      0.000059   0.000079  \n",
      "3      0.000043   0.000054  \n",
      "4      0.000080   0.000049  \n",
      "5      0.000057   0.000061  \n",
      "6      0.000048   0.000056  \n",
      "7      0.000064   0.000063  \n",
      "8      0.000056   0.000076  \n",
      "9      0.000068   0.000076  \n",
      "10     0.000071   0.000065  \n",
      "11     0.000051   0.000080  \n",
      "12     0.000053   0.000067  \n",
      "13     0.000059   0.000058  \n",
      "14     0.000066   0.000061  \n",
      "15     0.000077   0.000077  \n",
      "16     0.000081   0.000072  \n",
      "17     0.000071   0.000053  \n",
      "18     0.000061   0.000054  \n",
      "19     0.000049   0.000069  \n",
      "20     0.000053   0.000079  \n",
      "21     0.000047   0.000053  \n",
      "22     0.000072   0.000065  \n",
      "23     0.000079   0.000044  \n",
      "24     0.000052   0.000060  \n",
      "25     0.000077   0.000076  \n",
      "26     0.000069   0.000058  \n",
      "27     0.000064   0.000057  \n",
      "28     0.000070   0.000054  \n",
      "29     0.000051   0.000052  \n",
      "...         ...        ...  \n",
      "8730   0.000072   0.000066  \n",
      "8731   0.000068   0.000050  \n",
      "8732   0.000059   0.000073  \n",
      "8733   0.000045   0.000067  \n",
      "8734   0.000055   0.000076  \n",
      "8735   0.000048   0.000079  \n",
      "8736   0.000051   0.000078  \n",
      "8737   0.000077   0.000079  \n",
      "8738   0.000065   0.000043  \n",
      "8739   0.000053   0.000071  \n",
      "8740   0.000061   0.000057  \n",
      "8741   0.000058   0.000061  \n",
      "8742   0.000054   0.000049  \n",
      "8743   0.000048   0.000072  \n",
      "8744   0.000068   0.000059  \n",
      "8745   0.000078   0.000054  \n",
      "8746   0.000072   0.000057  \n",
      "8747   0.000075   0.000069  \n",
      "8748   0.000058   0.000072  \n",
      "8749   0.000068   0.000080  \n",
      "8750   0.000072   0.000075  \n",
      "8751   0.000063   0.000060  \n",
      "8752   0.000072   0.000063  \n",
      "8753   0.000051   0.000061  \n",
      "8754   0.000074   0.000057  \n",
      "8755   0.000078   0.000061  \n",
      "8756   0.000047   0.000075  \n",
      "8757   0.000062   0.000053  \n",
      "8758   0.000057   0.000080  \n",
      "8759   0.000071   0.000059  \n",
      "\n",
      "[8760 rows x 8 columns]\n"
     ]
    }
   ],
   "source": [
    "esM.add(fn.Source(esM=esM, name='Natural gas purchase', commodity='methane',\n",
    "                  hasCapacityVariable=False, commodityCostTimeSeries=data['Biogas, commodityCostTimeSeries']))\n",
    "\n",
    "print(data['Biogas, commodityCostTimeSeries'])"
   ]
  },
  {
   "cell_type": "markdown",
   "metadata": {},
   "source": [
    "### Biogas"
   ]
  },
  {
   "cell_type": "code",
   "execution_count": 20,
   "metadata": {},
   "outputs": [
    {
     "name": "stdout",
     "output_type": "stream",
     "text": [
      "      cluster_0  cluster_3  cluster_1  cluster_4  cluster_2  cluster_5  \\\n",
      "0      0.000027   0.000032   0.000038   0.000034   0.000035   0.000033   \n",
      "1      0.000039   0.000043   0.000049   0.000046   0.000046   0.000037   \n",
      "2      0.000031   0.000037   0.000039   0.000048   0.000030   0.000045   \n",
      "3      0.000035   0.000038   0.000030   0.000037   0.000038   0.000040   \n",
      "4      0.000032   0.000044   0.000043   0.000034   0.000029   0.000047   \n",
      "5      0.000036   0.000033   0.000040   0.000048   0.000046   0.000034   \n",
      "6      0.000035   0.000045   0.000046   0.000035   0.000048   0.000037   \n",
      "7      0.000040   0.000030   0.000031   0.000034   0.000049   0.000035   \n",
      "8      0.000042   0.000035   0.000038   0.000044   0.000038   0.000043   \n",
      "9      0.000046   0.000049   0.000044   0.000031   0.000044   0.000044   \n",
      "10     0.000038   0.000043   0.000033   0.000049   0.000027   0.000042   \n",
      "11     0.000044   0.000030   0.000043   0.000043   0.000033   0.000039   \n",
      "12     0.000041   0.000042   0.000030   0.000030   0.000047   0.000041   \n",
      "13     0.000031   0.000040   0.000039   0.000037   0.000048   0.000030   \n",
      "14     0.000042   0.000047   0.000040   0.000042   0.000032   0.000049   \n",
      "15     0.000034   0.000035   0.000038   0.000041   0.000031   0.000028   \n",
      "16     0.000048   0.000030   0.000037   0.000038   0.000030   0.000041   \n",
      "17     0.000046   0.000037   0.000036   0.000037   0.000044   0.000046   \n",
      "18     0.000033   0.000047   0.000050   0.000046   0.000027   0.000029   \n",
      "19     0.000041   0.000036   0.000028   0.000044   0.000044   0.000049   \n",
      "20     0.000030   0.000043   0.000030   0.000036   0.000028   0.000044   \n",
      "21     0.000040   0.000032   0.000046   0.000035   0.000042   0.000048   \n",
      "22     0.000027   0.000035   0.000050   0.000029   0.000029   0.000042   \n",
      "23     0.000035   0.000046   0.000033   0.000040   0.000043   0.000032   \n",
      "24     0.000037   0.000044   0.000030   0.000035   0.000033   0.000035   \n",
      "25     0.000039   0.000048   0.000034   0.000049   0.000044   0.000048   \n",
      "26     0.000031   0.000036   0.000027   0.000027   0.000039   0.000035   \n",
      "27     0.000041   0.000045   0.000034   0.000028   0.000032   0.000035   \n",
      "28     0.000030   0.000036   0.000045   0.000035   0.000049   0.000044   \n",
      "29     0.000030   0.000029   0.000036   0.000042   0.000036   0.000035   \n",
      "...         ...        ...        ...        ...        ...        ...   \n",
      "8730   0.000029   0.000030   0.000028   0.000042   0.000042   0.000042   \n",
      "8731   0.000042   0.000045   0.000032   0.000033   0.000032   0.000037   \n",
      "8732   0.000047   0.000036   0.000042   0.000041   0.000034   0.000035   \n",
      "8733   0.000029   0.000044   0.000040   0.000043   0.000028   0.000037   \n",
      "8734   0.000045   0.000027   0.000046   0.000038   0.000039   0.000038   \n",
      "8735   0.000043   0.000048   0.000049   0.000028   0.000039   0.000035   \n",
      "8736   0.000042   0.000046   0.000044   0.000030   0.000032   0.000043   \n",
      "8737   0.000038   0.000038   0.000045   0.000034   0.000032   0.000048   \n",
      "8738   0.000030   0.000049   0.000044   0.000048   0.000039   0.000033   \n",
      "8739   0.000040   0.000048   0.000046   0.000030   0.000035   0.000027   \n",
      "8740   0.000039   0.000035   0.000030   0.000044   0.000031   0.000036   \n",
      "8741   0.000033   0.000034   0.000031   0.000039   0.000050   0.000040   \n",
      "8742   0.000031   0.000049   0.000043   0.000028   0.000048   0.000042   \n",
      "8743   0.000038   0.000045   0.000043   0.000040   0.000042   0.000037   \n",
      "8744   0.000047   0.000042   0.000032   0.000032   0.000043   0.000027   \n",
      "8745   0.000038   0.000041   0.000047   0.000044   0.000040   0.000033   \n",
      "8746   0.000042   0.000027   0.000035   0.000047   0.000048   0.000034   \n",
      "8747   0.000042   0.000040   0.000029   0.000045   0.000036   0.000031   \n",
      "8748   0.000028   0.000032   0.000030   0.000044   0.000031   0.000047   \n",
      "8749   0.000040   0.000038   0.000041   0.000029   0.000029   0.000033   \n",
      "8750   0.000042   0.000048   0.000048   0.000028   0.000031   0.000044   \n",
      "8751   0.000048   0.000027   0.000040   0.000029   0.000030   0.000032   \n",
      "8752   0.000029   0.000036   0.000040   0.000045   0.000048   0.000029   \n",
      "8753   0.000045   0.000044   0.000044   0.000036   0.000049   0.000033   \n",
      "8754   0.000041   0.000033   0.000042   0.000045   0.000047   0.000028   \n",
      "8755   0.000034   0.000039   0.000028   0.000028   0.000046   0.000041   \n",
      "8756   0.000047   0.000046   0.000032   0.000031   0.000049   0.000041   \n",
      "8757   0.000035   0.000043   0.000048   0.000032   0.000031   0.000045   \n",
      "8758   0.000036   0.000047   0.000048   0.000037   0.000041   0.000031   \n",
      "8759   0.000044   0.000044   0.000043   0.000028   0.000039   0.000041   \n",
      "\n",
      "      cluster_7  cluster_6  \n",
      "0      0.000042   0.000039  \n",
      "1      0.000033   0.000046  \n",
      "2      0.000034   0.000030  \n",
      "3      0.000044   0.000042  \n",
      "4      0.000042   0.000038  \n",
      "5      0.000030   0.000036  \n",
      "6      0.000029   0.000032  \n",
      "7      0.000043   0.000028  \n",
      "8      0.000038   0.000035  \n",
      "9      0.000027   0.000049  \n",
      "10     0.000034   0.000030  \n",
      "11     0.000037   0.000045  \n",
      "12     0.000045   0.000031  \n",
      "13     0.000034   0.000038  \n",
      "14     0.000046   0.000046  \n",
      "15     0.000031   0.000035  \n",
      "16     0.000039   0.000035  \n",
      "17     0.000034   0.000036  \n",
      "18     0.000029   0.000044  \n",
      "19     0.000040   0.000039  \n",
      "20     0.000043   0.000033  \n",
      "21     0.000041   0.000049  \n",
      "22     0.000027   0.000031  \n",
      "23     0.000032   0.000029  \n",
      "24     0.000038   0.000039  \n",
      "25     0.000050   0.000045  \n",
      "26     0.000048   0.000045  \n",
      "27     0.000049   0.000034  \n",
      "28     0.000035   0.000041  \n",
      "29     0.000043   0.000041  \n",
      "...         ...        ...  \n",
      "8730   0.000039   0.000045  \n",
      "8731   0.000039   0.000030  \n",
      "8732   0.000036   0.000047  \n",
      "8733   0.000046   0.000044  \n",
      "8734   0.000039   0.000030  \n",
      "8735   0.000049   0.000030  \n",
      "8736   0.000027   0.000034  \n",
      "8737   0.000028   0.000041  \n",
      "8738   0.000046   0.000027  \n",
      "8739   0.000045   0.000043  \n",
      "8740   0.000049   0.000045  \n",
      "8741   0.000036   0.000028  \n",
      "8742   0.000037   0.000039  \n",
      "8743   0.000034   0.000029  \n",
      "8744   0.000031   0.000030  \n",
      "8745   0.000041   0.000038  \n",
      "8746   0.000032   0.000048  \n",
      "8747   0.000039   0.000048  \n",
      "8748   0.000028   0.000044  \n",
      "8749   0.000045   0.000034  \n",
      "8750   0.000043   0.000036  \n",
      "8751   0.000039   0.000029  \n",
      "8752   0.000048   0.000030  \n",
      "8753   0.000046   0.000046  \n",
      "8754   0.000040   0.000043  \n",
      "8755   0.000042   0.000048  \n",
      "8756   0.000037   0.000042  \n",
      "8757   0.000027   0.000045  \n",
      "8758   0.000049   0.000039  \n",
      "8759   0.000037   0.000041  \n",
      "\n",
      "[8760 rows x 8 columns]\n"
     ]
    }
   ],
   "source": [
    "esM.add(fn.Source(esM=esM, name='Biogas purchase', commodity='biogas',\n",
    "                  operationRateMax=data['Biogas, operationRateMax'], hasCapacityVariable=False,\n",
    "                  commodityCostTimeSeries=data['Natural Gas, commodityCostTimeSeries']))\n",
    "\n",
    "print(data['Natural Gas, commodityCostTimeSeries'])"
   ]
  },
  {
   "cell_type": "markdown",
   "metadata": {},
   "source": [
    "## 3.3 CO2"
   ]
  },
  {
   "cell_type": "markdown",
   "metadata": {},
   "source": [
    "### CO2\n",
    "\n",
    "The CO2 source is required for the case in which it can be mixed with conventional natural gas."
   ]
  },
  {
   "cell_type": "code",
   "execution_count": 21,
   "metadata": {},
   "outputs": [],
   "source": [
    "esM.add(fn.Source(esM=esM, name='CO2 from enviroment', commodity='CO2',\n",
    "                  hasCapacityVariable=False, commodityLimitID='CO2 limit', yearlyLimit=366*(1-CO2_reductionTarget)))"
   ]
  },
  {
   "cell_type": "markdown",
   "metadata": {},
   "source": [
    "# 4. Add conversion components to the energy system model"
   ]
  },
  {
   "cell_type": "markdown",
   "metadata": {},
   "source": [
    "### Combined cycle gas turbine plants"
   ]
  },
  {
   "cell_type": "code",
   "execution_count": 22,
   "metadata": {},
   "outputs": [],
   "source": [
    "esM.add(fn.Conversion(esM=esM, name='CCGT plants (methane)', physicalUnit=r'GW$_{el}$',\n",
    "                      commodityConversionFactors={'electricity':1, 'methane':-1/0.625, 'CO2':201*1e-6/0.625},\n",
    "                      hasCapacityVariable=True,\n",
    "                      investPerCapacity=0.65, opexPerCapacity=0.021, interestRate=0.08,\n",
    "                      economicLifetime=33))"
   ]
  },
  {
   "cell_type": "markdown",
   "metadata": {},
   "source": [
    "### New combined cycle gas turbine plants for biogas"
   ]
  },
  {
   "cell_type": "code",
   "execution_count": 23,
   "metadata": {},
   "outputs": [],
   "source": [
    "esM.add(fn.Conversion(esM=esM, name='New CCGT plants (biogas)', physicalUnit=r'GW$_{el}$',\n",
    "                      commodityConversionFactors={'electricity':1, 'biogas':-1/0.635},\n",
    "                      hasCapacityVariable=True, \n",
    "                      investPerCapacity=0.7, opexPerCapacity=0.021, interestRate=0.08,\n",
    "                      economicLifetime=33))"
   ]
  },
  {
   "cell_type": "markdown",
   "metadata": {},
   "source": [
    "### New combined cycly gas turbines for hydrogen"
   ]
  },
  {
   "cell_type": "code",
   "execution_count": 24,
   "metadata": {},
   "outputs": [],
   "source": [
    "esM.add(fn.Conversion(esM=esM, name='New CCGT plants (hydrogen)', physicalUnit=r'GW$_{el}$',\n",
    "                      commodityConversionFactors={'electricity':1, 'hydrogen':-1/0.6},\n",
    "                      hasCapacityVariable=True, \n",
    "                      investPerCapacity=0.7, opexPerCapacity=0.021, interestRate=0.08,\n",
    "                      economicLifetime=33))"
   ]
  },
  {
   "cell_type": "markdown",
   "metadata": {},
   "source": [
    "### Electrolyzers"
   ]
  },
  {
   "cell_type": "code",
   "execution_count": 25,
   "metadata": {},
   "outputs": [],
   "source": [
    "esM.add(fn.Conversion(esM=esM, name='Electroylzers', physicalUnit=r'GW$_{el}$',\n",
    "                      commodityConversionFactors={'electricity':-1, 'hydrogen':0.7},\n",
    "                      hasCapacityVariable=True, \n",
    "                      investPerCapacity=0.5, opexPerCapacity=0.5*0.025, interestRate=0.08,\n",
    "                      economicLifetime=10))"
   ]
  },
  {
   "cell_type": "markdown",
   "metadata": {},
   "source": [
    "### rSOC"
   ]
  },
  {
   "cell_type": "code",
   "execution_count": 26,
   "metadata": {},
   "outputs": [],
   "source": [
    "capexRSOC=1.5\n",
    "\n",
    "esM.add(fn.Conversion(esM=esM, name='rSOEC', physicalUnit=r'GW$_{el}$', linkedConversionCapacityID='rSOC',\n",
    "                      commodityConversionFactors={'electricity':-1, 'hydrogen':0.6},\n",
    "                      hasCapacityVariable=True, \n",
    "                      investPerCapacity=capexRSOC/2, opexPerCapacity=capexRSOC*0.02/2, interestRate=0.08,\n",
    "                      economicLifetime=10))\n",
    "\n",
    "esM.add(fn.Conversion(esM=esM, name='rSOFC', physicalUnit=r'GW$_{el}$', linkedConversionCapacityID='rSOC',\n",
    "                      commodityConversionFactors={'electricity':1, 'hydrogen':-1/0.6},\n",
    "                      hasCapacityVariable=True, \n",
    "                      investPerCapacity=capexRSOC/2, opexPerCapacity=capexRSOC*0.02/2, interestRate=0.08,\n",
    "                      economicLifetime=10))"
   ]
  },
  {
   "cell_type": "markdown",
   "metadata": {},
   "source": [
    "# 5. Add commodity storages to the energy system model"
   ]
  },
  {
   "cell_type": "markdown",
   "metadata": {},
   "source": [
    "## 5.1. Electricity storage"
   ]
  },
  {
   "cell_type": "markdown",
   "metadata": {},
   "source": [
    "### Lithium ion batteries\n",
    "\n",
    "The self discharge of a lithium ion battery is here described as 3% per month. The self discharge per hours is obtained using the equation (1-$\\text{selfDischarge}_\\text{hour})^{30*24\\text{h}} = 1-\\text{selfDischarge}_\\text{month}$."
   ]
  },
  {
   "cell_type": "code",
   "execution_count": 27,
   "metadata": {},
   "outputs": [],
   "source": [
    "esM.add(fn.Storage(esM=esM, name='Li-ion batteries', commodity='electricity',\n",
    "                   hasCapacityVariable=True, chargeEfficiency=0.95,\n",
    "                   cyclicLifetime=10000, dischargeEfficiency=0.95, selfDischarge=1-(1-0.03)**(1/(30*24)),\n",
    "                   chargeRate=1, dischargeRate=1, doPreciseTsaModeling=False,\n",
    "                   investPerCapacity=0.151, opexPerCapacity=0.002, interestRate=0.08,\n",
    "                   economicLifetime=22))"
   ]
  },
  {
   "cell_type": "markdown",
   "metadata": {},
   "source": [
    "## 5.2. Hydrogen storage"
   ]
  },
  {
   "cell_type": "markdown",
   "metadata": {},
   "source": [
    "### Hydrogen filled salt caverns\n",
    "The maximum capacity is here obtained by: dividing the given capacity (which is given for methane) by the lower heating value of methane and then multiplying it with the lower heating value of hydrogen."
   ]
  },
  {
   "cell_type": "code",
   "execution_count": 28,
   "metadata": {},
   "outputs": [],
   "source": [
    "esM.add(fn.Storage(esM=esM, name='Salt caverns (hydrogen)', commodity='hydrogen',\n",
    "                   hasCapacityVariable=True, capacityVariableDomain='continuous',\n",
    "                   capacityPerPlantUnit=133,\n",
    "                   chargeRate=1/470.37, dischargeRate=1/470.37, sharedPotentialID='Existing salt caverns',\n",
    "                   stateOfChargeMin=0.33, stateOfChargeMax=1, capacityMax=data['Salt caverns (hydrogen), capacityMax'],\n",
    "                   investPerCapacity=0.00011, opexPerCapacity=0.00057, interestRate=0.08,\n",
    "                   economicLifetime=30))"
   ]
  },
  {
   "cell_type": "markdown",
   "metadata": {},
   "source": [
    "## 5.3. Methane storage"
   ]
  },
  {
   "cell_type": "markdown",
   "metadata": {},
   "source": [
    "### Methane filled salt caverns"
   ]
  },
  {
   "cell_type": "code",
   "execution_count": 29,
   "metadata": {},
   "outputs": [],
   "source": [
    "esM.add(fn.Storage(esM=esM, name='Salt caverns (biogas)', commodity='biogas',\n",
    "                   hasCapacityVariable=True, capacityVariableDomain='continuous',\n",
    "                   capacityPerPlantUnit=443,\n",
    "                   chargeRate=1/470.37, dischargeRate=1/470.37, sharedPotentialID='Existing salt caverns',\n",
    "                   stateOfChargeMin=0.33, stateOfChargeMax=1, capacityMax=data['Salt caverns (methane), capacityMax'],\n",
    "                   investPerCapacity=0.00004, opexPerCapacity=0.00001, interestRate=0.08,\n",
    "                   economicLifetime=30))"
   ]
  },
  {
   "cell_type": "markdown",
   "metadata": {},
   "source": [
    "## 5.4 Pumped hydro storage"
   ]
  },
  {
   "cell_type": "markdown",
   "metadata": {},
   "source": [
    "### Pumped hydro storage"
   ]
  },
  {
   "cell_type": "code",
   "execution_count": 30,
   "metadata": {},
   "outputs": [],
   "source": [
    "esM.add(fn.Storage(esM=esM, name='Pumped hydro storage', commodity='electricity',\n",
    "                   chargeEfficiency=0.88, dischargeEfficiency=0.88,\n",
    "                   hasCapacityVariable=True, selfDischarge=1-(1-0.00375)**(1/(30*24)),\n",
    "                   chargeRate=0.16, dischargeRate=0.12, capacityFix=data['Pumped hydro storage, capacityFix'],\n",
    "                   investPerCapacity=0, opexPerCapacity=0.000153))"
   ]
  },
  {
   "cell_type": "markdown",
   "metadata": {},
   "source": [
    "# 6. Add commodity transmission components to the energy system model"
   ]
  },
  {
   "cell_type": "markdown",
   "metadata": {},
   "source": [
    "## 6.1. Electricity transmission"
   ]
  },
  {
   "cell_type": "markdown",
   "metadata": {},
   "source": [
    "### AC cables"
   ]
  },
  {
   "cell_type": "code",
   "execution_count": 31,
   "metadata": {},
   "outputs": [
    {
     "name": "stdout",
     "output_type": "stream",
     "text": [
      "The distances of a component are set to a normalized value of 1.\n"
     ]
    }
   ],
   "source": [
    "esM.add(fn.LinearOptimalPowerFlow(esM=esM, name='AC cables', commodity='electricity',\n",
    "                                  hasCapacityVariable=True, capacityFix=data['AC cables, capacityFix'],\n",
    "                                  reactances=data['AC cables, reactances']))"
   ]
  },
  {
   "cell_type": "markdown",
   "metadata": {},
   "source": [
    "esM.add(fn.Transmission(esM=esM, name='AC cables', commodity='electricity',\n",
    "                                  hasCapacityVariable=True, capacityFix=data['AC cables, capacityFix']))"
   ]
  },
  {
   "cell_type": "markdown",
   "metadata": {},
   "source": [
    "### DC cables"
   ]
  },
  {
   "cell_type": "code",
   "execution_count": 32,
   "metadata": {},
   "outputs": [],
   "source": [
    "esM.add(fn.Transmission(esM=esM, name='DC cables', commodity='electricity', losses=data['DC cables, losses'],\n",
    "                        distances=data['DC cables, distances'],\n",
    "                        hasCapacityVariable=True, capacityFix=data['DC cables, capacityFix']))"
   ]
  },
  {
   "cell_type": "markdown",
   "metadata": {},
   "source": [
    "## 6.2 Methane transmission"
   ]
  },
  {
   "cell_type": "markdown",
   "metadata": {},
   "source": [
    "### Methane pipeline"
   ]
  },
  {
   "cell_type": "code",
   "execution_count": 33,
   "metadata": {
    "scrolled": true
   },
   "outputs": [],
   "source": [
    "esM.add(fn.Transmission(esM=esM, name='Pipelines (biogas)', commodity='biogas', \n",
    "                        distances=data['Pipelines, distances'],\n",
    "                        hasCapacityVariable=True, hasIsBuiltBinaryVariable=False, bigM=300,\n",
    "                        locationalEligibility=data['Pipelines, eligibility'],\n",
    "                        capacityMax=data['Pipelines, eligibility']*15, sharedPotentialID='pipelines',\n",
    "                        investPerCapacity=0.000037, investIfBuilt=0.000314,\n",
    "                        interestRate=0.08, economicLifetime=40))"
   ]
  },
  {
   "cell_type": "markdown",
   "metadata": {},
   "source": [
    "esM.getComponent('Pipelines (methane)')._mapC['cluster_0_cluster_4'][1]"
   ]
  },
  {
   "cell_type": "markdown",
   "metadata": {},
   "source": [
    "## 6.3 Hydrogen transmission"
   ]
  },
  {
   "cell_type": "markdown",
   "metadata": {},
   "source": [
    "### Hydrogen pipelines"
   ]
  },
  {
   "cell_type": "code",
   "execution_count": 34,
   "metadata": {
    "scrolled": true
   },
   "outputs": [],
   "source": [
    "esM.add(fn.Transmission(esM=esM, name='Pipelines (hydrogen)', commodity='hydrogen',\n",
    "                        distances=data['Pipelines, distances'],\n",
    "                        hasCapacityVariable=True, hasIsBuiltBinaryVariable=False, bigM=300,\n",
    "                        locationalEligibility=data['Pipelines, eligibility'],\n",
    "                        capacityMax=data['Pipelines, eligibility']*15, sharedPotentialID='pipelines',\n",
    "                        investPerCapacity=0.000177, investIfBuilt=0.00033,\n",
    "                        interestRate=0.08, economicLifetime=40))"
   ]
  },
  {
   "cell_type": "markdown",
   "metadata": {},
   "source": [
    "esM.getComponent('Pipeline (hydrogen)')._mapC"
   ]
  },
  {
   "cell_type": "markdown",
   "metadata": {},
   "source": [
    "# 7. Add commodity sinks to the energy system model"
   ]
  },
  {
   "cell_type": "markdown",
   "metadata": {},
   "source": [
    "## 7.1. Electricity sinks"
   ]
  },
  {
   "cell_type": "markdown",
   "metadata": {},
   "source": [
    "### Electricity demand"
   ]
  },
  {
   "cell_type": "code",
   "execution_count": 35,
   "metadata": {},
   "outputs": [],
   "source": [
    "esM.add(fn.Sink(esM=esM, name='Electricity demand', commodity='electricity',\n",
    "                hasCapacityVariable=False, operationRateFix=data['Electricity demand, operationRateFix']))"
   ]
  },
  {
   "cell_type": "markdown",
   "metadata": {},
   "source": [
    "## 7.2. Hydrogen sinks"
   ]
  },
  {
   "cell_type": "markdown",
   "metadata": {},
   "source": [
    "### Fuel cell electric vehicle (FCEV) demand"
   ]
  },
  {
   "cell_type": "code",
   "execution_count": 36,
   "metadata": {},
   "outputs": [],
   "source": [
    "FCEV_penetration=0.5\n",
    "esM.add(fn.Sink(esM=esM, name='Hydrogen demand', commodity='hydrogen', hasCapacityVariable=False,\n",
    "                operationRateFix=data['Hydrogen demand, operationRateFix']*FCEV_penetration))"
   ]
  },
  {
   "cell_type": "markdown",
   "metadata": {},
   "source": [
    "## 7.3. CO2 sinks"
   ]
  },
  {
   "cell_type": "markdown",
   "metadata": {},
   "source": [
    "### CO2 exiting the system's boundary"
   ]
  },
  {
   "cell_type": "code",
   "execution_count": 37,
   "metadata": {},
   "outputs": [],
   "source": [
    "esM.add(fn.Sink(esM=esM, name='CO2 to enviroment', commodity='CO2',\n",
    "                hasCapacityVariable=False, commodityLimitID='CO2 limit', yearlyLimit=366*(1-CO2_reductionTarget)))"
   ]
  },
  {
   "cell_type": "markdown",
   "metadata": {},
   "source": [
    "# 8. Optimize energy system model"
   ]
  },
  {
   "cell_type": "markdown",
   "metadata": {},
   "source": [
    "All components are now added to the model and the model can be optimized. If the computational complexity of the optimization should be reduced, the time series data of the specified components can be clustered before the optimization and the parameter timeSeriesAggregation is set to True in the optimize call."
   ]
  },
  {
   "cell_type": "code",
   "execution_count": 38,
   "metadata": {},
   "outputs": [
    {
     "name": "stdout",
     "output_type": "stream",
     "text": [
      "\n",
      "Clustering time series data with 14 typical periods and 24 time steps per period...\n",
      "\t\t(4.7545 sec)\n",
      "\n"
     ]
    }
   ],
   "source": [
    "esM.cluster(numberOfTypicalPeriods=14)"
   ]
  },
  {
   "cell_type": "code",
   "execution_count": 39,
   "metadata": {
    "scrolled": true
   },
   "outputs": [
    {
     "name": "stdout",
     "output_type": "stream",
     "text": [
      "Time series aggregation specifications:\n",
      "Number of typical periods:14, number of time steps per periods:24\n",
      "\n",
      "Declaring sets, variables and constraints for SourceSinkModel\n",
      "\tdeclaring sets... \n",
      "\tdeclaring variables... \n",
      "\tdeclaring constraints... \n",
      "\t\t(1.0577 sec)\n",
      "\n",
      "Declaring sets, variables and constraints for ConversionModel\n",
      "\tdeclaring sets... \n",
      "\tdeclaring variables... \n",
      "\tdeclaring constraints... \n",
      "\t\t(0.4043 sec)\n",
      "\n",
      "Declaring sets, variables and constraints for StorageModel\n",
      "\tdeclaring sets... \n",
      "\tdeclaring variables... \n",
      "\tdeclaring constraints... \n",
      "\t\t(2.3587 sec)\n",
      "\n",
      "Declaring sets, variables and constraints for LOPFModel\n",
      "\tdeclaring sets... \n",
      "\tdeclaring variables... \n",
      "\tdeclaring constraints... \n",
      "\t\t(0.7124 sec)\n",
      "\n",
      "Declaring sets, variables and constraints for TransmissionModel\n",
      "\tdeclaring sets... \n",
      "\tdeclaring variables... \n",
      "\tdeclaring constraints... \n",
      "\t\t(0.3482 sec)\n",
      "\n",
      "Declaring shared potential constraint...\n",
      "\t\t(0.0050 sec)\n",
      "\n",
      "Declaring commodity balances...\n",
      "\t\t(1.6944 sec)\n",
      "\n",
      "Declaring objective function...\n",
      "\t\t(0.7646 sec)\n",
      "\n",
      "Academic license - for non-commercial use only\n",
      "Read LP format model from file C:\\Users\\jpr\\AppData\\Local\\Temp\\tmp5qhsvbzl.pyomo.lp\n",
      "Reading time = 0.60 seconds\n",
      "x100573: 146670 rows, 100573 columns, 461274 nonzeros\n",
      "Changed value of parameter QCPDual to 1\n",
      "   Prev: 0  Min: 0  Max: 1  Default: 0\n",
      "Changed value of parameter logfile to \n",
      "   Prev: gurobi.log  Default: \n",
      "Changed value of parameter Threads to 3\n",
      "   Prev: 0  Min: 0  Max: 1024  Default: 0\n",
      "Changed value of parameter method to 2\n",
      "   Prev: -1  Min: -1  Max: 5  Default: -1\n",
      "Changed value of parameter OptimalityTol to 0.001\n",
      "   Prev: 1e-06  Min: 1e-09  Max: 0.01  Default: 1e-06\n",
      "Changed value of parameter cuts to 0\n",
      "   Prev: -1  Min: -1  Max: 3  Default: -1\n",
      "Optimize a model with 146670 rows, 100573 columns and 461274 nonzeros\n",
      "Coefficient statistics:\n",
      "  Matrix range     [1e-06, 5e+02]\n",
      "  Objective range  [2e-06, 3e-01]\n",
      "  Bounds range     [2e+01, 6e+04]\n",
      "  RHS range        [4e-02, 2e+01]\n",
      "Presolve removed 58044 rows and 37470 columns\n",
      "Presolve time: 0.29s\n",
      "Presolved: 88626 rows, 63103 columns, 388113 nonzeros\n",
      "\n",
      "Ordering time: 0.00s\n",
      "Ordering time: 0.00s\n",
      "\n",
      "Barrier statistics:\n",
      " Dense cols : 533\n",
      " Free vars  : 1120\n",
      " AA' NZ     : 2.156e+06\n",
      " Factor NZ  : 1.025e+07 (roughly 140 MBytes of memory)\n",
      " Factor Ops : 6.695e+09 (less than 1 second per iteration)\n",
      " Threads    : 3\n",
      "\n",
      "                  Objective                Residual\n",
      "Iter       Primal          Dual         Primal    Dual     Compl     Time\n",
      "   0   1.90069654e+04 -9.45126130e+02  2.51e+05 5.26e-03  2.04e+02     4s\n",
      "   1   2.17507813e+04 -5.55198922e+03  2.04e+05 5.25e-02  1.44e+02     4s\n",
      "   2   1.75570791e+04 -1.73855508e+04  1.53e+05 2.44e-02  9.93e+01     4s\n",
      "   3   1.49753291e+04 -9.92741367e+04  8.53e+04 7.24e-03  5.25e+01     5s\n",
      "   4   9.63351300e+03 -8.35714888e+04  5.13e+03 1.33e-03  4.58e+00     5s\n",
      "   5   6.37876730e+03 -3.80969018e+04  6.93e+01 5.76e-04  1.01e+00     5s\n",
      "   6   5.22658773e+03 -3.21143908e+04  4.64e+01 7.31e-04  7.23e-01     5s\n",
      "   7   2.60474852e+03 -1.85868225e+04  6.79e+00 4.79e-04  2.44e-01     6s\n",
      "   8   1.29029514e+03 -6.88250809e+03  1.06e+00 5.05e-04  7.46e-02     6s\n",
      "   9   5.72203149e+02 -1.34646647e+03  1.21e-01 2.07e-04  1.47e-02     6s\n",
      "  10   3.43464278e+02 -7.12840484e+02  4.67e-02 2.19e-04  7.74e-03     6s\n",
      "  11   2.08042398e+02 -2.39494102e+02  1.68e-02 1.19e-04  3.19e-03     7s\n",
      "  12   1.39895627e+02 -4.31604819e+01  7.65e-03 4.50e-05  1.29e-03     7s\n",
      "  13   1.00567784e+02  2.35147609e+01  2.94e-03 1.60e-05  5.39e-04     7s\n",
      "  14   9.10561911e+01  4.68816239e+01  2.11e-03 8.23e-06  3.08e-04     7s\n",
      "  15   7.95896123e+01  5.05604204e+01  1.10e-03 6.85e-06  2.02e-04     8s\n",
      "  16   7.75023336e+01  5.41448841e+01  9.52e-04 5.19e-06  1.62e-04     8s\n",
      "  17   7.58321392e+01  5.76434142e+01  7.99e-04 3.85e-06  1.26e-04     8s\n",
      "  18   7.11270363e+01  6.13647252e+01  3.25e-04 2.47e-06  6.77e-05     8s\n",
      "  19   6.95264949e+01  6.33497287e+01  1.82e-04 1.65e-06  4.28e-05     9s\n",
      "  20   6.87876090e+01  6.48164348e+01  1.22e-04 1.05e-06  2.75e-05     9s\n",
      "  21   6.84960062e+01  6.57766216e+01  9.62e-05 6.63e-07  1.88e-05     9s\n",
      "  22   6.81559743e+01  6.60394997e+01  6.64e-05 5.73e-07  1.46e-05     9s\n",
      "  23   6.80857865e+01  6.66638817e+01  5.96e-05 3.51e-07  9.84e-06    10s\n",
      "  24   6.77712594e+01  6.71410232e+01  2.47e-05 1.80e-07  4.36e-06    10s\n",
      "  25   6.76589426e+01  6.72981731e+01  1.29e-05 1.08e-07  2.50e-06    10s\n",
      "  26   6.76065640e+01  6.73831739e+01  7.48e-06 6.78e-08  1.55e-06    10s\n",
      "  27   6.75707755e+01  6.74181119e+01  3.97e-06 4.95e-08  1.06e-06    11s\n",
      "  28   6.75575109e+01  6.74483785e+01  2.73e-06 3.57e-08  7.55e-07    11s\n",
      "  29   6.75499402e+01  6.74818671e+01  2.05e-06 2.05e-08  4.71e-07    11s\n",
      "  30   6.75421790e+01  6.74908322e+01  1.39e-06 1.72e-08  3.55e-07    11s\n",
      "  31   6.75355791e+01  6.75016897e+01  8.39e-07 1.22e-08  2.34e-07    12s\n",
      "  32   6.75322098e+01  6.75109173e+01  5.70e-07 8.09e-09  1.47e-07    12s\n",
      "  33   6.75294852e+01  6.75144220e+01  3.65e-07 6.79e-09  1.04e-07    12s\n",
      "  34   6.75286587e+01  6.75185383e+01  3.02e-07 5.21e-09  7.01e-08    12s\n",
      "  35   6.75283226e+01  6.75187247e+01  2.77e-07 5.09e-09  6.64e-08    13s\n",
      "  36   6.75280334e+01  6.75191258e+01  2.57e-07 4.82e-09  6.17e-08    13s\n",
      "  37   6.75274142e+01  6.75197904e+01  2.12e-07 4.34e-09  5.28e-08    13s\n",
      "  38   6.75266627e+01  6.75209084e+01  1.59e-07 3.44e-09  3.99e-08    13s\n",
      "  39   6.75261145e+01  6.75218718e+01  1.21e-07 2.57e-09  2.94e-08    14s\n",
      "  40   6.75256062e+01  6.75226241e+01  8.57e-08 1.80e-09  2.07e-08    14s\n",
      "  41   6.75255641e+01  6.75228796e+01  8.27e-08 1.56e-09  1.87e-08    14s\n",
      "  42   6.75253810e+01  6.75230589e+01  6.98e-08 1.38e-09  1.62e-08    14s\n",
      "  43   6.75249726e+01  6.75233414e+01  4.18e-08 1.09e-09  1.14e-08    15s\n",
      "  44   6.75247433e+01  6.75239541e+01  2.70e-08 4.64e-10  5.60e-09    15s\n",
      "  45   6.75245816e+01  6.75241465e+01  2.50e-08 2.53e-10  3.14e-09    15s\n",
      "  46   6.75244719e+01  6.75241920e+01  1.33e-08 2.14e-10  2.08e-09    16s\n",
      "  47   6.75244537e+01  6.75242126e+01  1.15e-08 2.09e-10  1.80e-09    16s\n",
      "  48   6.75244249e+01  6.75242383e+01  1.03e-08 2.05e-10  1.43e-09    16s\n",
      "  49   6.75243883e+01  6.75242579e+01  6.55e-09 2.00e-10  1.04e-09    17s\n",
      "  50   6.75243806e+01  6.75242822e+01  5.69e-09 1.88e-10  7.99e-10    17s\n",
      "  51   6.75243597e+01  6.75242904e+01  3.66e-09 1.82e-10  6.14e-10    17s\n",
      "  52   6.75243581e+01  6.75243042e+01  3.51e-09 1.60e-10  4.86e-10    18s\n",
      "  53   6.75243511e+01  6.75243124e+01  1.79e-08 1.57e-10  3.73e-10    18s\n",
      "  54   6.75243412e+01  6.75248173e+01  1.09e-08 4.25e-08  2.37e-10    18s\n",
      "  55   6.75243399e+01  6.75247268e+01  1.42e-08 3.64e-08  2.08e-10    19s\n",
      "  56   6.75243368e+01  6.75245618e+01  3.19e-07 2.08e-08  1.37e-10    19s\n",
      "  57   6.75243309e+01  6.75244871e+01  1.51e-07 1.37e-08  7.94e-11    19s\n",
      "  58   6.75243282e+01  6.75244430e+01  8.31e-08 9.73e-09  5.37e-11    20s\n",
      "  59   6.75243270e+01  6.75348093e+01  6.35e-08 4.10e-07  4.60e-11    20s\n",
      "  60   6.75243264e+01  6.75321878e+01  6.26e-07 3.17e-07  3.66e-11    20s\n",
      "  61   6.75243264e+01  6.75321729e+01  6.25e-07 3.16e-07  3.65e-11    21s\n",
      "  62   6.75243264e+01  6.75321729e+01  6.25e-07 3.16e-07  3.65e-11    21s\n",
      "\n",
      "Barrier solved model in 62 iterations and 20.83 seconds\n",
      "Optimal objective 6.75243581e+01\n",
      "\n",
      "Crossover log...\n",
      "\n",
      "    1620 DPushes remaining with DInf 2.5655463e+01                21s\n",
      "       0 DPushes remaining with DInf 7.7129364e+03                21s\n",
      "\n",
      "   50120 PPushes remaining with PInf 2.6467316e-02                21s\n",
      "   32668 PPushes remaining with PInf 5.8963730e-03                25s\n",
      "   25570 PPushes remaining with PInf 2.5071711e+00                32s\n",
      "   19294 PPushes remaining with PInf 7.9674063e-01                35s\n",
      "    3821 PPushes remaining with PInf 9.6798806e-01                40s\n",
      "       0 PPushes remaining with PInf 2.6475195e-01                43s\n",
      "\n",
      "  Push phase complete: Pinf 2.6475195e-01, Dinf 5.5848618e+01     43s\n",
      "\n",
      "Iteration    Objective       Primal Inf.    Dual Inf.      Time\n",
      "   51026    6.7524512e+01   0.000000e+00   5.549710e+01     43s\n",
      "   52286    6.7524377e+01   0.000000e+00   5.037670e-01     45s\n",
      "Extra 34 simplex iterations after uncrush\n",
      "   52554    6.7524455e+01   0.000000e+00   0.000000e+00     46s\n",
      "\n",
      "Solved in 52554 iterations and 46.30 seconds\n",
      "Optimal objective  6.752445475e+01\n"
     ]
    },
    {
     "name": "stdout",
     "output_type": "stream",
     "text": [
      "\n",
      "Status: ok\n",
      "Return code: 0\n",
      "Message: Model was solved to optimality (subject to tolerances), and an optimal solution is available.\n",
      "Termination condition: optimal\n",
      "Termination message: Model was solved to optimality (subject to tolerances), and an optimal solution is available.\n",
      "Wall time: 46.3044052124\n",
      "Error rc: 0\n",
      "Time: 47.89082407951355\n",
      "\n",
      "\n",
      "Name: x100573\n",
      "Lower bound: 67.5244547455\n",
      "Upper bound: 67.5244547455\n",
      "Number of objectives: 1\n",
      "Number of constraints: 146670\n",
      "Number of variables: 100573\n",
      "Number of binary variables: 0\n",
      "Number of integer variables: 0\n",
      "Number of continuous variables: 100573\n",
      "Number of nonzeros: 461274\n",
      "Sense: minimize\n",
      "\n",
      "Solve time: 55.42509055137634 sec.\n",
      "\n",
      "Processing optimization output...\n",
      "for SourceSinkModel ...    (1.4638sec)\n",
      "for ConversionModel ...    (1.0311sec)\n",
      "for StorageModel ...       (2.6069sec)\n",
      "for LOPFModel ...          (1.9116sec)\n",
      "for TransmissionModel ...  (2.4289sec)\n",
      "\t\t(9.4437 sec)\n",
      "\n"
     ]
    }
   ],
   "source": [
    "esM.optimize(timeSeriesAggregation=True, optimizationSpecs='OptimalityTol=1e-3 cuts=0 method=2')"
   ]
  },
  {
   "cell_type": "code",
   "execution_count": 45,
   "metadata": {},
   "outputs": [
    {
     "name": "stdout",
     "output_type": "stream",
     "text": [
      "None\n"
     ]
    }
   ],
   "source": [
    "testresults = esM.componentModelingDict[\"TransmissionModel\"].operationVariablesOptimum.sum(axis=1)\n",
    "print(np.testing.assert_array_almost_equal(testresults.values, results.values,decimal=2))"
   ]
  },
  {
   "cell_type": "code",
   "execution_count": 41,
   "metadata": {},
   "outputs": [
    {
     "name": "stdout",
     "output_type": "stream",
     "text": [
      "\n",
      "Writing output to Excel... \n",
      "\t\t(30.6102 sec)\n",
      "\n"
     ]
    }
   ],
   "source": [
    "fn.writeOptimizationOutputToExcel(esM)"
   ]
  },
  {
   "cell_type": "markdown",
   "metadata": {},
   "source": [
    "# 9. Selected results output\n",
    "\n",
    "Plot locations (GeoPandas required)"
   ]
  },
  {
   "cell_type": "code",
   "execution_count": 42,
   "metadata": {},
   "outputs": [
    {
     "ename": "NameError",
     "evalue": "name 'gpd' is not defined",
     "output_type": "error",
     "traceback": [
      "\u001b[1;31m---------------------------------------------------------------------------\u001b[0m",
      "\u001b[1;31mNameError\u001b[0m                                 Traceback (most recent call last)",
      "\u001b[1;32m<ipython-input-42-9f4423dc34e2>\u001b[0m in \u001b[0;36m<module>\u001b[1;34m\u001b[0m\n\u001b[0;32m      1\u001b[0m \u001b[0mlocFilePath\u001b[0m \u001b[1;33m=\u001b[0m \u001b[0mos\u001b[0m\u001b[1;33m.\u001b[0m\u001b[0mpath\u001b[0m\u001b[1;33m.\u001b[0m\u001b[0mjoin\u001b[0m\u001b[1;33m(\u001b[0m\u001b[0mcwd\u001b[0m\u001b[1;33m,\u001b[0m \u001b[1;34m'InputData'\u001b[0m\u001b[1;33m,\u001b[0m \u001b[1;34m'SpatialData'\u001b[0m\u001b[1;33m,\u001b[0m\u001b[1;34m'ShapeFiles'\u001b[0m\u001b[1;33m,\u001b[0m \u001b[1;34m'clusteredRegions.shp'\u001b[0m\u001b[1;33m)\u001b[0m\u001b[1;33m\u001b[0m\u001b[1;33m\u001b[0m\u001b[0m\n\u001b[1;32m----> 2\u001b[1;33m \u001b[0mfig\u001b[0m\u001b[1;33m,\u001b[0m \u001b[0max\u001b[0m \u001b[1;33m=\u001b[0m \u001b[0mfn\u001b[0m\u001b[1;33m.\u001b[0m\u001b[0mplotLocations\u001b[0m\u001b[1;33m(\u001b[0m\u001b[0mlocFilePath\u001b[0m\u001b[1;33m,\u001b[0m \u001b[0mplotLocNames\u001b[0m\u001b[1;33m=\u001b[0m\u001b[1;32mTrue\u001b[0m\u001b[1;33m,\u001b[0m \u001b[0mindexColumn\u001b[0m\u001b[1;33m=\u001b[0m\u001b[1;34m'index'\u001b[0m\u001b[1;33m)\u001b[0m\u001b[1;33m\u001b[0m\u001b[1;33m\u001b[0m\u001b[0m\n\u001b[0m",
      "\u001b[1;32mC:\\ProgramData\\Anaconda3\\lib\\site-packages\\FINE\\IOManagement\\standardIO.py\u001b[0m in \u001b[0;36mplotLocations\u001b[1;34m(locationsShapeFileName, indexColumn, plotLocNames, crs, faceColor, edgeColor, fig, ax, linewidth, figsize, fontsize, save, fileName, dpi, **kwargs)\u001b[0m\n\u001b[0;32m    579\u001b[0m     \u001b[1;33m:\u001b[0m\u001b[0mtype\u001b[0m \u001b[0mdpi\u001b[0m\u001b[1;33m:\u001b[0m \u001b[0mscalar\u001b[0m \u001b[1;33m>\u001b[0m \u001b[1;36m0\u001b[0m\u001b[1;33m\u001b[0m\u001b[1;33m\u001b[0m\u001b[0m\n\u001b[0;32m    580\u001b[0m     \"\"\"\n\u001b[1;32m--> 581\u001b[1;33m     \u001b[0mgdf\u001b[0m \u001b[1;33m=\u001b[0m \u001b[0mgpd\u001b[0m\u001b[1;33m.\u001b[0m\u001b[0mread_file\u001b[0m\u001b[1;33m(\u001b[0m\u001b[0mlocationsShapeFileName\u001b[0m\u001b[1;33m)\u001b[0m\u001b[1;33m.\u001b[0m\u001b[0mto_crs\u001b[0m\u001b[1;33m(\u001b[0m\u001b[1;33m{\u001b[0m\u001b[1;34m'init'\u001b[0m\u001b[1;33m:\u001b[0m \u001b[0mcrs\u001b[0m\u001b[1;33m}\u001b[0m\u001b[1;33m)\u001b[0m\u001b[1;33m\u001b[0m\u001b[1;33m\u001b[0m\u001b[0m\n\u001b[0m\u001b[0;32m    582\u001b[0m \u001b[1;33m\u001b[0m\u001b[0m\n\u001b[0;32m    583\u001b[0m     \u001b[1;32mif\u001b[0m \u001b[0max\u001b[0m \u001b[1;32mis\u001b[0m \u001b[1;32mNone\u001b[0m\u001b[1;33m:\u001b[0m\u001b[1;33m\u001b[0m\u001b[1;33m\u001b[0m\u001b[0m\n",
      "\u001b[1;31mNameError\u001b[0m: name 'gpd' is not defined"
     ]
    }
   ],
   "source": [
    "locFilePath = os.path.join(cwd, 'InputData', 'SpatialData','ShapeFiles', 'clusteredRegions.shp')\n",
    "fig, ax = fn.plotLocations(locFilePath, plotLocNames=True, indexColumn='index')"
   ]
  },
  {
   "cell_type": "markdown",
   "metadata": {},
   "source": [
    "### Sources and Sink\n",
    "\n",
    "Show optimization summary"
   ]
  },
  {
   "cell_type": "code",
   "execution_count": null,
   "metadata": {
    "scrolled": false
   },
   "outputs": [],
   "source": [
    "esM.getOptimizationSummary(\"SourceSinkModel\", outputLevel=2)"
   ]
  },
  {
   "cell_type": "markdown",
   "metadata": {},
   "source": [
    "Plot installed capacities"
   ]
  },
  {
   "cell_type": "code",
   "execution_count": null,
   "metadata": {
    "scrolled": false
   },
   "outputs": [],
   "source": [
    "fig, ax = fn.plotLocationalColorMap(esM, 'Wind (offshore)', locFilePath, 'index', perArea=True)"
   ]
  },
  {
   "cell_type": "markdown",
   "metadata": {},
   "source": [
    "Plot operation time series (either one or two dimensional)"
   ]
  },
  {
   "cell_type": "code",
   "execution_count": null,
   "metadata": {},
   "outputs": [],
   "source": [
    "fig, ax = fn.plotOperation(esM, 'Electricity demand', 'cluster_0')"
   ]
  },
  {
   "cell_type": "code",
   "execution_count": null,
   "metadata": {},
   "outputs": [],
   "source": [
    "fig, ax = fn.plotOperationColorMap(esM, 'Electricity demand', 'cluster_0')"
   ]
  },
  {
   "cell_type": "markdown",
   "metadata": {},
   "source": [
    "### Conversion\n",
    "\n",
    "Show optimization summary"
   ]
  },
  {
   "cell_type": "code",
   "execution_count": null,
   "metadata": {},
   "outputs": [],
   "source": [
    "esM.getOptimizationSummary(\"ConversionModel\", outputLevel=2)"
   ]
  },
  {
   "cell_type": "code",
   "execution_count": null,
   "metadata": {},
   "outputs": [],
   "source": [
    "fig, ax = fn.plotOperationColorMap(esM, 'New CCGT plants (biogas)', 'cluster_2')"
   ]
  },
  {
   "cell_type": "markdown",
   "metadata": {},
   "source": [
    "### Storage\n",
    "\n",
    "Show optimization summary"
   ]
  },
  {
   "cell_type": "code",
   "execution_count": null,
   "metadata": {},
   "outputs": [],
   "source": [
    "esM.getOptimizationSummary(\"StorageModel\", outputLevel=2)"
   ]
  },
  {
   "cell_type": "code",
   "execution_count": null,
   "metadata": {},
   "outputs": [],
   "source": [
    "fig, ax = fn.plotOperationColorMap(esM, 'Li-ion batteries', 'cluster_2', \n",
    "                                   variableName='stateOfChargeOperationVariablesOptimum')"
   ]
  },
  {
   "cell_type": "code",
   "execution_count": null,
   "metadata": {},
   "outputs": [],
   "source": [
    "fig, ax = fn.plotOperationColorMap(esM, 'Pumped hydro storage', 'cluster_2',\n",
    "                                  variableName='stateOfChargeOperationVariablesOptimum')"
   ]
  },
  {
   "cell_type": "code",
   "execution_count": null,
   "metadata": {},
   "outputs": [],
   "source": [
    "fig, ax = fn.plotOperationColorMap(esM, 'Salt caverns (biogas)', 'cluster_2',\n",
    "                                  variableName='stateOfChargeOperationVariablesOptimum')"
   ]
  },
  {
   "cell_type": "code",
   "execution_count": null,
   "metadata": {},
   "outputs": [],
   "source": [
    "fig, ax = fn.plotOperationColorMap(esM, 'Salt caverns (hydrogen)', 'cluster_2',\n",
    "                                  variableName='stateOfChargeOperationVariablesOptimum')"
   ]
  },
  {
   "cell_type": "markdown",
   "metadata": {},
   "source": [
    "## Transmission\n",
    "\n",
    "Show optimization summary"
   ]
  },
  {
   "cell_type": "code",
   "execution_count": null,
   "metadata": {
    "scrolled": false
   },
   "outputs": [],
   "source": [
    "esM.getOptimizationSummary(\"TransmissionModel\", outputLevel=2)"
   ]
  },
  {
   "cell_type": "markdown",
   "metadata": {},
   "source": [
    "Check that the shared capacity of the pipelines are not exceeded"
   ]
  },
  {
   "cell_type": "code",
   "execution_count": null,
   "metadata": {},
   "outputs": [],
   "source": [
    "df=esM.componentModelingDict[\"TransmissionModel\"].capacityVariablesOptimum\n",
    "df.loc['Pipelines (biogas)']+df.loc['Pipelines (hydrogen)']"
   ]
  },
  {
   "cell_type": "markdown",
   "metadata": {},
   "source": [
    "Plot installed transmission capacities"
   ]
  },
  {
   "cell_type": "code",
   "execution_count": null,
   "metadata": {},
   "outputs": [],
   "source": [
    "transFilePath = os.path.join(cwd, 'InputData', 'SpatialData','ShapeFiles', 'AClines.shp')\n",
    "\n",
    "fig, ax = fn.plotLocations(locFilePath, indexColumn='index')                                 \n",
    "fig, ax = fn.plotTransmission(esM, 'AC cables', transFilePath, loc0='bus0', loc1='bus1', fig=fig, ax=ax)"
   ]
  },
  {
   "cell_type": "code",
   "execution_count": null,
   "metadata": {},
   "outputs": [],
   "source": [
    "transFilePath = os.path.join(cwd, 'InputData', 'SpatialData','ShapeFiles', 'DClines.shp')\n",
    "\n",
    "fig, ax = fn.plotLocations(locFilePath, indexColumn='index')                                 \n",
    "fig, ax = fn.plotTransmission(esM, 'DC cables', transFilePath, loc0='cluster0', loc1='cluster1', fig=fig, ax=ax)"
   ]
  },
  {
   "cell_type": "code",
   "execution_count": null,
   "metadata": {},
   "outputs": [],
   "source": [
    "transFilePath = os.path.join(cwd, 'InputData', 'SpatialData','ShapeFiles', 'transmissionPipeline.shp')\n",
    "\n",
    "fig, ax = fn.plotLocations(locFilePath, indexColumn='index')                                 \n",
    "fig, ax = fn.plotTransmission(esM, 'Pipelines (hydrogen)', transFilePath, loc0='cluster0', loc1='cluster1',\n",
    "                              fig=fig, ax=ax)"
   ]
  },
  {
   "cell_type": "code",
   "execution_count": null,
   "metadata": {},
   "outputs": [],
   "source": [
    "transFilePath = os.path.join(cwd, 'InputData', 'SpatialData','ShapeFiles', 'transmissionPipeline.shp')\n",
    "\n",
    "fig, ax = fn.plotLocations(locFilePath, indexColumn='index')                                 \n",
    "fig, ax = fn.plotTransmission(esM, 'Pipelines (biogas)', transFilePath, loc0='cluster0', loc1='cluster1',\n",
    "                              fig=fig, ax=ax)"
   ]
  }
 ],
 "metadata": {
  "anaconda-cloud": {},
  "kernelspec": {
   "display_name": "Python 3",
   "language": "python",
   "name": "python3"
  },
  "language_info": {
   "codemirror_mode": {
    "name": "ipython",
    "version": 3
   },
   "file_extension": ".py",
   "mimetype": "text/x-python",
   "name": "python",
   "nbconvert_exporter": "python",
   "pygments_lexer": "ipython3",
   "version": "3.7.1"
  }
 },
 "nbformat": 4,
 "nbformat_minor": 1
}
