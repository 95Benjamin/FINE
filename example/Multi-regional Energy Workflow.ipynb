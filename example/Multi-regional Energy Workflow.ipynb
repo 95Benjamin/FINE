{
 "cells": [
  {
   "cell_type": "markdown",
   "metadata": {},
   "source": [
    "# Workflow for a multi-regional energy system\n",
    "\n",
    "In this application of the FINE framework, a multi-regional energy system is modeled and optimized.\n",
    "\n",
    "All classes which are available to the user are utilized and examples of the selection of different parameters within these classes are given.\n",
    "\n",
    "The workflow is structures as follows:\n",
    "1. Required packages are imported and the input data path is set\n",
    "2. An energy system model instance is created\n",
    "3. Commodity sources are added to the energy system model\n",
    "4. Commodity conversion components are added to the energy system model\n",
    "5. Commodity storages are added to the energy system model\n",
    "6. Commodity transmission components are added to the energy system model\n",
    "7. Commodity sinks are added to the energy system model\n",
    "8. The energy system model is optimized\n",
    "\n"
   ]
  },
  {
   "cell_type": "markdown",
   "metadata": {},
   "source": [
    "# 1. Import required packages and set input data path\n",
    "\n",
    "The FINE framework is imported which provides the required classes and functions for modeling the energy system. The pandas packages is used for import location and time series specific data. The os package is used for setting the input data path."
   ]
  },
  {
   "cell_type": "code",
   "execution_count": 1,
   "metadata": {
    "collapsed": true
   },
   "outputs": [],
   "source": [
    "import FINE as fn\n",
    "import pandas as pd\n",
    "import os\n",
    "\n",
    "%load_ext autoreload\n",
    "%autoreload 2"
   ]
  },
  {
   "cell_type": "code",
   "execution_count": 2,
   "metadata": {
    "collapsed": true
   },
   "outputs": [],
   "source": [
    "cwd = os.getcwd()\n",
    "inputDataPath = os.path.join(cwd,\"InputData\")"
   ]
  },
  {
   "cell_type": "markdown",
   "metadata": {},
   "source": [
    "# 2. Create an energy system model instance \n",
    "\n",
    "The structure of the energy system model is given by the considered locations, commodities, the number of time steps as well as the hours per time step.\n",
    "\n",
    "The commodities are specified by a unit (i.e. 'GW_electric', 'GW_H2lowerHeatingValue', 'Mio. t CO2/h') which can be given as an energy or mass unit per hour. Furthermore, the cost unit and length unit are specified."
   ]
  },
  {
   "cell_type": "code",
   "execution_count": 3,
   "metadata": {
    "collapsed": true
   },
   "outputs": [],
   "source": [
    "locations = {'cluster_0','cluster_1','cluster_2','cluster_3','cluster_4','cluster_5','cluster_6','cluster_7'}\n",
    "commodities = {'electricity','hydrogen','methane','biogas','CO2'}\n",
    "numberOfTimeSteps=8760\n",
    "hoursPerTimeStep=1"
   ]
  },
  {
   "cell_type": "code",
   "execution_count": 4,
   "metadata": {
    "collapsed": false
   },
   "outputs": [],
   "source": [
    "esM = fn.EnergySystemModel(locations=locations, commodities=commodities, numberOftimeSteps=8760,\n",
    "                           hoursPerTimeStep=1, powerUnit='GW', energyUnit='GWh',\n",
    "                           costUnit='1e9 Euro', lengthUnit='km')"
   ]
  },
  {
   "cell_type": "code",
   "execution_count": 5,
   "metadata": {
    "collapsed": false
   },
   "outputs": [],
   "source": [
    "CO2_reductionTarget = 1"
   ]
  },
  {
   "cell_type": "markdown",
   "metadata": {},
   "source": [
    "# 3. Add commodity sources to the energy system model"
   ]
  },
  {
   "cell_type": "markdown",
   "metadata": {},
   "source": [
    "## 3.1. Electricity sources"
   ]
  },
  {
   "cell_type": "markdown",
   "metadata": {},
   "source": [
    "### Wind onshore"
   ]
  },
  {
   "cell_type": "code",
   "execution_count": 6,
   "metadata": {
    "collapsed": false
   },
   "outputs": [
    {
     "name": "stdout",
     "output_type": "stream",
     "text": [
      "The locationalEligibility of a component was set based on the given fixed/maximum capacity of the component.\n"
     ]
    }
   ],
   "source": [
    "capacityMax=pd.read_excel(os.path.join(inputDataPath,'SpatialData','Wind','maxCapacityOnshore_GW_el.xlsx'),\n",
    "                          index_col=0, squeeze=True)\n",
    "operationRateMax=pd.read_excel(os.path.join(inputDataPath,'SpatialData','Wind','maxOperationRateOnshore_el.xlsx'))\n",
    "\n",
    "esM.add(fn.Source(esM=esM, name='Wind (onshore)', commodity='electricity', hasDesignDimensionVariables=True,\n",
    "                  operationRateMax=operationRateMax, capacityMax=capacityMax,\n",
    "                  capexPerDesignDimension=1.1, opexPerDesignDimension=1.1*0.02, interestRate=0.08,\n",
    "                  economicLifetime=20))"
   ]
  },
  {
   "cell_type": "markdown",
   "metadata": {},
   "source": [
    "### Wind offshore"
   ]
  },
  {
   "cell_type": "code",
   "execution_count": 7,
   "metadata": {
    "collapsed": false
   },
   "outputs": [
    {
     "name": "stdout",
     "output_type": "stream",
     "text": [
      "The locationalEligibility of a component was set based on the given fixed/maximum capacity of the component.\n"
     ]
    }
   ],
   "source": [
    "capacityMax=pd.read_excel(os.path.join(inputDataPath,'SpatialData','Wind','maxCapacityOffshore_GW_el.xlsx'),\n",
    "                          index_col=0, squeeze=True)\n",
    "operationRateMax=pd.read_excel(os.path.join(inputDataPath,'SpatialData','Wind','maxOperationRateOffshore_el.xlsx'))\n",
    "\n",
    "esM.add(fn.Source(esM=esM, name='Wind (offshore)', commodity='electricity', hasDesignDimensionVariables=True,\n",
    "                  operationRateMax=operationRateMax, capacityMax=capacityMax,\n",
    "                  capexPerDesignDimension=2.3, opexPerDesignDimension=2.3*0.02, interestRate=0.08,\n",
    "                  economicLifetime=20))"
   ]
  },
  {
   "cell_type": "markdown",
   "metadata": {},
   "source": [
    "### PV"
   ]
  },
  {
   "cell_type": "code",
   "execution_count": 8,
   "metadata": {
    "collapsed": false
   },
   "outputs": [
    {
     "name": "stdout",
     "output_type": "stream",
     "text": [
      "The locationalEligibility of a component was set based on the given fixed/maximum capacity of the component.\n"
     ]
    }
   ],
   "source": [
    "capacityMax=pd.read_excel(os.path.join(inputDataPath,'SpatialData','PV','maxCapacityPV_GW_el.xlsx'),\n",
    "                          index_col=0, squeeze=True)\n",
    "operationRateMax=pd.read_excel(os.path.join(inputDataPath,'SpatialData','PV','maxOperationRatePV_el.xlsx'))\n",
    "\n",
    "esM.add(fn.Source(esM=esM, name='PV', commodity='electricity', hasDesignDimensionVariables=True,\n",
    "                  operationRateMax=operationRateMax, capacityMax=capacityMax,\n",
    "                  capexPerDesignDimension=0.65, opexPerDesignDimension=0.65*0.02, interestRate=0.08,\n",
    "                  economicLifetime=25))"
   ]
  },
  {
   "cell_type": "markdown",
   "metadata": {},
   "source": [
    "### Exisisting run-of-river hydroelectricity plants"
   ]
  },
  {
   "cell_type": "code",
   "execution_count": 9,
   "metadata": {
    "collapsed": false
   },
   "outputs": [
    {
     "name": "stdout",
     "output_type": "stream",
     "text": [
      "The locationalEligibility of a component was set based on the given fixed/maximum capacity of the component.\n"
     ]
    }
   ],
   "source": [
    "capacityFix=pd.read_excel(os.path.join(inputDataPath,'SpatialData','HydroPower','fixCapacityROR_GW_el.xlsx'),\n",
    "                          index_col=0, squeeze=True)\n",
    "operationRateFix=pd.read_excel(os.path.join(inputDataPath,'SpatialData','HydroPower',\n",
    "                                            'fixOperationRateROR_GW_el.xlsx'))\n",
    "\n",
    "esM.add(fn.Source(esM=esM, name='Existing run-of-river plants', commodity='electricity',\n",
    "                  hasDesignDimensionVariables=True,\n",
    "                  operationRateFix=operationRateFix, capacityFix=capacityFix,\n",
    "                  capexPerDesignDimension=0, opexPerDesignDimension=0.208))"
   ]
  },
  {
   "cell_type": "markdown",
   "metadata": {},
   "source": [
    "## 3.2. Methane (natural gas and biogas)"
   ]
  },
  {
   "cell_type": "markdown",
   "metadata": {},
   "source": [
    "### Natural gas"
   ]
  },
  {
   "cell_type": "code",
   "execution_count": 10,
   "metadata": {
    "collapsed": false
   },
   "outputs": [
    {
     "name": "stdout",
     "output_type": "stream",
     "text": [
      "The locationalEligibility of a component is set to 1 (eligible) for all locations.\n"
     ]
    }
   ],
   "source": [
    "esM.add(fn.Source(esM=esM, name='Natural gas purchase', commodity='methane',\n",
    "                  hasDesignDimensionVariables=False, commodityCost=0.0331*1e-3))"
   ]
  },
  {
   "cell_type": "markdown",
   "metadata": {},
   "source": [
    "### Biogas"
   ]
  },
  {
   "cell_type": "code",
   "execution_count": 11,
   "metadata": {
    "collapsed": false
   },
   "outputs": [
    {
     "name": "stdout",
     "output_type": "stream",
     "text": [
      "The locationalEligibility of a component was set based on the given operation time series of the component.\n"
     ]
    }
   ],
   "source": [
    "operationRateMax=pd.read_excel(os.path.join(inputDataPath,'SpatialData','Biogas',\n",
    "                                            'biogasPotential_GWh_biogas.xlsx'))\n",
    "\n",
    "esM.add(fn.Source(esM=esM, name='Biogas purchase', commodity='biogas', operationRateMax=operationRateMax,\n",
    "                  hasDesignDimensionVariables=False, commodityCost=0.05409*1e-3))"
   ]
  },
  {
   "cell_type": "markdown",
   "metadata": {},
   "source": [
    "## 3.3 CO2"
   ]
  },
  {
   "cell_type": "markdown",
   "metadata": {},
   "source": [
    "### CO2\n",
    "\n",
    "The CO2 source is required for the case in which it can be mixed with conventional natural gas."
   ]
  },
  {
   "cell_type": "code",
   "execution_count": 12,
   "metadata": {
    "collapsed": false
   },
   "outputs": [
    {
     "name": "stdout",
     "output_type": "stream",
     "text": [
      "The locationalEligibility of a component is set to 1 (eligible) for all locations.\n"
     ]
    }
   ],
   "source": [
    "esM.add(fn.Source(esM=esM, name='CO2 from enviroment', commodity='CO2',\n",
    "                  hasDesignDimensionVariables=False, commodityLimitID='CO2 limit', yearlyLimit=366*(1-CO2_reductionTarget)))"
   ]
  },
  {
   "cell_type": "markdown",
   "metadata": {},
   "source": [
    "# 4. Add conversion components to the energy system model"
   ]
  },
  {
   "cell_type": "markdown",
   "metadata": {},
   "source": [
    "### Biogas to methane"
   ]
  },
  {
   "cell_type": "code",
   "execution_count": 13,
   "metadata": {
    "collapsed": false
   },
   "outputs": [
    {
     "name": "stdout",
     "output_type": "stream",
     "text": [
      "The locationalEligibility of a component is set to 1 (eligible) for all locations.\n"
     ]
    }
   ],
   "source": [
    "esM.add(fn.Conversion(esM=esM, name='Biogas to methane',\n",
    "                      commodityConversionFactors={'biogas':-1, 'methane':1, 'CO2':-201*1e-6*0.625},\n",
    "                      hasDesignDimensionVariables=False))"
   ]
  },
  {
   "cell_type": "markdown",
   "metadata": {},
   "source": [
    "### Existing combined cycle gas turbine plants"
   ]
  },
  {
   "cell_type": "code",
   "execution_count": 14,
   "metadata": {
    "collapsed": false
   },
   "outputs": [
    {
     "name": "stdout",
     "output_type": "stream",
     "text": [
      "The locationalEligibility of a component was set based on the given fixed/maximum capacity of the component.\n"
     ]
    }
   ],
   "source": [
    "capacityMax=pd.read_excel(os.path.join(inputDataPath,'SpatialData','NaturalGasPlants',\n",
    "                                       'existingCombinedCycleGasTurbinePlantsCapacity_GW_el.xlsx'),\n",
    "                          index_col=0, squeeze=True)\n",
    "\n",
    "esM.add(fn.Conversion(esM=esM, name='Existing CCGT plants (methane)',\n",
    "                      commodityConversionFactors={'electricity':1, 'methane':-1/0.625, 'CO2':201*1e-6/0.625},\n",
    "                      hasDesignDimensionVariables=True, capacityMax=capacityMax,\n",
    "                      capexPerDesignDimension=0, opexPerDesignDimension=0.021, interestRate=0.08,\n",
    "                      economicLifetime=33))"
   ]
  },
  {
   "cell_type": "markdown",
   "metadata": {},
   "source": [
    "### New combined cycle gas turbine plants for biogas"
   ]
  },
  {
   "cell_type": "code",
   "execution_count": 15,
   "metadata": {
    "collapsed": false
   },
   "outputs": [
    {
     "name": "stdout",
     "output_type": "stream",
     "text": [
      "The locationalEligibility of a component is set to 1 (eligible) for all locations.\n"
     ]
    }
   ],
   "source": [
    "esM.add(fn.Conversion(esM=esM, name='New CCGT plants (biogas)',\n",
    "                      commodityConversionFactors={'electricity':1, 'biogas':-1/0.635},\n",
    "                      hasDesignDimensionVariables=True, \n",
    "                      capexPerDesignDimension=0.7, opexPerDesignDimension=0.021, interestRate=0.08,\n",
    "                      economicLifetime=33))"
   ]
  },
  {
   "cell_type": "markdown",
   "metadata": {},
   "source": [
    "### New combined cycly gas turbines for hydrogen"
   ]
  },
  {
   "cell_type": "code",
   "execution_count": 16,
   "metadata": {
    "collapsed": false
   },
   "outputs": [
    {
     "name": "stdout",
     "output_type": "stream",
     "text": [
      "The locationalEligibility of a component is set to 1 (eligible) for all locations.\n"
     ]
    }
   ],
   "source": [
    "esM.add(fn.Conversion(esM=esM, name='New CCGT plants (hydrogen)',\n",
    "                      commodityConversionFactors={'electricity':1, 'hydrogen':-1/0.6},\n",
    "                      hasDesignDimensionVariables=True, \n",
    "                      capexPerDesignDimension=0.927, opexPerDesignDimension=0.021, interestRate=0.08,\n",
    "                      economicLifetime=33))"
   ]
  },
  {
   "cell_type": "markdown",
   "metadata": {},
   "source": [
    "### Electrolyzers"
   ]
  },
  {
   "cell_type": "code",
   "execution_count": 17,
   "metadata": {
    "collapsed": false
   },
   "outputs": [
    {
     "name": "stdout",
     "output_type": "stream",
     "text": [
      "The locationalEligibility of a component is set to 1 (eligible) for all locations.\n"
     ]
    }
   ],
   "source": [
    "esM.add(fn.Conversion(esM=esM, name='Electroylzers',\n",
    "                      commodityConversionFactors={'electricity':-1, 'hydrogen':0.7},\n",
    "                      hasDesignDimensionVariables=True, \n",
    "                      capexPerDesignDimension=0.5, opexPerDesignDimension=0.5*0.025, interestRate=0.08,\n",
    "                      economicLifetime=10))"
   ]
  },
  {
   "cell_type": "markdown",
   "metadata": {},
   "source": [
    "# 5. Add commodity storages to the energy system model"
   ]
  },
  {
   "cell_type": "markdown",
   "metadata": {},
   "source": [
    "## 5.1. Electricity storage"
   ]
  },
  {
   "cell_type": "markdown",
   "metadata": {},
   "source": [
    "### Lithium ion batteries\n",
    "\n",
    "The self discharge of a lithium ion battery is here described as 3% per month. The self discharge per hours is obtained using the equation (1-$\\text{selfDischarge}_\\text{hour})^{30*24\\text{h}} = 1-\\text{selfDischarge}_\\text{month}$."
   ]
  },
  {
   "cell_type": "code",
   "execution_count": 18,
   "metadata": {
    "collapsed": false
   },
   "outputs": [
    {
     "name": "stdout",
     "output_type": "stream",
     "text": [
      "The locationalEligibility of a component is set to 1 (eligible) for all locations.\n"
     ]
    }
   ],
   "source": [
    "esM.add(fn.Storage(esM=esM, name='Li-ion batteries', commodity='electricity',\n",
    "                   hasDesignDimensionVariables=True, chargeEfficiency=0.95,\n",
    "                   cyclicLifetime=10000, dischargeEfficiency=0.95, selfDischarge=1-(1-0.03)**(1/(30*24)),\n",
    "                   chargeRate=1, dischargeRate=1,\n",
    "                   capexPerDesignDimension=0.151, opexPerDesignDimension=0.002, interestRate=0.08,\n",
    "                   economicLifetime=22))"
   ]
  },
  {
   "cell_type": "markdown",
   "metadata": {},
   "source": [
    "## 5.2. Hydrogen storage"
   ]
  },
  {
   "cell_type": "markdown",
   "metadata": {},
   "source": [
    "### Hydrogen filled salt caverns\n",
    "The maximum capacity is here obtained by: dividing the given capacity (which is given for methane) by the lower heating value of methane and then multiplying it with the lower heating value of hydrogen."
   ]
  },
  {
   "cell_type": "code",
   "execution_count": 19,
   "metadata": {
    "collapsed": false
   },
   "outputs": [
    {
     "name": "stdout",
     "output_type": "stream",
     "text": [
      "The locationalEligibility of a component was set based on the given fixed/maximum capacity of the component.\n"
     ]
    }
   ],
   "source": [
    "capacityMax=pd.read_excel(os.path.join(inputDataPath,'SpatialData','GeologicalStorage',\n",
    "                                       'existingSaltCavernsCapacity_GWh_methane.xlsx'),\n",
    "                          index_col=0, squeeze=True)*3/10\n",
    "\n",
    "esM.add(fn.Storage(esM=esM, name='Salt caverns (hydrogen)', commodity='hydrogen',\n",
    "                   hasDesignDimensionVariables=True, designDimensionVariableDomain='discrete',\n",
    "                   capacityPerUnit=133,\n",
    "                   chargeRate=1/470.37, dischargeRate=1/470.37, sharedPotentialID='Existing salt caverns',\n",
    "                   stateOfChargeMin=0.33, stateOfChargeMax=1, capacityMax=capacityMax,\n",
    "                   capexPerDesignDimension=0.00011, opexPerDesignDimension=0.00057, interestRate=0.08,\n",
    "                   economicLifetime=30))"
   ]
  },
  {
   "cell_type": "markdown",
   "metadata": {},
   "source": [
    "## 5.3. Methane storage"
   ]
  },
  {
   "cell_type": "markdown",
   "metadata": {},
   "source": [
    "### Methane filled salt caverns"
   ]
  },
  {
   "cell_type": "code",
   "execution_count": 20,
   "metadata": {
    "collapsed": false
   },
   "outputs": [
    {
     "name": "stdout",
     "output_type": "stream",
     "text": [
      "The locationalEligibility of a component was set based on the given fixed/maximum capacity of the component.\n"
     ]
    }
   ],
   "source": [
    "capacityMax=pd.read_excel(os.path.join(inputDataPath,'SpatialData','GeologicalStorage',\n",
    "                                       'existingSaltCavernsCapacity_GWh_methane.xlsx'),\n",
    "                          index_col=0, squeeze=True)\n",
    "\n",
    "esM.add(fn.Storage(esM=esM, name='Salt caverns (methane)', commodity='methane',\n",
    "                   hasDesignDimensionVariables=True, designDimensionVariableDomain='discrete',\n",
    "                   capacityPerUnit=443,\n",
    "                   chargeRate=1/470.37, dischargeRate=1/470.37, sharedPotentialID='Existing salt caverns',\n",
    "                   stateOfChargeMin=0.33, stateOfChargeMax=1, capacityMax=capacityMax,\n",
    "                   capexPerDesignDimension=0.00004, opexPerDesignDimension=0.00001, interestRate=0.08,\n",
    "                   economicLifetime=30))"
   ]
  },
  {
   "cell_type": "markdown",
   "metadata": {},
   "source": [
    "## 5.4 Pumped hydro storage"
   ]
  },
  {
   "cell_type": "markdown",
   "metadata": {},
   "source": [
    "### Pumped hydro storage"
   ]
  },
  {
   "cell_type": "code",
   "execution_count": 21,
   "metadata": {
    "collapsed": false
   },
   "outputs": [
    {
     "name": "stdout",
     "output_type": "stream",
     "text": [
      "The locationalEligibility of a component was set based on the given fixed/maximum capacity of the component.\n"
     ]
    }
   ],
   "source": [
    "capacityFix=pd.read_excel(os.path.join(inputDataPath,'SpatialData','HydroPower',\n",
    "                                       'fixCapacityPHS_storage_GWh_energyPHS.xlsx'),\n",
    "                          index_col=0, squeeze=True)\n",
    "\n",
    "esM.add(fn.Storage(esM=esM, name='Pumped hydro storage', commodity='electricity',\n",
    "                   chargeEfficiency=0.88, dischargeEfficiency=0.88,\n",
    "                   hasDesignDimensionVariables=True, selfDischarge=1-(1-0.00375)**(1/(30*24)),\n",
    "                   chargeRate=0.16, dischargeRate=0.12, capacityFix=capacityFix,\n",
    "                   capexPerDesignDimension=0, opexPerDesignDimension=0.000153))"
   ]
  },
  {
   "cell_type": "markdown",
   "metadata": {},
   "source": [
    "# 6. Add commodity transmission components to the energy system model"
   ]
  },
  {
   "cell_type": "markdown",
   "metadata": {},
   "source": [
    "## 6.1. Electricity transmission"
   ]
  },
  {
   "cell_type": "markdown",
   "metadata": {},
   "source": [
    "### AC cables"
   ]
  },
  {
   "cell_type": "code",
   "execution_count": 22,
   "metadata": {
    "collapsed": false
   },
   "outputs": [
    {
     "name": "stdout",
     "output_type": "stream",
     "text": [
      "The distances of a component are set to a normalized values of 1.\n",
      "The locationalEligibility of a component was set based on the given fixed/maximum capacity of the component.\n"
     ]
    }
   ],
   "source": [
    "capacityFix=pd.read_excel(os.path.join(inputDataPath,'SpatialData','ElectricGrid',\n",
    "                                       'ACcableExistingCapacity_GW_el.xlsx'),\n",
    "                          index_col=0, header=0)\n",
    "\n",
    "esM.add(fn.Transmission(esM=esM, name='AC cables', commodity='electricity',\n",
    "                        hasDesignDimensionVariables=True, capacityFix=capacityFix))"
   ]
  },
  {
   "cell_type": "markdown",
   "metadata": {},
   "source": [
    "### DC cables"
   ]
  },
  {
   "cell_type": "code",
   "execution_count": 23,
   "metadata": {
    "collapsed": false
   },
   "outputs": [
    {
     "name": "stdout",
     "output_type": "stream",
     "text": [
      "The distances of a component are set to a normalized values of 1.\n",
      "The locationalEligibility of a component was set based on the given fixed/maximum capacity of the component.\n"
     ]
    }
   ],
   "source": [
    "capacityFix=pd.read_excel(os.path.join(inputDataPath,'SpatialData','ElectricGrid',\n",
    "                                       'DCcableExistingCapacity_GW_el.xlsx'),\n",
    "                          index_col=0, header=0)\n",
    "distances=pd.read_excel(os.path.join(inputDataPath,'SpatialData','ElectricGrid',\n",
    "                                       'DCcableLength_km.xlsx'),\n",
    "                          index_col=0, header=0)\n",
    "efficiency=pd.read_excel(os.path.join(inputDataPath,'SpatialData','ElectricGrid',\n",
    "                                       'DCcableEfficiency.xlsx'),\n",
    "                          index_col=0, header=0)\n",
    "\n",
    "esM.add(fn.Transmission(esM=esM, name='DC cables', commodity='electricity', efficiency=efficiency,\n",
    "                        hasDesignDimensionVariables=True, capacityFix=capacityFix))"
   ]
  },
  {
   "cell_type": "markdown",
   "metadata": {},
   "source": [
    "## 6.2 Methane transmission"
   ]
  },
  {
   "cell_type": "markdown",
   "metadata": {},
   "source": [
    "### Methane pipeline"
   ]
  },
  {
   "cell_type": "code",
   "execution_count": 24,
   "metadata": {
    "collapsed": true
   },
   "outputs": [],
   "source": [
    "eligibility=pd.read_excel(os.path.join(inputDataPath,'SpatialData','Pipelines',\n",
    "                                       'pipelineIncidence.xlsx'), index_col=0, header=0)\n",
    "distances=pd.read_excel(os.path.join(inputDataPath,'SpatialData','Pipelines', 'pipelineIncidence.xlsx'),\n",
    "                          index_col=0, header=0)\n",
    "\n",
    "esM.add(fn.Transmission(esM=esM, name='Pipelines (methane)', commodity='methane', distances=distances,\n",
    "                        hasDesignDimensionVariables=True, hasDesignDecisionVariables=True, bigM=300,\n",
    "                        locationalEligibility=eligibility,\n",
    "                        capexPerDesignDimension=0.000037, capexForDesignDecision=0.000314,\n",
    "                        interestRate=0.08, economicLifetime=40))"
   ]
  },
  {
   "cell_type": "markdown",
   "metadata": {},
   "source": [
    "## 6.3 Hydrogen transmission"
   ]
  },
  {
   "cell_type": "markdown",
   "metadata": {},
   "source": [
    "### Hydrogen pipelines"
   ]
  },
  {
   "cell_type": "code",
   "execution_count": 25,
   "metadata": {
    "collapsed": false
   },
   "outputs": [],
   "source": [
    "eligibility=pd.read_excel(os.path.join(inputDataPath,'SpatialData','Pipelines', 'pipelineIncidence.xlsx'),\n",
    "                          index_col=0, header=0)\n",
    "distances=pd.read_excel(os.path.join(inputDataPath,'SpatialData','Pipelines', 'pipelineIncidence.xlsx'),\n",
    "                          index_col=0, header=0)\n",
    "\n",
    "esM.add(fn.Transmission(esM=esM, name='Pipeline (hydrogen)', commodity='hydrogen', distances=distances,\n",
    "                        hasDesignDimensionVariables=True, hasDesignDecisionVariables=True, bigM=300,\n",
    "                        locationalEligibility=eligibility,\n",
    "                        capexPerDesignDimension=0.000177, capexForDesignDecision=0.00033,\n",
    "                        interestRate=0.08, economicLifetime=40))"
   ]
  },
  {
   "cell_type": "markdown",
   "metadata": {},
   "source": [
    "# 7. Add commodity sinks to the energy system model"
   ]
  },
  {
   "cell_type": "markdown",
   "metadata": {},
   "source": [
    "## 7.1. Electricity sinks"
   ]
  },
  {
   "cell_type": "markdown",
   "metadata": {},
   "source": [
    "### Electricity demand"
   ]
  },
  {
   "cell_type": "code",
   "execution_count": 26,
   "metadata": {
    "collapsed": false
   },
   "outputs": [
    {
     "name": "stdout",
     "output_type": "stream",
     "text": [
      "The locationalEligibility of a component was set based on the given operation time series of the component.\n"
     ]
    }
   ],
   "source": [
    "operationRateFix=pd.read_excel(os.path.join(inputDataPath,'SpatialData','Demands',\n",
    "                                            'electricityDemand_GWh_el.xlsx'))\n",
    "\n",
    "esM.add(fn.Sink(esM=esM, name='Electricity demand', commodity='electricity',\n",
    "                hasDesignDimensionVariables=False, operationRateFix=operationRateFix))"
   ]
  },
  {
   "cell_type": "markdown",
   "metadata": {},
   "source": [
    "## 7.2. Hydrogen sinks"
   ]
  },
  {
   "cell_type": "markdown",
   "metadata": {},
   "source": [
    "### Fuel cell electric vehicle (FCEV) demand"
   ]
  },
  {
   "cell_type": "code",
   "execution_count": 27,
   "metadata": {
    "collapsed": false
   },
   "outputs": [
    {
     "name": "stdout",
     "output_type": "stream",
     "text": [
      "The locationalEligibility of a component was set based on the given operation time series of the component.\n"
     ]
    }
   ],
   "source": [
    "FCEV_penetration=0.5\n",
    "operationRateFix=pd.read_excel(os.path.join(inputDataPath,'SpatialData','Demands',\n",
    "                                            'hydrogenDemand_GWh_hydrogen.xlsx'))*FCEV_penetration\n",
    "\n",
    "esM.add(fn.Sink(esM=esM, name='Hydrogen demand', commodity='hydrogen',\n",
    "                  hasDesignDimensionVariables=False, operationRateFix=operationRateFix))"
   ]
  },
  {
   "cell_type": "markdown",
   "metadata": {},
   "source": [
    "## 7.3. CO2 sinks"
   ]
  },
  {
   "cell_type": "markdown",
   "metadata": {},
   "source": [
    "### CO2 exiting the system's boundary"
   ]
  },
  {
   "cell_type": "code",
   "execution_count": 28,
   "metadata": {
    "collapsed": false
   },
   "outputs": [
    {
     "name": "stdout",
     "output_type": "stream",
     "text": [
      "The locationalEligibility of a component is set to 1 (eligible) for all locations.\n"
     ]
    }
   ],
   "source": [
    "esM.add(fn.Sink(esM=esM, name='CO2 to enviroment', commodity='CO2',\n",
    "                hasDesignDimensionVariables=False, commodityLimitID='CO2 limit', yearlyLimit=366*(1-CO2_reductionTarget)))"
   ]
  },
  {
   "cell_type": "markdown",
   "metadata": {},
   "source": [
    "# 8. Optimize energy system model"
   ]
  },
  {
   "cell_type": "code",
   "execution_count": 29,
   "metadata": {
    "collapsed": false,
    "scrolled": true
   },
   "outputs": [
    {
     "name": "stdout",
     "output_type": "stream",
     "text": [
      "Declaring sets, variables and constraints for SourceSinkModeling\n",
      "\tdeclaring sets... \n",
      "\tdeclaring variables... \n",
      "\tdeclaring constraints... \n",
      "\t\t(0.7709 sec)\n",
      "Declaring sets, variables and constraints for TransmissionModeling\n",
      "\tdeclaring sets... \n",
      "\tdeclaring variables... \n",
      "\tdeclaring constraints... \n",
      "\t\t(0.5579 sec)\n",
      "Declaring sets, variables and constraints for StorageModeling\n",
      "\tdeclaring sets... \n",
      "\tdeclaring variables... \n",
      "\tdeclaring constraints... \n",
      "\t\t(13.6086 sec)\n",
      "Declaring sets, variables and constraints for ConversionModeling\n",
      "\tdeclaring sets... \n",
      "\tdeclaring variables... \n",
      "\tdeclaring constraints... \n",
      "\t\t(0.2390 sec)\n",
      "Declaring shared potential constraint...\n",
      "\t\t(0.0010 sec)\n",
      "Declaring commodity balances...\n",
      "\t\t(1.4419 sec)\n",
      "Declaring objective function...\n",
      "\t\t(0.9229 sec)\n",
      "Academic license - for non-commercial use only\n",
      "Parameter LogToConsole unchanged\n",
      "   Value: 1  Min: 0  Max: 1  Default: 1\n",
      "Changed value of parameter OptimalityTol to 0.001\n",
      "   Prev: 1e-06  Min: 1e-09  Max: 0.01  Default: 1e-06\n",
      "Parameter Threads unchanged\n",
      "   Value: 0  Min: 0  Max: 1024  Default: 0\n",
      "Changed value of parameter cuts to 0\n",
      "   Prev: -1  Min: -1  Max: 3  Default: -1\n",
      "Changed value of parameter BarHomogeneous to 1\n",
      "   Prev: -1  Min: -1  Max: 1  Default: -1\n",
      "Changed value of parameter logfile to job\n",
      "   Prev: gurobi.log  Default: \n",
      "Changed value of parameter method to 2\n",
      "   Prev: -1  Min: -1  Max: 5  Default: -1\n",
      "Optimize a model with 298450 rows, 51822 columns and 888618 nonzeros\n",
      "Variable types: 51784 continuous, 38 integer (28 binary)\n",
      "Coefficient statistics:\n",
      "  Matrix range     [1e-06, 5e+02]\n",
      "  Objective range  [2e-06, 3e-01]\n",
      "  Bounds range     [6e-01, 6e+04]\n",
      "  RHS range        [4e-02, 2e+01]\n",
      "Presolve removed 27927 rows and 12592 columns\n",
      "Presolve time: 2.71s\n",
      "Presolved: 270523 rows, 39230 columns, 745992 nonzeros\n",
      "Variable types: 39206 continuous, 24 integer (14 binary)\n",
      "Presolve removed 14 rows and 84 columns\n",
      "Presolved: 39216 rows, 300005 columns, 775460 nonzeros\n",
      "\n",
      "Root barrier log...\n",
      "\n",
      "Ordering time: 0.98s\n",
      "\n",
      "Barrier statistics:\n",
      " Dense cols : 9\n",
      " Free vars  : 15726\n",
      " AA' NZ     : 4.902e+05\n",
      " Factor NZ  : 6.469e+06 (roughly 200 MBytes of memory)\n",
      " Factor Ops : 6.252e+09 (less than 1 second per iteration)\n",
      " Threads    : 4\n",
      "\n",
      "                  Objective                Residual\n",
      "Iter       Primal          Dual         Primal    Dual     Compl     Time\n",
      "   0  -8.84632920e+06 -8.99105021e+00  8.67e+02 3.12e+03  7.73e+02     6s\n",
      "   1  -5.07195954e+06  1.26999679e+04  4.28e+02 4.57e+03  4.47e+02     6s\n",
      "   2  -3.25693355e+06  1.30561965e+04  2.29e+02 4.36e+03  3.66e+02     7s\n",
      "   3  -2.29461951e+06  1.70132223e+04  1.04e+02 2.57e+03  2.06e+02     7s\n",
      "   4  -1.32663308e+06  4.59767372e+03  6.00e+01 4.32e+02  3.23e+01     7s\n",
      "   5  -9.30946187e+04  1.61907635e+03  4.27e+00 1.52e+01  7.50e-01     8s\n",
      "   6  -2.87970383e+04  7.40999214e+02  1.34e+00 3.86e+00  1.82e-01     9s\n",
      "   7  -7.61394823e+03  3.94853282e+02  3.63e-01 9.41e-01  4.12e-02    10s\n",
      "   8  -4.16666809e+03  3.11955527e+02  2.04e-01 4.18e-01  2.13e-02    11s\n",
      "   9  -2.48268824e+03  2.47132318e+02  1.26e-01 1.52e-01  1.20e-02    11s\n",
      "  10  -1.23197296e+03  2.06273978e+02  6.65e-02 6.62e-02  6.11e-03    12s\n",
      "  11  -1.20182466e+03  2.06825883e+02  6.52e-02 6.56e-02  6.02e-03    12s\n",
      "  12  -5.04775198e+02  1.64441709e+02  3.08e-02 2.18e-02  2.73e-03    12s\n",
      "  13  -2.29744455e+02  1.47643276e+02  1.70e-02 1.47e-02  1.50e-03    13s\n",
      "  14  -7.84619277e+01  1.35962557e+02  9.24e-03 1.13e-02  8.28e-04    13s\n",
      "  15  -4.37831231e+01  1.31804238e+02  7.31e-03 1.03e-02  6.67e-04    13s\n",
      "  16  -2.57918937e+01  1.19917762e+02  6.28e-03 7.73e-03  5.40e-04    13s\n",
      "  17  -2.62689720e-01  1.17661973e+02  4.81e-03 7.28e-03  4.30e-04    14s\n",
      "  18   3.10112121e+01  1.02390479e+02  2.90e-03 4.33e-03  2.45e-04    14s\n",
      "  19   4.30658449e+01  9.56718944e+01  2.16e-03 3.13e-03  1.76e-04    14s\n",
      "  20   4.92338756e+01  9.41360270e+01  1.78e-03 2.86e-03  1.49e-04    15s\n",
      "  21   5.90685703e+01  8.82930845e+01  1.16e-03 1.87e-03  9.31e-05    15s\n",
      "  22   6.17256241e+01  8.52398042e+01  9.89e-04 1.33e-03  7.30e-05    15s\n",
      "  23   6.42721457e+01  8.45277179e+01  8.33e-04 1.20e-03  6.26e-05    16s\n",
      "  24   6.72132060e+01  8.35019975e+01  6.53e-04 1.02e-03  4.98e-05    16s\n",
      "  25   6.88876141e+01  8.21767810e+01  5.53e-04 7.82e-04  3.98e-05    16s\n",
      "  26   6.91448273e+01  8.19457950e+01  5.37e-04 7.39e-04  3.81e-05    17s\n",
      "  27   6.91541508e+01  8.19429790e+01  5.36e-04 7.39e-04  3.80e-05    17s\n",
      "  28   6.95615718e+01  8.13258995e+01  5.12e-04 6.17e-04  3.44e-05    17s\n",
      "  29   6.95611977e+01  8.13276357e+01  5.12e-04 6.17e-04  3.44e-05    18s\n",
      "  30   6.95668018e+01  8.13272345e+01  5.12e-04 6.17e-04  3.44e-05    18s\n",
      "  31  -7.54175183e+10 -8.99105021e+00  7.39e+06 3.12e+03  6.59e+06    18s\n",
      "  32  -6.31447859e+09  7.86203424e+03  6.14e+05 1.45e+03  5.22e+05    19s\n",
      "  33  -2.63883237e+09  4.46629776e+03  2.56e+05 2.95e+02  6.27e+04    20s\n",
      "  34  -5.23952268e+08  2.72845377e+03  5.09e+04 4.11e+01  5.47e+03    20s\n",
      "  35  -1.24241585e+08  2.15921401e+03  1.21e+04 5.24e+00  8.89e+02    20s\n",
      "  36  -2.67085365e+07  1.80526444e+03  2.59e+03 9.57e-01  1.67e+02    21s\n",
      "  37  -5.71431689e+06  1.48656339e+03  5.55e+02 1.26e-01  3.10e+01    21s\n",
      "  38  -1.10732032e+06  1.36373301e+03  1.08e+02 1.47e-02  5.85e+00    21s\n",
      "  39  -1.44859575e+05  1.04529865e+03  1.42e+01 1.79e-04  7.60e-01    21s\n",
      "  40  -8.11297506e+03  6.11171955e+02  8.46e-01 6.36e-05  4.52e-02    22s\n",
      "  41  -1.90966388e+03  2.57519936e+02  2.16e-01 7.83e-06  1.11e-02    22s\n",
      "  42  -1.69835702e+03  2.15933413e+02  1.94e-01 3.40e-06  9.69e-03    22s\n",
      "  43  -1.26195000e+03  1.92771210e+02  1.49e-01 2.06e-06  7.25e-03    23s\n",
      "  44  -7.68009163e+02  1.64432930e+02  9.62e-02 1.28e-06  4.49e-03    23s\n",
      "  45  -4.19592405e+02  1.46147733e+02  5.88e-02 8.92e-07  2.68e-03    23s\n",
      "  46  -2.78156789e+02  1.40628800e+02  4.31e-02 7.75e-07  1.97e-03    23s\n",
      "  47  -1.57168006e+02  1.30607081e+02  2.92e-02 5.98e-07  1.32e-03    24s\n",
      "  48  -6.85788482e+01  1.23386205e+02  1.87e-02 4.90e-07  8.46e-04    24s\n",
      "  49  -2.38439202e+01  1.13947678e+02  1.33e-02 3.68e-07  5.83e-04    24s\n",
      "  50  -5.21264676e+00  1.05316207e+02  1.10e-02 2.69e-07  4.55e-04    24s\n",
      "  51   6.32018664e-01  1.03466113e+02  1.02e-02 2.48e-07  4.23e-04    24s\n",
      "  52   1.44996869e+01  1.00256822e+02  8.43e-03 2.15e-07  3.45e-04    25s\n",
      "  53   3.48065448e+01  9.71434888e+01  5.87e-03 1.81e-07  2.42e-04    25s\n",
      "  54   4.57596815e+01  9.21032397e+01  4.44e-03 1.31e-07  1.74e-04    26s\n",
      "  55   4.92509033e+01  9.14759985e+01  3.97e-03 1.24e-07  1.57e-04    28s\n",
      "  56   5.00661199e+01  9.03930818e+01  3.86e-03 1.12e-07  1.49e-04    30s\n",
      "  57   5.02435036e+01  9.02989268e+01  3.83e-03 1.11e-07  1.48e-04    32s\n",
      "  58   5.02630075e+01  9.02953141e+01  3.83e-03 1.11e-07  1.48e-04    33s\n",
      "  59   5.09146294e+01  9.00601342e+01  3.74e-03 1.08e-07  1.44e-04    33s\n",
      "  60   5.16331258e+01  8.98218704e+01  3.64e-03 1.06e-07  1.40e-04    34s\n",
      "  61   5.16962076e+01  8.97640092e+01  3.62e-03 1.05e-07  1.39e-04    34s\n",
      "  62   5.95255945e+01  8.71493199e+01  2.54e-03 8.04e-08  9.64e-05    35s\n",
      "  63   6.07960468e+01  8.67183821e+01  2.36e-03 7.64e-08  8.94e-05    35s\n",
      "  64   6.20861022e+01  8.53771410e+01  2.17e-03 6.64e-08  7.90e-05    36s\n",
      "  65   6.22701628e+01  8.52778832e+01  2.14e-03 6.54e-08  7.78e-05    36s\n",
      "  66   6.23657114e+01  8.51239010e+01  2.13e-03 6.39e-08  7.67e-05    37s\n",
      "  67   6.24603052e+01  8.50745399e+01  2.12e-03 6.34e-08  7.61e-05    37s\n",
      "  68   6.24869627e+01  8.50577609e+01  2.11e-03 6.32e-08  7.59e-05    37s\n",
      "  69   6.26896852e+01  8.49798246e+01  2.08e-03 6.25e-08  7.47e-05    38s\n",
      "  70   6.26936220e+01  8.49775476e+01  2.08e-03 6.25e-08  7.47e-05    38s\n",
      "  71   6.29851612e+01  8.48940998e+01  2.04e-03 6.17e-08  7.32e-05    38s\n",
      "  72   6.31155417e+01  8.48079995e+01  2.02e-03 6.09e-08  7.23e-05    38s\n",
      "  73   6.31142109e+01  8.48094940e+01  2.02e-03 6.09e-08  7.23e-05    39s\n",
      "  74   6.31862512e+01  8.47424865e+01  2.01e-03 6.04e-08  7.19e-05    39s\n",
      "  75   6.37565043e+01  8.45852935e+01  1.93e-03 5.89e-08  6.88e-05    40s\n",
      "  76   6.38104749e+01  8.45714504e+01  1.92e-03 5.88e-08  6.85e-05    40s\n",
      "  77   6.38708837e+01  8.45481344e+01  1.91e-03 5.86e-08  6.82e-05    41s\n",
      "  78   6.38778316e+01  8.45460505e+01  1.91e-03 5.86e-08  6.81e-05    41s\n",
      "  79   6.56326450e+01  8.39256055e+01  1.66e-03 5.27e-08  5.84e-05    42s\n",
      "  80   6.56349661e+01  8.39255083e+01  1.66e-03 5.27e-08  5.84e-05    42s\n",
      "  81   6.56383923e+01  8.39221586e+01  1.66e-03 5.27e-08  5.83e-05    43s\n",
      "  82   6.57467436e+01  8.38397693e+01  1.64e-03 5.19e-08  5.75e-05    43s\n",
      "  83   6.57606775e+01  8.38104113e+01  1.64e-03 5.16e-08  5.73e-05    43s\n",
      "  84   6.59030779e+01  8.36278663e+01  1.62e-03 4.99e-08  5.59e-05    44s\n",
      "  85   6.61375912e+01  8.31852145e+01  1.58e-03 4.56e-08  5.32e-05    44s\n",
      "  86   6.65655447e+01  8.26660713e+01  1.52e-03 4.06e-08  4.94e-05    45s\n",
      "  87   6.66697959e+01  8.24410427e+01  1.50e-03 3.82e-08  4.79e-05    45s\n",
      "  88   6.67012030e+01  8.24148872e+01  1.50e-03 3.79e-08  4.76e-05    45s\n",
      "  89   6.69342433e+01  8.23406716e+01  1.47e-03 3.72e-08  4.65e-05    46s\n",
      "  90   6.69665568e+01  8.22270368e+01  1.46e-03 3.60e-08  4.57e-05    46s\n",
      "  91   6.80825604e+01  8.20128227e+01  1.33e-03 3.37e-08  4.19e-05    46s\n",
      "  92   6.80989318e+01  8.20102342e+01  1.32e-03 3.36e-08  4.18e-05    47s\n",
      "  93   6.81531886e+01  8.19782171e+01  1.31e-03 3.33e-08  4.14e-05    47s\n",
      "  94   6.81541079e+01  8.19788403e+01  1.31e-03 3.33e-08  4.14e-05    47s\n",
      "  95   6.81594636e+01  8.19800335e+01  1.31e-03 3.33e-08  4.14e-05    48s\n",
      "  96   6.81755185e+01  8.19510612e+01  1.31e-03 3.29e-08  4.12e-05    48s\n",
      "  97   6.83951562e+01  8.16885456e+01  1.28e-03 3.02e-08  3.96e-05    48s\n",
      "  98   6.83927372e+01  8.16954154e+01  1.28e-03 3.03e-08  3.96e-05    49s\n",
      "  99   6.83927323e+01  8.16954214e+01  1.28e-03 3.03e-08  3.96e-05    49s\n",
      " 100   7.00607331e+01  8.11458936e+01  1.08e-03 2.45e-08  3.30e-05    50s\n",
      " 101   7.00308785e+01  8.11714442e+01  1.09e-03 2.48e-08  3.33e-05    50s\n",
      " 102   7.00312385e+01  8.11857680e+01  1.09e-03 2.51e-08  3.34e-05    50s\n",
      " 103   7.01526458e+01  8.11858386e+01  1.08e-03 2.51e-08  3.33e-05    51s\n",
      " 104   7.01587877e+01  8.11817168e+01  1.08e-03 2.50e-08  3.32e-05    51s\n",
      " 105   7.02778464e+01  8.11521798e+01  1.06e-03 2.46e-08  3.26e-05    52s\n",
      " 106   7.03853277e+01  8.11509653e+01  1.05e-03 2.48e-08  3.26e-05    52s\n",
      " 107   7.03932372e+01  8.12267683e+01  1.05e-03 2.62e-08  3.30e-05    52s\n",
      " 108   7.03290729e+01  8.13049154e+01  1.06e-03 2.74e-08  3.38e-05    53s\n",
      " 109   7.03290725e+01  8.13049152e+01  1.06e-03 2.74e-08  3.38e-05    53s\n",
      " 110   7.15122137e+01  8.10307322e+01  9.22e-04 2.37e-08  2.92e-05    53s\n",
      " 111   7.24808136e+01  8.08908049e+01  8.03e-04 2.19e-08  2.57e-05    54s\n",
      " 112   7.28945101e+01  8.08886688e+01  7.60e-04 2.19e-08  2.49e-05    54s\n",
      " 113   7.34806229e+01  8.06235366e+01  6.87e-04 1.83e-08  2.19e-05    55s\n",
      " 114   7.36846307e+01  8.06200508e+01  6.65e-04 1.83e-08  2.14e-05    55s\n",
      " 115   7.37112352e+01  8.05734924e+01  6.61e-04 1.74e-08  2.11e-05    55s\n",
      " 116   7.37169129e+01  8.05733816e+01  6.61e-04 1.74e-08  2.10e-05    56s\n",
      " 117   7.39469369e+01  8.05468302e+01  6.37e-04 1.74e-08  2.05e-05    56s\n",
      " 118   7.41081311e+01  8.04884765e+01  6.18e-04 1.64e-08  1.98e-05    56s\n",
      " 119   7.41069136e+01  8.05038753e+01  6.19e-04 1.68e-08  2.00e-05    57s\n",
      " 120   7.41147885e+01  8.04909998e+01  6.18e-04 1.65e-08  1.99e-05    57s\n",
      " 121   7.40791108e+01  8.05073408e+01  6.24e-04 1.69e-08  2.03e-05    58s\n",
      " 122   7.40837305e+01  8.05041404e+01  6.23e-04 1.69e-08  2.03e-05    58s\n",
      " 123   7.41448998e+01  8.04970220e+01  6.15e-04 1.67e-08  1.99e-05    58s\n",
      " 124   7.44211779e+01  8.04408220e+01  5.83e-04 1.56e-08  1.88e-05    59s\n",
      " 125   7.45514148e+01  8.03880410e+01  5.66e-04 1.43e-08  1.79e-05    59s\n",
      " 126   7.49142276e+01  8.03021613e+01  5.22e-04 1.20e-08  1.60e-05    60s\n",
      " 127   7.49170702e+01  8.03012911e+01  5.21e-04 1.20e-08  1.60e-05    60s\n",
      " 128   7.49488598e+01  8.02981729e+01  5.18e-04 1.20e-08  1.59e-05    60s\n",
      " 129   7.49496873e+01  8.02982261e+01  5.18e-04 1.20e-08  1.59e-05    61s\n",
      " 130   7.49751818e+01  8.02881091e+01  5.15e-04 1.17e-08  1.58e-05    61s\n",
      " 131   7.50914092e+01  8.02706074e+01  5.03e-04 1.16e-08  1.55e-05    61s\n",
      " 132   7.52341855e+01  8.03118836e+01  4.90e-04 1.38e-08  1.55e-05    62s\n",
      " 133   7.52851154e+01  8.02814180e+01  4.84e-04 1.31e-08  1.52e-05    62s\n",
      " 134   7.55938245e+01  8.02593516e+01  4.49e-04 1.26e-08  1.41e-05    63s\n",
      " 135   7.58769718e+01  8.01793935e+01  4.16e-04 1.12e-08  1.29e-05    63s\n",
      " 136   7.58768550e+01  8.01785964e+01  4.16e-04 1.12e-08  1.29e-05    63s\n",
      " 137   7.58768464e+01  8.01785908e+01  4.16e-04 9.37e-07  1.29e-05    64s\n",
      " 138   7.58768464e+01  8.01785907e+01  4.16e-04 7.06e-05  1.29e-05    64s\n",
      " 139   7.58768464e+01  8.01785907e+01  4.16e-04 7.06e-05  1.29e-05    65s\n",
      " 140   7.58768464e+01  8.01785907e+01  4.16e-04 7.06e-05  1.29e-05    65s\n",
      " 141   7.58768464e+01  8.01785907e+01  4.16e-04 7.06e-05  1.29e-05    65s\n",
      " 142   7.58768464e+01  8.01785907e+01  4.16e-04 7.06e-05  1.29e-05    66s\n",
      " 143   7.58768464e+01  8.01785907e+01  4.16e-04 7.06e-05  1.29e-05    66s\n",
      " 144   7.58768464e+01  8.01785907e+01  4.16e-04 7.06e-05  1.29e-05    66s\n",
      "\n",
      "Barrier performed 144 iterations in 66.43 seconds\n",
      "Sub-optimal termination - objective 7.58768550e+01\n",
      "\n",
      "\n",
      "Root crossover log...\n",
      "\n",
      "    9487 DPushes remaining with DInf 6.1254580e+05                67s\n",
      "       0 DPushes remaining with DInf 1.3055461e+07                69s\n",
      "\n",
      "  127517 PPushes remaining with PInf 8.7323389e+00                69s\n",
      "  102061 PPushes remaining with PInf 6.9932553e+00                70s\n",
      "   84014 PPushes remaining with PInf 2.9490409e+01                75s\n",
      "   41977 PPushes remaining with PInf 2.8131670e+01                80s\n",
      "   25879 PPushes remaining with PInf 2.8788758e+01                85s\n",
      "   10355 PPushes remaining with PInf 3.1631776e+01                93s\n",
      "    4093 PPushes remaining with PInf 3.0227459e+01                96s\n",
      "       0 PPushes remaining with PInf 2.8819181e+01                99s\n",
      "\n",
      "  Push phase complete: Pinf 2.8819181e+01, Dinf 5.8116133e+09     99s\n",
      "\n",
      "\n",
      "Root simplex log...\n",
      "\n",
      "Iteration    Objective       Primal Inf.    Dual Inf.      Time\n",
      "  135371    1.4139341e+03   0.000000e+00   5.811613e+09     99s\n",
      "  135812    1.4463708e+03   0.000000e+00   4.339004e+07    100s\n",
      "  137918    1.4792787e+03   0.000000e+00   1.400949e+09    105s\n",
      "  140492    1.4852774e+03   0.000000e+00   4.951296e+06    110s\n",
      "  142832    1.4883506e+03   0.000000e+00   4.850554e+07    115s\n",
      "  145406    1.4907010e+03   0.000000e+00   1.527638e+07    120s\n",
      "  147980    1.4935504e+03   0.000000e+00   1.065019e+07    125s\n",
      "  151490    1.4986112e+03   0.000000e+00   2.474069e+07    130s\n",
      "  154298    1.5011228e+03   0.000000e+00   7.671786e+06    135s\n",
      "  157106    1.5036656e+03   0.000000e+00   2.845899e+08    140s\n",
      "  159680    1.5054770e+03   0.000000e+00   2.502608e+08    145s\n",
      "  162254    1.5066193e+03   0.000000e+00   5.529549e+06    150s\n",
      "  165265    1.5076548e+03   0.000000e+00   1.104076e+08    155s\n",
      "  167805    1.5092462e+03   0.000000e+00   5.980849e+06    160s\n",
      "  170131    1.5101362e+03   0.000000e+00   8.596197e+06    165s\n",
      "  172464    1.5107732e+03   0.000000e+00   1.610194e+07    171s\n",
      "  174542    1.5112611e+03   0.000000e+00   1.567928e+07    175s\n",
      "  176807    1.5119643e+03   0.000000e+00   2.629967e+07    180s\n",
      "  179150    1.5128098e+03   0.000000e+00   2.918240e+07    186s\n",
      "  181256    1.5135527e+03   0.000000e+00   7.901262e+06    190s\n",
      "  183579    1.5139940e+03   0.000000e+00   5.618937e+07    195s\n",
      "  186295    1.5146521e+03   0.000000e+00   1.823334e+07    201s\n",
      "  188763    1.5153916e+03   0.000000e+00   2.694130e+07    205s\n",
      "  191218    1.5159026e+03   0.000000e+00   4.129176e+06    210s\n",
      "  193654    1.5163812e+03   0.000000e+00   5.351750e+06    215s\n",
      "  196095    1.5168346e+03   0.000000e+00   4.921759e+06    220s\n",
      "  198614    1.5173918e+03   0.000000e+00   1.475945e+07    225s\n",
      "  201214    1.5178568e+03   0.000000e+00   1.587249e+07    230s\n",
      "  204049    1.5183384e+03   0.000000e+00   4.155863e+06    236s\n",
      "  205860    1.5186204e+03   0.000000e+00   7.805041e+05    240s\n",
      "  207966    1.5189470e+03   0.000000e+00   3.001838e+07    245s\n",
      "  210072    1.5192739e+03   0.000000e+00   2.464164e+07    251s\n",
      "  212412    1.5195412e+03   0.000000e+00   2.020073e+06    255s\n",
      "  214640    1.5198401e+03   0.000000e+00   1.252039e+07    260s\n",
      "  217065    1.5200880e+03   0.000000e+00   3.907911e+05    265s\n",
      "  219084    1.5202298e+03   0.000000e+00   1.472206e+05    270s\n",
      "  221648    1.5203162e+03   0.000000e+00   1.123987e+04    275s\n",
      "  223925    8.4744885e+01   7.857430e+01   0.000000e+00    280s\n",
      "  225034    8.4048030e+01   1.266143e+02   0.000000e+00    285s\n",
      "  226326    8.2998983e+01   1.039125e+02   0.000000e+00    290s\n",
      "  227377    8.2678594e+01   6.643023e+01   0.000000e+00    295s\n",
      "  228445    8.1931942e+01   4.674220e+01   0.000000e+00    300s\n",
      "  229359    8.1630006e+01   1.065307e+02   0.000000e+00    306s\n",
      "  230096    8.1270736e+01   1.718313e+02   0.000000e+00    310s\n",
      "  230994    8.0687367e+01   1.773485e+03   0.000000e+00    316s\n",
      "  231834    8.0011837e+01   1.911526e+02   0.000000e+00    321s\n",
      "  232768    7.9853465e+01   2.316189e+01   0.000000e+00    325s\n",
      "  233615    7.9733274e+01   2.742052e+01   0.000000e+00    330s\n",
      "  234569    7.9472610e+01   3.640281e+01   0.000000e+00    335s\n",
      "  235474    7.9376108e+01   4.113684e+00   0.000000e+00    340s\n",
      "  236356    7.9255630e+01   1.023219e+02   0.000000e+00    345s\n",
      "  237310    7.9184695e+01   2.940405e+00   0.000000e+00    350s\n",
      "  238288    7.9160508e+01   1.478318e+00   0.000000e+00    355s\n",
      "  239218    7.9128648e+01   1.578616e+00   0.000000e+00    360s\n",
      "  240346    7.9107374e+01   1.534511e+00   0.000000e+00    365s\n",
      "  241483    7.9101419e+01   5.301988e-04   0.000000e+00    370s\n",
      "Warning: 1 variables dropped from basis\n",
      "Warning: switch to quad precision\n",
      "  242792    7.9107836e+01   0.000000e+00   1.872647e+04    375s\n",
      "  243504    7.9108681e+01   1.102733e-02   0.000000e+00    381s\n",
      "  244149    7.9108591e+01   0.000000e+00   0.000000e+00    386s\n",
      "  244150    7.9108592e+01   0.000000e+00   0.000000e+00    386s\n",
      "  244150    7.9108592e+01   0.000000e+00   0.000000e+00    387s\n",
      "  244584    7.9108640e+01   0.000000e+00   0.000000e+00    390s\n",
      "\n",
      "Root relaxation: objective 7.910864e+01, 244584 iterations, 385.66 seconds\n",
      "Total elapsed time = 390.36s\n",
      "\n",
      "    Nodes    |    Current Node    |     Objective Bounds      |     Work\n",
      " Expl Unexpl |  Obj  Depth IntInf | Incumbent    BestBd   Gap | It/Node Time\n",
      "\n",
      "     0     0   79.10864    0   20          -   79.10864      -     -  390s\n",
      "     0     0   79.10864    0   20          -   79.10864      -     -  428s\n",
      "     0     2   79.10864    0   20          -   79.10864      -     -  565s\n",
      "H   16    17                      79.1107305   79.10864  0.00%  56.5  569s\n",
      "\n",
      "Explored 19 nodes (245578 simplex iterations) in 569.56 seconds\n",
      "Thread count was 8 (of 8 available processors)\n",
      "\n",
      "Solution count 1: 79.1107 \n",
      "\n",
      "Optimal solution found (tolerance 1.00e-04)\n",
      "Warning: max constraint violation (2.1351e-06) exceeds tolerance\n",
      "Best objective 7.911073045861e+01, best bound 7.910864228728e+01, gap 0.0026%\n",
      "Freed default Gurobi environment\n",
      "\n",
      "Status: ok\n",
      "Return code: 0\n",
      "Message: Model was solved to optimality (subject to tolerances), and an optimal solution is available.\n",
      "Termination condition: optimal\n",
      "Termination message: Model was solved to optimality (subject to tolerances), and an optimal solution is available.\n",
      "Wall time: 569.56085968\n",
      "Error rc: 0\n",
      "Time: 571.8037300109863\n",
      "\n",
      "\n",
      "Name: x51822\n",
      "Lower bound: 79.1086422873\n",
      "Upper bound: 79.1107304586\n",
      "Number of objectives: 1\n",
      "Number of constraints: 298450\n",
      "Number of variables: 51822\n",
      "Number of binary variables: 28\n",
      "Number of integer variables: 38\n",
      "Number of continuous variables: 51784\n",
      "Number of nonzeros: 888618\n",
      "Sense: minimize\n",
      "\n",
      "\t\t(597.2644 sec)\n",
      "TODO: Generating output...\n",
      "\t\t(0.0000 sec)\n"
     ]
    }
   ],
   "source": [
    "esM.cluster(numberOfTypicalPeriods=7)\n",
    "esM.optimize(timeSeriesAggregation=True,\n",
    "             optimizationSpecs='LogToConsole=1 OptimalityTol=1e-3 cuts=0 method=2 BarHomogeneous=1')"
   ]
  },
  {
   "cell_type": "code",
   "execution_count": 30,
   "metadata": {
    "collapsed": false,
    "scrolled": true
   },
   "outputs": [
    {
     "data": {
      "text/html": [
       "<div>\n",
       "<table border=\"1\" class=\"dataframe\">\n",
       "  <thead>\n",
       "    <tr style=\"text-align: right;\">\n",
       "      <th></th>\n",
       "      <th>cluster_0</th>\n",
       "      <th>cluster_1</th>\n",
       "      <th>cluster_2</th>\n",
       "      <th>cluster_3</th>\n",
       "      <th>cluster_4</th>\n",
       "      <th>cluster_5</th>\n",
       "      <th>cluster_6</th>\n",
       "      <th>cluster_7</th>\n",
       "    </tr>\n",
       "  </thead>\n",
       "  <tbody>\n",
       "    <tr>\n",
       "      <th>Electroylzers</th>\n",
       "      <td>21.942090</td>\n",
       "      <td>0.000000</td>\n",
       "      <td>0.000000</td>\n",
       "      <td>0.000000</td>\n",
       "      <td>12.535688</td>\n",
       "      <td>0.000000</td>\n",
       "      <td>0.000000</td>\n",
       "      <td>0.000000</td>\n",
       "    </tr>\n",
       "    <tr>\n",
       "      <th>Existing CCGT plants (methane)</th>\n",
       "      <td>0.000000</td>\n",
       "      <td>0.000000</td>\n",
       "      <td>2.144325</td>\n",
       "      <td>0.000000</td>\n",
       "      <td>0.000000</td>\n",
       "      <td>0.878927</td>\n",
       "      <td>0.000000</td>\n",
       "      <td>0.000000</td>\n",
       "    </tr>\n",
       "    <tr>\n",
       "      <th>New CCGT plants (biogas)</th>\n",
       "      <td>0.603867</td>\n",
       "      <td>0.545487</td>\n",
       "      <td>0.529770</td>\n",
       "      <td>0.834179</td>\n",
       "      <td>0.734495</td>\n",
       "      <td>0.798122</td>\n",
       "      <td>0.628174</td>\n",
       "      <td>0.561975</td>\n",
       "    </tr>\n",
       "    <tr>\n",
       "      <th>New CCGT plants (hydrogen)</th>\n",
       "      <td>0.000000</td>\n",
       "      <td>0.000000</td>\n",
       "      <td>8.004811</td>\n",
       "      <td>3.527990</td>\n",
       "      <td>0.000000</td>\n",
       "      <td>0.000000</td>\n",
       "      <td>0.000000</td>\n",
       "      <td>0.000000</td>\n",
       "    </tr>\n",
       "  </tbody>\n",
       "</table>\n",
       "</div>"
      ],
      "text/plain": [
       "                                cluster_0  cluster_1  cluster_2  cluster_3  \\\n",
       "Electroylzers                   21.942090   0.000000   0.000000   0.000000   \n",
       "Existing CCGT plants (methane)   0.000000   0.000000   2.144325   0.000000   \n",
       "New CCGT plants (biogas)         0.603867   0.545487   0.529770   0.834179   \n",
       "New CCGT plants (hydrogen)       0.000000   0.000000   8.004811   3.527990   \n",
       "\n",
       "                                cluster_4  cluster_5  cluster_6  cluster_7  \n",
       "Electroylzers                   12.535688   0.000000   0.000000   0.000000  \n",
       "Existing CCGT plants (methane)   0.000000   0.878927   0.000000   0.000000  \n",
       "New CCGT plants (biogas)         0.734495   0.798122   0.628174   0.561975  \n",
       "New CCGT plants (hydrogen)       0.000000   0.000000   0.000000   0.000000  "
      ]
     },
     "execution_count": 30,
     "metadata": {},
     "output_type": "execute_result"
    }
   ],
   "source": [
    "df = pd.DataFrame(esM._pyM.cap_conv.get_values(), index=[0]).T.swaplevel(i=0, j=1, axis=0).sort_index()\n",
    "df = df.unstack(level=-1).fillna(0)\n",
    "df.columns = df.columns.droplevel()\n",
    "df"
   ]
  },
  {
   "cell_type": "code",
   "execution_count": 31,
   "metadata": {
    "collapsed": false
   },
   "outputs": [
    {
     "data": {
      "text/html": [
       "<div>\n",
       "<table border=\"1\" class=\"dataframe\">\n",
       "  <thead>\n",
       "    <tr style=\"text-align: right;\">\n",
       "      <th></th>\n",
       "      <th>cluster_0</th>\n",
       "      <th>cluster_1</th>\n",
       "      <th>cluster_2</th>\n",
       "      <th>cluster_3</th>\n",
       "      <th>cluster_4</th>\n",
       "      <th>cluster_5</th>\n",
       "      <th>cluster_6</th>\n",
       "      <th>cluster_7</th>\n",
       "    </tr>\n",
       "  </thead>\n",
       "  <tbody>\n",
       "    <tr>\n",
       "      <th>Existing run-of-river plants</th>\n",
       "      <td>0.000000</td>\n",
       "      <td>0.544397</td>\n",
       "      <td>0.455005</td>\n",
       "      <td>0.037456</td>\n",
       "      <td>0.000000</td>\n",
       "      <td>0.043572</td>\n",
       "      <td>2.075538</td>\n",
       "      <td>0.655032</td>\n",
       "    </tr>\n",
       "    <tr>\n",
       "      <th>PV</th>\n",
       "      <td>17.970141</td>\n",
       "      <td>25.807194</td>\n",
       "      <td>18.698614</td>\n",
       "      <td>32.994484</td>\n",
       "      <td>20.883876</td>\n",
       "      <td>39.127909</td>\n",
       "      <td>22.626522</td>\n",
       "      <td>21.891252</td>\n",
       "    </tr>\n",
       "    <tr>\n",
       "      <th>Wind (offshore)</th>\n",
       "      <td>16.107011</td>\n",
       "      <td>0.000000</td>\n",
       "      <td>0.000000</td>\n",
       "      <td>0.000000</td>\n",
       "      <td>28.616236</td>\n",
       "      <td>12.859400</td>\n",
       "      <td>0.000000</td>\n",
       "      <td>0.000000</td>\n",
       "    </tr>\n",
       "    <tr>\n",
       "      <th>Wind (onshore)</th>\n",
       "      <td>58.169300</td>\n",
       "      <td>0.000000</td>\n",
       "      <td>22.323000</td>\n",
       "      <td>0.000000</td>\n",
       "      <td>54.560100</td>\n",
       "      <td>0.000000</td>\n",
       "      <td>39.382068</td>\n",
       "      <td>0.000000</td>\n",
       "    </tr>\n",
       "  </tbody>\n",
       "</table>\n",
       "</div>"
      ],
      "text/plain": [
       "                              cluster_0  cluster_1  cluster_2  cluster_3  \\\n",
       "Existing run-of-river plants   0.000000   0.544397   0.455005   0.037456   \n",
       "PV                            17.970141  25.807194  18.698614  32.994484   \n",
       "Wind (offshore)               16.107011   0.000000   0.000000   0.000000   \n",
       "Wind (onshore)                58.169300   0.000000  22.323000   0.000000   \n",
       "\n",
       "                              cluster_4  cluster_5  cluster_6  cluster_7  \n",
       "Existing run-of-river plants   0.000000   0.043572   2.075538   0.655032  \n",
       "PV                            20.883876  39.127909  22.626522  21.891252  \n",
       "Wind (offshore)               28.616236  12.859400   0.000000   0.000000  \n",
       "Wind (onshore)                54.560100   0.000000  39.382068   0.000000  "
      ]
     },
     "execution_count": 31,
     "metadata": {},
     "output_type": "execute_result"
    }
   ],
   "source": [
    "df = pd.DataFrame(esM._pyM.cap_srcSnk.get_values(), index=[0]).T.swaplevel(i=0, j=1, axis=0).sort_index()\n",
    "df = df.unstack(level=-1).fillna(0)\n",
    "df.columns = df.columns.droplevel()\n",
    "df"
   ]
  },
  {
   "cell_type": "code",
   "execution_count": 32,
   "metadata": {
    "collapsed": false
   },
   "outputs": [
    {
     "data": {
      "text/html": [
       "<div>\n",
       "<table border=\"1\" class=\"dataframe\">\n",
       "  <thead>\n",
       "    <tr style=\"text-align: right;\">\n",
       "      <th></th>\n",
       "      <th>cluster_0</th>\n",
       "      <th>cluster_1</th>\n",
       "      <th>cluster_2</th>\n",
       "      <th>cluster_3</th>\n",
       "      <th>cluster_4</th>\n",
       "      <th>cluster_5</th>\n",
       "      <th>cluster_6</th>\n",
       "      <th>cluster_7</th>\n",
       "    </tr>\n",
       "  </thead>\n",
       "  <tbody>\n",
       "    <tr>\n",
       "      <th>Li-ion batteries</th>\n",
       "      <td>24.509671</td>\n",
       "      <td>4.298765</td>\n",
       "      <td>0.000</td>\n",
       "      <td>20.881362</td>\n",
       "      <td>55.748229</td>\n",
       "      <td>21.625011</td>\n",
       "      <td>31.077998</td>\n",
       "      <td>25.398298</td>\n",
       "    </tr>\n",
       "    <tr>\n",
       "      <th>Pumped hydro storage</th>\n",
       "      <td>0.000000</td>\n",
       "      <td>9.011000</td>\n",
       "      <td>8.265</td>\n",
       "      <td>19.620000</td>\n",
       "      <td>3.889000</td>\n",
       "      <td>4.018000</td>\n",
       "      <td>9.765000</td>\n",
       "      <td>10.605000</td>\n",
       "    </tr>\n",
       "    <tr>\n",
       "      <th>Salt caverns (hydrogen)</th>\n",
       "      <td>1197.000000</td>\n",
       "      <td>0.000000</td>\n",
       "      <td>11571.000</td>\n",
       "      <td>4256.000000</td>\n",
       "      <td>5985.000000</td>\n",
       "      <td>266.000000</td>\n",
       "      <td>0.000000</td>\n",
       "      <td>0.000000</td>\n",
       "    </tr>\n",
       "    <tr>\n",
       "      <th>Salt caverns (methane)</th>\n",
       "      <td>0.000000</td>\n",
       "      <td>0.000000</td>\n",
       "      <td>0.000</td>\n",
       "      <td>1772.000000</td>\n",
       "      <td>2215.000000</td>\n",
       "      <td>0.000000</td>\n",
       "      <td>0.000000</td>\n",
       "      <td>0.000000</td>\n",
       "    </tr>\n",
       "  </tbody>\n",
       "</table>\n",
       "</div>"
      ],
      "text/plain": [
       "                           cluster_0  cluster_1  cluster_2    cluster_3  \\\n",
       "Li-ion batteries           24.509671   4.298765      0.000    20.881362   \n",
       "Pumped hydro storage        0.000000   9.011000      8.265    19.620000   \n",
       "Salt caverns (hydrogen)  1197.000000   0.000000  11571.000  4256.000000   \n",
       "Salt caverns (methane)      0.000000   0.000000      0.000  1772.000000   \n",
       "\n",
       "                           cluster_4   cluster_5  cluster_6  cluster_7  \n",
       "Li-ion batteries           55.748229   21.625011  31.077998  25.398298  \n",
       "Pumped hydro storage        3.889000    4.018000   9.765000  10.605000  \n",
       "Salt caverns (hydrogen)  5985.000000  266.000000   0.000000   0.000000  \n",
       "Salt caverns (methane)   2215.000000    0.000000   0.000000   0.000000  "
      ]
     },
     "execution_count": 32,
     "metadata": {},
     "output_type": "execute_result"
    }
   ],
   "source": [
    "df = pd.DataFrame(esM._pyM.cap_stor.get_values(), index=[0]).T.swaplevel(i=0, j=1, axis=0).sort_index()\n",
    "df = df.unstack(level=-1).fillna(0)\n",
    "df.columns = df.columns.droplevel()\n",
    "df"
   ]
  },
  {
   "cell_type": "code",
   "execution_count": 33,
   "metadata": {
    "collapsed": false,
    "scrolled": false
   },
   "outputs": [
    {
     "data": {
      "text/html": [
       "<div>\n",
       "<table border=\"1\" class=\"dataframe\">\n",
       "  <thead>\n",
       "    <tr style=\"text-align: right;\">\n",
       "      <th></th>\n",
       "      <th></th>\n",
       "      <th>cluster_0</th>\n",
       "      <th>cluster_1</th>\n",
       "      <th>cluster_2</th>\n",
       "      <th>cluster_3</th>\n",
       "      <th>cluster_4</th>\n",
       "      <th>cluster_5</th>\n",
       "      <th>cluster_6</th>\n",
       "      <th>cluster_7</th>\n",
       "    </tr>\n",
       "  </thead>\n",
       "  <tbody>\n",
       "    <tr>\n",
       "      <th rowspan=\"8\" valign=\"top\">AC cables</th>\n",
       "      <th>cluster_0</th>\n",
       "      <td>0.000000</td>\n",
       "      <td>0.000000</td>\n",
       "      <td>0.000000</td>\n",
       "      <td>2.395773</td>\n",
       "      <td>3.262664</td>\n",
       "      <td>2.395773</td>\n",
       "      <td>0.000000</td>\n",
       "      <td>0.000000</td>\n",
       "    </tr>\n",
       "    <tr>\n",
       "      <th>cluster_1</th>\n",
       "      <td>0.000000</td>\n",
       "      <td>0.000000</td>\n",
       "      <td>8.905339</td>\n",
       "      <td>4.791545</td>\n",
       "      <td>0.000000</td>\n",
       "      <td>0.000000</td>\n",
       "      <td>0.000000</td>\n",
       "      <td>9.866801</td>\n",
       "    </tr>\n",
       "    <tr>\n",
       "      <th>cluster_2</th>\n",
       "      <td>0.000000</td>\n",
       "      <td>8.905339</td>\n",
       "      <td>0.000000</td>\n",
       "      <td>0.000000</td>\n",
       "      <td>8.731961</td>\n",
       "      <td>0.000000</td>\n",
       "      <td>0.000000</td>\n",
       "      <td>0.000000</td>\n",
       "    </tr>\n",
       "    <tr>\n",
       "      <th>cluster_3</th>\n",
       "      <td>2.395773</td>\n",
       "      <td>4.791545</td>\n",
       "      <td>0.000000</td>\n",
       "      <td>0.000000</td>\n",
       "      <td>5.737245</td>\n",
       "      <td>13.381651</td>\n",
       "      <td>0.945700</td>\n",
       "      <td>3.593659</td>\n",
       "    </tr>\n",
       "    <tr>\n",
       "      <th>cluster_4</th>\n",
       "      <td>3.262664</td>\n",
       "      <td>0.000000</td>\n",
       "      <td>8.731961</td>\n",
       "      <td>5.737245</td>\n",
       "      <td>0.000000</td>\n",
       "      <td>0.000000</td>\n",
       "      <td>0.000000</td>\n",
       "      <td>0.000000</td>\n",
       "    </tr>\n",
       "    <tr>\n",
       "      <th>cluster_5</th>\n",
       "      <td>2.395773</td>\n",
       "      <td>0.000000</td>\n",
       "      <td>0.000000</td>\n",
       "      <td>13.381651</td>\n",
       "      <td>0.000000</td>\n",
       "      <td>0.000000</td>\n",
       "      <td>1.796830</td>\n",
       "      <td>0.000000</td>\n",
       "    </tr>\n",
       "    <tr>\n",
       "      <th>cluster_6</th>\n",
       "      <td>0.000000</td>\n",
       "      <td>0.000000</td>\n",
       "      <td>0.000000</td>\n",
       "      <td>0.945700</td>\n",
       "      <td>0.000000</td>\n",
       "      <td>1.796830</td>\n",
       "      <td>0.000000</td>\n",
       "      <td>6.178572</td>\n",
       "    </tr>\n",
       "    <tr>\n",
       "      <th>cluster_7</th>\n",
       "      <td>0.000000</td>\n",
       "      <td>9.866801</td>\n",
       "      <td>0.000000</td>\n",
       "      <td>3.593659</td>\n",
       "      <td>0.000000</td>\n",
       "      <td>0.000000</td>\n",
       "      <td>6.178572</td>\n",
       "      <td>0.000000</td>\n",
       "    </tr>\n",
       "    <tr>\n",
       "      <th rowspan=\"6\" valign=\"top\">DC cables</th>\n",
       "      <th>cluster_0</th>\n",
       "      <td>0.000000</td>\n",
       "      <td>2.000000</td>\n",
       "      <td>0.000000</td>\n",
       "      <td>0.000000</td>\n",
       "      <td>0.000000</td>\n",
       "      <td>0.000000</td>\n",
       "      <td>0.000000</td>\n",
       "      <td>2.000000</td>\n",
       "    </tr>\n",
       "    <tr>\n",
       "      <th>cluster_1</th>\n",
       "      <td>2.000000</td>\n",
       "      <td>0.000000</td>\n",
       "      <td>2.000000</td>\n",
       "      <td>0.000000</td>\n",
       "      <td>0.000000</td>\n",
       "      <td>0.000000</td>\n",
       "      <td>0.000000</td>\n",
       "      <td>0.000000</td>\n",
       "    </tr>\n",
       "    <tr>\n",
       "      <th>cluster_2</th>\n",
       "      <td>0.000000</td>\n",
       "      <td>2.000000</td>\n",
       "      <td>0.000000</td>\n",
       "      <td>0.000000</td>\n",
       "      <td>2.000000</td>\n",
       "      <td>0.000000</td>\n",
       "      <td>0.000000</td>\n",
       "      <td>0.000000</td>\n",
       "    </tr>\n",
       "    <tr>\n",
       "      <th>cluster_3</th>\n",
       "      <td>0.000000</td>\n",
       "      <td>0.000000</td>\n",
       "      <td>0.000000</td>\n",
       "      <td>0.000000</td>\n",
       "      <td>0.000000</td>\n",
       "      <td>0.000000</td>\n",
       "      <td>0.000000</td>\n",
       "      <td>4.000000</td>\n",
       "    </tr>\n",
       "    <tr>\n",
       "      <th>cluster_4</th>\n",
       "      <td>0.000000</td>\n",
       "      <td>0.000000</td>\n",
       "      <td>2.000000</td>\n",
       "      <td>0.000000</td>\n",
       "      <td>0.000000</td>\n",
       "      <td>0.000000</td>\n",
       "      <td>0.000000</td>\n",
       "      <td>0.000000</td>\n",
       "    </tr>\n",
       "    <tr>\n",
       "      <th>cluster_7</th>\n",
       "      <td>2.000000</td>\n",
       "      <td>0.000000</td>\n",
       "      <td>0.000000</td>\n",
       "      <td>4.000000</td>\n",
       "      <td>0.000000</td>\n",
       "      <td>0.000000</td>\n",
       "      <td>0.000000</td>\n",
       "      <td>0.000000</td>\n",
       "    </tr>\n",
       "    <tr>\n",
       "      <th rowspan=\"8\" valign=\"top\">Pipeline (hydrogen)</th>\n",
       "      <th>cluster_0</th>\n",
       "      <td>0.000000</td>\n",
       "      <td>0.000000</td>\n",
       "      <td>0.000000</td>\n",
       "      <td>0.000000</td>\n",
       "      <td>13.393819</td>\n",
       "      <td>0.000000</td>\n",
       "      <td>0.000000</td>\n",
       "      <td>0.000000</td>\n",
       "    </tr>\n",
       "    <tr>\n",
       "      <th>cluster_1</th>\n",
       "      <td>0.000000</td>\n",
       "      <td>0.000000</td>\n",
       "      <td>7.143182</td>\n",
       "      <td>0.000000</td>\n",
       "      <td>0.000000</td>\n",
       "      <td>0.000000</td>\n",
       "      <td>0.000000</td>\n",
       "      <td>3.535599</td>\n",
       "    </tr>\n",
       "    <tr>\n",
       "      <th>cluster_2</th>\n",
       "      <td>0.000000</td>\n",
       "      <td>7.143182</td>\n",
       "      <td>0.000000</td>\n",
       "      <td>0.000000</td>\n",
       "      <td>12.608102</td>\n",
       "      <td>0.000000</td>\n",
       "      <td>0.000000</td>\n",
       "      <td>0.000000</td>\n",
       "    </tr>\n",
       "    <tr>\n",
       "      <th>cluster_3</th>\n",
       "      <td>0.000000</td>\n",
       "      <td>0.000000</td>\n",
       "      <td>0.000000</td>\n",
       "      <td>0.000000</td>\n",
       "      <td>4.284904</td>\n",
       "      <td>1.619352</td>\n",
       "      <td>0.000000</td>\n",
       "      <td>0.000000</td>\n",
       "    </tr>\n",
       "    <tr>\n",
       "      <th>cluster_4</th>\n",
       "      <td>13.393819</td>\n",
       "      <td>0.000000</td>\n",
       "      <td>12.608102</td>\n",
       "      <td>4.284904</td>\n",
       "      <td>0.000000</td>\n",
       "      <td>0.000000</td>\n",
       "      <td>0.000000</td>\n",
       "      <td>0.000000</td>\n",
       "    </tr>\n",
       "    <tr>\n",
       "      <th>cluster_5</th>\n",
       "      <td>0.000000</td>\n",
       "      <td>0.000000</td>\n",
       "      <td>0.000000</td>\n",
       "      <td>1.619352</td>\n",
       "      <td>0.000000</td>\n",
       "      <td>0.000000</td>\n",
       "      <td>0.000000</td>\n",
       "      <td>0.000000</td>\n",
       "    </tr>\n",
       "    <tr>\n",
       "      <th>cluster_6</th>\n",
       "      <td>0.000000</td>\n",
       "      <td>0.000000</td>\n",
       "      <td>0.000000</td>\n",
       "      <td>0.000000</td>\n",
       "      <td>0.000000</td>\n",
       "      <td>0.000000</td>\n",
       "      <td>0.000000</td>\n",
       "      <td>1.697780</td>\n",
       "    </tr>\n",
       "    <tr>\n",
       "      <th>cluster_7</th>\n",
       "      <td>0.000000</td>\n",
       "      <td>3.535599</td>\n",
       "      <td>0.000000</td>\n",
       "      <td>0.000000</td>\n",
       "      <td>0.000000</td>\n",
       "      <td>0.000000</td>\n",
       "      <td>1.697780</td>\n",
       "      <td>0.000000</td>\n",
       "    </tr>\n",
       "    <tr>\n",
       "      <th rowspan=\"8\" valign=\"top\">Pipelines (methane)</th>\n",
       "      <th>cluster_0</th>\n",
       "      <td>0.000000</td>\n",
       "      <td>0.000000</td>\n",
       "      <td>0.000000</td>\n",
       "      <td>0.000000</td>\n",
       "      <td>0.950972</td>\n",
       "      <td>0.000000</td>\n",
       "      <td>0.000000</td>\n",
       "      <td>0.000000</td>\n",
       "    </tr>\n",
       "    <tr>\n",
       "      <th>cluster_1</th>\n",
       "      <td>0.000000</td>\n",
       "      <td>0.000000</td>\n",
       "      <td>2.733284</td>\n",
       "      <td>0.000000</td>\n",
       "      <td>0.000000</td>\n",
       "      <td>0.000000</td>\n",
       "      <td>0.000000</td>\n",
       "      <td>1.874250</td>\n",
       "    </tr>\n",
       "    <tr>\n",
       "      <th>cluster_2</th>\n",
       "      <td>0.000000</td>\n",
       "      <td>2.733284</td>\n",
       "      <td>0.000000</td>\n",
       "      <td>0.000000</td>\n",
       "      <td>3.567567</td>\n",
       "      <td>0.000000</td>\n",
       "      <td>0.000000</td>\n",
       "      <td>0.000000</td>\n",
       "    </tr>\n",
       "    <tr>\n",
       "      <th>cluster_3</th>\n",
       "      <td>0.000000</td>\n",
       "      <td>0.000000</td>\n",
       "      <td>0.000000</td>\n",
       "      <td>0.000000</td>\n",
       "      <td>2.107657</td>\n",
       "      <td>1.406284</td>\n",
       "      <td>0.000000</td>\n",
       "      <td>0.000000</td>\n",
       "    </tr>\n",
       "    <tr>\n",
       "      <th>cluster_4</th>\n",
       "      <td>0.950972</td>\n",
       "      <td>0.000000</td>\n",
       "      <td>3.567567</td>\n",
       "      <td>2.107657</td>\n",
       "      <td>0.000000</td>\n",
       "      <td>0.000000</td>\n",
       "      <td>0.000000</td>\n",
       "      <td>0.000000</td>\n",
       "    </tr>\n",
       "    <tr>\n",
       "      <th>cluster_5</th>\n",
       "      <td>0.000000</td>\n",
       "      <td>0.000000</td>\n",
       "      <td>0.000000</td>\n",
       "      <td>1.406284</td>\n",
       "      <td>0.000000</td>\n",
       "      <td>0.000000</td>\n",
       "      <td>0.000000</td>\n",
       "      <td>0.000000</td>\n",
       "    </tr>\n",
       "    <tr>\n",
       "      <th>cluster_6</th>\n",
       "      <td>0.000000</td>\n",
       "      <td>0.000000</td>\n",
       "      <td>0.000000</td>\n",
       "      <td>0.000000</td>\n",
       "      <td>0.000000</td>\n",
       "      <td>0.000000</td>\n",
       "      <td>0.000000</td>\n",
       "      <td>0.989250</td>\n",
       "    </tr>\n",
       "    <tr>\n",
       "      <th>cluster_7</th>\n",
       "      <td>0.000000</td>\n",
       "      <td>1.874250</td>\n",
       "      <td>0.000000</td>\n",
       "      <td>0.000000</td>\n",
       "      <td>0.000000</td>\n",
       "      <td>0.000000</td>\n",
       "      <td>0.989250</td>\n",
       "      <td>0.000000</td>\n",
       "    </tr>\n",
       "  </tbody>\n",
       "</table>\n",
       "</div>"
      ],
      "text/plain": [
       "                               cluster_0  cluster_1  cluster_2  cluster_3  \\\n",
       "AC cables           cluster_0   0.000000   0.000000   0.000000   2.395773   \n",
       "                    cluster_1   0.000000   0.000000   8.905339   4.791545   \n",
       "                    cluster_2   0.000000   8.905339   0.000000   0.000000   \n",
       "                    cluster_3   2.395773   4.791545   0.000000   0.000000   \n",
       "                    cluster_4   3.262664   0.000000   8.731961   5.737245   \n",
       "                    cluster_5   2.395773   0.000000   0.000000  13.381651   \n",
       "                    cluster_6   0.000000   0.000000   0.000000   0.945700   \n",
       "                    cluster_7   0.000000   9.866801   0.000000   3.593659   \n",
       "DC cables           cluster_0   0.000000   2.000000   0.000000   0.000000   \n",
       "                    cluster_1   2.000000   0.000000   2.000000   0.000000   \n",
       "                    cluster_2   0.000000   2.000000   0.000000   0.000000   \n",
       "                    cluster_3   0.000000   0.000000   0.000000   0.000000   \n",
       "                    cluster_4   0.000000   0.000000   2.000000   0.000000   \n",
       "                    cluster_7   2.000000   0.000000   0.000000   4.000000   \n",
       "Pipeline (hydrogen) cluster_0   0.000000   0.000000   0.000000   0.000000   \n",
       "                    cluster_1   0.000000   0.000000   7.143182   0.000000   \n",
       "                    cluster_2   0.000000   7.143182   0.000000   0.000000   \n",
       "                    cluster_3   0.000000   0.000000   0.000000   0.000000   \n",
       "                    cluster_4  13.393819   0.000000  12.608102   4.284904   \n",
       "                    cluster_5   0.000000   0.000000   0.000000   1.619352   \n",
       "                    cluster_6   0.000000   0.000000   0.000000   0.000000   \n",
       "                    cluster_7   0.000000   3.535599   0.000000   0.000000   \n",
       "Pipelines (methane) cluster_0   0.000000   0.000000   0.000000   0.000000   \n",
       "                    cluster_1   0.000000   0.000000   2.733284   0.000000   \n",
       "                    cluster_2   0.000000   2.733284   0.000000   0.000000   \n",
       "                    cluster_3   0.000000   0.000000   0.000000   0.000000   \n",
       "                    cluster_4   0.950972   0.000000   3.567567   2.107657   \n",
       "                    cluster_5   0.000000   0.000000   0.000000   1.406284   \n",
       "                    cluster_6   0.000000   0.000000   0.000000   0.000000   \n",
       "                    cluster_7   0.000000   1.874250   0.000000   0.000000   \n",
       "\n",
       "                               cluster_4  cluster_5  cluster_6  cluster_7  \n",
       "AC cables           cluster_0   3.262664   2.395773   0.000000   0.000000  \n",
       "                    cluster_1   0.000000   0.000000   0.000000   9.866801  \n",
       "                    cluster_2   8.731961   0.000000   0.000000   0.000000  \n",
       "                    cluster_3   5.737245  13.381651   0.945700   3.593659  \n",
       "                    cluster_4   0.000000   0.000000   0.000000   0.000000  \n",
       "                    cluster_5   0.000000   0.000000   1.796830   0.000000  \n",
       "                    cluster_6   0.000000   1.796830   0.000000   6.178572  \n",
       "                    cluster_7   0.000000   0.000000   6.178572   0.000000  \n",
       "DC cables           cluster_0   0.000000   0.000000   0.000000   2.000000  \n",
       "                    cluster_1   0.000000   0.000000   0.000000   0.000000  \n",
       "                    cluster_2   2.000000   0.000000   0.000000   0.000000  \n",
       "                    cluster_3   0.000000   0.000000   0.000000   4.000000  \n",
       "                    cluster_4   0.000000   0.000000   0.000000   0.000000  \n",
       "                    cluster_7   0.000000   0.000000   0.000000   0.000000  \n",
       "Pipeline (hydrogen) cluster_0  13.393819   0.000000   0.000000   0.000000  \n",
       "                    cluster_1   0.000000   0.000000   0.000000   3.535599  \n",
       "                    cluster_2  12.608102   0.000000   0.000000   0.000000  \n",
       "                    cluster_3   4.284904   1.619352   0.000000   0.000000  \n",
       "                    cluster_4   0.000000   0.000000   0.000000   0.000000  \n",
       "                    cluster_5   0.000000   0.000000   0.000000   0.000000  \n",
       "                    cluster_6   0.000000   0.000000   0.000000   1.697780  \n",
       "                    cluster_7   0.000000   0.000000   1.697780   0.000000  \n",
       "Pipelines (methane) cluster_0   0.950972   0.000000   0.000000   0.000000  \n",
       "                    cluster_1   0.000000   0.000000   0.000000   1.874250  \n",
       "                    cluster_2   3.567567   0.000000   0.000000   0.000000  \n",
       "                    cluster_3   2.107657   1.406284   0.000000   0.000000  \n",
       "                    cluster_4   0.000000   0.000000   0.000000   0.000000  \n",
       "                    cluster_5   0.000000   0.000000   0.000000   0.000000  \n",
       "                    cluster_6   0.000000   0.000000   0.000000   0.989250  \n",
       "                    cluster_7   0.000000   0.000000   0.989250   0.000000  "
      ]
     },
     "execution_count": 33,
     "metadata": {},
     "output_type": "execute_result"
    }
   ],
   "source": [
    "df = pd.DataFrame(esM._pyM.cap_trans.get_values(), index=[0]).T.swaplevel(i=0, j=2, axis=0).swaplevel(i=1, j=2, axis=0).sort_index()\n",
    "df = df.unstack(level=-1).fillna(0)\n",
    "df.columns = df.columns.droplevel()\n",
    "df"
   ]
  },
  {
   "cell_type": "code",
   "execution_count": null,
   "metadata": {
    "collapsed": true
   },
   "outputs": [],
   "source": []
  }
 ],
 "metadata": {
  "anaconda-cloud": {},
  "kernelspec": {
   "display_name": "Python [default]",
   "language": "python",
   "name": "python3"
  },
  "language_info": {
   "codemirror_mode": {
    "name": "ipython",
    "version": 3
   },
   "file_extension": ".py",
   "mimetype": "text/x-python",
   "name": "python",
   "nbconvert_exporter": "python",
   "pygments_lexer": "ipython3",
   "version": "3.4.5"
  }
 },
 "nbformat": 4,
 "nbformat_minor": 2
}
