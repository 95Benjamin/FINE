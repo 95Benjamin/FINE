{
 "cells": [
  {
   "cell_type": "markdown",
   "metadata": {},
   "source": [
    "# Class and function descriptions\n",
    "\n",
    "This notebook provides the doc strings (descriptions) of the main classes and functions of the FINE framework.\n",
    "\n",
    "1. EnergySystemModel class\n",
    "2. Sources and Sinks classes\n",
    "3. Conversion class\n",
    "4. Storage class\n",
    "5. Transmission class\n",
    "6. Cluster function\n",
    "7. Optimize function"
   ]
  },
  {
   "cell_type": "code",
   "execution_count": null,
   "metadata": {
    "collapsed": true
   },
   "outputs": [],
   "source": [
    "import FINE as fn"
   ]
  },
  {
   "cell_type": "markdown",
   "metadata": {},
   "source": [
    "# 1. EnergySystemModel class"
   ]
  },
  {
   "cell_type": "code",
   "execution_count": 3,
   "metadata": {
    "collapsed": false
   },
   "outputs": [
    {
     "name": "stdout",
     "output_type": "stream",
     "text": [
      "\n",
      "    EnergySystemModel class\n",
      "\n",
      "    The functionality provided by the EnergySystemModel class is fourfold:\n",
      "    * With it, the **basic structure** (spatial and temporal resolution, considered commodities) of\n",
      "      the investigated energy system is defined.\n",
      "    * It serves as a **container for all components** investigated in the energy system model. These components,\n",
      "      namely sources and sinks, conversion options, storage options, and transmission options\n",
      "      (in the core module), can be added to an EnergySystemModel instance.\n",
      "    * It provides the core functionality of **modeling and optimizing the energy system** based on the specified\n",
      "      structure and components on the one hand and of specified simulation parameters on the other hand,.\n",
      "    * It **stores optimization results** which can then be post-processed with other modules.\n",
      "\n",
      "    The parameter which are stored in an instance of the class refer to:\n",
      "    * the modeled spatial representation of the energy system (**locations, lengthUnit**)\n",
      "    * the modeled temporal representation of the energy system (**totalTimeSteps, hoursPerTimeStep,\n",
      "      years, periods, periodsOrder, periodsOccurrences, timeStepsPerPeriod, interPeriodTimeSteps,\n",
      "      isTimeSeriesDataClustered, typicalPeriods, tsaInstance, timeUnit**)\n",
      "    * the considered commodities in the energy system (**commodities, commoditiyUnitsDict**)\n",
      "    * the considered components in the energy system (**componentNames, componentModelingDict, costUnit**)\n",
      "    * optimization related parameters (**pyM, solverSpecs**)\n",
      "      all parameters are marked as protected (thus they all begin with an underscore) and are set when an class\n",
      "      instance is initiated, components are added or user accessible functions are called.\n",
      "\n",
      "    Instances of this class provide function for\n",
      "    * adding components and their respective modeling classes (**add**)\n",
      "    * clustering the time series data of all added components using the time series aggregation package tsam, cf.\n",
      "      https://github.com/FZJ-IEK3-VSA/tsam (**cluster**)\n",
      "    * optimizing the specified energy system (**optimize**), for which a pyomo discrete model instance is build\n",
      "      and filled with\n",
      "      (0) basic time sets,\n",
      "      (1) sets, variables and constraints contributed by the component modeling classes,\n",
      "      (2) basic, component overreaching constraints, and\n",
      "      (3) an objective function.\n",
      "      The pyomo instance is then optimized by a specified solver and the optimization results processed once\n",
      "      available.\n",
      "    * getting components and their attributes (**getComponent, getCompAttr**)\n",
      "\n",
      "    Last edited: July 27, 2018\n",
      "    |br| @author: Lara Welder\n",
      "    \n",
      "\n",
      "        Constructor for creating an EnergySystemModel class instance\n",
      "\n",
      "        **Required arguments:**\n",
      "\n",
      "        :param locations: locations considered in the energy system\n",
      "        :type locations: set of strings\n",
      "\n",
      "        :param commodities: commodities considered in the energy system\n",
      "        :type commodities: set of strings\n",
      "\n",
      "        :param commoditiyUnitsDict: dictionary which assigns each commodity a quantitative unit per time\n",
      "            (e.g. GW_el, GW_H2, Mio.t_CO2/h). The dictionary is used for results output.\n",
      "            Note for advanced users: the scale of these units can influence the numerical stability of the\n",
      "            optimization solver, cf. http://files.gurobi.com/Numerics.pdf where a reasonable range of model\n",
      "            coefficients is suggested\n",
      "        :type commoditiyUnitsDict: dictionary of strings\n",
      "\n",
      "        **Default arguments:**\n",
      "\n",
      "        :param numberOfTimeSteps: number of time steps considered when modeling the energy system (for each\n",
      "            time step, or each representative time step, variables and constraints are constituted). Together\n",
      "            with the hours per time step, the total number of hours considered can be derived. The total\n",
      "            number of hours is again used for scaling the arising costs to the arising total annual costs (TAC),\n",
      "            which are minimized during optimization.\n",
      "            |br| * the default value is 8760\n",
      "        :type totalNumberOfHours: strictly positive integer\n",
      "\n",
      "        :param hoursPerTimeStep: hours per time step\n",
      "            |br| * the default value is 1\n",
      "        :type totalNumberOfHours: strictly positive float\n",
      "\n",
      "        :param costUnit: cost unit of all cost related values in the energy system. This value sets the unit of\n",
      "            all cost parameters which are given as an input to the EnergySystemModel instance (i.e. for the\n",
      "            invest per capacity or the cost per operation).\n",
      "            Note for advanced users: the scale of this unit can influence the numerical stability of the\n",
      "            optimization solver, cf. http://files.gurobi.com/Numerics.pdf where a reasonable range of model\n",
      "            coefficients is suggested\n",
      "            |br| * the default value is '10^9 Euro' (billion euros), which can be a suitable scale for national\n",
      "                energy systems.\n",
      "        :type costUnit: string\n",
      "\n",
      "        :param lengthUnit: length unit for all length related values in the energy system\n",
      "            Note for advanced users: the scale of this unit can influence the numerical stability of the\n",
      "            optimization solver, cf. http://files.gurobi.com/Numerics.pdf where a reasonable range of model\n",
      "            coefficients is suggested.\n",
      "            |br| * the default value is 'km' (kilometers)\n",
      "        :type lengthUnit: string\n",
      "\n",
      "        Last edited: July 27, 2018\n",
      "        |br| @author: Lara Welder\n",
      "        \n"
     ]
    }
   ],
   "source": [
    "print(fn.EnergySystemModel.__doc__)\n",
    "print(fn.EnergySystemModel.__init__.__doc__)"
   ]
  },
  {
   "cell_type": "markdown",
   "metadata": {},
   "source": [
    "# 2. Source and Sink classes\n",
    "The Source and the Sink classes have the same input parameters (as the Sink class inherits from the Source class and differentiates itself from the Source class only over the *sign* parameter). Thus, only the input parameter of the Source class are shown."
   ]
  },
  {
   "cell_type": "code",
   "execution_count": 8,
   "metadata": {
    "collapsed": false
   },
   "outputs": [
    {
     "name": "stdout",
     "output_type": "stream",
     "text": [
      "None\n"
     ]
    }
   ],
   "source": [
    "print(fn.Source.__init__.__doc__)"
   ]
  },
  {
   "cell_type": "markdown",
   "metadata": {},
   "source": [
    "# 3. Conversion class"
   ]
  },
  {
   "cell_type": "code",
   "execution_count": 5,
   "metadata": {
    "collapsed": false,
    "scrolled": true
   },
   "outputs": [
    {
     "name": "stdout",
     "output_type": "stream",
     "text": [
      "\n",
      "        Constructor for creating an Conversion class instance\n",
      "\n",
      "        **Required arguments:**\n",
      "\n",
      "        :param esM: energy system model to which the Conversion component should be added. Used for unit checks.\n",
      "        :type esM: EnergySystemModel instance from the FINE package\n",
      "\n",
      "        :param name: name of the component. Has to be a unique (i.e. not other components with that name\n",
      "            can already exist in the energy system model to which the component is added).\n",
      "        :type name: string\n",
      "\n",
      "        :param physicalUnit: reference physical unit of the plants to which maximum capacity limitations and\n",
      "            cost parameters refer to.\n",
      "        :type physicalUnit: string\n",
      "\n",
      "        :param commodityConversionFactors: conversion factors with which commodities are converted into each\n",
      "            other with one unit of operation (dictionary). Each commodity which is converted in this component\n",
      "            is indicated by a string in this dictionary. The conversion factor related to this commodity is\n",
      "            given as a float. A negative value indicates that the commoditiy is consumed. A positive value\n",
      "            indicates that the commodity is produced. Check unit consistency when specifying this parameter!\n",
      "            Examples:\n",
      "            (a) An electrolyzer converts, simply put, electricty into hydrogen with an efficiency of 70%.\n",
      "                The cost are given in GW_electric (physicalUnit of the plant), the unit for the 'electricity'\n",
      "                commodity is given in GW_electric and the 'hydrogen' commodity is given in\n",
      "                GW_hydrogen_lowerHeatingValue -> the commodityConversionFactors are defined as\n",
      "                {'electricity':-1,'hydrogen':0.7}.\n",
      "            (b) An fuel cell converts, simply put, hydrogen into electricty with an efficiency of 60%.\n",
      "                The cost are given in GW_electric (physicalUnit of the plant), the unit for the 'electricity'\n",
      "                commodity is given in GW_electric and the 'hydrogen' commodity is given in\n",
      "                GW_hydrogen_lowerHeatingValue -> the commodityConversionFactors are defined as\n",
      "                {'electricity':1,'hydrogen':-1/0.6}.\n",
      "        :type commodityConversionFactors: dictionary, assigns commodities (string) conversion factors (float)\n",
      "\n",
      "        **Default arguments:**\n",
      "\n",
      "        :param hasCapacityVariable: specifies if the component should be modeled with a capacity or not.\n",
      "            Examples:\n",
      "            (a) An electrolyzer has a capacity given in GW_electrict -> hasCapacityVariable is True.\n",
      "            (b) In the energy system, biogas can, from a model perspective, be converted into methane (and then\n",
      "                used in conventional power plants which emit CO2) by getting CO2 from the enviroment. Thus,\n",
      "                using biogas in conventional power plants from a balance perspective CO2 free. This conversion\n",
      "                is purely theoretical and does not require a capacity -> hasCapacityVariable is False.\n",
      "            |br| * the default value is True\n",
      "        :type hasCapacityVariable: boolean\n",
      "\n",
      "        :param capacityVariableDomain: the mathematical domain of the capacity variables, if they are specfied.\n",
      "            By default, the domain is specified as 'continuous' and thus declares the variables as non-negative\n",
      "            (>=0) real values. The second input option that is available for this parameter is 'discrete', which\n",
      "            declares the variables as non-negative (>=0) integer values.\n",
      "            |br| * the default value is 'continuous'\n",
      "        :type capacityVariableDomain: string\n",
      "\n",
      "        :param capacityPerPlantUnit: capacity of one plant of the component (in the unit in which the cost\n",
      "            parameters are specified). The default is 1, thus the number of plants is equal to the installed\n",
      "            capacity. This parameter should be specified when using a 'discrete' capacityVariableDomain.\n",
      "            It can be specified when using a 'continuous' variable domain.\n",
      "            |br| * the default value is 1\n",
      "        :type capacityPerPlantUnit: strictly positive float\n",
      "\n",
      "        :param hasIsBuiltBinaryVariable: specifies if binary decision variables should be declared for each\n",
      "            eligible location of the component which indicate if the component is built at that location or\n",
      "            not. The binary variables can be used to enforce one-time invest cost or one capacity-independent\n",
      "             annual operation cost. If a minimum capacity is specified and this parameter is set to True,\n",
      "             the minimum capacities are only considered if a component is built (i.e. if a component is built\n",
      "             in that location it has to be built with a minimum capacity of XY GW, otherwise it is set to 0 GW).\n",
      "            |br| * the default value is False\n",
      "        :type hasIsBuiltBinaryVariable: boolean\n",
      "\n",
      "        :param bigM: the bigM parameter is only required when the ifBuiltBinaryVariables parameter is set to\n",
      "            True. In that case, it is set as a strictly positive float, otherwise it can remain a None value.\n",
      "            If not None and the ifBuiltBinaryVariables parameter is set to True, the parameter enforces an\n",
      "            artificial upper bound on the maximum capacities which should, however, never be reached. The value\n",
      "            should be chosen as small as possible but as large as necessary so that the optimal values of the\n",
      "            designed capacities are in the end well below this value.\n",
      "            |br| * the default value is None\n",
      "        :type bigM: None or strictly positive float\n",
      "\n",
      "        :param operationRateMax: if specified indicates a maximum operation rate for each location and each time\n",
      "            step by a non-negative float. If hasCapacityVariable is set to True, the values are given relative\n",
      "            to the installed capacities (i.e. in that case a value of 1 indicates a utilization of 100% of the\n",
      "            capacity). If hasCapacityVariable is set to False, the values are given as absolute values in form\n",
      "            of an energy or mass unit, referring to the converted energy or mass (after multiplying the\n",
      "            conversion factors for each commodity) during one time step.\n",
      "            |br| * the default value is None\n",
      "        :type operationRateMax: None or Pandas DataFrame with non-negative entries. The row indices have to\n",
      "            match the specified time steps. The column indices have to match the specified locations.\n",
      "\n",
      "        :param operationRateFix: if specified indicates a fixed operation rate for each location and each time\n",
      "            step by a non-negative float. If hasCapacityVariable is set to True, the values are given relative\n",
      "            to the installed capacities (i.e. in that case a value of 1 indicates a utilization of 100% of the\n",
      "            capacity). If hasCapacityVariable is set to False, the values are given as absolute values in form\n",
      "            of an energy or mass unit, referring to the converted energy or mass (after multiplying the\n",
      "            conversion factors for each commodity) during one time step.\n",
      "            |br| * the default value is None\n",
      "        :type operationRateFix: None or Pandas DataFrame with non-negative entries. The row indices have to\n",
      "            match the in the energy system model specified time steps. The column indices have to match the\n",
      "            in the energy system model specified locations.\n",
      "\n",
      "        :param tsaWeight: weight with which the time series of the component should be considered when applying\n",
      "            time series aggregation.\n",
      "            |br| * the default value is 1\n",
      "        :type tsaWeight: non-negative (>= 0) float\n",
      "\n",
      "        :param locationalEligibility: Pandas Series that indicates if a component can be built at a location\n",
      "            (=1) or not (=0). If not specified and a maximum or fixed capacity or time series is given, the\n",
      "            parameter will be set based on these inputs. If the parameter is specified, a consistency check\n",
      "            is done to ensure that the parameters indicate the same location eligibility. If the parameter is\n",
      "            not specified and also no other of the parameters is specified it is assumed that the component is\n",
      "            eligible in each location and all values are set to 1.\n",
      "            This parameter is key for ensuring small built times of the optimization problem by avoiding the\n",
      "            declaration of unnecessary variables and constraints.\n",
      "            |br| * the default value is None\n",
      "        :type locationalEligibility: None or Pandas Series with values equal to 0 and 1. The indices of the\n",
      "            series have to equal the in the energy system model specified locations.\n",
      "\n",
      "        :param capacityMin: if specified, Pandas Series indicating minimum capacities (in the plants\n",
      "            physicalUnit) else None.\n",
      "            If binary decision variables are declared which indicate if a component is built at a location or\n",
      "            not, the minimum capacity is only enforced if the component is built (i.e. if a component is built\n",
      "            in that location it has to be built with a minimum capacity of XY GW, otherwise it is set to 0 GW).\n",
      "            |br| * the default value is None\n",
      "        :type capacityMin: None or Pandas Series with non-negative (>=0) values. The indices of the series\n",
      "            have to equal the in the energy system model specified locations.\n",
      "\n",
      "        :param capacityMax:  if specified, Pandas Series indicating maximum capacities (in the plants\n",
      "            physicalUnit) else None.\n",
      "            |br| * the default value is None\n",
      "        :type capacityMax: None or Pandas Series with non-negative (>=0) values. The indices of the series\n",
      "            have to equal the in the energy system model specified locations.\n",
      "\n",
      "        :param sharedPotentialID: if specified, indicates that the component has to share its maximum\n",
      "            potential capacity with other components (i.e. due to space limitations).\n",
      "            |br| * the default value is None\n",
      "        :type sharedPotentialID: string\n",
      "\n",
      "        :param capacityFix: if specified, Pandas Series indicating fixed capacities (in the plants\n",
      "            physicalUnit) else None.\n",
      "            |br| * the default value is None\n",
      "        :type capacityFix: None or Pandas Series with non-negative (>=0) values. The indices of the series\n",
      "            have to equal the in the energy system model specified locations.\n",
      "\n",
      "        :param isBuiltFix: if specified, Pandas Series indicating fixed decisions in which locations the\n",
      "            component is built else None.\n",
      "            |br| * the default value is None\n",
      "        :type isBuiltFix: None or Pandas Series with values equal to 0 and 1. The indices of the series\n",
      "            have to equal the in the energy system model specified locations.\n",
      "\n",
      "        :param investPerCapacity: the invest of a component is obtained by multiplying the capacity of the\n",
      "            component (in the physicalUnit of the component) at that location with the investPerCapacity\n",
      "            factor. The investPerCapacity can either be given as a float or a Pandas Series with location\n",
      "            specific values.\n",
      "            The cost unit in which the parameter is given has to match the one specified in the energy\n",
      "            system model (i.e. Euro, Dollar, 1e6 Euro).\n",
      "            |br| * the default value is 0\n",
      "        :type investPerCapacity: non-negative (>=0) float or Pandas Series with non-negative (>=0) values.\n",
      "            The indices of the series have to equal the in the energy system model specified locations.\n",
      "\n",
      "        :param investIfBuilt: a capacity-independent invest which only arises in a location if a component\n",
      "            is built at that location. The investIfBuilt can either be given as a float or a Pandas Series\n",
      "            with location specific values.\n",
      "            The cost unit in which the parameter is given has to match the one specified in the energy\n",
      "            system model (i.e. Euro, Dollar, 1e6 Euro).\n",
      "            |br| * the default value is 0\n",
      "        :type investIfBuilt: non-negative (>=0) float or Pandas Series with non-negative (>=0) values.\n",
      "            The indices of the series have to equal the in the energy system model specified locations.\n",
      "\n",
      "        :param opexPerOperation: cost which is directly proportional to the operation of the component\n",
      "            is obtained by multiplying the opexPerOperation parameter with the annual sum of the operational\n",
      "            time series of the components. The opexPerOperation can either be given as a float or a Pandas\n",
      "            Series with location specific values.\n",
      "            The cost unit in which the parameter is given has to match the one specified in the energy\n",
      "            system model (i.e. Euro, Dollar, 1e6 Euro).\n",
      "            |br| * the default value is 0\n",
      "        :type opexPerOperation: non-negative (>=0) float or Pandas Series with non-negative (>=0) values.\n",
      "            The indices of the series have to equal the in the energy system model specified locations.\n",
      "\n",
      "        :param opexPerCapacity: annual operational cost which are only a function of the capacity of the\n",
      "            component (in the physicalUnit of the component) and not of the specific operation itself are\n",
      "            obtained by multiplying the capacity of the component at a location with the opexPerCapacity\n",
      "            factor. The opexPerCapacity can either be given as a float or a Pandas Series with location\n",
      "            specific values.\n",
      "            The cost unit in which the parameter is given has to match the one specified in the energy\n",
      "            system model (i.e. Euro, Dollar, 1e6 Euro).\n",
      "            |br| * the default value is 0\n",
      "        :type opexPerCapacity: non-negative (>=0) float or Pandas Series with non-negative (>=0) values.\n",
      "            The indices of the series have to equal the in the energy system model specified locations.\n",
      "\n",
      "        :param opexIfBuilt: a capacity-independent annual operational cost which only arises in a location\n",
      "            if a component is built at that location. The opexIfBuilt can either be given as a float or a\n",
      "            Pandas Series with location specific values.\n",
      "            The cost unit in which the parameter is given has to match the one specified in the energy\n",
      "            system model (i.e. Euro, Dollar, 1e6 Euro).\n",
      "            |br| * the default value is 0\n",
      "        :type opexIfBuilt: non-negative (>=0) float or Pandas Series with non-negative (>=0) values.\n",
      "            The indices of the series have to equal the in the energy system model specified locations.\n",
      "\n",
      "        :param interestRate: interest rate which is considered for computing the annuities of the invest\n",
      "            of the component (in particular to depreciate the invests over the economic lifetime).\n",
      "            A value of 0.08 corresponds to an interest rate of 8%.\n",
      "            |br| * the default value is 0.08\n",
      "        :type interestRate: non-negative (>=0) float or Pandas Series with non-negative (>=0) values.\n",
      "            The indices of the series have to equal the in the energy system model specified locations.\n",
      "\n",
      "        :param economicLifetime: economic lifetime of the component which is considered for computing the\n",
      "            annuities of the invest of the component (aka depreciation time).\n",
      "            |br| * the default value is 10\n",
      "        :type economicLifetime: strictly-positive (>0) float or Pandas Series with strictly-positive (>=0)\n",
      "            values. The indices of the series have to equal the in the energy system model specified locations.\n",
      "\n",
      "        Last edited: July 27, 2018\n",
      "        |br| @author: Lara Welder\n",
      "        \n"
     ]
    }
   ],
   "source": [
    "print(fn.Conversion.__init__.__doc__)"
   ]
  },
  {
   "cell_type": "markdown",
   "metadata": {},
   "source": [
    "# 4. Storage class"
   ]
  },
  {
   "cell_type": "code",
   "execution_count": 6,
   "metadata": {
    "collapsed": false
   },
   "outputs": [
    {
     "name": "stdout",
     "output_type": "stream",
     "text": [
      "None\n"
     ]
    }
   ],
   "source": [
    "print(fn.Storage.__init__.__doc__)"
   ]
  },
  {
   "cell_type": "markdown",
   "metadata": {},
   "source": [
    "# 5. Transmission"
   ]
  },
  {
   "cell_type": "code",
   "execution_count": 7,
   "metadata": {
    "collapsed": false
   },
   "outputs": [
    {
     "name": "stdout",
     "output_type": "stream",
     "text": [
      "None\n"
     ]
    }
   ],
   "source": [
    "print(fn.Transmission.__init__.__doc__)"
   ]
  },
  {
   "cell_type": "markdown",
   "metadata": {},
   "source": [
    "# 6. (Time series) cluster function"
   ]
  },
  {
   "cell_type": "code",
   "execution_count": 11,
   "metadata": {
    "collapsed": false
   },
   "outputs": [
    {
     "name": "stdout",
     "output_type": "stream",
     "text": [
      "\n",
      "        Clusters the time series data of all components considered in the EnergySystemModel instance and then\n",
      "        stores the clustered data in the respective components. For the clustering itself, the tsam package is\n",
      "        used (cf. https://github.com/FZJ-IEK3-VSA/tsam).\n",
      "\n",
      "        **Default arguments:**\n",
      "\n",
      "        :param numberOfTypicalPeriods: states the number of typical periods into which the time series data\n",
      "            should be clustered. The number of typical periods multiplied with the number of time steps per\n",
      "            period must be an integer divisor of the total number of considered time steps in the energy system.\n",
      "            Note: Please refer to the tsam package documentation of the parameter noTypicalPeriods for more\n",
      "            information.\n",
      "            |br| * the default value is 7\n",
      "        :type numberOfTypicalPeriods: strictly positive integer\n",
      "\n",
      "        :param numberOfTimeStepsPerPeriod: states the number of time steps per period\n",
      "            |br| * the default value is 24\n",
      "        :type numberOfTimeStepsPerPeriod: strictly positive integer\n",
      "\n",
      "        :param clusterMethod: states the method which is used in the tsam package for clustering the time series\n",
      "            data. Note: Please refer to the tsam package documentation of the parameter clusterMethod for more\n",
      "            information.\n",
      "            |br| * the default value is 'hierarchical'\n",
      "        :type clusterMethod: string\n",
      "\n",
      "        :param sortValues: states if the algorithm in the tsam package should use\n",
      "            (a) the sorted duration curves (-> True) or\n",
      "            (b) the original profiles (-> False)\n",
      "            of the time series data within a period for clustering. Note: Please refer to the tsam package\n",
      "            documentation of the parameter sortValues for more information.\n",
      "            |br| * the default value is True\n",
      "        :type clusterMethod: boolean\n",
      "\n",
      "        :param storeTSAinstance: states if the TimeSeriesAggregation instance create during clustering should be\n",
      "            stored in the EnergySystemModel instance.\n",
      "            |br| * the default value is False\n",
      "        :type storeTSAinstance: boolean\n",
      "\n",
      "        Moreover, additional keyword arguments for the TimeSeriesAggregation instance can be added (facilitated\n",
      "        by **kwargs). As an example: it might be useful to add extreme periods to the clustered typical periods\n",
      "        (cf. https://github.com/FZJ-IEK3-VSA/tsam).\n",
      "\n",
      "        Last edited: August 10, 2018\n",
      "        |br| @author: Lara Welder\n",
      "        \n"
     ]
    }
   ],
   "source": [
    "print(fn.EnergySystemModel.cluster.__doc__)"
   ]
  },
  {
   "cell_type": "markdown",
   "metadata": {},
   "source": [
    "# 7. Optimize function"
   ]
  },
  {
   "cell_type": "code",
   "execution_count": 12,
   "metadata": {
    "collapsed": false
   },
   "outputs": [
    {
     "name": "stdout",
     "output_type": "stream",
     "text": [
      "\n",
      "        Optimizes the specified energy system, for which a pyomo discrete model instance is build and filled\n",
      "        with\n",
      "        (0) basic time sets,\n",
      "        (1) sets, variables and constraints contributed by the component modeling classes,\n",
      "        (2) basic, component overreaching constraints, and\n",
      "        (3) an objective function.\n",
      "        The pyomo instance is then optimized by the specified solver and the optimization results are further\n",
      "        processed.\n",
      "\n",
      "        **Default arguments:**\n",
      "\n",
      "        :param timeSeriesAggregation: states if the optimization of the energy system model should be done with\n",
      "            (a) the full time series (False) or\n",
      "            (b) clustered time series data (True).\n",
      "            If: the argument is True, the time series data was previously clustered, and no further tsamSpecs\n",
      "            are declared, the clustered time series data from the last cluster function call is used. Otherwise\n",
      "            the time series data is clustered within the optimize function, using, if specified, the tsamSpecs\n",
      "            argument.\n",
      "            |br| * the default value is False\n",
      "        :type timeSeriesAggregation: boolean\n",
      "\n",
      "        :param logFileName: logFileName is used for naming the log file of the optimization solver output.\n",
      "            If the logFileName is given as an absolute path (i.e. logFileName = os.path.join(os.getcwd(),\n",
      "            'Results', 'logFileName.txt')) the log file will be stored in the specified directory. Otherwise\n",
      "            it will be by default stored in the directory where the executing python script is called.\n",
      "            |br| * the default value is 'job'\n",
      "        :type logFileName: string\n",
      "\n",
      "        :param threads: number of computational threads used for solving the optimization (solver dependent\n",
      "            input). If gurobi is selected as the solver: a value of 0 results in using all available threads. If\n",
      "            a value larger than the available number of threads are chosen, the value will reset to the maximum\n",
      "            number of threads.\n",
      "            |br| * the default value is 3\n",
      "        :type threads: positive integer\n",
      "\n",
      "        :param solver: specifies which solver should solve the optimization problem (which of course has to be\n",
      "            installed on the machine on which the model is run).\n",
      "            |br| * the default value is 'gurobi'\n",
      "        :type solver: string\n",
      "\n",
      "        :param timeLimit: if not specified as None, indicates the maximum solve time of the optimization problem\n",
      "            in seconds (solver dependent input). The use of this parameter is suggested when running models in\n",
      "            runtime restricted environments (such as clusters with job submission systems). If the runtime\n",
      "            limitation is triggered before an optimal solution is available, the best solution obtained up\n",
      "            until then (if available) is processed.\n",
      "            |br| * None\n",
      "        :type timeLimit: strictly positive integer or None\n",
      "\n",
      "        :param optimizationSpecs: specifies parameters for the optimization solver (see the respective solver\n",
      "            documentation for more information)\n",
      "            |br| * 'LogToConsole=1 OptimalityTol=1e-6'\n",
      "        :type timeLimit: string\n",
      "\n",
      "        :param warmstart: specifies if a warm start of the optimization should be considered\n",
      "            (not supported by all solvers).\n",
      "            |br| * the default value is False\n",
      "        :type warmstart: boolean\n",
      "\n",
      "        Last edited: August 10, 2018\n",
      "        |br| @author: Lara Welder\n",
      "        \n"
     ]
    }
   ],
   "source": [
    "print(fn.EnergySystemModel.optimize.__doc__)"
   ]
  },
  {
   "cell_type": "code",
   "execution_count": null,
   "metadata": {
    "collapsed": true
   },
   "outputs": [],
   "source": []
  }
 ],
 "metadata": {
  "anaconda-cloud": {},
  "kernelspec": {
   "display_name": "Python [default]",
   "language": "python",
   "name": "python3"
  },
  "language_info": {
   "codemirror_mode": {
    "name": "ipython",
    "version": 3
   },
   "file_extension": ".py",
   "mimetype": "text/x-python",
   "name": "python",
   "nbconvert_exporter": "python",
   "pygments_lexer": "ipython3",
   "version": "3.4.5"
  }
 },
 "nbformat": 4,
 "nbformat_minor": 2
}
