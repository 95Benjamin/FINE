{
 "cells": [
  {
   "cell_type": "markdown",
   "metadata": {},
   "source": [
    "# Workflow for a multi-regional energy system\n",
    "\n",
    "In this application of the FINE framework, a multi-regional energy system is modeled and optimized.\n",
    "\n",
    "All classes which are available to the user are utilized and examples of the selection of different parameters within these classes are given.\n",
    "\n",
    "The workflow is structures as follows:\n",
    "1. Required packages are imported and the input data path is set\n",
    "2. An energy system model instance is created\n",
    "3. Commodity sources are added to the energy system model\n",
    "4. Commodity conversion components are added to the energy system model\n",
    "5. Commodity storages are added to the energy system model\n",
    "6. Commodity transmission components are added to the energy system model\n",
    "7. Commodity sinks are added to the energy system model\n",
    "8. The energy system model is optimized\n",
    "\n"
   ]
  },
  {
   "cell_type": "markdown",
   "metadata": {},
   "source": [
    "# 1. Import required packages and set input data path\n",
    "\n",
    "The FINE framework is imported which provides the required classes and functions for modeling the energy system."
   ]
  },
  {
   "cell_type": "code",
   "execution_count": 1,
   "metadata": {},
   "outputs": [],
   "source": [
    "import FINE as fn\n",
    "from getData import getData\n",
    "data = getData()"
   ]
  },
  {
   "cell_type": "markdown",
   "metadata": {},
   "source": [
    "# 2. Create an energy system model instance \n",
    "\n",
    "The structure of the energy system model is given by the considered locations, commodities, the number of time steps as well as the hours per time step.\n",
    "\n",
    "The commodities are specified by a unit (i.e. 'GW_electric', 'GW_H2lowerHeatingValue', 'Mio. t CO2/h') which can be given as an energy or mass unit per hour. Furthermore, the cost unit and length unit are specified."
   ]
  },
  {
   "cell_type": "code",
   "execution_count": 2,
   "metadata": {
    "collapsed": true
   },
   "outputs": [],
   "source": [
    "locations = {'cluster_0', 'cluster_1', 'cluster_2', 'cluster_3', 'cluster_4', 'cluster_5', 'cluster_6', 'cluster_7'}\n",
    "commodityUnitDict = {'electricity': 'GW_el', 'methane': 'GW_CH4_LHV', 'biogas': 'GW_biogas_LHV',\n",
    "                     'CO2': 'Mio. t CO2/h', 'hydrogen': 'GW_H2_LHV'}\n",
    "commodities = {'electricity', 'hydrogen', 'methane', 'biogas', 'CO2'}\n",
    "numberOfTimeSteps=8760\n",
    "hoursPerTimeStep=1"
   ]
  },
  {
   "cell_type": "code",
   "execution_count": 3,
   "metadata": {},
   "outputs": [],
   "source": [
    "esM = fn.EnergySystemModel(locations=locations, commodities=commodities, numberOfTimeSteps=8760,\n",
    "                           commoditiyUnitsDict=commodityUnitDict,\n",
    "                           hoursPerTimeStep=1, costUnit='1e9 Euro', lengthUnit='km')"
   ]
  },
  {
   "cell_type": "code",
   "execution_count": 4,
   "metadata": {},
   "outputs": [],
   "source": [
    "CO2_reductionTarget = 1"
   ]
  },
  {
   "cell_type": "markdown",
   "metadata": {},
   "source": [
    "# 3. Add commodity sources to the energy system model"
   ]
  },
  {
   "cell_type": "markdown",
   "metadata": {},
   "source": [
    "## 3.1. Electricity sources"
   ]
  },
  {
   "cell_type": "markdown",
   "metadata": {},
   "source": [
    "### Wind onshore"
   ]
  },
  {
   "cell_type": "code",
   "execution_count": 5,
   "metadata": {},
   "outputs": [],
   "source": [
    "esM.add(fn.Source(esM=esM, name='Wind (onshore)', commodity='electricity', hasCapacityVariable=True,\n",
    "                  operationRateMax=data['Wind (onshore), operationRateMax'],\n",
    "                  capacityMax=data['Wind (onshore), capacityMax'],\n",
    "                  investPerCapacity=1.1, opexPerCapacity=1.1*0.02, interestRate=0.08,\n",
    "                  economicLifetime=20))"
   ]
  },
  {
   "cell_type": "markdown",
   "metadata": {},
   "source": [
    "Full load hours:"
   ]
  },
  {
   "cell_type": "code",
   "execution_count": 6,
   "metadata": {},
   "outputs": [
    {
     "data": {
      "text/plain": [
       "cluster_0    2300.406907\n",
       "cluster_1    1082.032187\n",
       "cluster_2    1447.812026\n",
       "cluster_3    1448.827987\n",
       "cluster_4    1935.618218\n",
       "cluster_5    1757.696047\n",
       "cluster_6    1286.944636\n",
       "cluster_7    1199.380071\n",
       "dtype: float64"
      ]
     },
     "execution_count": 6,
     "metadata": {},
     "output_type": "execute_result"
    }
   ],
   "source": [
    "data['Wind (onshore), operationRateMax'].sum()"
   ]
  },
  {
   "cell_type": "markdown",
   "metadata": {},
   "source": [
    "### Wind offshore"
   ]
  },
  {
   "cell_type": "code",
   "execution_count": 7,
   "metadata": {},
   "outputs": [],
   "source": [
    "esM.add(fn.Source(esM=esM, name='Wind (offshore)', commodity='electricity', hasCapacityVariable=True,\n",
    "                  operationRateMax=data['Wind (offshore), operationRateMax'],\n",
    "                  capacityMax=data['Wind (offshore), capacityMax'],\n",
    "                  investPerCapacity=2.3, opexPerCapacity=2.3*0.02, interestRate=0.08,\n",
    "                  economicLifetime=20))"
   ]
  },
  {
   "cell_type": "markdown",
   "metadata": {},
   "source": [
    "Full load hours:"
   ]
  },
  {
   "cell_type": "code",
   "execution_count": 8,
   "metadata": {},
   "outputs": [
    {
     "data": {
      "text/plain": [
       "cluster_0    4332.977326\n",
       "cluster_1       0.000000\n",
       "cluster_2       0.000000\n",
       "cluster_3       0.000000\n",
       "cluster_4    3963.044612\n",
       "cluster_5    3459.283279\n",
       "cluster_6       0.000000\n",
       "cluster_7       0.000000\n",
       "dtype: float64"
      ]
     },
     "execution_count": 8,
     "metadata": {},
     "output_type": "execute_result"
    }
   ],
   "source": [
    "data['Wind (offshore), operationRateMax'].sum()"
   ]
  },
  {
   "cell_type": "markdown",
   "metadata": {},
   "source": [
    "### PV"
   ]
  },
  {
   "cell_type": "code",
   "execution_count": 9,
   "metadata": {},
   "outputs": [],
   "source": [
    "esM.add(fn.Source(esM=esM, name='PV', commodity='electricity', hasCapacityVariable=True,\n",
    "                  operationRateMax=data['PV, operationRateMax'], capacityMax=data['PV, capacityMax'],\n",
    "                  investPerCapacity=0.65, opexPerCapacity=0.65*0.02, interestRate=0.08,\n",
    "                  economicLifetime=25))"
   ]
  },
  {
   "cell_type": "markdown",
   "metadata": {},
   "source": [
    "Full load hours:"
   ]
  },
  {
   "cell_type": "code",
   "execution_count": 10,
   "metadata": {},
   "outputs": [
    {
     "data": {
      "text/plain": [
       "cluster_0    859.175855\n",
       "cluster_1    970.535848\n",
       "cluster_2    913.049274\n",
       "cluster_3    917.880212\n",
       "cluster_4    875.448945\n",
       "cluster_5    904.590003\n",
       "cluster_6    984.223517\n",
       "cluster_7    992.311727\n",
       "dtype: float64"
      ]
     },
     "execution_count": 10,
     "metadata": {},
     "output_type": "execute_result"
    }
   ],
   "source": [
    "data['PV, operationRateMax'].sum()"
   ]
  },
  {
   "cell_type": "markdown",
   "metadata": {},
   "source": [
    "### Exisisting run-of-river hydroelectricity plants"
   ]
  },
  {
   "cell_type": "code",
   "execution_count": 11,
   "metadata": {},
   "outputs": [],
   "source": [
    "esM.add(fn.Source(esM=esM, name='Existing run-of-river plants', commodity='electricity',\n",
    "                  hasCapacityVariable=True,\n",
    "                  operationRateFix=data['Existing run-of-river plants, operationRateFix'],\n",
    "                  capacityFix=data['Existing run-of-river plants, capacityFix'],\n",
    "                  investPerCapacity=0, opexPerCapacity=0.208))"
   ]
  },
  {
   "cell_type": "markdown",
   "metadata": {},
   "source": [
    "## 3.2. Methane (natural gas and biogas)"
   ]
  },
  {
   "cell_type": "markdown",
   "metadata": {},
   "source": [
    "### Natural gas"
   ]
  },
  {
   "cell_type": "code",
   "execution_count": 12,
   "metadata": {},
   "outputs": [],
   "source": [
    "esM.add(fn.Source(esM=esM, name='Natural gas purchase', commodity='methane',\n",
    "                  hasCapacityVariable=False, commodityCost=0.0331*1e-3))"
   ]
  },
  {
   "cell_type": "markdown",
   "metadata": {},
   "source": [
    "### Biogas"
   ]
  },
  {
   "cell_type": "code",
   "execution_count": 13,
   "metadata": {},
   "outputs": [],
   "source": [
    "esM.add(fn.Source(esM=esM, name='Biogas purchase', commodity='biogas',\n",
    "                  operationRateMax=data['Biogas, operationRateMax'], hasCapacityVariable=False,\n",
    "                  commodityCost=0.05409*1e-3))"
   ]
  },
  {
   "cell_type": "markdown",
   "metadata": {},
   "source": [
    "## 3.3 CO2"
   ]
  },
  {
   "cell_type": "markdown",
   "metadata": {},
   "source": [
    "### CO2\n",
    "\n",
    "The CO2 source is required for the case in which it can be mixed with conventional natural gas."
   ]
  },
  {
   "cell_type": "code",
   "execution_count": 14,
   "metadata": {},
   "outputs": [],
   "source": [
    "esM.add(fn.Source(esM=esM, name='CO2 from enviroment', commodity='CO2',\n",
    "                  hasCapacityVariable=False, commodityLimitID='CO2 limit', yearlyLimit=366*(1-CO2_reductionTarget)))"
   ]
  },
  {
   "cell_type": "markdown",
   "metadata": {},
   "source": [
    "# 4. Add conversion components to the energy system model"
   ]
  },
  {
   "cell_type": "markdown",
   "metadata": {},
   "source": [
    "### Biogas to methane"
   ]
  },
  {
   "cell_type": "code",
   "execution_count": 15,
   "metadata": {},
   "outputs": [],
   "source": [
    "esM.add(fn.Conversion(esM=esM, name='Biogas to methane',\n",
    "                      commodityConversionFactors={'biogas':-1, 'methane':1, 'CO2':-201*1e-6*0.625},\n",
    "                      hasCapacityVariable=False))"
   ]
  },
  {
   "cell_type": "markdown",
   "metadata": {},
   "source": [
    "### Existing combined cycle gas turbine plants"
   ]
  },
  {
   "cell_type": "code",
   "execution_count": 16,
   "metadata": {},
   "outputs": [],
   "source": [
    "esM.add(fn.Conversion(esM=esM, name='Existing CCGT plants (methane)',\n",
    "                      commodityConversionFactors={'electricity':1, 'methane':-1/0.625, 'CO2':201*1e-6/0.625},\n",
    "                      hasCapacityVariable=True, capacityMax=data['Existing CCGT plants (methane), capacityMax'],\n",
    "                      investPerCapacity=0, opexPerCapacity=0.021, interestRate=0.08,\n",
    "                      economicLifetime=33))"
   ]
  },
  {
   "cell_type": "markdown",
   "metadata": {},
   "source": [
    "### New combined cycle gas turbine plants for biogas"
   ]
  },
  {
   "cell_type": "code",
   "execution_count": 17,
   "metadata": {},
   "outputs": [],
   "source": [
    "esM.add(fn.Conversion(esM=esM, name='New CCGT plants (biogas)',\n",
    "                      commodityConversionFactors={'electricity':1, 'biogas':-1/0.635},\n",
    "                      hasCapacityVariable=True, \n",
    "                      investPerCapacity=0.7, opexPerCapacity=0.021, interestRate=0.08,\n",
    "                      economicLifetime=33))"
   ]
  },
  {
   "cell_type": "markdown",
   "metadata": {},
   "source": [
    "### New combined cycly gas turbines for hydrogen"
   ]
  },
  {
   "cell_type": "code",
   "execution_count": 18,
   "metadata": {},
   "outputs": [],
   "source": [
    "esM.add(fn.Conversion(esM=esM, name='New CCGT plants (hydrogen)',\n",
    "                      commodityConversionFactors={'electricity':1, 'hydrogen':-1/0.6},\n",
    "                      hasCapacityVariable=True, \n",
    "                      investPerCapacity=0.927, opexPerCapacity=0.021, interestRate=0.08,\n",
    "                      economicLifetime=33))"
   ]
  },
  {
   "cell_type": "markdown",
   "metadata": {},
   "source": [
    "### Electrolyzers"
   ]
  },
  {
   "cell_type": "code",
   "execution_count": 19,
   "metadata": {},
   "outputs": [],
   "source": [
    "esM.add(fn.Conversion(esM=esM, name='Electroylzers',\n",
    "                      commodityConversionFactors={'electricity':-1, 'hydrogen':0.7},\n",
    "                      hasCapacityVariable=True, \n",
    "                      investPerCapacity=0.5, opexPerCapacity=0.5*0.025, interestRate=0.08,\n",
    "                      economicLifetime=10))"
   ]
  },
  {
   "cell_type": "markdown",
   "metadata": {},
   "source": [
    "# 5. Add commodity storages to the energy system model"
   ]
  },
  {
   "cell_type": "markdown",
   "metadata": {},
   "source": [
    "## 5.1. Electricity storage"
   ]
  },
  {
   "cell_type": "markdown",
   "metadata": {},
   "source": [
    "### Lithium ion batteries\n",
    "\n",
    "The self discharge of a lithium ion battery is here described as 3% per month. The self discharge per hours is obtained using the equation (1-$\\text{selfDischarge}_\\text{hour})^{30*24\\text{h}} = 1-\\text{selfDischarge}_\\text{month}$."
   ]
  },
  {
   "cell_type": "code",
   "execution_count": 20,
   "metadata": {},
   "outputs": [],
   "source": [
    "esM.add(fn.Storage(esM=esM, name='Li-ion batteries', commodity='electricity',\n",
    "                   hasCapacityVariable=True, chargeEfficiency=0.95,\n",
    "                   cyclicLifetime=10000, dischargeEfficiency=0.95, selfDischarge=1-(1-0.03)**(1/(30*24)),\n",
    "                   chargeRate=1, dischargeRate=1,\n",
    "                   investPerCapacity=0.151, opexPerCapacity=0.002, interestRate=0.08,\n",
    "                   economicLifetime=22))"
   ]
  },
  {
   "cell_type": "markdown",
   "metadata": {},
   "source": [
    "## 5.2. Hydrogen storage"
   ]
  },
  {
   "cell_type": "markdown",
   "metadata": {},
   "source": [
    "### Hydrogen filled salt caverns\n",
    "The maximum capacity is here obtained by: dividing the given capacity (which is given for methane) by the lower heating value of methane and then multiplying it with the lower heating value of hydrogen."
   ]
  },
  {
   "cell_type": "code",
   "execution_count": 21,
   "metadata": {},
   "outputs": [],
   "source": [
    "esM.add(fn.Storage(esM=esM, name='Salt caverns (hydrogen)', commodity='hydrogen',\n",
    "                   hasCapacityVariable=True, capacityVariableDomain='discrete',\n",
    "                   capacityPerPlantUnit=133,\n",
    "                   chargeRate=1/470.37, dischargeRate=1/470.37, sharedPotentialID='Existing salt caverns',\n",
    "                   stateOfChargeMin=0.33, stateOfChargeMax=1, capacityMax=data['Salt caverns (hydrogen), capacityMax'],\n",
    "                   investPerCapacity=0.00011, opexPerCapacity=0.00057, interestRate=0.08,\n",
    "                   economicLifetime=30))"
   ]
  },
  {
   "cell_type": "markdown",
   "metadata": {},
   "source": [
    "## 5.3. Methane storage"
   ]
  },
  {
   "cell_type": "markdown",
   "metadata": {},
   "source": [
    "### Methane filled salt caverns"
   ]
  },
  {
   "cell_type": "code",
   "execution_count": 22,
   "metadata": {},
   "outputs": [],
   "source": [
    "esM.add(fn.Storage(esM=esM, name='Salt caverns (methane)', commodity='methane',\n",
    "                   hasCapacityVariable=True, capacityVariableDomain='discrete',\n",
    "                   capacityPerPlantUnit=443,\n",
    "                   chargeRate=1/470.37, dischargeRate=1/470.37, sharedPotentialID='Existing salt caverns',\n",
    "                   stateOfChargeMin=0.33, stateOfChargeMax=1, capacityMax=data['Salt caverns (methane), capacityMax'],\n",
    "                   investPerCapacity=0.00004, opexPerCapacity=0.00001, interestRate=0.08,\n",
    "                   economicLifetime=30))"
   ]
  },
  {
   "cell_type": "markdown",
   "metadata": {},
   "source": [
    "## 5.4 Pumped hydro storage"
   ]
  },
  {
   "cell_type": "markdown",
   "metadata": {},
   "source": [
    "### Pumped hydro storage"
   ]
  },
  {
   "cell_type": "code",
   "execution_count": 23,
   "metadata": {},
   "outputs": [],
   "source": [
    "esM.add(fn.Storage(esM=esM, name='Pumped hydro storage', commodity='electricity',\n",
    "                   chargeEfficiency=0.88, dischargeEfficiency=0.88,\n",
    "                   hasCapacityVariable=True, selfDischarge=1-(1-0.00375)**(1/(30*24)),\n",
    "                   chargeRate=0.16, dischargeRate=0.12, capacityFix=data['Pumped hydro storage, capacityFix'],\n",
    "                   investPerCapacity=0, opexPerCapacity=0.000153))"
   ]
  },
  {
   "cell_type": "markdown",
   "metadata": {},
   "source": [
    "# 6. Add commodity transmission components to the energy system model"
   ]
  },
  {
   "cell_type": "markdown",
   "metadata": {},
   "source": [
    "## 6.1. Electricity transmission"
   ]
  },
  {
   "cell_type": "markdown",
   "metadata": {},
   "source": [
    "### AC cables"
   ]
  },
  {
   "cell_type": "code",
   "execution_count": 24,
   "metadata": {},
   "outputs": [
    {
     "name": "stdout",
     "output_type": "stream",
     "text": [
      "The distances of a component are set to a normalized values of 1.\n"
     ]
    }
   ],
   "source": [
    "esM.add(fn.Transmission(esM=esM, name='AC cables', commodity='electricity',\n",
    "                        hasCapacityVariable=True, capacityFix=data['AC cables, capacityFix']))"
   ]
  },
  {
   "cell_type": "markdown",
   "metadata": {},
   "source": [
    "### DC cables"
   ]
  },
  {
   "cell_type": "code",
   "execution_count": 25,
   "metadata": {},
   "outputs": [],
   "source": [
    "esM.add(fn.Transmission(esM=esM, name='DC cables', commodity='electricity', losses=data['DC cables, losses'],\n",
    "                        distances=data['DC cables, distances'],\n",
    "                        hasCapacityVariable=True, capacityFix=data['DC cables, capacityFix']))"
   ]
  },
  {
   "cell_type": "markdown",
   "metadata": {},
   "source": [
    "## 6.2 Methane transmission"
   ]
  },
  {
   "cell_type": "markdown",
   "metadata": {},
   "source": [
    "### Methane pipeline"
   ]
  },
  {
   "cell_type": "code",
   "execution_count": 26,
   "metadata": {},
   "outputs": [],
   "source": [
    "esM.add(fn.Transmission(esM=esM, name='Pipelines (methane)', commodity='methane',\n",
    "                        distances=data['Pipelines, distances'],\n",
    "                        hasCapacityVariable=True, hasIsBuiltBinaryVariable=True, bigM=300,\n",
    "                        locationalEligibility=data['Pipelines, eligibility'],\n",
    "                        investPerCapacity=0.000037, investIfBuilt=0.000314,\n",
    "                        interestRate=0.08, economicLifetime=40))"
   ]
  },
  {
   "cell_type": "markdown",
   "metadata": {},
   "source": [
    "## 6.3 Hydrogen transmission"
   ]
  },
  {
   "cell_type": "markdown",
   "metadata": {},
   "source": [
    "### Hydrogen pipelines"
   ]
  },
  {
   "cell_type": "code",
   "execution_count": 27,
   "metadata": {},
   "outputs": [],
   "source": [
    "esM.add(fn.Transmission(esM=esM, name='Pipeline (hydrogen)', commodity='hydrogen',\n",
    "                        distances=data['Pipelines, distances'],\n",
    "                        hasCapacityVariable=True, hasIsBuiltBinaryVariable=True, bigM=300,\n",
    "                        locationalEligibility=data['Pipelines, eligibility'],\n",
    "                        investPerCapacity=0.000177, investIfBuilt=0.00033,\n",
    "                        interestRate=0.08, economicLifetime=40))"
   ]
  },
  {
   "cell_type": "markdown",
   "metadata": {},
   "source": [
    "# 7. Add commodity sinks to the energy system model"
   ]
  },
  {
   "cell_type": "markdown",
   "metadata": {},
   "source": [
    "## 7.1. Electricity sinks"
   ]
  },
  {
   "cell_type": "markdown",
   "metadata": {},
   "source": [
    "### Electricity demand"
   ]
  },
  {
   "cell_type": "code",
   "execution_count": 28,
   "metadata": {},
   "outputs": [],
   "source": [
    "esM.add(fn.Sink(esM=esM, name='Electricity demand', commodity='electricity',\n",
    "                hasCapacityVariable=False, operationRateFix=data['Electricity demand, operationRateFix']))"
   ]
  },
  {
   "cell_type": "markdown",
   "metadata": {},
   "source": [
    "## 7.2. Hydrogen sinks"
   ]
  },
  {
   "cell_type": "markdown",
   "metadata": {},
   "source": [
    "### Fuel cell electric vehicle (FCEV) demand"
   ]
  },
  {
   "cell_type": "code",
   "execution_count": 29,
   "metadata": {},
   "outputs": [],
   "source": [
    "FCEV_penetration=0.5\n",
    "esM.add(fn.Sink(esM=esM, name='Hydrogen demand', commodity='hydrogen', hasCapacityVariable=False,\n",
    "                operationRateFix=data['Hydrogen demand, operationRateFix']*FCEV_penetration))"
   ]
  },
  {
   "cell_type": "markdown",
   "metadata": {},
   "source": [
    "## 7.3. CO2 sinks"
   ]
  },
  {
   "cell_type": "markdown",
   "metadata": {},
   "source": [
    "### CO2 exiting the system's boundary"
   ]
  },
  {
   "cell_type": "code",
   "execution_count": null,
   "metadata": {},
   "outputs": [],
   "source": [
    "esM.add(fn.Sink(esM=esM, name='CO2 to enviroment', commodity='CO2',\n",
    "                hasCapacityVariable=False, commodityLimitID='CO2 limit', yearlyLimit=366*(1-CO2_reductionTarget)))"
   ]
  },
  {
   "cell_type": "markdown",
   "metadata": {},
   "source": [
    "# 8. Optimize energy system model"
   ]
  },
  {
   "cell_type": "code",
   "execution_count": null,
   "metadata": {
    "scrolled": true
   },
   "outputs": [
    {
     "name": "stdout",
     "output_type": "stream",
     "text": [
      "\n",
      "Clustering time series data with 7 typical periods and 24 time steps per period...\n",
      "\t\t(3.9536 sec)\n",
      "\n",
      "Number of typical periods: 7 Number of time steps per periods: 24\n",
      "Declaring sets, variables and constraints for SourceSinkModeling\n",
      "\tdeclaring sets... \n",
      "\tdeclaring variables... \n",
      "\tdeclaring constraints... \n",
      "\t\t(0.5313 sec)\n",
      "Declaring sets, variables and constraints for ConversionModeling\n",
      "\tdeclaring sets... \n",
      "\tdeclaring variables... \n",
      "\tdeclaring constraints... \n",
      "\t\t(0.1094 sec)\n",
      "Declaring sets, variables and constraints for StorageModeling\n",
      "\tdeclaring sets... \n",
      "\tdeclaring variables... \n",
      "\tdeclaring constraints... \n",
      "\t\t(1.5783 sec)\n",
      "Declaring sets, variables and constraints for TransmissionModeling\n",
      "\tdeclaring sets... \n",
      "\tdeclaring variables... \n",
      "\tdeclaring constraints... \n",
      "\t\t(0.2500 sec)\n",
      "Declaring shared potential constraint...\n",
      "\t\t(0.0000 sec)\n",
      "Declaring commodity balances...\n",
      "\t\t(1.3126 sec)\n",
      "Declaring objective function...\n",
      "\t\t(1.0157 sec)\n",
      "Academic license - for non-commercial use only\n",
      "Parameter LogToConsole unchanged\n",
      "   Value: 1  Min: 0  Max: 1  Default: 1\n",
      "Changed value of parameter OptimalityTol to 0.001\n",
      "   Prev: 1e-06  Min: 1e-09  Max: 0.01  Default: 1e-06\n",
      "Parameter Threads unchanged\n",
      "   Value: 0  Min: 0  Max: 1024  Default: 0\n",
      "Changed value of parameter cuts to 0\n",
      "   Prev: -1  Min: -1  Max: 3  Default: -1\n",
      "Changed value of parameter logfile to job\n",
      "   Prev: gurobi.log  Default: \n",
      "Changed value of parameter method to 2\n",
      "   Prev: -1  Min: -1  Max: 5  Default: -1\n",
      "Optimize a model with 79450 rows, 51822 columns and 231618 nonzeros\n",
      "Variable types: 51784 continuous, 38 integer (28 binary)\n",
      "Coefficient statistics:\n",
      "  Matrix range     [1e-06, 5e+02]\n",
      "  Objective range  [2e-06, 3e-01]\n",
      "  Bounds range     [6e-01, 6e+04]\n",
      "  RHS range        [4e-02, 2e+01]\n",
      "Presolve removed 22546 rows and 18618 columns\n",
      "Presolve time: 0.56s\n",
      "Presolved: 56904 rows, 33204 columns, 183438 nonzeros\n",
      "Variable types: 33180 continuous, 24 integer (14 binary)\n",
      "Presolve removed 14 rows and 14 columns\n",
      "Presolved: 56890 rows, 33190 columns, 183410 nonzeros\n",
      "\n",
      "Root barrier log...\n",
      "\n",
      "Ordering time: 1.69s\n",
      "\n",
      "Barrier statistics:\n",
      " Dense cols : 97\n",
      " Free vars  : 1288\n",
      " AA' NZ     : 1.795e+06\n",
      " Factor NZ  : 7.862e+06 (roughly 100 MBytes of memory)\n",
      " Factor Ops : 3.020e+09 (less than 1 second per iteration)\n",
      " Threads    : 2\n",
      "\n",
      "                  Objective                Residual\n",
      "Iter       Primal          Dual         Primal    Dual     Compl     Time\n",
      "   0   2.44060857e+04 -1.23362994e+06  1.59e+05 2.24e-03  3.59e+02     3s\n",
      "   1   2.62030742e+04 -9.25613695e+05  1.14e+05 1.54e-01  2.30e+02     4s\n",
      "   2   1.68198820e+04 -7.26055414e+05  7.54e+04 9.20e-02  1.53e+02     4s\n",
      "   3   6.50416171e+03 -4.41805317e+05  2.11e+04 1.95e-02  4.71e+01     4s\n",
      "   4   3.35179387e+03 -2.22051152e+05  5.46e+03 3.47e-03  1.22e+01     5s\n",
      "   5   2.33649075e+03 -9.21781394e+04  1.15e+03 4.30e-04  2.74e+00     5s\n",
      "   6   1.52402997e+03 -5.67563612e+04  3.02e+02 2.18e-04  1.03e+00     6s\n",
      "   7   9.02492035e+02 -1.48477290e+04  6.73e+01 1.07e-04  2.16e-01     6s\n",
      "   8   4.12691059e+02 -3.64346337e+03  6.37e+00 7.85e-05  4.21e-02     6s\n",
      "   9   2.83108417e+02 -1.31138794e+03  2.93e+00 4.84e-05  1.62e-02     6s\n",
      "  10   2.10923134e+02 -8.71223555e+02  1.44e+00 4.57e-05  1.08e-02     7s\n",
      "  11   1.72281315e+02 -7.31037721e+02  7.71e-01 3.98e-05  8.87e-03     7s\n",
      "  12   1.32866054e+02 -2.38759565e+02  3.43e-01 3.45e-05  3.65e-03     7s\n",
      "  13   1.12434015e+02 -4.00859768e+01  1.85e-01 2.04e-05  1.51e-03     8s\n",
      "  14   1.01710962e+02  1.48985065e+01  1.12e-01 1.27e-05  8.59e-04     8s\n",
      "  15   9.44893594e+01  4.30295834e+01  6.60e-02 8.48e-06  5.10e-04     8s\n",
      "  16   8.93862951e+01  5.26981951e+01  3.56e-02 6.66e-06  3.61e-04     8s\n",
      "  17   8.71976635e+01  6.59490868e+01  2.11e-02 3.92e-06  2.09e-04     9s\n",
      "  18   8.55876565e+01  7.35540687e+01  1.16e-02 2.35e-06  1.18e-04     9s\n",
      "  19   8.42217380e+01  7.90277524e+01  5.25e-03 1.91e-06  5.12e-05     9s\n",
      "  20   8.34324170e+01  8.08462030e+01  2.66e-03 9.28e-07  2.55e-05    10s\n",
      "  21   8.33138542e+01  8.14516618e+01  2.27e-03 6.21e-07  1.85e-05    10s\n",
      "  22   8.30231300e+01  8.19394577e+01  1.31e-03 3.39e-07  1.07e-05    10s\n",
      "  23   8.29319362e+01  8.20737327e+01  1.05e-03 2.62e-07  8.51e-06    11s\n",
      "  24   8.27307693e+01  8.23193993e+01  4.34e-04 1.27e-07  4.06e-06    11s\n",
      "  25   8.26657287e+01  8.23836863e+01  2.40e-04 9.43e-08  2.77e-06    11s\n",
      "  26   8.26297958e+01  8.24400186e+01  1.45e-04 6.57e-08  1.86e-06    11s\n",
      "  27   8.26124509e+01  8.25150726e+01  9.96e-05 2.92e-08  9.63e-07    12s\n",
      "  28   8.25908428e+01  8.25425759e+01  4.90e-05 2.02e-08  4.77e-07    12s\n",
      "  29   8.25815857e+01  8.25506865e+01  2.80e-05 1.55e-08  3.05e-07    13s\n",
      "  30   8.25804620e+01  8.25528947e+01  2.57e-05 1.36e-08  2.72e-07    13s\n",
      "  31   8.25744994e+01  8.25597343e+01  1.30e-05 8.44e-09  1.46e-07    13s\n",
      "  32   8.25726460e+01  8.25633727e+01  9.20e-06 4.87e-09  9.18e-08    14s\n",
      "  33   8.25701093e+01  8.25661683e+01  3.76e-06 2.38e-09  3.90e-08    14s\n",
      "  34   8.25688458e+01  8.25678290e+01  1.15e-06 6.41e-10  1.02e-08    15s\n",
      "  35   8.25684147e+01  8.25681116e+01  3.24e-07 2.03e-10  3.04e-09    16s\n",
      "  36   8.25683126e+01  8.25681930e+01  1.45e-07 5.23e-11  1.21e-09    17s\n",
      "  37   8.25682698e+01  8.25682168e+01  7.21e-08 2.61e-11  5.43e-10    17s\n",
      "  38   8.25682453e+01  8.25682237e+01  2.95e-08 4.50e-12  2.20e-10    18s\n",
      "  39   8.25682390e+01  8.25682256e+01  1.05e-07 2.52e-12  1.37e-10    19s\n",
      "  40   8.25682349e+01  8.25682262e+01  8.41e-08 3.40e-12  8.88e-11    19s\n",
      "  41   8.25682337e+01  8.25682265e+01  1.38e-07 2.17e-12  7.41e-11    20s\n",
      "  42   8.25682333e+01  8.25682266e+01  1.27e-07 1.93e-12  6.94e-11    20s\n",
      "  43   8.25682317e+01  8.25682268e+01  8.41e-08 1.97e-12  5.05e-11    20s\n",
      "  44   8.25682315e+01  8.25682268e+01  2.08e-07 1.81e-12  4.84e-11    21s\n",
      "  45   8.25682315e+01  8.25682268e+01  2.08e-07 1.81e-12  4.84e-11    21s\n",
      "  46   8.25682315e+01  8.25682268e+01  2.08e-07 1.81e-12  4.84e-11    21s\n",
      "\n",
      "Barrier solved model in 46 iterations and 21.25 seconds\n",
      "Optimal objective 8.25682315e+01\n",
      "\n",
      "\n",
      "Root crossover log...\n",
      "\n",
      "    2644 DPushes remaining with DInf 3.4626391e+01                21s\n",
      "       0 DPushes remaining with DInf 1.3220615e+01                21s\n",
      "\n",
      "   11827 PPushes remaining with PInf 1.0902345e-01                21s\n",
      "       0 PPushes remaining with PInf 1.0654466e+00                22s\n",
      "\n",
      "  Push phase complete: Pinf 1.0654466e+00, Dinf 7.4113032e+00     22s\n",
      "\n",
      "\n",
      "Root simplex log...\n",
      "\n",
      "Iteration    Objective       Primal Inf.    Dual Inf.      Time\n",
      "   12602    8.2568239e+01   0.000000e+00   7.077709e+00     22s\n",
      "   13093    8.2568573e+01   0.000000e+00   0.000000e+00     23s\n",
      "   13093    8.2568573e+01   0.000000e+00   0.000000e+00     23s\n",
      "\n",
      "Root relaxation: objective 8.256857e+01, 13093 iterations, 22.17 seconds\n",
      "\n",
      "    Nodes    |    Current Node    |     Objective Bounds      |     Work\n",
      " Expl Unexpl |  Obj  Depth IntInf | Incumbent    BestBd   Gap | It/Node Time\n",
      "\n",
      "     0     0   82.56857    0   10          -   82.56857      -     -   23s\n",
      "H    0     0                      86.4307204   82.56857  4.47%     -   76s\n"
     ]
    }
   ],
   "source": [
    "esM.cluster(numberOfTypicalPeriods=7)\n",
    "esM.optimize(timeSeriesAggregation=True, optimizationSpecs='LogToConsole=1 OptimalityTol=1e-3 cuts=0 method=2')"
   ]
  },
  {
   "cell_type": "code",
   "execution_count": null,
   "metadata": {},
   "outputs": [],
   "source": [
    "esM._componentModelingDict[\"SourceSinkModeling\"]._capacityVariablesOptimum"
   ]
  },
  {
   "cell_type": "code",
   "execution_count": null,
   "metadata": {
    "scrolled": true
   },
   "outputs": [],
   "source": [
    "esM._componentModelingDict[\"SourceSinkModeling\"]._operationVariablesOptimum"
   ]
  },
  {
   "cell_type": "code",
   "execution_count": null,
   "metadata": {},
   "outputs": [],
   "source": [
    "esM._componentModelingDict[\"ConversionModeling\"]._capacityVariablesOptimum"
   ]
  },
  {
   "cell_type": "code",
   "execution_count": null,
   "metadata": {},
   "outputs": [],
   "source": [
    "esM._componentModelingDict[\"ConversionModeling\"]._capacityVariablesOptimum"
   ]
  },
  {
   "cell_type": "code",
   "execution_count": null,
   "metadata": {},
   "outputs": [],
   "source": [
    "esM._componentModelingDict[\"StorageModeling\"]._capacityVariablesOptimum"
   ]
  },
  {
   "cell_type": "code",
   "execution_count": null,
   "metadata": {},
   "outputs": [],
   "source": [
    "esM._componentModelingDict[\"StorageModeling\"]._stateOfChargeOperationVariablesOptimum "
   ]
  },
  {
   "cell_type": "code",
   "execution_count": null,
   "metadata": {},
   "outputs": [],
   "source": [
    "esM._componentModelingDict[\"TransmissionModeling\"]._operationVariablesOptimum"
   ]
  },
  {
   "cell_type": "code",
   "execution_count": null,
   "metadata": {
    "collapsed": true
   },
   "outputs": [],
   "source": []
  }
 ],
 "metadata": {
  "anaconda-cloud": {},
  "kernelspec": {
   "display_name": "Python 3",
   "language": "python",
   "name": "python3"
  },
  "language_info": {
   "codemirror_mode": {
    "name": "ipython",
    "version": 3
   },
   "file_extension": ".py",
   "mimetype": "text/x-python",
   "name": "python",
   "nbconvert_exporter": "python",
   "pygments_lexer": "ipython3",
   "version": "3.6.3"
  }
 },
 "nbformat": 4,
 "nbformat_minor": 1
}
